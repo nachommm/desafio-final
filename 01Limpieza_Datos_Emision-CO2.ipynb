{
 "cells": [
  {
   "cell_type": "markdown",
   "id": "liable-february",
   "metadata": {},
   "source": [
    "<h2>Desafio 4 - Trabajo Final</h2>\n",
    "\n",
    "<h3>Grupo 7</h3>\n",
    "<ul>\n",
    "    <li>Ignacio Mendieta</li>\n",
    "    <li>Laura Jazmín Chao</li>\n",
    "    <li>Juan Nicolás Capistrano</li>\n",
    "    <li>Betiana Srur</li>\n",
    "    <li>Marecelo Carrizo</li>\n",
    "    \n",
    "</ul>\n",
    "<h3>Limpieza y exploración de datos\n",
    "\n"
   ]
  },
  {
   "cell_type": "markdown",
   "id": "handmade-uruguay",
   "metadata": {},
   "source": [
    "<a id=\"section_toc\"></a> \n",
    "<h2> Tabla de Contenidos </h2>\n",
    "\n",
    "[Librerías](#section_import)\n",
    "\n",
    "[Dataset](#section_dataset)\n",
    "\n",
    "[Exploración](#section_exploration)\n",
    "\n",
    "\n"
   ]
  },
  {
   "cell_type": "markdown",
   "id": "false-regard",
   "metadata": {},
   "source": [
    "<a id=\"section_import\"></a> \n",
    "<h3>Librerías</h3>\n",
    "\n",
    "[volver a TOC](#section_toc)"
   ]
  },
  {
   "cell_type": "code",
   "execution_count": 277,
   "id": "aging-karen",
   "metadata": {},
   "outputs": [],
   "source": [
    "import pandas as pd\n",
    "import numpy as np\n",
    "from datetime import datetime\n",
    "\n",
    "import matplotlib.pyplot as plt\n",
    "import matplotlib as mpl\n",
    "import seaborn as sns\n",
    "%matplotlib inline\n",
    "\n",
    "# Plotly Libraries\n",
    "import plotly.express as px\n",
    "import plotly.graph_objects as go\n",
    "from plotly.subplots import make_subplots\n",
    "\n"
   ]
  },
  {
   "cell_type": "markdown",
   "id": "empty-alliance",
   "metadata": {},
   "source": [
    "<a id=\"section_dataset\"></a> \n",
    "<h3>Dataset</h3>\n",
    "\n",
    "[volver a TOC](#section_toc)"
   ]
  },
  {
   "cell_type": "code",
   "execution_count": 278,
   "id": "unlike-detection",
   "metadata": {},
   "outputs": [],
   "source": [
    "df = pd.read_csv('Data/emision-co2-autos_limpio.csv')"
   ]
  },
  {
   "cell_type": "code",
   "execution_count": 279,
   "id": "ruled-force",
   "metadata": {},
   "outputs": [
    {
     "data": {
      "text/html": [
       "<div>\n",
       "<style scoped>\n",
       "    .dataframe tbody tr th:only-of-type {\n",
       "        vertical-align: middle;\n",
       "    }\n",
       "\n",
       "    .dataframe tbody tr th {\n",
       "        vertical-align: top;\n",
       "    }\n",
       "\n",
       "    .dataframe thead th {\n",
       "        text-align: right;\n",
       "    }\n",
       "</style>\n",
       "<table border=\"1\" class=\"dataframe\">\n",
       "  <thead>\n",
       "    <tr style=\"text-align: right;\">\n",
       "      <th></th>\n",
       "      <th>vehiculo_marca</th>\n",
       "      <th>vehiculo_modelo</th>\n",
       "      <th>vehiculo_tipo</th>\n",
       "      <th>vehiculo_traccion</th>\n",
       "      <th>vehiculo_id_motor</th>\n",
       "      <th>vehiculo_cilindrada</th>\n",
       "      <th>vehiculo_potencia</th>\n",
       "      <th>vehiculo_tipo_transmision</th>\n",
       "      <th>vehiculo_tipo_combustible</th>\n",
       "      <th>vehiculo_standard_emision</th>\n",
       "      <th>lca_numero</th>\n",
       "      <th>fecha_firma</th>\n",
       "      <th>ensayo_gei_numero</th>\n",
       "      <th>ensayo_gei_laboratorio</th>\n",
       "      <th>emision_CO2</th>\n",
       "      <th>consumo_urbano</th>\n",
       "      <th>consumo_extraurbano</th>\n",
       "      <th>consumo_mixto</th>\n",
       "      <th>id_etiqueta</th>\n",
       "    </tr>\n",
       "  </thead>\n",
       "  <tbody>\n",
       "    <tr>\n",
       "      <th>0</th>\n",
       "      <td>TOYOTA</td>\n",
       "      <td>LAND CRUISER 200</td>\n",
       "      <td>SUV</td>\n",
       "      <td>4x4</td>\n",
       "      <td>TOYOTA 1VD-FTV</td>\n",
       "      <td>4461.0</td>\n",
       "      <td>NaN</td>\n",
       "      <td>AUTOMATICA</td>\n",
       "      <td>GAS OIL</td>\n",
       "      <td>EURO V</td>\n",
       "      <td>NaN</td>\n",
       "      <td>04/10/2017</td>\n",
       "      <td>H1860666086/241</td>\n",
       "      <td>VINÇOTTE nv</td>\n",
       "      <td>260.70</td>\n",
       "      <td>11.56</td>\n",
       "      <td>8.94</td>\n",
       "      <td>9.90</td>\n",
       "      <td>000001A</td>\n",
       "    </tr>\n",
       "    <tr>\n",
       "      <th>1</th>\n",
       "      <td>RENAULT</td>\n",
       "      <td>FLUENCE 2.0 16V</td>\n",
       "      <td>SEDÁN 4 PUERTAS</td>\n",
       "      <td>4x2</td>\n",
       "      <td>RENAULT M4RK7</td>\n",
       "      <td>1997.0</td>\n",
       "      <td>NaN</td>\n",
       "      <td>CVT</td>\n",
       "      <td>NAFTA</td>\n",
       "      <td>EURO V</td>\n",
       "      <td>NaN</td>\n",
       "      <td>22/06/2016</td>\n",
       "      <td>09/09790</td>\n",
       "      <td>UTAC</td>\n",
       "      <td>175.40</td>\n",
       "      <td>10.50</td>\n",
       "      <td>6.10</td>\n",
       "      <td>7.70</td>\n",
       "      <td>000178A</td>\n",
       "    </tr>\n",
       "    <tr>\n",
       "      <th>2</th>\n",
       "      <td>RENAULT</td>\n",
       "      <td>DUSTER 2.0 16v</td>\n",
       "      <td>SEDÁN 5 PUERTAS</td>\n",
       "      <td>4x2</td>\n",
       "      <td>RENAULT F4R E4</td>\n",
       "      <td>1998.0</td>\n",
       "      <td>105</td>\n",
       "      <td>MANUAL</td>\n",
       "      <td>NAFTA</td>\n",
       "      <td>EURO V</td>\n",
       "      <td>NaN</td>\n",
       "      <td>NaN</td>\n",
       "      <td>R1-0210/17</td>\n",
       "      <td>DELPHI</td>\n",
       "      <td>198.86</td>\n",
       "      <td>11.13</td>\n",
       "      <td>6.98</td>\n",
       "      <td>8.52</td>\n",
       "      <td>000650C</td>\n",
       "    </tr>\n",
       "    <tr>\n",
       "      <th>3</th>\n",
       "      <td>RENAULT</td>\n",
       "      <td>DUSTER 2.0 16v 4X4</td>\n",
       "      <td>SEDÁN 5 PUERTAS</td>\n",
       "      <td>4x4</td>\n",
       "      <td>RENAULT F4R E4</td>\n",
       "      <td>1998.0</td>\n",
       "      <td>105</td>\n",
       "      <td>MANUAL</td>\n",
       "      <td>NAFTA</td>\n",
       "      <td>EURO V</td>\n",
       "      <td>NaN</td>\n",
       "      <td>NaN</td>\n",
       "      <td>R1-0209/17</td>\n",
       "      <td>DELPHI</td>\n",
       "      <td>199.74</td>\n",
       "      <td>11.20</td>\n",
       "      <td>7.01</td>\n",
       "      <td>8.55</td>\n",
       "      <td>000659C</td>\n",
       "    </tr>\n",
       "    <tr>\n",
       "      <th>4</th>\n",
       "      <td>CITROËN</td>\n",
       "      <td>DS4</td>\n",
       "      <td>COUPÉ 3 + 2 PUERTAS</td>\n",
       "      <td>4x2</td>\n",
       "      <td>CITROËN EP6CDTM (5FM)</td>\n",
       "      <td>1598.0</td>\n",
       "      <td>NaN</td>\n",
       "      <td>AUTOMATICA</td>\n",
       "      <td>NAFTA</td>\n",
       "      <td>EURO V</td>\n",
       "      <td>NaN</td>\n",
       "      <td>11/10/2011</td>\n",
       "      <td>11/04511</td>\n",
       "      <td>UTAC</td>\n",
       "      <td>177.60</td>\n",
       "      <td>10.60</td>\n",
       "      <td>6.00</td>\n",
       "      <td>7.70</td>\n",
       "      <td>000106A</td>\n",
       "    </tr>\n",
       "  </tbody>\n",
       "</table>\n",
       "</div>"
      ],
      "text/plain": [
       "  vehiculo_marca     vehiculo_modelo        vehiculo_tipo vehiculo_traccion  \\\n",
       "0         TOYOTA    LAND CRUISER 200                  SUV               4x4   \n",
       "1        RENAULT     FLUENCE 2.0 16V      SEDÁN 4 PUERTAS               4x2   \n",
       "2        RENAULT      DUSTER 2.0 16v      SEDÁN 5 PUERTAS               4x2   \n",
       "3        RENAULT  DUSTER 2.0 16v 4X4      SEDÁN 5 PUERTAS               4x4   \n",
       "4        CITROËN                 DS4  COUPÉ 3 + 2 PUERTAS               4x2   \n",
       "\n",
       "       vehiculo_id_motor  vehiculo_cilindrada vehiculo_potencia  \\\n",
       "0         TOYOTA 1VD-FTV               4461.0               NaN   \n",
       "1          RENAULT M4RK7               1997.0               NaN   \n",
       "2         RENAULT F4R E4               1998.0               105   \n",
       "3         RENAULT F4R E4               1998.0               105   \n",
       "4  CITROËN EP6CDTM (5FM)               1598.0               NaN   \n",
       "\n",
       "  vehiculo_tipo_transmision vehiculo_tipo_combustible  \\\n",
       "0                AUTOMATICA                   GAS OIL   \n",
       "1                       CVT                     NAFTA   \n",
       "2                    MANUAL                     NAFTA   \n",
       "3                    MANUAL                     NAFTA   \n",
       "4                AUTOMATICA                     NAFTA   \n",
       "\n",
       "  vehiculo_standard_emision  lca_numero fecha_firma ensayo_gei_numero  \\\n",
       "0                    EURO V         NaN  04/10/2017   H1860666086/241   \n",
       "1                    EURO V         NaN  22/06/2016          09/09790   \n",
       "2                    EURO V         NaN         NaN        R1-0210/17   \n",
       "3                    EURO V         NaN         NaN        R1-0209/17   \n",
       "4                    EURO V         NaN  11/10/2011          11/04511   \n",
       "\n",
       "  ensayo_gei_laboratorio  emision_CO2  consumo_urbano  consumo_extraurbano  \\\n",
       "0            VINÇOTTE nv       260.70           11.56                 8.94   \n",
       "1                   UTAC       175.40           10.50                 6.10   \n",
       "2                 DELPHI       198.86           11.13                 6.98   \n",
       "3                 DELPHI       199.74           11.20                 7.01   \n",
       "4                   UTAC       177.60           10.60                 6.00   \n",
       "\n",
       "   consumo_mixto id_etiqueta  \n",
       "0           9.90     000001A  \n",
       "1           7.70     000178A  \n",
       "2           8.52     000650C  \n",
       "3           8.55     000659C  \n",
       "4           7.70     000106A  "
      ]
     },
     "execution_count": 279,
     "metadata": {},
     "output_type": "execute_result"
    }
   ],
   "source": [
    "df.head()"
   ]
  },
  {
   "cell_type": "code",
   "execution_count": 280,
   "id": "average-colors",
   "metadata": {},
   "outputs": [
    {
     "data": {
      "text/plain": [
       "vehiculo_marca                object\n",
       "vehiculo_modelo               object\n",
       "vehiculo_tipo                 object\n",
       "vehiculo_traccion             object\n",
       "vehiculo_id_motor             object\n",
       "vehiculo_cilindrada          float64\n",
       "vehiculo_potencia             object\n",
       "vehiculo_tipo_transmision     object\n",
       "vehiculo_tipo_combustible     object\n",
       "vehiculo_standard_emision     object\n",
       "lca_numero                   float64\n",
       "fecha_firma                   object\n",
       "ensayo_gei_numero             object\n",
       "ensayo_gei_laboratorio        object\n",
       "emision_CO2                  float64\n",
       "consumo_urbano               float64\n",
       "consumo_extraurbano          float64\n",
       "consumo_mixto                float64\n",
       "id_etiqueta                   object\n",
       "dtype: object"
      ]
     },
     "execution_count": 280,
     "metadata": {},
     "output_type": "execute_result"
    }
   ],
   "source": [
    "df.dtypes"
   ]
  },
  {
   "cell_type": "code",
   "execution_count": 281,
   "id": "stunning-browser",
   "metadata": {},
   "outputs": [
    {
     "data": {
      "text/plain": [
       "(412, 19)"
      ]
     },
     "execution_count": 281,
     "metadata": {},
     "output_type": "execute_result"
    }
   ],
   "source": [
    "df.shape"
   ]
  },
  {
   "cell_type": "code",
   "execution_count": 282,
   "id": "historic-abuse",
   "metadata": {},
   "outputs": [
    {
     "data": {
      "text/plain": [
       "312"
      ]
     },
     "execution_count": 282,
     "metadata": {},
     "output_type": "execute_result"
    }
   ],
   "source": [
    "# Total de datos faltantes\n",
    "df.isna().any(axis=1).sum()"
   ]
  },
  {
   "cell_type": "code",
   "execution_count": 283,
   "id": "optical-location",
   "metadata": {},
   "outputs": [
    {
     "data": {
      "text/plain": [
       "vehiculo_marca                 0\n",
       "vehiculo_modelo                0\n",
       "vehiculo_tipo                  0\n",
       "vehiculo_traccion              0\n",
       "vehiculo_id_motor              0\n",
       "vehiculo_cilindrada            1\n",
       "vehiculo_potencia            287\n",
       "vehiculo_tipo_transmision      0\n",
       "vehiculo_tipo_combustible      0\n",
       "vehiculo_standard_emision      3\n",
       "lca_numero                   119\n",
       "fecha_firma                    8\n",
       "ensayo_gei_numero              0\n",
       "ensayo_gei_laboratorio         0\n",
       "emision_CO2                    0\n",
       "consumo_urbano                 2\n",
       "consumo_extraurbano            2\n",
       "consumo_mixto                  0\n",
       "id_etiqueta                    0\n",
       "dtype: int64"
      ]
     },
     "execution_count": 283,
     "metadata": {},
     "output_type": "execute_result"
    }
   ],
   "source": [
    "# Datos faltantes por columna\n",
    "df.isna().sum()"
   ]
  },
  {
   "cell_type": "code",
   "execution_count": 284,
   "id": "healthy-domestic",
   "metadata": {},
   "outputs": [],
   "source": [
    "# Elimino las columnas con mayor cantidad de datos faltantes y las que considero que no voy a utilizar para el análisis\n",
    "df.drop(['vehiculo_potencia','lca_numero', 'vehiculo_id_motor','vehiculo_id_motor','fecha_firma','ensayo_gei_numero','ensayo_gei_laboratorio','id_etiqueta'], axis=1, inplace=True)"
   ]
  },
  {
   "cell_type": "code",
   "execution_count": 285,
   "id": "aware-support",
   "metadata": {},
   "outputs": [
    {
     "data": {
      "text/plain": [
       "(412, 12)"
      ]
     },
     "execution_count": 285,
     "metadata": {},
     "output_type": "execute_result"
    }
   ],
   "source": [
    "df.shape"
   ]
  },
  {
   "cell_type": "code",
   "execution_count": 286,
   "id": "numerous-relief",
   "metadata": {},
   "outputs": [
    {
     "data": {
      "text/plain": [
       "6"
      ]
     },
     "execution_count": 286,
     "metadata": {},
     "output_type": "execute_result"
    }
   ],
   "source": [
    "df.isna().any(axis=1).sum()"
   ]
  },
  {
   "cell_type": "code",
   "execution_count": 287,
   "id": "soviet-collection",
   "metadata": {},
   "outputs": [],
   "source": [
    "df.dropna(inplace=True)"
   ]
  },
  {
   "cell_type": "code",
   "execution_count": 288,
   "id": "laden-summary",
   "metadata": {},
   "outputs": [],
   "source": [
    "df.reset_index(inplace = True, drop =True)"
   ]
  },
  {
   "cell_type": "code",
   "execution_count": 289,
   "id": "joined-development",
   "metadata": {},
   "outputs": [
    {
     "data": {
      "text/html": [
       "<div>\n",
       "<style scoped>\n",
       "    .dataframe tbody tr th:only-of-type {\n",
       "        vertical-align: middle;\n",
       "    }\n",
       "\n",
       "    .dataframe tbody tr th {\n",
       "        vertical-align: top;\n",
       "    }\n",
       "\n",
       "    .dataframe thead th {\n",
       "        text-align: right;\n",
       "    }\n",
       "</style>\n",
       "<table border=\"1\" class=\"dataframe\">\n",
       "  <thead>\n",
       "    <tr style=\"text-align: right;\">\n",
       "      <th></th>\n",
       "      <th>vehiculo_marca</th>\n",
       "      <th>vehiculo_modelo</th>\n",
       "      <th>vehiculo_tipo</th>\n",
       "      <th>vehiculo_traccion</th>\n",
       "      <th>vehiculo_cilindrada</th>\n",
       "      <th>vehiculo_tipo_transmision</th>\n",
       "      <th>vehiculo_tipo_combustible</th>\n",
       "      <th>vehiculo_standard_emision</th>\n",
       "      <th>emision_CO2</th>\n",
       "      <th>consumo_urbano</th>\n",
       "      <th>consumo_extraurbano</th>\n",
       "      <th>consumo_mixto</th>\n",
       "    </tr>\n",
       "  </thead>\n",
       "  <tbody>\n",
       "    <tr>\n",
       "      <th>0</th>\n",
       "      <td>TOYOTA</td>\n",
       "      <td>LAND CRUISER 200</td>\n",
       "      <td>SUV</td>\n",
       "      <td>4x4</td>\n",
       "      <td>4461.0</td>\n",
       "      <td>AUTOMATICA</td>\n",
       "      <td>GAS OIL</td>\n",
       "      <td>EURO V</td>\n",
       "      <td>260.70</td>\n",
       "      <td>11.56</td>\n",
       "      <td>8.94</td>\n",
       "      <td>9.90</td>\n",
       "    </tr>\n",
       "    <tr>\n",
       "      <th>1</th>\n",
       "      <td>RENAULT</td>\n",
       "      <td>FLUENCE 2.0 16V</td>\n",
       "      <td>SEDÁN 4 PUERTAS</td>\n",
       "      <td>4x2</td>\n",
       "      <td>1997.0</td>\n",
       "      <td>CVT</td>\n",
       "      <td>NAFTA</td>\n",
       "      <td>EURO V</td>\n",
       "      <td>175.40</td>\n",
       "      <td>10.50</td>\n",
       "      <td>6.10</td>\n",
       "      <td>7.70</td>\n",
       "    </tr>\n",
       "    <tr>\n",
       "      <th>2</th>\n",
       "      <td>RENAULT</td>\n",
       "      <td>DUSTER 2.0 16v</td>\n",
       "      <td>SEDÁN 5 PUERTAS</td>\n",
       "      <td>4x2</td>\n",
       "      <td>1998.0</td>\n",
       "      <td>MANUAL</td>\n",
       "      <td>NAFTA</td>\n",
       "      <td>EURO V</td>\n",
       "      <td>198.86</td>\n",
       "      <td>11.13</td>\n",
       "      <td>6.98</td>\n",
       "      <td>8.52</td>\n",
       "    </tr>\n",
       "    <tr>\n",
       "      <th>3</th>\n",
       "      <td>RENAULT</td>\n",
       "      <td>DUSTER 2.0 16v 4X4</td>\n",
       "      <td>SEDÁN 5 PUERTAS</td>\n",
       "      <td>4x4</td>\n",
       "      <td>1998.0</td>\n",
       "      <td>MANUAL</td>\n",
       "      <td>NAFTA</td>\n",
       "      <td>EURO V</td>\n",
       "      <td>199.74</td>\n",
       "      <td>11.20</td>\n",
       "      <td>7.01</td>\n",
       "      <td>8.55</td>\n",
       "    </tr>\n",
       "    <tr>\n",
       "      <th>4</th>\n",
       "      <td>CITROËN</td>\n",
       "      <td>DS4</td>\n",
       "      <td>COUPÉ 3 + 2 PUERTAS</td>\n",
       "      <td>4x2</td>\n",
       "      <td>1598.0</td>\n",
       "      <td>AUTOMATICA</td>\n",
       "      <td>NAFTA</td>\n",
       "      <td>EURO V</td>\n",
       "      <td>177.60</td>\n",
       "      <td>10.60</td>\n",
       "      <td>6.00</td>\n",
       "      <td>7.70</td>\n",
       "    </tr>\n",
       "  </tbody>\n",
       "</table>\n",
       "</div>"
      ],
      "text/plain": [
       "  vehiculo_marca     vehiculo_modelo        vehiculo_tipo vehiculo_traccion  \\\n",
       "0         TOYOTA    LAND CRUISER 200                  SUV               4x4   \n",
       "1        RENAULT     FLUENCE 2.0 16V      SEDÁN 4 PUERTAS               4x2   \n",
       "2        RENAULT      DUSTER 2.0 16v      SEDÁN 5 PUERTAS               4x2   \n",
       "3        RENAULT  DUSTER 2.0 16v 4X4      SEDÁN 5 PUERTAS               4x4   \n",
       "4        CITROËN                 DS4  COUPÉ 3 + 2 PUERTAS               4x2   \n",
       "\n",
       "   vehiculo_cilindrada vehiculo_tipo_transmision vehiculo_tipo_combustible  \\\n",
       "0               4461.0                AUTOMATICA                   GAS OIL   \n",
       "1               1997.0                       CVT                     NAFTA   \n",
       "2               1998.0                    MANUAL                     NAFTA   \n",
       "3               1998.0                    MANUAL                     NAFTA   \n",
       "4               1598.0                AUTOMATICA                     NAFTA   \n",
       "\n",
       "  vehiculo_standard_emision  emision_CO2  consumo_urbano  consumo_extraurbano  \\\n",
       "0                    EURO V       260.70           11.56                 8.94   \n",
       "1                    EURO V       175.40           10.50                 6.10   \n",
       "2                    EURO V       198.86           11.13                 6.98   \n",
       "3                    EURO V       199.74           11.20                 7.01   \n",
       "4                    EURO V       177.60           10.60                 6.00   \n",
       "\n",
       "   consumo_mixto  \n",
       "0           9.90  \n",
       "1           7.70  \n",
       "2           8.52  \n",
       "3           8.55  \n",
       "4           7.70  "
      ]
     },
     "execution_count": 289,
     "metadata": {},
     "output_type": "execute_result"
    }
   ],
   "source": [
    "df.head()"
   ]
  },
  {
   "cell_type": "code",
   "execution_count": 290,
   "id": "behavioral-irrigation",
   "metadata": {},
   "outputs": [
    {
     "data": {
      "text/plain": [
       "(406, 12)"
      ]
     },
     "execution_count": 290,
     "metadata": {},
     "output_type": "execute_result"
    }
   ],
   "source": [
    "df.shape"
   ]
  },
  {
   "cell_type": "code",
   "execution_count": 291,
   "id": "hindu-football",
   "metadata": {},
   "outputs": [
    {
     "data": {
      "text/plain": [
       "vehiculo_marca               0\n",
       "vehiculo_modelo              0\n",
       "vehiculo_tipo                0\n",
       "vehiculo_traccion            0\n",
       "vehiculo_cilindrada          0\n",
       "vehiculo_tipo_transmision    0\n",
       "vehiculo_tipo_combustible    0\n",
       "vehiculo_standard_emision    0\n",
       "emision_CO2                  0\n",
       "consumo_urbano               0\n",
       "consumo_extraurbano          0\n",
       "consumo_mixto                0\n",
       "dtype: int64"
      ]
     },
     "execution_count": 291,
     "metadata": {},
     "output_type": "execute_result"
    }
   ],
   "source": [
    "df.isna().sum()"
   ]
  },
  {
   "cell_type": "markdown",
   "id": "designing-jordan",
   "metadata": {},
   "source": [
    "<a id=\"section_exploration\"></a> \n",
    "<h3> Exploración </h3>\n",
    "\n",
    "[volver a TOC](#section_toc)"
   ]
  },
  {
   "cell_type": "code",
   "execution_count": 292,
   "id": "aquatic-title",
   "metadata": {},
   "outputs": [
    {
     "data": {
      "text/html": [
       "<div>\n",
       "<style scoped>\n",
       "    .dataframe tbody tr th:only-of-type {\n",
       "        vertical-align: middle;\n",
       "    }\n",
       "\n",
       "    .dataframe tbody tr th {\n",
       "        vertical-align: top;\n",
       "    }\n",
       "\n",
       "    .dataframe thead th {\n",
       "        text-align: right;\n",
       "    }\n",
       "</style>\n",
       "<table border=\"1\" class=\"dataframe\">\n",
       "  <thead>\n",
       "    <tr style=\"text-align: right;\">\n",
       "      <th></th>\n",
       "      <th>vehiculo_marca</th>\n",
       "      <th>vehiculo_modelo</th>\n",
       "      <th>vehiculo_tipo</th>\n",
       "      <th>vehiculo_traccion</th>\n",
       "      <th>vehiculo_cilindrada</th>\n",
       "      <th>vehiculo_tipo_transmision</th>\n",
       "      <th>vehiculo_tipo_combustible</th>\n",
       "      <th>vehiculo_standard_emision</th>\n",
       "      <th>emision_CO2</th>\n",
       "      <th>consumo_urbano</th>\n",
       "      <th>consumo_extraurbano</th>\n",
       "      <th>consumo_mixto</th>\n",
       "    </tr>\n",
       "  </thead>\n",
       "  <tbody>\n",
       "    <tr>\n",
       "      <th>0</th>\n",
       "      <td>TOYOTA</td>\n",
       "      <td>LAND CRUISER 200</td>\n",
       "      <td>SUV</td>\n",
       "      <td>4x4</td>\n",
       "      <td>4461.0</td>\n",
       "      <td>AUTOMATICA</td>\n",
       "      <td>GAS OIL</td>\n",
       "      <td>EURO V</td>\n",
       "      <td>260.70</td>\n",
       "      <td>11.56</td>\n",
       "      <td>8.94</td>\n",
       "      <td>9.90</td>\n",
       "    </tr>\n",
       "    <tr>\n",
       "      <th>1</th>\n",
       "      <td>RENAULT</td>\n",
       "      <td>FLUENCE 2.0 16V</td>\n",
       "      <td>SEDÁN 4 PUERTAS</td>\n",
       "      <td>4x2</td>\n",
       "      <td>1997.0</td>\n",
       "      <td>CVT</td>\n",
       "      <td>NAFTA</td>\n",
       "      <td>EURO V</td>\n",
       "      <td>175.40</td>\n",
       "      <td>10.50</td>\n",
       "      <td>6.10</td>\n",
       "      <td>7.70</td>\n",
       "    </tr>\n",
       "    <tr>\n",
       "      <th>2</th>\n",
       "      <td>RENAULT</td>\n",
       "      <td>DUSTER 2.0 16v</td>\n",
       "      <td>SEDÁN 5 PUERTAS</td>\n",
       "      <td>4x2</td>\n",
       "      <td>1998.0</td>\n",
       "      <td>MANUAL</td>\n",
       "      <td>NAFTA</td>\n",
       "      <td>EURO V</td>\n",
       "      <td>198.86</td>\n",
       "      <td>11.13</td>\n",
       "      <td>6.98</td>\n",
       "      <td>8.52</td>\n",
       "    </tr>\n",
       "    <tr>\n",
       "      <th>3</th>\n",
       "      <td>RENAULT</td>\n",
       "      <td>DUSTER 2.0 16v 4X4</td>\n",
       "      <td>SEDÁN 5 PUERTAS</td>\n",
       "      <td>4x4</td>\n",
       "      <td>1998.0</td>\n",
       "      <td>MANUAL</td>\n",
       "      <td>NAFTA</td>\n",
       "      <td>EURO V</td>\n",
       "      <td>199.74</td>\n",
       "      <td>11.20</td>\n",
       "      <td>7.01</td>\n",
       "      <td>8.55</td>\n",
       "    </tr>\n",
       "    <tr>\n",
       "      <th>4</th>\n",
       "      <td>CITROËN</td>\n",
       "      <td>DS4</td>\n",
       "      <td>COUPÉ 3 + 2 PUERTAS</td>\n",
       "      <td>4x2</td>\n",
       "      <td>1598.0</td>\n",
       "      <td>AUTOMATICA</td>\n",
       "      <td>NAFTA</td>\n",
       "      <td>EURO V</td>\n",
       "      <td>177.60</td>\n",
       "      <td>10.60</td>\n",
       "      <td>6.00</td>\n",
       "      <td>7.70</td>\n",
       "    </tr>\n",
       "  </tbody>\n",
       "</table>\n",
       "</div>"
      ],
      "text/plain": [
       "  vehiculo_marca     vehiculo_modelo        vehiculo_tipo vehiculo_traccion  \\\n",
       "0         TOYOTA    LAND CRUISER 200                  SUV               4x4   \n",
       "1        RENAULT     FLUENCE 2.0 16V      SEDÁN 4 PUERTAS               4x2   \n",
       "2        RENAULT      DUSTER 2.0 16v      SEDÁN 5 PUERTAS               4x2   \n",
       "3        RENAULT  DUSTER 2.0 16v 4X4      SEDÁN 5 PUERTAS               4x4   \n",
       "4        CITROËN                 DS4  COUPÉ 3 + 2 PUERTAS               4x2   \n",
       "\n",
       "   vehiculo_cilindrada vehiculo_tipo_transmision vehiculo_tipo_combustible  \\\n",
       "0               4461.0                AUTOMATICA                   GAS OIL   \n",
       "1               1997.0                       CVT                     NAFTA   \n",
       "2               1998.0                    MANUAL                     NAFTA   \n",
       "3               1998.0                    MANUAL                     NAFTA   \n",
       "4               1598.0                AUTOMATICA                     NAFTA   \n",
       "\n",
       "  vehiculo_standard_emision  emision_CO2  consumo_urbano  consumo_extraurbano  \\\n",
       "0                    EURO V       260.70           11.56                 8.94   \n",
       "1                    EURO V       175.40           10.50                 6.10   \n",
       "2                    EURO V       198.86           11.13                 6.98   \n",
       "3                    EURO V       199.74           11.20                 7.01   \n",
       "4                    EURO V       177.60           10.60                 6.00   \n",
       "\n",
       "   consumo_mixto  \n",
       "0           9.90  \n",
       "1           7.70  \n",
       "2           8.52  \n",
       "3           8.55  \n",
       "4           7.70  "
      ]
     },
     "execution_count": 292,
     "metadata": {},
     "output_type": "execute_result"
    }
   ],
   "source": [
    "df.head()"
   ]
  },
  {
   "cell_type": "code",
   "execution_count": 293,
   "id": "normal-christopher",
   "metadata": {},
   "outputs": [
    {
     "data": {
      "text/plain": [
       "MERCEDES-BENZ        31\n",
       "HYUNDAI              31\n",
       "CHEVROLET            25\n",
       "BMW                  23\n",
       "AUDI                 21\n",
       "TOYOTA               20\n",
       "FORD                 18\n",
       "FIAT                 17\n",
       "RENAULT              17\n",
       "MINI                 16\n",
       "HONDA                15\n",
       "VOLKSWAGEN           15\n",
       "PEUGEOT              13\n",
       "NISSAN               12\n",
       "CITROËN              10\n",
       "CHANGAN               9\n",
       "LIFAN                 8\n",
       "LEXUS                 8\n",
       "SUZUKI                7\n",
       "JEEP                  7\n",
       "LAND ROVER            6\n",
       "PEUGEOT / CITROËN     6\n",
       "FAW                   5\n",
       "ALFA ROMEO            4\n",
       "ZOTYE                 4\n",
       "JAC                   4\n",
       "BAIC                  4\n",
       "MASERATI              4\n",
       "DOMY                  4\n",
       "BORGWARD              4\n",
       "PORSCHE               3\n",
       "DS                    3\n",
       "HAVAL                 3\n",
       "KIA                   3\n",
       "MITSUBISHI            3\n",
       "MERCEDES-AMG          2\n",
       "CHERY                 2\n",
       "SUBARU                2\n",
       "ISUZU                 2\n",
       "VOLVO                 2\n",
       "ZANELLA               2\n",
       "RAM                   2\n",
       "CITROËN / DS          2\n",
       "FOTON                 2\n",
       "DONGFENG              1\n",
       "FERRARI               1\n",
       "SHINERAY              1\n",
       "GREAT WALL            1\n",
       "KYC                   1\n",
       "Name: vehiculo_marca, dtype: int64"
      ]
     },
     "execution_count": 293,
     "metadata": {},
     "output_type": "execute_result"
    }
   ],
   "source": [
    "df['vehiculo_marca'].value_counts()"
   ]
  },
  {
   "cell_type": "code",
   "execution_count": 294,
   "id": "rocky-plaza",
   "metadata": {},
   "outputs": [
    {
     "data": {
      "text/plain": [
       "<AxesSubplot:xlabel='consumo_urbano', ylabel='vehiculo_marca'>"
      ]
     },
     "execution_count": 294,
     "metadata": {},
     "output_type": "execute_result"
    },
    {
     "data": {
      "image/png": "[encoded data removed]",
      "text/plain": [
       "<Figure size 1152x720 with 1 Axes>"
      ]
     },
     "metadata": {
      "needs_background": "light"
     },
     "output_type": "display_data"
    }
   ],
   "source": [
    "#mkI = df['vehiculo_marca'].value_counts().index\n",
    "#mkV = df['emision_CO2'].median().index\n",
    "#mkV = df.groupby(['vehiculo_marca'])[['emision_CO2']].apply(np.median)\n",
    "\n",
    "#plt.figure(figsize = (10,8))\n",
    "#sns.barplot(mkI,mkV)\n",
    "#plt.xticks(rotation='vertical')\n",
    "norm = plt.Normalize(df[\"consumo_urbano\"].values.min(), df[\"consumo_urbano\"].values.max())\n",
    "colors = plt.cm.Reds(norm(df[\"consumo_urbano\"])) \n",
    "plt.figure(figsize=(16,10))\n",
    "plt.ylabel('Consumo Urbano', fontsize=12)\n",
    "plt.xlabel('Marca', fontsize=12)\n",
    "result = df.groupby([\"vehiculo_marca\"])['consumo_urbano'].aggregate(np.median).reset_index().sort_values('consumo_urbano')\n",
    "sns.barplot(x='consumo_urbano', y=\"vehiculo_marca\", data=df,  order=result['vehiculo_marca'])"
   ]
  },
  {
   "cell_type": "code",
   "execution_count": 295,
   "id": "minor-violin",
   "metadata": {},
   "outputs": [
    {
     "data": {
      "text/plain": [
       "<AxesSubplot:xlabel='emision_CO2', ylabel='vehiculo_marca'>"
      ]
     },
     "execution_count": 295,
     "metadata": {},
     "output_type": "execute_result"
    },
    {
     "data": {
      "image/png": "[encoded data removed]",
      "text/plain": [
       "<Figure size 1152x720 with 1 Axes>"
      ]
     },
     "metadata": {
      "needs_background": "light"
     },
     "output_type": "display_data"
    }
   ],
   "source": [
    "norm = plt.Normalize(df[\"emision_CO2\"].values.min(), df[\"emision_CO2\"].values.max())\n",
    "\n",
    "plt.figure(figsize=(16,10))\n",
    "plt.ylabel('Emision CO2', fontsize=12)\n",
    "plt.xlabel('Marca', fontsize=12)\n",
    "result = df.groupby([\"vehiculo_marca\"])['emision_CO2'].aggregate(np.median).reset_index().sort_values('emision_CO2')\n",
    "sns.barplot(x='emision_CO2', y=\"vehiculo_marca\", data=df, order=result['vehiculo_marca'])"
   ]
  },
  {
   "cell_type": "code",
   "execution_count": 296,
   "id": "compound-setting",
   "metadata": {},
   "outputs": [
    {
     "data": {
      "text/plain": [
       "array(['TOYOTA', 'RENAULT', 'CITROËN', 'LEXUS', 'PEUGEOT', 'FORD',\n",
       "       'PEUGEOT / CITROËN', 'HYUNDAI', 'SUZUKI', 'CHEVROLET', 'LIFAN',\n",
       "       'BMW', 'CITROËN / DS', 'HONDA', 'NISSAN', 'FIAT', 'CHERY',\n",
       "       'VOLKSWAGEN', 'ALFA ROMEO', 'FAW', 'MERCEDES-BENZ', 'JEEP',\n",
       "       'LAND ROVER', 'JAC', 'VOLVO', 'SHINERAY', 'CHANGAN', 'DS', 'MINI',\n",
       "       'DOMY', 'BORGWARD', 'PORSCHE', 'AUDI', 'BAIC', 'ZANELLA', 'RAM',\n",
       "       'FOTON', 'MASERATI', 'SUBARU', 'HAVAL', 'ISUZU', 'DONGFENG',\n",
       "       'MERCEDES-AMG', 'MITSUBISHI', 'ZOTYE', 'KIA', 'GREAT WALL', 'KYC',\n",
       "       'FERRARI'], dtype=object)"
      ]
     },
     "execution_count": 296,
     "metadata": {},
     "output_type": "execute_result"
    }
   ],
   "source": [
    "df['vehiculo_marca'].unique()"
   ]
  },
  {
   "cell_type": "code",
   "execution_count": 297,
   "id": "present-loading",
   "metadata": {},
   "outputs": [
    {
     "data": {
      "application/vnd.plotly.v1+json": {
       "config": {
        "plotlyServerURL": "https://plot.ly"
       },
       "data": [
        {
         "marker": {
          "color": [
           31,
           31,
           25,
           23,
           21,
           20,
           18,
           17,
           17,
           16,
           15,
           15,
           13,
           12,
           10,
           9,
           8,
           8,
           7,
           7,
           6,
           6,
           5,
           4,
           4
          ],
          "colorscale": [
           [
            0,
            "#440154"
           ],
           [
            0.1111111111111111,
            "#482878"
           ],
           [
            0.2222222222222222,
            "#3e4989"
           ],
           [
            0.3333333333333333,
            "#31688e"
           ],
           [
            0.4444444444444444,
            "#26828e"
           ],
           [
            0.5555555555555556,
            "#1f9e89"
           ],
           [
            0.6666666666666666,
            "#35b779"
           ],
           [
            0.7777777777777778,
            "#6ece58"
           ],
           [
            0.8888888888888888,
            "#b5de2b"
           ],
           [
            1,
            "#fde725"
           ]
          ]
         },
         "text": [
          31,
          31,
          25,
          23,
          21,
          20,
          18,
          17,
          17,
          16,
          15,
          15,
          13,
          12,
          10,
          9,
          8,
          8,
          7,
          7,
          6,
          6,
          5,
          4,
          4
         ],
         "textposition": "outside",
         "type": "bar",
         "x": [
          "MERCEDES-BENZ",
          "HYUNDAI",
          "CHEVROLET",
          "BMW",
          "AUDI",
          "TOYOTA",
          "FORD",
          "FIAT",
          "RENAULT",
          "MINI",
          "HONDA",
          "VOLKSWAGEN",
          "PEUGEOT",
          "NISSAN",
          "CITROËN",
          "CHANGAN",
          "LIFAN",
          "LEXUS",
          "SUZUKI",
          "JEEP",
          "LAND ROVER",
          "PEUGEOT / CITROËN",
          "FAW",
          "ALFA ROMEO",
          "ZOTYE"
         ],
         "y": [
          31,
          31,
          25,
          23,
          21,
          20,
          18,
          17,
          17,
          16,
          15,
          15,
          13,
          12,
          10,
          9,
          8,
          8,
          7,
          7,
          6,
          6,
          5,
          4,
          4
         ]
        }
       ],
       "layout": {
        "template": {
         "data": {
          "bar": [
           {
            "error_x": {
             "color": "#2a3f5f"
            },
            "error_y": {
             "color": "#2a3f5f"
            },
            "marker": {
             "line": {
              "color": "#E5ECF6",
              "width": 0.5
             }
            },
            "type": "bar"
           }
          ],
          "barpolar": [
           {
            "marker": {
             "line": {
              "color": "#E5ECF6",
              "width": 0.5
             }
            },
            "type": "barpolar"
           }
          ],
          "carpet": [
           {
            "aaxis": {
             "endlinecolor": "#2a3f5f",
             "gridcolor": "white",
             "linecolor": "white",
             "minorgridcolor": "white",
             "startlinecolor": "#2a3f5f"
            },
            "baxis": {
             "endlinecolor": "#2a3f5f",
             "gridcolor": "white",
             "linecolor": "white",
             "minorgridcolor": "white",
             "startlinecolor": "#2a3f5f"
            },
            "type": "carpet"
           }
          ],
          "choropleth": [
           {
            "colorbar": {
             "outlinewidth": 0,
             "ticks": ""
            },
            "type": "choropleth"
           }
          ],
          "contour": [
           {
            "colorbar": {
             "outlinewidth": 0,
             "ticks": ""
            },
            "colorscale": [
             [
              0,
              "#0d0887"
             ],
             [
              0.1111111111111111,
              "#46039f"
             ],
             [
              0.2222222222222222,
              "#7201a8"
             ],
             [
              0.3333333333333333,
              "#9c179e"
             ],
             [
              0.4444444444444444,
              "#bd3786"
             ],
             [
              0.5555555555555556,
              "#d8576b"
             ],
             [
              0.6666666666666666,
              "#ed7953"
             ],
             [
              0.7777777777777778,
              "#fb9f3a"
             ],
             [
              0.8888888888888888,
              "#fdca26"
             ],
             [
              1,
              "#f0f921"
             ]
            ],
            "type": "contour"
           }
          ],
          "contourcarpet": [
           {
            "colorbar": {
             "outlinewidth": 0,
             "ticks": ""
            },
            "type": "contourcarpet"
           }
          ],
          "heatmap": [
           {
            "colorbar": {
             "outlinewidth": 0,
             "ticks": ""
            },
            "colorscale": [
             [
              0,
              "#0d0887"
             ],
             [
              0.1111111111111111,
              "#46039f"
             ],
             [
              0.2222222222222222,
              "#7201a8"
             ],
             [
              0.3333333333333333,
              "#9c179e"
             ],
             [
              0.4444444444444444,
              "#bd3786"
             ],
             [
              0.5555555555555556,
              "#d8576b"
             ],
             [
              0.6666666666666666,
              "#ed7953"
             ],
             [
              0.7777777777777778,
              "#fb9f3a"
             ],
             [
              0.8888888888888888,
              "#fdca26"
             ],
             [
              1,
              "#f0f921"
             ]
            ],
            "type": "heatmap"
           }
          ],
          "heatmapgl": [
           {
            "colorbar": {
             "outlinewidth": 0,
             "ticks": ""
            },
            "colorscale": [
             [
              0,
              "#0d0887"
             ],
             [
              0.1111111111111111,
              "#46039f"
             ],
             [
              0.2222222222222222,
              "#7201a8"
             ],
             [
              0.3333333333333333,
              "#9c179e"
             ],
             [
              0.4444444444444444,
              "#bd3786"
             ],
             [
              0.5555555555555556,
              "#d8576b"
             ],
             [
              0.6666666666666666,
              "#ed7953"
             ],
             [
              0.7777777777777778,
              "#fb9f3a"
             ],
             [
              0.8888888888888888,
              "#fdca26"
             ],
             [
              1,
              "#f0f921"
             ]
            ],
            "type": "heatmapgl"
           }
          ],
          "histogram": [
           {
            "marker": {
             "colorbar": {
              "outlinewidth": 0,
              "ticks": ""
             }
            },
            "type": "histogram"
           }
          ],
          "histogram2d": [
           {
            "colorbar": {
             "outlinewidth": 0,
             "ticks": ""
            },
            "colorscale": [
             [
              0,
              "#0d0887"
             ],
             [
              0.1111111111111111,
              "#46039f"
             ],
             [
              0.2222222222222222,
              "#7201a8"
             ],
             [
              0.3333333333333333,
              "#9c179e"
             ],
             [
              0.4444444444444444,
              "#bd3786"
             ],
             [
              0.5555555555555556,
              "#d8576b"
             ],
             [
              0.6666666666666666,
              "#ed7953"
             ],
             [
              0.7777777777777778,
              "#fb9f3a"
             ],
             [
              0.8888888888888888,
              "#fdca26"
             ],
             [
              1,
              "#f0f921"
             ]
            ],
            "type": "histogram2d"
           }
          ],
          "histogram2dcontour": [
           {
            "colorbar": {
             "outlinewidth": 0,
             "ticks": ""
            },
            "colorscale": [
             [
              0,
              "#0d0887"
             ],
             [
              0.1111111111111111,
              "#46039f"
             ],
             [
              0.2222222222222222,
              "#7201a8"
             ],
             [
              0.3333333333333333,
              "#9c179e"
             ],
             [
              0.4444444444444444,
              "#bd3786"
             ],
             [
              0.5555555555555556,
              "#d8576b"
             ],
             [
              0.6666666666666666,
              "#ed7953"
             ],
             [
              0.7777777777777778,
              "#fb9f3a"
             ],
             [
              0.8888888888888888,
              "#fdca26"
             ],
             [
              1,
              "#f0f921"
             ]
            ],
            "type": "histogram2dcontour"
           }
          ],
          "mesh3d": [
           {
            "colorbar": {
             "outlinewidth": 0,
             "ticks": ""
            },
            "type": "mesh3d"
           }
          ],
          "parcoords": [
           {
            "line": {
             "colorbar": {
              "outlinewidth": 0,
              "ticks": ""
             }
            },
            "type": "parcoords"
           }
          ],
          "pie": [
           {
            "automargin": true,
            "type": "pie"
           }
          ],
          "scatter": [
           {
            "marker": {
             "colorbar": {
              "outlinewidth": 0,
              "ticks": ""
             }
            },
            "type": "scatter"
           }
          ],
          "scatter3d": [
           {
            "line": {
             "colorbar": {
              "outlinewidth": 0,
              "ticks": ""
             }
            },
            "marker": {
             "colorbar": {
              "outlinewidth": 0,
              "ticks": ""
             }
            },
            "type": "scatter3d"
           }
          ],
          "scattercarpet": [
           {
            "marker": {
             "colorbar": {
              "outlinewidth": 0,
              "ticks": ""
             }
            },
            "type": "scattercarpet"
           }
          ],
          "scattergeo": [
           {
            "marker": {
             "colorbar": {
              "outlinewidth": 0,
              "ticks": ""
             }
            },
            "type": "scattergeo"
           }
          ],
          "scattergl": [
           {
            "marker": {
             "colorbar": {
              "outlinewidth": 0,
              "ticks": ""
             }
            },
            "type": "scattergl"
           }
          ],
          "scattermapbox": [
           {
            "marker": {
             "colorbar": {
              "outlinewidth": 0,
              "ticks": ""
             }
            },
            "type": "scattermapbox"
           }
          ],
          "scatterpolar": [
           {
            "marker": {
             "colorbar": {
              "outlinewidth": 0,
              "ticks": ""
             }
            },
            "type": "scatterpolar"
           }
          ],
          "scatterpolargl": [
           {
            "marker": {
             "colorbar": {
              "outlinewidth": 0,
              "ticks": ""
             }
            },
            "type": "scatterpolargl"
           }
          ],
          "scatterternary": [
           {
            "marker": {
             "colorbar": {
              "outlinewidth": 0,
              "ticks": ""
             }
            },
            "type": "scatterternary"
           }
          ],
          "surface": [
           {
            "colorbar": {
             "outlinewidth": 0,
             "ticks": ""
            },
            "colorscale": [
             [
              0,
              "#0d0887"
             ],
             [
              0.1111111111111111,
              "#46039f"
             ],
             [
              0.2222222222222222,
              "#7201a8"
             ],
             [
              0.3333333333333333,
              "#9c179e"
             ],
             [
              0.4444444444444444,
              "#bd3786"
             ],
             [
              0.5555555555555556,
              "#d8576b"
             ],
             [
              0.6666666666666666,
              "#ed7953"
             ],
             [
              0.7777777777777778,
              "#fb9f3a"
             ],
             [
              0.8888888888888888,
              "#fdca26"
             ],
             [
              1,
              "#f0f921"
             ]
            ],
            "type": "surface"
           }
          ],
          "table": [
           {
            "cells": {
             "fill": {
              "color": "#EBF0F8"
             },
             "line": {
              "color": "white"
             }
            },
            "header": {
             "fill": {
              "color": "#C8D4E3"
             },
             "line": {
              "color": "white"
             }
            },
            "type": "table"
           }
          ]
         },
         "layout": {
          "annotationdefaults": {
           "arrowcolor": "#2a3f5f",
           "arrowhead": 0,
           "arrowwidth": 1
          },
          "coloraxis": {
           "colorbar": {
            "outlinewidth": 0,
            "ticks": ""
           }
          },
          "colorscale": {
           "diverging": [
            [
             0,
             "#8e0152"
            ],
            [
             0.1,
             "#c51b7d"
            ],
            [
             0.2,
             "#de77ae"
            ],
            [
             0.3,
             "#f1b6da"
            ],
            [
             0.4,
             "#fde0ef"
            ],
            [
             0.5,
             "#f7f7f7"
            ],
            [
             0.6,
             "#e6f5d0"
            ],
            [
             0.7,
             "#b8e186"
            ],
            [
             0.8,
             "#7fbc41"
            ],
            [
             0.9,
             "#4d9221"
            ],
            [
             1,
             "#276419"
            ]
           ],
           "sequential": [
            [
             0,
             "#0d0887"
            ],
            [
             0.1111111111111111,
             "#46039f"
            ],
            [
             0.2222222222222222,
             "#7201a8"
            ],
            [
             0.3333333333333333,
             "#9c179e"
            ],
            [
             0.4444444444444444,
             "#bd3786"
            ],
            [
             0.5555555555555556,
             "#d8576b"
            ],
            [
             0.6666666666666666,
             "#ed7953"
            ],
            [
             0.7777777777777778,
             "#fb9f3a"
            ],
            [
             0.8888888888888888,
             "#fdca26"
            ],
            [
             1,
             "#f0f921"
            ]
           ],
           "sequentialminus": [
            [
             0,
             "#0d0887"
            ],
            [
             0.1111111111111111,
             "#46039f"
            ],
            [
             0.2222222222222222,
             "#7201a8"
            ],
            [
             0.3333333333333333,
             "#9c179e"
            ],
            [
             0.4444444444444444,
             "#bd3786"
            ],
            [
             0.5555555555555556,
             "#d8576b"
            ],
            [
             0.6666666666666666,
             "#ed7953"
            ],
            [
             0.7777777777777778,
             "#fb9f3a"
            ],
            [
             0.8888888888888888,
             "#fdca26"
            ],
            [
             1,
             "#f0f921"
            ]
           ]
          },
          "colorway": [
           "#636efa",
           "#EF553B",
           "#00cc96",
           "#ab63fa",
           "#FFA15A",
           "#19d3f3",
           "#FF6692",
           "#B6E880",
           "#FF97FF",
           "#FECB52"
          ],
          "font": {
           "color": "#2a3f5f"
          },
          "geo": {
           "bgcolor": "white",
           "lakecolor": "white",
           "landcolor": "#E5ECF6",
           "showlakes": true,
           "showland": true,
           "subunitcolor": "white"
          },
          "hoverlabel": {
           "align": "left"
          },
          "hovermode": "closest",
          "mapbox": {
           "style": "light"
          },
          "paper_bgcolor": "white",
          "plot_bgcolor": "#E5ECF6",
          "polar": {
           "angularaxis": {
            "gridcolor": "white",
            "linecolor": "white",
            "ticks": ""
           },
           "bgcolor": "#E5ECF6",
           "radialaxis": {
            "gridcolor": "white",
            "linecolor": "white",
            "ticks": ""
           }
          },
          "scene": {
           "xaxis": {
            "backgroundcolor": "#E5ECF6",
            "gridcolor": "white",
            "gridwidth": 2,
            "linecolor": "white",
            "showbackground": true,
            "ticks": "",
            "zerolinecolor": "white"
           },
           "yaxis": {
            "backgroundcolor": "#E5ECF6",
            "gridcolor": "white",
            "gridwidth": 2,
            "linecolor": "white",
            "showbackground": true,
            "ticks": "",
            "zerolinecolor": "white"
           },
           "zaxis": {
            "backgroundcolor": "#E5ECF6",
            "gridcolor": "white",
            "gridwidth": 2,
            "linecolor": "white",
            "showbackground": true,
            "ticks": "",
            "zerolinecolor": "white"
           }
          },
          "shapedefaults": {
           "line": {
            "color": "#2a3f5f"
           }
          },
          "ternary": {
           "aaxis": {
            "gridcolor": "white",
            "linecolor": "white",
            "ticks": ""
           },
           "baxis": {
            "gridcolor": "white",
            "linecolor": "white",
            "ticks": ""
           },
           "bgcolor": "#E5ECF6",
           "caxis": {
            "gridcolor": "white",
            "linecolor": "white",
            "ticks": ""
           }
          },
          "title": {
           "x": 0.05
          },
          "xaxis": {
           "automargin": true,
           "gridcolor": "white",
           "linecolor": "white",
           "ticks": "",
           "title": {
            "standoff": 15
           },
           "zerolinecolor": "white",
           "zerolinewidth": 2
          },
          "yaxis": {
           "automargin": true,
           "gridcolor": "white",
           "linecolor": "white",
           "ticks": "",
           "title": {
            "standoff": 15
           },
           "zerolinecolor": "white",
           "zerolinewidth": 2
          }
         }
        },
        "title": {
         "text": "Top 25 Company",
         "x": 0.5
        },
        "xaxis": {
         "title": {
          "text": "Company "
         }
        },
        "yaxis": {
         "title": {
          "text": "Number Of Vehicles "
         }
        }
       }
      },
      "text/html": [
       "<div>\n",
       "        \n",
       "        \n",
       "            <div id=\"d07e0d75-ec9e-4c4b-80ed-849771c53c94\" class=\"plotly-graph-div\" style=\"height:525px; width:100%;\"></div>\n",
       "            <script type=\"text/javascript\">\n",
       "                require([\"plotly\"], function(Plotly) {\n",
       "                    window.PLOTLYENV=window.PLOTLYENV || {};\n",
       "                    \n",
       "                if (document.getElementById(\"d07e0d75-ec9e-4c4b-80ed-849771c53c94\")) {\n",
       "                    Plotly.newPlot(\n",
       "                        'd07e0d75-ec9e-4c4b-80ed-849771c53c94',\n",
       "                        [{\"marker\": {\"color\": [31, 31, 25, 23, 21, 20, 18, 17, 17, 16, 15, 15, 13, 12, 10, 9, 8, 8, 7, 7, 6, 6, 5, 4, 4], \"colorscale\": [[0.0, \"#440154\"], [0.1111111111111111, \"#482878\"], [0.2222222222222222, \"#3e4989\"], [0.3333333333333333, \"#31688e\"], [0.4444444444444444, \"#26828e\"], [0.5555555555555556, \"#1f9e89\"], [0.6666666666666666, \"#35b779\"], [0.7777777777777778, \"#6ece58\"], [0.8888888888888888, \"#b5de2b\"], [1.0, \"#fde725\"]]}, \"text\": [31.0, 31.0, 25.0, 23.0, 21.0, 20.0, 18.0, 17.0, 17.0, 16.0, 15.0, 15.0, 13.0, 12.0, 10.0, 9.0, 8.0, 8.0, 7.0, 7.0, 6.0, 6.0, 5.0, 4.0, 4.0], \"textposition\": \"outside\", \"type\": \"bar\", \"x\": [\"MERCEDES-BENZ\", \"HYUNDAI\", \"CHEVROLET\", \"BMW\", \"AUDI\", \"TOYOTA\", \"FORD\", \"FIAT\", \"RENAULT\", \"MINI\", \"HONDA\", \"VOLKSWAGEN\", \"PEUGEOT\", \"NISSAN\", \"CITRO\\u00cbN\", \"CHANGAN\", \"LIFAN\", \"LEXUS\", \"SUZUKI\", \"JEEP\", \"LAND ROVER\", \"PEUGEOT / CITRO\\u00cbN\", \"FAW\", \"ALFA ROMEO\", \"ZOTYE\"], \"y\": [31, 31, 25, 23, 21, 20, 18, 17, 17, 16, 15, 15, 13, 12, 10, 9, 8, 8, 7, 7, 6, 6, 5, 4, 4]}],\n",
       "                        {\"template\": {\"data\": {\"bar\": [{\"error_x\": {\"color\": \"#2a3f5f\"}, \"error_y\": {\"color\": \"#2a3f5f\"}, \"marker\": {\"line\": {\"color\": \"#E5ECF6\", \"width\": 0.5}}, \"type\": \"bar\"}], \"barpolar\": [{\"marker\": {\"line\": {\"color\": \"#E5ECF6\", \"width\": 0.5}}, \"type\": \"barpolar\"}], \"carpet\": [{\"aaxis\": {\"endlinecolor\": \"#2a3f5f\", \"gridcolor\": \"white\", \"linecolor\": \"white\", \"minorgridcolor\": \"white\", \"startlinecolor\": \"#2a3f5f\"}, \"baxis\": {\"endlinecolor\": \"#2a3f5f\", \"gridcolor\": \"white\", \"linecolor\": \"white\", \"minorgridcolor\": \"white\", \"startlinecolor\": \"#2a3f5f\"}, \"type\": \"carpet\"}], \"choropleth\": [{\"colorbar\": {\"outlinewidth\": 0, \"ticks\": \"\"}, \"type\": \"choropleth\"}], \"contour\": [{\"colorbar\": {\"outlinewidth\": 0, \"ticks\": \"\"}, \"colorscale\": [[0.0, \"#0d0887\"], [0.1111111111111111, \"#46039f\"], [0.2222222222222222, \"#7201a8\"], [0.3333333333333333, \"#9c179e\"], [0.4444444444444444, \"#bd3786\"], [0.5555555555555556, \"#d8576b\"], [0.6666666666666666, \"#ed7953\"], [0.7777777777777778, \"#fb9f3a\"], [0.8888888888888888, \"#fdca26\"], [1.0, \"#f0f921\"]], \"type\": \"contour\"}], \"contourcarpet\": [{\"colorbar\": {\"outlinewidth\": 0, \"ticks\": \"\"}, \"type\": \"contourcarpet\"}], \"heatmap\": [{\"colorbar\": {\"outlinewidth\": 0, \"ticks\": \"\"}, \"colorscale\": [[0.0, \"#0d0887\"], [0.1111111111111111, \"#46039f\"], [0.2222222222222222, \"#7201a8\"], [0.3333333333333333, \"#9c179e\"], [0.4444444444444444, \"#bd3786\"], [0.5555555555555556, \"#d8576b\"], [0.6666666666666666, \"#ed7953\"], [0.7777777777777778, \"#fb9f3a\"], [0.8888888888888888, \"#fdca26\"], [1.0, \"#f0f921\"]], \"type\": \"heatmap\"}], \"heatmapgl\": [{\"colorbar\": {\"outlinewidth\": 0, \"ticks\": \"\"}, \"colorscale\": [[0.0, \"#0d0887\"], [0.1111111111111111, \"#46039f\"], [0.2222222222222222, \"#7201a8\"], [0.3333333333333333, \"#9c179e\"], [0.4444444444444444, \"#bd3786\"], [0.5555555555555556, \"#d8576b\"], [0.6666666666666666, \"#ed7953\"], [0.7777777777777778, \"#fb9f3a\"], [0.8888888888888888, \"#fdca26\"], [1.0, \"#f0f921\"]], \"type\": \"heatmapgl\"}], \"histogram\": [{\"marker\": {\"colorbar\": {\"outlinewidth\": 0, \"ticks\": \"\"}}, \"type\": \"histogram\"}], \"histogram2d\": [{\"colorbar\": {\"outlinewidth\": 0, \"ticks\": \"\"}, \"colorscale\": [[0.0, \"#0d0887\"], [0.1111111111111111, \"#46039f\"], [0.2222222222222222, \"#7201a8\"], [0.3333333333333333, \"#9c179e\"], [0.4444444444444444, \"#bd3786\"], [0.5555555555555556, \"#d8576b\"], [0.6666666666666666, \"#ed7953\"], [0.7777777777777778, \"#fb9f3a\"], [0.8888888888888888, \"#fdca26\"], [1.0, \"#f0f921\"]], \"type\": \"histogram2d\"}], \"histogram2dcontour\": [{\"colorbar\": {\"outlinewidth\": 0, \"ticks\": \"\"}, \"colorscale\": [[0.0, \"#0d0887\"], [0.1111111111111111, \"#46039f\"], [0.2222222222222222, \"#7201a8\"], [0.3333333333333333, \"#9c179e\"], [0.4444444444444444, \"#bd3786\"], [0.5555555555555556, \"#d8576b\"], [0.6666666666666666, \"#ed7953\"], [0.7777777777777778, \"#fb9f3a\"], [0.8888888888888888, \"#fdca26\"], [1.0, \"#f0f921\"]], \"type\": \"histogram2dcontour\"}], \"mesh3d\": [{\"colorbar\": {\"outlinewidth\": 0, \"ticks\": \"\"}, \"type\": \"mesh3d\"}], \"parcoords\": [{\"line\": {\"colorbar\": {\"outlinewidth\": 0, \"ticks\": \"\"}}, \"type\": \"parcoords\"}], \"pie\": [{\"automargin\": true, \"type\": \"pie\"}], \"scatter\": [{\"marker\": {\"colorbar\": {\"outlinewidth\": 0, \"ticks\": \"\"}}, \"type\": \"scatter\"}], \"scatter3d\": [{\"line\": {\"colorbar\": {\"outlinewidth\": 0, \"ticks\": \"\"}}, \"marker\": {\"colorbar\": {\"outlinewidth\": 0, \"ticks\": \"\"}}, \"type\": \"scatter3d\"}], \"scattercarpet\": [{\"marker\": {\"colorbar\": {\"outlinewidth\": 0, \"ticks\": \"\"}}, \"type\": \"scattercarpet\"}], \"scattergeo\": [{\"marker\": {\"colorbar\": {\"outlinewidth\": 0, \"ticks\": \"\"}}, \"type\": \"scattergeo\"}], \"scattergl\": [{\"marker\": {\"colorbar\": {\"outlinewidth\": 0, \"ticks\": \"\"}}, \"type\": \"scattergl\"}], \"scattermapbox\": [{\"marker\": {\"colorbar\": {\"outlinewidth\": 0, \"ticks\": \"\"}}, \"type\": \"scattermapbox\"}], \"scatterpolar\": [{\"marker\": {\"colorbar\": {\"outlinewidth\": 0, \"ticks\": \"\"}}, \"type\": \"scatterpolar\"}], \"scatterpolargl\": [{\"marker\": {\"colorbar\": {\"outlinewidth\": 0, \"ticks\": \"\"}}, \"type\": \"scatterpolargl\"}], \"scatterternary\": [{\"marker\": {\"colorbar\": {\"outlinewidth\": 0, \"ticks\": \"\"}}, \"type\": \"scatterternary\"}], \"surface\": [{\"colorbar\": {\"outlinewidth\": 0, \"ticks\": \"\"}, \"colorscale\": [[0.0, \"#0d0887\"], [0.1111111111111111, \"#46039f\"], [0.2222222222222222, \"#7201a8\"], [0.3333333333333333, \"#9c179e\"], [0.4444444444444444, \"#bd3786\"], [0.5555555555555556, \"#d8576b\"], [0.6666666666666666, \"#ed7953\"], [0.7777777777777778, \"#fb9f3a\"], [0.8888888888888888, \"#fdca26\"], [1.0, \"#f0f921\"]], \"type\": \"surface\"}], \"table\": [{\"cells\": {\"fill\": {\"color\": \"#EBF0F8\"}, \"line\": {\"color\": \"white\"}}, \"header\": {\"fill\": {\"color\": \"#C8D4E3\"}, \"line\": {\"color\": \"white\"}}, \"type\": \"table\"}]}, \"layout\": {\"annotationdefaults\": {\"arrowcolor\": \"#2a3f5f\", \"arrowhead\": 0, \"arrowwidth\": 1}, \"coloraxis\": {\"colorbar\": {\"outlinewidth\": 0, \"ticks\": \"\"}}, \"colorscale\": {\"diverging\": [[0, \"#8e0152\"], [0.1, \"#c51b7d\"], [0.2, \"#de77ae\"], [0.3, \"#f1b6da\"], [0.4, \"#fde0ef\"], [0.5, \"#f7f7f7\"], [0.6, \"#e6f5d0\"], [0.7, \"#b8e186\"], [0.8, \"#7fbc41\"], [0.9, \"#4d9221\"], [1, \"#276419\"]], \"sequential\": [[0.0, \"#0d0887\"], [0.1111111111111111, \"#46039f\"], [0.2222222222222222, \"#7201a8\"], [0.3333333333333333, \"#9c179e\"], [0.4444444444444444, \"#bd3786\"], [0.5555555555555556, \"#d8576b\"], [0.6666666666666666, \"#ed7953\"], [0.7777777777777778, \"#fb9f3a\"], [0.8888888888888888, \"#fdca26\"], [1.0, \"#f0f921\"]], \"sequentialminus\": [[0.0, \"#0d0887\"], [0.1111111111111111, \"#46039f\"], [0.2222222222222222, \"#7201a8\"], [0.3333333333333333, \"#9c179e\"], [0.4444444444444444, \"#bd3786\"], [0.5555555555555556, \"#d8576b\"], [0.6666666666666666, \"#ed7953\"], [0.7777777777777778, \"#fb9f3a\"], [0.8888888888888888, \"#fdca26\"], [1.0, \"#f0f921\"]]}, \"colorway\": [\"#636efa\", \"#EF553B\", \"#00cc96\", \"#ab63fa\", \"#FFA15A\", \"#19d3f3\", \"#FF6692\", \"#B6E880\", \"#FF97FF\", \"#FECB52\"], \"font\": {\"color\": \"#2a3f5f\"}, \"geo\": {\"bgcolor\": \"white\", \"lakecolor\": \"white\", \"landcolor\": \"#E5ECF6\", \"showlakes\": true, \"showland\": true, \"subunitcolor\": \"white\"}, \"hoverlabel\": {\"align\": \"left\"}, \"hovermode\": \"closest\", \"mapbox\": {\"style\": \"light\"}, \"paper_bgcolor\": \"white\", \"plot_bgcolor\": \"#E5ECF6\", \"polar\": {\"angularaxis\": {\"gridcolor\": \"white\", \"linecolor\": \"white\", \"ticks\": \"\"}, \"bgcolor\": \"#E5ECF6\", \"radialaxis\": {\"gridcolor\": \"white\", \"linecolor\": \"white\", \"ticks\": \"\"}}, \"scene\": {\"xaxis\": {\"backgroundcolor\": \"#E5ECF6\", \"gridcolor\": \"white\", \"gridwidth\": 2, \"linecolor\": \"white\", \"showbackground\": true, \"ticks\": \"\", \"zerolinecolor\": \"white\"}, \"yaxis\": {\"backgroundcolor\": \"#E5ECF6\", \"gridcolor\": \"white\", \"gridwidth\": 2, \"linecolor\": \"white\", \"showbackground\": true, \"ticks\": \"\", \"zerolinecolor\": \"white\"}, \"zaxis\": {\"backgroundcolor\": \"#E5ECF6\", \"gridcolor\": \"white\", \"gridwidth\": 2, \"linecolor\": \"white\", \"showbackground\": true, \"ticks\": \"\", \"zerolinecolor\": \"white\"}}, \"shapedefaults\": {\"line\": {\"color\": \"#2a3f5f\"}}, \"ternary\": {\"aaxis\": {\"gridcolor\": \"white\", \"linecolor\": \"white\", \"ticks\": \"\"}, \"baxis\": {\"gridcolor\": \"white\", \"linecolor\": \"white\", \"ticks\": \"\"}, \"bgcolor\": \"#E5ECF6\", \"caxis\": {\"gridcolor\": \"white\", \"linecolor\": \"white\", \"ticks\": \"\"}}, \"title\": {\"x\": 0.05}, \"xaxis\": {\"automargin\": true, \"gridcolor\": \"white\", \"linecolor\": \"white\", \"ticks\": \"\", \"title\": {\"standoff\": 15}, \"zerolinecolor\": \"white\", \"zerolinewidth\": 2}, \"yaxis\": {\"automargin\": true, \"gridcolor\": \"white\", \"linecolor\": \"white\", \"ticks\": \"\", \"title\": {\"standoff\": 15}, \"zerolinecolor\": \"white\", \"zerolinewidth\": 2}}}, \"title\": {\"text\": \"Top 25 Company\", \"x\": 0.5}, \"xaxis\": {\"title\": {\"text\": \"Company \"}}, \"yaxis\": {\"title\": {\"text\": \"Number Of Vehicles \"}}},\n",
       "                        {\"responsive\": true}\n",
       "                    ).then(function(){\n",
       "                            \n",
       "var gd = document.getElementById('d07e0d75-ec9e-4c4b-80ed-849771c53c94');\n",
       "var x = new MutationObserver(function (mutations, observer) {{\n",
       "        var display = window.getComputedStyle(gd).display;\n",
       "        if (!display || display === 'none') {{\n",
       "            console.log([gd, 'removed!']);\n",
       "            Plotly.purge(gd);\n",
       "            observer.disconnect();\n",
       "        }}\n",
       "}});\n",
       "\n",
       "// Listen for the removal of the full notebook cells\n",
       "var notebookContainer = gd.closest('#notebook-container');\n",
       "if (notebookContainer) {{\n",
       "    x.observe(notebookContainer, {childList: true});\n",
       "}}\n",
       "\n",
       "// Listen for the clearing of the current output cell\n",
       "var outputEl = gd.closest('.output');\n",
       "if (outputEl) {{\n",
       "    x.observe(outputEl, {childList: true});\n",
       "}}\n",
       "\n",
       "                        })\n",
       "                };\n",
       "                });\n",
       "            </script>\n",
       "        </div>"
      ]
     },
     "metadata": {},
     "output_type": "display_data"
    }
   ],
   "source": [
    "df_Make=df['vehiculo_marca'].value_counts().reset_index().rename(columns={'index':'vehiculo_marca','vehiculo_marca':'Count'})[0:25]\n",
    "df_Make\n",
    "fig = go.Figure(go.Bar(x=df_Make['vehiculo_marca'],y=df_Make['Count'],\n",
    "        marker={'color': df_Make['Count'], 'colorscale': 'Viridis'}, \n",
    "        text=df_Make['Count'],\n",
    "        textposition = \"outside\",\n",
    "))\n",
    "fig.update_layout(title_text='Top 25 Company',xaxis_title=\"Company \",yaxis_title=\"Number Of Vehicles \",title_x=0.5)\n",
    "fig.show()"
   ]
  },
  {
   "cell_type": "code",
   "execution_count": 298,
   "id": "awful-picture",
   "metadata": {},
   "outputs": [
    {
     "data": {
      "text/plain": [
       "SEDÁN 4 PUERTAS                                            39\n",
       "SEDÁN 5 PUERTAS                                            38\n",
       "SUV                                                        31\n",
       "RURAL                                                      29\n",
       "BERLINA                                                    21\n",
       "                                                           ..\n",
       "SEDÁN 5 PUERTAS / COUPÉ                                     1\n",
       "PICK UP: CAJA BAJA JAULA CAJA PAQUETERA FURGÓN              1\n",
       "BERLINA 3 PUERTAS CABRIOLET                                 1\n",
       "SEDÁN 4 PUERTAS - COUPÉ 2 PUERTAS                           1\n",
       "MONOVOLÚMEN 4 PUERTAS Y PORTÓN TRASERO (5 / 7 ASIENTOS)     1\n",
       "Name: vehiculo_tipo, Length: 97, dtype: int64"
      ]
     },
     "execution_count": 298,
     "metadata": {},
     "output_type": "execute_result"
    }
   ],
   "source": [
    "df['vehiculo_tipo'].value_counts()"
   ]
  },
  {
   "cell_type": "code",
   "execution_count": 299,
   "id": "supported-robinson",
   "metadata": {},
   "outputs": [],
   "source": [
    "tipo_df = pd.read_csv('Data/tipo_vehiculos.csv')"
   ]
  },
  {
   "cell_type": "code",
   "execution_count": 300,
   "id": "extreme-royalty",
   "metadata": {},
   "outputs": [],
   "source": [
    "tipo_df_dic = tipo_df.set_index('ID').T.to_dict('list')"
   ]
  },
  {
   "cell_type": "code",
   "execution_count": 301,
   "id": "passing-endorsement",
   "metadata": {},
   "outputs": [],
   "source": [
    "df.vehiculo_tipo = df.vehiculo_tipo.replace(tipo_df_dic)\n"
   ]
  },
  {
   "cell_type": "code",
   "execution_count": 302,
   "id": "clean-potential",
   "metadata": {},
   "outputs": [
    {
     "data": {
      "text/plain": [
       "4 Puertas    103\n",
       "5 Puertas     86\n",
       "Rural         54\n",
       "Coupe         51\n",
       "SUV           47\n",
       "PICK UP       46\n",
       "Furgon         6\n",
       "Camion         6\n",
       "BUS            4\n",
       "4x4            3\n",
       "Name: vehiculo_tipo, dtype: int64"
      ]
     },
     "execution_count": 302,
     "metadata": {},
     "output_type": "execute_result"
    }
   ],
   "source": [
    "df['vehiculo_tipo'].value_counts()"
   ]
  },
  {
   "cell_type": "code",
   "execution_count": 303,
   "id": "electoral-deployment",
   "metadata": {},
   "outputs": [
    {
     "data": {
      "text/plain": [
       "(array([  0.,  20.,  40.,  60.,  80., 100., 120.]),\n",
       " [Text(0, 0, ''),\n",
       "  Text(0, 0, ''),\n",
       "  Text(0, 0, ''),\n",
       "  Text(0, 0, ''),\n",
       "  Text(0, 0, ''),\n",
       "  Text(0, 0, ''),\n",
       "  Text(0, 0, '')])"
      ]
     },
     "execution_count": 303,
     "metadata": {},
     "output_type": "execute_result"
    },
    {
     "data": {
      "image/png": "[encoded data removed]",
      "text/plain": [
       "<Figure size 720x576 with 1 Axes>"
      ]
     },
     "metadata": {
      "needs_background": "light"
     },
     "output_type": "display_data"
    }
   ],
   "source": [
    "mkI = df['vehiculo_tipo'].value_counts().index\n",
    "mkV = df['vehiculo_tipo'].value_counts().values\n",
    "plt.figure(figsize = (10,8))\n",
    "sns.barplot(mkV,mkI, orient = 'h', palette='Spectral')\n",
    "plt.xticks(rotation='vertical')"
   ]
  },
  {
   "cell_type": "code",
   "execution_count": 304,
   "id": "secondary-mainland",
   "metadata": {},
   "outputs": [
    {
     "data": {
      "text/plain": [
       "<AxesSubplot:xlabel='emision_CO2', ylabel='vehiculo_tipo'>"
      ]
     },
     "execution_count": 304,
     "metadata": {},
     "output_type": "execute_result"
    },
    {
     "data": {
      "image/png": "[encoded data removed]",
      "text/plain": [
       "<Figure size 1152x720 with 1 Axes>"
      ]
     },
     "metadata": {
      "needs_background": "light"
     },
     "output_type": "display_data"
    }
   ],
   "source": [
    "norm = plt.Normalize(df[\"emision_CO2\"].values.min(), df[\"emision_CO2\"].values.max())\n",
    "plt.figure(figsize=(16,10))\n",
    "plt.ylabel('Emision CO2', fontsize=12)\n",
    "plt.xlabel('Vehiculo Tipo', fontsize=12)\n",
    "result = df.groupby([\"vehiculo_tipo\"])['emision_CO2'].aggregate(np.median).reset_index().sort_values('emision_CO2')\n",
    "sns.barplot(x='emision_CO2', y=\"vehiculo_tipo\", data=df, order=result['vehiculo_tipo'])"
   ]
  },
  {
   "cell_type": "code",
   "execution_count": 305,
   "id": "damaged-receiver",
   "metadata": {},
   "outputs": [
    {
     "data": {
      "text/plain": [
       "4x2          286\n",
       "4x4           95\n",
       "4x2 - 4x4     25\n",
       "Name: vehiculo_traccion, dtype: int64"
      ]
     },
     "execution_count": 305,
     "metadata": {},
     "output_type": "execute_result"
    }
   ],
   "source": [
    "df['vehiculo_traccion'].value_counts()"
   ]
  },
  {
   "cell_type": "code",
   "execution_count": 306,
   "id": "partial-southwest",
   "metadata": {},
   "outputs": [
    {
     "data": {
      "text/plain": [
       "AUTOMATICA                                     223\n",
       "MANUAL                                         147\n",
       "CVT                                             33\n",
       "MANUAL AUTOMATIZADA                              1\n",
       "CTT                                              1\n",
       "E-CVT (Hibrida controlada electrónicamente)      1\n",
       "Name: vehiculo_tipo_transmision, dtype: int64"
      ]
     },
     "execution_count": 306,
     "metadata": {},
     "output_type": "execute_result"
    }
   ],
   "source": [
    "df['vehiculo_tipo_transmision'].value_counts()"
   ]
  },
  {
   "cell_type": "code",
   "execution_count": 307,
   "id": "national-bowling",
   "metadata": {},
   "outputs": [
    {
     "data": {
      "text/plain": [
       "NAFTA                   316\n",
       "GAS OIL                  61\n",
       "NAFTA / ELECTRICIDAD     25\n",
       "DIESEL                    4\n",
       "Name: vehiculo_tipo_combustible, dtype: int64"
      ]
     },
     "execution_count": 307,
     "metadata": {},
     "output_type": "execute_result"
    }
   ],
   "source": [
    "df['vehiculo_tipo_combustible'].value_counts()"
   ]
  },
  {
   "cell_type": "code",
   "execution_count": 308,
   "id": "positive-wallpaper",
   "metadata": {},
   "outputs": [
    {
     "data": {
      "text/plain": [
       "EURO V        264\n",
       "EURO VI b      49\n",
       "EURO VI c      39\n",
       "EURO VI        24\n",
       "EURO  V        18\n",
       "EURO VI a       5\n",
       "EURO VI d       5\n",
       "EURO  VI b      1\n",
       "EURUO V         1\n",
       "Name: vehiculo_standard_emision, dtype: int64"
      ]
     },
     "execution_count": 308,
     "metadata": {},
     "output_type": "execute_result"
    }
   ],
   "source": [
    "df['vehiculo_standard_emision'].value_counts()"
   ]
  },
  {
   "cell_type": "code",
   "execution_count": 309,
   "id": "resistant-ordering",
   "metadata": {},
   "outputs": [
    {
     "data": {
      "text/plain": [
       "Index(['vehiculo_marca', 'vehiculo_modelo', 'vehiculo_tipo',\n",
       "       'vehiculo_traccion', 'vehiculo_cilindrada', 'vehiculo_tipo_transmision',\n",
       "       'vehiculo_tipo_combustible', 'vehiculo_standard_emision', 'emision_CO2',\n",
       "       'consumo_urbano', 'consumo_extraurbano', 'consumo_mixto'],\n",
       "      dtype='object')"
      ]
     },
     "execution_count": 309,
     "metadata": {},
     "output_type": "execute_result"
    }
   ],
   "source": [
    "df.columns\n"
   ]
  },
  {
   "cell_type": "code",
   "execution_count": 310,
   "id": "filled-annex",
   "metadata": {},
   "outputs": [
    {
     "data": {
      "text/html": [
       "<div>\n",
       "<style scoped>\n",
       "    .dataframe tbody tr th:only-of-type {\n",
       "        vertical-align: middle;\n",
       "    }\n",
       "\n",
       "    .dataframe tbody tr th {\n",
       "        vertical-align: top;\n",
       "    }\n",
       "\n",
       "    .dataframe thead th {\n",
       "        text-align: right;\n",
       "    }\n",
       "</style>\n",
       "<table border=\"1\" class=\"dataframe\">\n",
       "  <thead>\n",
       "    <tr style=\"text-align: right;\">\n",
       "      <th></th>\n",
       "      <th>count</th>\n",
       "      <th>mean</th>\n",
       "      <th>std</th>\n",
       "      <th>min</th>\n",
       "      <th>25%</th>\n",
       "      <th>50%</th>\n",
       "      <th>75%</th>\n",
       "      <th>max</th>\n",
       "    </tr>\n",
       "  </thead>\n",
       "  <tbody>\n",
       "    <tr>\n",
       "      <th>vehiculo_cilindrada</th>\n",
       "      <td>406.0</td>\n",
       "      <td>2084.467980</td>\n",
       "      <td>796.148300</td>\n",
       "      <td>997.00</td>\n",
       "      <td>1587.0000</td>\n",
       "      <td>1984.0</td>\n",
       "      <td>2298.0000</td>\n",
       "      <td>6496.00</td>\n",
       "    </tr>\n",
       "    <tr>\n",
       "      <th>emision_CO2</th>\n",
       "      <td>406.0</td>\n",
       "      <td>180.538473</td>\n",
       "      <td>42.006972</td>\n",
       "      <td>88.00</td>\n",
       "      <td>150.2950</td>\n",
       "      <td>175.7</td>\n",
       "      <td>204.0000</td>\n",
       "      <td>360.00</td>\n",
       "    </tr>\n",
       "    <tr>\n",
       "      <th>consumo_urbano</th>\n",
       "      <td>406.0</td>\n",
       "      <td>10.045764</td>\n",
       "      <td>4.911663</td>\n",
       "      <td>2.39</td>\n",
       "      <td>8.0575</td>\n",
       "      <td>9.4</td>\n",
       "      <td>11.1225</td>\n",
       "      <td>92.00</td>\n",
       "    </tr>\n",
       "    <tr>\n",
       "      <th>consumo_extraurbano</th>\n",
       "      <td>406.0</td>\n",
       "      <td>6.379975</td>\n",
       "      <td>1.378159</td>\n",
       "      <td>3.50</td>\n",
       "      <td>5.4625</td>\n",
       "      <td>6.1</td>\n",
       "      <td>7.0075</td>\n",
       "      <td>12.95</td>\n",
       "    </tr>\n",
       "    <tr>\n",
       "      <th>consumo_mixto</th>\n",
       "      <td>406.0</td>\n",
       "      <td>9.277389</td>\n",
       "      <td>33.017760</td>\n",
       "      <td>3.80</td>\n",
       "      <td>6.4775</td>\n",
       "      <td>7.4</td>\n",
       "      <td>8.4150</td>\n",
       "      <td>672.00</td>\n",
       "    </tr>\n",
       "  </tbody>\n",
       "</table>\n",
       "</div>"
      ],
      "text/plain": [
       "                     count         mean         std     min        25%  \\\n",
       "vehiculo_cilindrada  406.0  2084.467980  796.148300  997.00  1587.0000   \n",
       "emision_CO2          406.0   180.538473   42.006972   88.00   150.2950   \n",
       "consumo_urbano       406.0    10.045764    4.911663    2.39     8.0575   \n",
       "consumo_extraurbano  406.0     6.379975    1.378159    3.50     5.4625   \n",
       "consumo_mixto        406.0     9.277389   33.017760    3.80     6.4775   \n",
       "\n",
       "                        50%        75%      max  \n",
       "vehiculo_cilindrada  1984.0  2298.0000  6496.00  \n",
       "emision_CO2           175.7   204.0000   360.00  \n",
       "consumo_urbano          9.4    11.1225    92.00  \n",
       "consumo_extraurbano     6.1     7.0075    12.95  \n",
       "consumo_mixto           7.4     8.4150   672.00  "
      ]
     },
     "execution_count": 310,
     "metadata": {},
     "output_type": "execute_result"
    }
   ],
   "source": [
    "df.describe().T"
   ]
  },
  {
   "cell_type": "code",
   "execution_count": 311,
   "id": "fundamental-atlanta",
   "metadata": {},
   "outputs": [
    {
     "data": {
      "image/png": "[encoded data removed]",
      "text/plain": [
       "<Figure size 432x288 with 2 Axes>"
      ]
     },
     "metadata": {
      "needs_background": "light"
     },
     "output_type": "display_data"
    }
   ],
   "source": [
    "sns.heatmap(df.corr(), vmin=-1, vmax=1, center=0, cmap=\"YlGnBu\");"
   ]
  },
  {
   "cell_type": "code",
   "execution_count": 312,
   "id": "terminal-listing",
   "metadata": {},
   "outputs": [
    {
     "data": {
      "image/png": "[encoded data removed]",
      "text/plain": [
       "<Figure size 576x432 with 2 Axes>"
      ]
     },
     "metadata": {
      "needs_background": "light"
     },
     "output_type": "display_data"
    }
   ],
   "source": [
    "plt.rcParams['figure.figsize']=(8,6)\n",
    "sns.heatmap(df.corr(),cmap='coolwarm',linewidths=.5,fmt=\".2f\",annot = True);"
   ]
  },
  {
   "cell_type": "code",
   "execution_count": 313,
   "id": "medical-bruce",
   "metadata": {},
   "outputs": [
    {
     "data": {
      "text/plain": [
       "(array([0, 1, 2, 3, 4, 5, 6, 7, 8, 9]),\n",
       " [Text(0, 0, 'SUV'),\n",
       "  Text(1, 0, '4 Puertas'),\n",
       "  Text(2, 0, '5 Puertas'),\n",
       "  Text(3, 0, 'Coupe'),\n",
       "  Text(4, 0, 'Camion'),\n",
       "  Text(5, 0, 'PICK UP'),\n",
       "  Text(6, 0, 'Furgon'),\n",
       "  Text(7, 0, '4x4'),\n",
       "  Text(8, 0, 'Rural'),\n",
       "  Text(9, 0, 'BUS')])"
      ]
     },
     "execution_count": 313,
     "metadata": {},
     "output_type": "execute_result"
    },
    {
     "data": {
      "image/png": "[encoded data removed]",
      "text/plain": [
       "<Figure size 720x576 with 1 Axes>"
      ]
     },
     "metadata": {
      "needs_background": "light"
     },
     "output_type": "display_data"
    }
   ],
   "source": [
    "#El boxplot muestra que los camiones y 4x4 emiten mas CO2 comparado a otros tipos de vehiculoss\n",
    "\n",
    "plt.figure(figsize = (10,8))\n",
    "sns.boxplot(x=\"vehiculo_tipo\", y=\"emision_CO2\", data=df)\n",
    "plt.xticks(rotation = 'vertical')\n"
   ]
  },
  {
   "cell_type": "code",
   "execution_count": 314,
   "id": "computational-occurrence",
   "metadata": {},
   "outputs": [
    {
     "data": {
      "image/png": "[encoded data removed]",
      "text/plain": [
       "<Figure size 720x576 with 1 Axes>"
      ]
     },
     "metadata": {
      "needs_background": "light"
     },
     "output_type": "display_data"
    }
   ],
   "source": [
    "#El boxplot muestra que los vehiculos que usan GAS OIL emiten mas CO2\n",
    "plt.figure(figsize = (10,8))\n",
    "sns.boxplot(x = 'vehiculo_tipo_combustible' , y = 'emision_CO2', data = df)\n",
    "plt.show()"
   ]
  },
  {
   "cell_type": "code",
   "execution_count": 315,
   "id": "usual-allowance",
   "metadata": {},
   "outputs": [
    {
     "data": {
      "text/html": [
       "<div>\n",
       "<style scoped>\n",
       "    .dataframe tbody tr th:only-of-type {\n",
       "        vertical-align: middle;\n",
       "    }\n",
       "\n",
       "    .dataframe tbody tr th {\n",
       "        vertical-align: top;\n",
       "    }\n",
       "\n",
       "    .dataframe thead th {\n",
       "        text-align: right;\n",
       "    }\n",
       "</style>\n",
       "<table border=\"1\" class=\"dataframe\">\n",
       "  <thead>\n",
       "    <tr style=\"text-align: right;\">\n",
       "      <th></th>\n",
       "      <th>vehiculo_marca</th>\n",
       "      <th>vehiculo_modelo</th>\n",
       "      <th>vehiculo_tipo</th>\n",
       "      <th>vehiculo_traccion</th>\n",
       "      <th>vehiculo_cilindrada</th>\n",
       "      <th>vehiculo_tipo_transmision</th>\n",
       "      <th>vehiculo_tipo_combustible</th>\n",
       "      <th>vehiculo_standard_emision</th>\n",
       "      <th>emision_CO2</th>\n",
       "      <th>consumo_urbano</th>\n",
       "      <th>consumo_extraurbano</th>\n",
       "      <th>consumo_mixto</th>\n",
       "    </tr>\n",
       "  </thead>\n",
       "  <tbody>\n",
       "    <tr>\n",
       "      <th>0</th>\n",
       "      <td>TOYOTA</td>\n",
       "      <td>LAND CRUISER 200</td>\n",
       "      <td>SUV</td>\n",
       "      <td>4x4</td>\n",
       "      <td>4461.0</td>\n",
       "      <td>AUTOMATICA</td>\n",
       "      <td>GAS OIL</td>\n",
       "      <td>EURO V</td>\n",
       "      <td>260.70</td>\n",
       "      <td>11.56</td>\n",
       "      <td>8.94</td>\n",
       "      <td>9.90</td>\n",
       "    </tr>\n",
       "    <tr>\n",
       "      <th>1</th>\n",
       "      <td>RENAULT</td>\n",
       "      <td>FLUENCE 2.0 16V</td>\n",
       "      <td>4 Puertas</td>\n",
       "      <td>4x2</td>\n",
       "      <td>1997.0</td>\n",
       "      <td>CVT</td>\n",
       "      <td>NAFTA</td>\n",
       "      <td>EURO V</td>\n",
       "      <td>175.40</td>\n",
       "      <td>10.50</td>\n",
       "      <td>6.10</td>\n",
       "      <td>7.70</td>\n",
       "    </tr>\n",
       "    <tr>\n",
       "      <th>2</th>\n",
       "      <td>RENAULT</td>\n",
       "      <td>DUSTER 2.0 16v</td>\n",
       "      <td>5 Puertas</td>\n",
       "      <td>4x2</td>\n",
       "      <td>1998.0</td>\n",
       "      <td>MANUAL</td>\n",
       "      <td>NAFTA</td>\n",
       "      <td>EURO V</td>\n",
       "      <td>198.86</td>\n",
       "      <td>11.13</td>\n",
       "      <td>6.98</td>\n",
       "      <td>8.52</td>\n",
       "    </tr>\n",
       "    <tr>\n",
       "      <th>3</th>\n",
       "      <td>RENAULT</td>\n",
       "      <td>DUSTER 2.0 16v 4X4</td>\n",
       "      <td>5 Puertas</td>\n",
       "      <td>4x4</td>\n",
       "      <td>1998.0</td>\n",
       "      <td>MANUAL</td>\n",
       "      <td>NAFTA</td>\n",
       "      <td>EURO V</td>\n",
       "      <td>199.74</td>\n",
       "      <td>11.20</td>\n",
       "      <td>7.01</td>\n",
       "      <td>8.55</td>\n",
       "    </tr>\n",
       "    <tr>\n",
       "      <th>4</th>\n",
       "      <td>CITROËN</td>\n",
       "      <td>DS4</td>\n",
       "      <td>Coupe</td>\n",
       "      <td>4x2</td>\n",
       "      <td>1598.0</td>\n",
       "      <td>AUTOMATICA</td>\n",
       "      <td>NAFTA</td>\n",
       "      <td>EURO V</td>\n",
       "      <td>177.60</td>\n",
       "      <td>10.60</td>\n",
       "      <td>6.00</td>\n",
       "      <td>7.70</td>\n",
       "    </tr>\n",
       "  </tbody>\n",
       "</table>\n",
       "</div>"
      ],
      "text/plain": [
       "  vehiculo_marca     vehiculo_modelo vehiculo_tipo vehiculo_traccion  \\\n",
       "0         TOYOTA    LAND CRUISER 200           SUV               4x4   \n",
       "1        RENAULT     FLUENCE 2.0 16V     4 Puertas               4x2   \n",
       "2        RENAULT      DUSTER 2.0 16v     5 Puertas               4x2   \n",
       "3        RENAULT  DUSTER 2.0 16v 4X4     5 Puertas               4x4   \n",
       "4        CITROËN                 DS4         Coupe               4x2   \n",
       "\n",
       "   vehiculo_cilindrada vehiculo_tipo_transmision vehiculo_tipo_combustible  \\\n",
       "0               4461.0                AUTOMATICA                   GAS OIL   \n",
       "1               1997.0                       CVT                     NAFTA   \n",
       "2               1998.0                    MANUAL                     NAFTA   \n",
       "3               1998.0                    MANUAL                     NAFTA   \n",
       "4               1598.0                AUTOMATICA                     NAFTA   \n",
       "\n",
       "  vehiculo_standard_emision  emision_CO2  consumo_urbano  consumo_extraurbano  \\\n",
       "0                    EURO V       260.70           11.56                 8.94   \n",
       "1                    EURO V       175.40           10.50                 6.10   \n",
       "2                    EURO V       198.86           11.13                 6.98   \n",
       "3                    EURO V       199.74           11.20                 7.01   \n",
       "4                    EURO V       177.60           10.60                 6.00   \n",
       "\n",
       "   consumo_mixto  \n",
       "0           9.90  \n",
       "1           7.70  \n",
       "2           8.52  \n",
       "3           8.55  \n",
       "4           7.70  "
      ]
     },
     "execution_count": 315,
     "metadata": {},
     "output_type": "execute_result"
    }
   ],
   "source": [
    "df.head()"
   ]
  },
  {
   "cell_type": "code",
   "execution_count": 316,
   "id": "elegant-drinking",
   "metadata": {},
   "outputs": [],
   "source": [
    "df.to_csv(path_or_buf='Data/co2_emissions_clean.csv', sep=',',\n",
    "                   header=True, encoding='utf8', index=False)"
   ]
  },
  {
   "cell_type": "code",
   "execution_count": null,
   "id": "hazardous-product",
   "metadata": {},
   "outputs": [],
   "source": []
  }
 ],
 "metadata": {
  "kernelspec": {
   "display_name": "Python 3",
   "language": "python",
   "name": "python3"
  },
  "language_info": {
   "codemirror_mode": {
    "name": "ipython",
    "version": 3
   },
   "file_extension": ".py",
   "mimetype": "text/x-python",
   "name": "python",
   "nbconvert_exporter": "python",
   "pygments_lexer": "ipython3",
   "version": "3.7.7"
  }
 },
 "nbformat": 4,
 "nbformat_minor": 5
}
