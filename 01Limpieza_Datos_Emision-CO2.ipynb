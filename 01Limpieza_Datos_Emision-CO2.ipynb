{
 "cells": [
  {
   "cell_type": "markdown",
   "id": "sublime-olympus",
   "metadata": {},
   "source": [
    "<h2>Desafio 4 - Trabajo Final</h2>\n",
    "\n",
    "<h3>Grupo 7</h3>\n",
    "<ul>\n",
    "    <li>Ignacio Mendieta</li>\n",
    "    <li>Laura Jazmín Chao</li>\n",
    "    <li>Juan Nicolás Capistrano</li>\n",
    "    <li>Betiana Srur</li>\n",
    "    <li>Marecelo Carrizo</li>\n",
    "    \n",
    "</ul>\n",
    "<h3>Limpieza y exploración de datos\n",
    "\n"
   ]
  },
  {
   "cell_type": "markdown",
   "id": "neutral-cabin",
   "metadata": {},
   "source": [
    "<a id=\"section_toc\"></a> \n",
    "<h2> Tabla de Contenidos </h2>\n",
    "\n",
    "[Librerías](#section_import)\n",
    "\n",
    "[Dataset](#section_dataset)\n",
    "\n",
    "[Exploración](#section_exploration)\n",
    "\n",
    "\n"
   ]
  },
  {
   "cell_type": "markdown",
   "id": "possible-fisher",
   "metadata": {},
   "source": [
    "<a id=\"section_import\"></a> \n",
    "<h3>Librerías</h3>\n",
    "\n",
    "[volver a TOC](#section_toc)"
   ]
  },
  {
   "cell_type": "code",
   "execution_count": 8,
   "id": "arbitrary-fellow",
   "metadata": {},
   "outputs": [],
   "source": [
    "import pandas as pd\n",
    "import numpy as np\n",
    "from datetime import datetime\n",
    "\n",
    "import matplotlib.pyplot as plt\n",
    "import matplotlib as mpl\n",
    "import seaborn as sns\n",
    "%matplotlib inline\n",
    "\n",
    "# Plotly Libraries\n",
    "import plotly.express as px\n",
    "import plotly.graph_objects as go\n",
    "from plotly.subplots import make_subplots\n",
    "\n"
   ]
  },
  {
   "cell_type": "markdown",
   "id": "imperial-federal",
   "metadata": {},
   "source": [
    "<a id=\"section_dataset\"></a> \n",
    "<h3>Dataset</h3>\n",
    "\n",
    "[volver a TOC](#section_toc)"
   ]
  },
  {
   "cell_type": "code",
   "execution_count": 9,
   "id": "introductory-activity",
   "metadata": {},
   "outputs": [],
   "source": [
    "df = pd.read_csv('Data/emision-co2-autos_limpio.csv')"
   ]
  },
  {
   "cell_type": "code",
   "execution_count": 10,
   "id": "cross-narrative",
   "metadata": {},
   "outputs": [
    {
     "data": {
      "text/html": [
       "<div>\n",
       "<style scoped>\n",
       "    .dataframe tbody tr th:only-of-type {\n",
       "        vertical-align: middle;\n",
       "    }\n",
       "\n",
       "    .dataframe tbody tr th {\n",
       "        vertical-align: top;\n",
       "    }\n",
       "\n",
       "    .dataframe thead th {\n",
       "        text-align: right;\n",
       "    }\n",
       "</style>\n",
       "<table border=\"1\" class=\"dataframe\">\n",
       "  <thead>\n",
       "    <tr style=\"text-align: right;\">\n",
       "      <th></th>\n",
       "      <th>vehiculo_marca</th>\n",
       "      <th>vehiculo_modelo</th>\n",
       "      <th>vehiculo_tipo</th>\n",
       "      <th>vehiculo_traccion</th>\n",
       "      <th>vehiculo_id_motor</th>\n",
       "      <th>vehiculo_cilindrada</th>\n",
       "      <th>vehiculo_potencia</th>\n",
       "      <th>vehiculo_tipo_transmision</th>\n",
       "      <th>vehiculo_tipo_combustible</th>\n",
       "      <th>vehiculo_standard_emision</th>\n",
       "      <th>lca_numero</th>\n",
       "      <th>fecha_firma</th>\n",
       "      <th>ensayo_gei_numero</th>\n",
       "      <th>ensayo_gei_laboratorio</th>\n",
       "      <th>emision_CO2</th>\n",
       "      <th>consumo_urbano</th>\n",
       "      <th>consumo_extraurbano</th>\n",
       "      <th>consumo_mixto</th>\n",
       "      <th>id_etiqueta</th>\n",
       "    </tr>\n",
       "  </thead>\n",
       "  <tbody>\n",
       "    <tr>\n",
       "      <th>0</th>\n",
       "      <td>TOYOTA</td>\n",
       "      <td>LAND CRUISER 200</td>\n",
       "      <td>SUV</td>\n",
       "      <td>4x4</td>\n",
       "      <td>TOYOTA 1VD-FTV</td>\n",
       "      <td>4461.0</td>\n",
       "      <td>NaN</td>\n",
       "      <td>AUTOMATICA</td>\n",
       "      <td>GAS OIL</td>\n",
       "      <td>EURO V</td>\n",
       "      <td>NaN</td>\n",
       "      <td>04/10/2017</td>\n",
       "      <td>H1860666086/241</td>\n",
       "      <td>VINÇOTTE nv</td>\n",
       "      <td>260.70</td>\n",
       "      <td>11.56</td>\n",
       "      <td>8.94</td>\n",
       "      <td>9.90</td>\n",
       "      <td>000001A</td>\n",
       "    </tr>\n",
       "    <tr>\n",
       "      <th>1</th>\n",
       "      <td>RENAULT</td>\n",
       "      <td>FLUENCE 2.0 16V</td>\n",
       "      <td>SEDÁN 4 PUERTAS</td>\n",
       "      <td>4x2</td>\n",
       "      <td>RENAULT M4RK7</td>\n",
       "      <td>1997.0</td>\n",
       "      <td>NaN</td>\n",
       "      <td>CVT</td>\n",
       "      <td>NAFTA</td>\n",
       "      <td>EURO V</td>\n",
       "      <td>NaN</td>\n",
       "      <td>22/06/2016</td>\n",
       "      <td>09/09790</td>\n",
       "      <td>UTAC</td>\n",
       "      <td>175.40</td>\n",
       "      <td>10.50</td>\n",
       "      <td>6.10</td>\n",
       "      <td>7.70</td>\n",
       "      <td>000178A</td>\n",
       "    </tr>\n",
       "    <tr>\n",
       "      <th>2</th>\n",
       "      <td>RENAULT</td>\n",
       "      <td>DUSTER 2.0 16v</td>\n",
       "      <td>SEDÁN 5 PUERTAS</td>\n",
       "      <td>4x2</td>\n",
       "      <td>RENAULT F4R E4</td>\n",
       "      <td>1998.0</td>\n",
       "      <td>105</td>\n",
       "      <td>MANUAL</td>\n",
       "      <td>NAFTA</td>\n",
       "      <td>EURO V</td>\n",
       "      <td>NaN</td>\n",
       "      <td>NaN</td>\n",
       "      <td>R1-0210/17</td>\n",
       "      <td>DELPHI</td>\n",
       "      <td>198.86</td>\n",
       "      <td>11.13</td>\n",
       "      <td>6.98</td>\n",
       "      <td>8.52</td>\n",
       "      <td>000650C</td>\n",
       "    </tr>\n",
       "    <tr>\n",
       "      <th>3</th>\n",
       "      <td>RENAULT</td>\n",
       "      <td>DUSTER 2.0 16v 4X4</td>\n",
       "      <td>SEDÁN 5 PUERTAS</td>\n",
       "      <td>4x4</td>\n",
       "      <td>RENAULT F4R E4</td>\n",
       "      <td>1998.0</td>\n",
       "      <td>105</td>\n",
       "      <td>MANUAL</td>\n",
       "      <td>NAFTA</td>\n",
       "      <td>EURO V</td>\n",
       "      <td>NaN</td>\n",
       "      <td>NaN</td>\n",
       "      <td>R1-0209/17</td>\n",
       "      <td>DELPHI</td>\n",
       "      <td>199.74</td>\n",
       "      <td>11.20</td>\n",
       "      <td>7.01</td>\n",
       "      <td>8.55</td>\n",
       "      <td>000659C</td>\n",
       "    </tr>\n",
       "    <tr>\n",
       "      <th>4</th>\n",
       "      <td>CITROËN</td>\n",
       "      <td>DS4</td>\n",
       "      <td>COUPÉ 3 + 2 PUERTAS</td>\n",
       "      <td>4x2</td>\n",
       "      <td>CITROËN EP6CDTM (5FM)</td>\n",
       "      <td>1598.0</td>\n",
       "      <td>NaN</td>\n",
       "      <td>AUTOMATICA</td>\n",
       "      <td>NAFTA</td>\n",
       "      <td>EURO V</td>\n",
       "      <td>NaN</td>\n",
       "      <td>11/10/2011</td>\n",
       "      <td>11/04511</td>\n",
       "      <td>UTAC</td>\n",
       "      <td>177.60</td>\n",
       "      <td>10.60</td>\n",
       "      <td>6.00</td>\n",
       "      <td>7.70</td>\n",
       "      <td>000106A</td>\n",
       "    </tr>\n",
       "  </tbody>\n",
       "</table>\n",
       "</div>"
      ],
      "text/plain": [
       "  vehiculo_marca     vehiculo_modelo        vehiculo_tipo vehiculo_traccion  \\\n",
       "0         TOYOTA    LAND CRUISER 200                  SUV               4x4   \n",
       "1        RENAULT     FLUENCE 2.0 16V      SEDÁN 4 PUERTAS               4x2   \n",
       "2        RENAULT      DUSTER 2.0 16v      SEDÁN 5 PUERTAS               4x2   \n",
       "3        RENAULT  DUSTER 2.0 16v 4X4      SEDÁN 5 PUERTAS               4x4   \n",
       "4        CITROËN                 DS4  COUPÉ 3 + 2 PUERTAS               4x2   \n",
       "\n",
       "       vehiculo_id_motor  vehiculo_cilindrada vehiculo_potencia  \\\n",
       "0         TOYOTA 1VD-FTV               4461.0               NaN   \n",
       "1          RENAULT M4RK7               1997.0               NaN   \n",
       "2         RENAULT F4R E4               1998.0               105   \n",
       "3         RENAULT F4R E4               1998.0               105   \n",
       "4  CITROËN EP6CDTM (5FM)               1598.0               NaN   \n",
       "\n",
       "  vehiculo_tipo_transmision vehiculo_tipo_combustible  \\\n",
       "0                AUTOMATICA                   GAS OIL   \n",
       "1                       CVT                     NAFTA   \n",
       "2                    MANUAL                     NAFTA   \n",
       "3                    MANUAL                     NAFTA   \n",
       "4                AUTOMATICA                     NAFTA   \n",
       "\n",
       "  vehiculo_standard_emision  lca_numero fecha_firma ensayo_gei_numero  \\\n",
       "0                    EURO V         NaN  04/10/2017   H1860666086/241   \n",
       "1                    EURO V         NaN  22/06/2016          09/09790   \n",
       "2                    EURO V         NaN         NaN        R1-0210/17   \n",
       "3                    EURO V         NaN         NaN        R1-0209/17   \n",
       "4                    EURO V         NaN  11/10/2011          11/04511   \n",
       "\n",
       "  ensayo_gei_laboratorio  emision_CO2  consumo_urbano  consumo_extraurbano  \\\n",
       "0            VINÇOTTE nv       260.70           11.56                 8.94   \n",
       "1                   UTAC       175.40           10.50                 6.10   \n",
       "2                 DELPHI       198.86           11.13                 6.98   \n",
       "3                 DELPHI       199.74           11.20                 7.01   \n",
       "4                   UTAC       177.60           10.60                 6.00   \n",
       "\n",
       "   consumo_mixto id_etiqueta  \n",
       "0           9.90     000001A  \n",
       "1           7.70     000178A  \n",
       "2           8.52     000650C  \n",
       "3           8.55     000659C  \n",
       "4           7.70     000106A  "
      ]
     },
     "execution_count": 10,
     "metadata": {},
     "output_type": "execute_result"
    }
   ],
   "source": [
    "df.head()"
   ]
  },
  {
   "cell_type": "code",
   "execution_count": 11,
   "id": "going-figure",
   "metadata": {},
   "outputs": [
    {
     "data": {
      "text/plain": [
       "vehiculo_marca                object\n",
       "vehiculo_modelo               object\n",
       "vehiculo_tipo                 object\n",
       "vehiculo_traccion             object\n",
       "vehiculo_id_motor             object\n",
       "vehiculo_cilindrada          float64\n",
       "vehiculo_potencia             object\n",
       "vehiculo_tipo_transmision     object\n",
       "vehiculo_tipo_combustible     object\n",
       "vehiculo_standard_emision     object\n",
       "lca_numero                   float64\n",
       "fecha_firma                   object\n",
       "ensayo_gei_numero             object\n",
       "ensayo_gei_laboratorio        object\n",
       "emision_CO2                  float64\n",
       "consumo_urbano               float64\n",
       "consumo_extraurbano          float64\n",
       "consumo_mixto                float64\n",
       "id_etiqueta                   object\n",
       "dtype: object"
      ]
     },
     "execution_count": 11,
     "metadata": {},
     "output_type": "execute_result"
    }
   ],
   "source": [
    "df.dtypes"
   ]
  },
  {
   "cell_type": "code",
   "execution_count": 12,
   "id": "beautiful-employee",
   "metadata": {},
   "outputs": [
    {
     "data": {
      "text/plain": [
       "(412, 19)"
      ]
     },
     "execution_count": 12,
     "metadata": {},
     "output_type": "execute_result"
    }
   ],
   "source": [
    "df.shape"
   ]
  },
  {
   "cell_type": "code",
   "execution_count": 13,
   "id": "agricultural-manner",
   "metadata": {},
   "outputs": [
    {
     "data": {
      "text/plain": [
       "312"
      ]
     },
     "execution_count": 13,
     "metadata": {},
     "output_type": "execute_result"
    }
   ],
   "source": [
    "# Total de datos faltantes\n",
    "df.isna().any(axis=1).sum()"
   ]
  },
  {
   "cell_type": "code",
   "execution_count": 14,
   "id": "conventional-slovak",
   "metadata": {},
   "outputs": [
    {
     "data": {
      "text/plain": [
       "vehiculo_marca                 0\n",
       "vehiculo_modelo                0\n",
       "vehiculo_tipo                  0\n",
       "vehiculo_traccion              0\n",
       "vehiculo_id_motor              0\n",
       "vehiculo_cilindrada            1\n",
       "vehiculo_potencia            287\n",
       "vehiculo_tipo_transmision      0\n",
       "vehiculo_tipo_combustible      0\n",
       "vehiculo_standard_emision      3\n",
       "lca_numero                   119\n",
       "fecha_firma                    8\n",
       "ensayo_gei_numero              0\n",
       "ensayo_gei_laboratorio         0\n",
       "emision_CO2                    0\n",
       "consumo_urbano                 2\n",
       "consumo_extraurbano            2\n",
       "consumo_mixto                  0\n",
       "id_etiqueta                    0\n",
       "dtype: int64"
      ]
     },
     "execution_count": 14,
     "metadata": {},
     "output_type": "execute_result"
    }
   ],
   "source": [
    "# Datos faltantes por columna\n",
    "df.isna().sum()"
   ]
  },
  {
   "cell_type": "code",
   "execution_count": 15,
   "id": "sexual-training",
   "metadata": {},
   "outputs": [],
   "source": [
    "# Elimino las columnas con mayor cantidad de datos faltantes y las que considero que no voy a utilizar para el análisis\n",
    "df.drop(['vehiculo_potencia','lca_numero', 'vehiculo_id_motor','vehiculo_id_motor','fecha_firma','ensayo_gei_numero','ensayo_gei_laboratorio','id_etiqueta'], axis=1, inplace=True)"
   ]
  },
  {
   "cell_type": "code",
   "execution_count": 16,
   "id": "previous-noise",
   "metadata": {},
   "outputs": [
    {
     "data": {
      "text/plain": [
       "(412, 12)"
      ]
     },
     "execution_count": 16,
     "metadata": {},
     "output_type": "execute_result"
    }
   ],
   "source": [
    "df.shape"
   ]
  },
  {
   "cell_type": "code",
   "execution_count": 17,
   "id": "composite-capture",
   "metadata": {},
   "outputs": [
    {
     "data": {
      "text/plain": [
       "6"
      ]
     },
     "execution_count": 17,
     "metadata": {},
     "output_type": "execute_result"
    }
   ],
   "source": [
    "df.isna().any(axis=1).sum()"
   ]
  },
  {
   "cell_type": "code",
   "execution_count": 18,
   "id": "cheap-entrance",
   "metadata": {},
   "outputs": [],
   "source": [
    "df.dropna(inplace=True)"
   ]
  },
  {
   "cell_type": "code",
   "execution_count": 19,
   "id": "advisory-belarus",
   "metadata": {},
   "outputs": [],
   "source": [
    "df.reset_index(inplace = True, drop =True)"
   ]
  },
  {
   "cell_type": "code",
   "execution_count": 20,
   "id": "unavailable-pathology",
   "metadata": {},
   "outputs": [
    {
     "data": {
      "text/html": [
       "<div>\n",
       "<style scoped>\n",
       "    .dataframe tbody tr th:only-of-type {\n",
       "        vertical-align: middle;\n",
       "    }\n",
       "\n",
       "    .dataframe tbody tr th {\n",
       "        vertical-align: top;\n",
       "    }\n",
       "\n",
       "    .dataframe thead th {\n",
       "        text-align: right;\n",
       "    }\n",
       "</style>\n",
       "<table border=\"1\" class=\"dataframe\">\n",
       "  <thead>\n",
       "    <tr style=\"text-align: right;\">\n",
       "      <th></th>\n",
       "      <th>vehiculo_marca</th>\n",
       "      <th>vehiculo_modelo</th>\n",
       "      <th>vehiculo_tipo</th>\n",
       "      <th>vehiculo_traccion</th>\n",
       "      <th>vehiculo_cilindrada</th>\n",
       "      <th>vehiculo_tipo_transmision</th>\n",
       "      <th>vehiculo_tipo_combustible</th>\n",
       "      <th>vehiculo_standard_emision</th>\n",
       "      <th>emision_CO2</th>\n",
       "      <th>consumo_urbano</th>\n",
       "      <th>consumo_extraurbano</th>\n",
       "      <th>consumo_mixto</th>\n",
       "    </tr>\n",
       "  </thead>\n",
       "  <tbody>\n",
       "    <tr>\n",
       "      <th>0</th>\n",
       "      <td>TOYOTA</td>\n",
       "      <td>LAND CRUISER 200</td>\n",
       "      <td>SUV</td>\n",
       "      <td>4x4</td>\n",
       "      <td>4461.0</td>\n",
       "      <td>AUTOMATICA</td>\n",
       "      <td>GAS OIL</td>\n",
       "      <td>EURO V</td>\n",
       "      <td>260.70</td>\n",
       "      <td>11.56</td>\n",
       "      <td>8.94</td>\n",
       "      <td>9.90</td>\n",
       "    </tr>\n",
       "    <tr>\n",
       "      <th>1</th>\n",
       "      <td>RENAULT</td>\n",
       "      <td>FLUENCE 2.0 16V</td>\n",
       "      <td>SEDÁN 4 PUERTAS</td>\n",
       "      <td>4x2</td>\n",
       "      <td>1997.0</td>\n",
       "      <td>CVT</td>\n",
       "      <td>NAFTA</td>\n",
       "      <td>EURO V</td>\n",
       "      <td>175.40</td>\n",
       "      <td>10.50</td>\n",
       "      <td>6.10</td>\n",
       "      <td>7.70</td>\n",
       "    </tr>\n",
       "    <tr>\n",
       "      <th>2</th>\n",
       "      <td>RENAULT</td>\n",
       "      <td>DUSTER 2.0 16v</td>\n",
       "      <td>SEDÁN 5 PUERTAS</td>\n",
       "      <td>4x2</td>\n",
       "      <td>1998.0</td>\n",
       "      <td>MANUAL</td>\n",
       "      <td>NAFTA</td>\n",
       "      <td>EURO V</td>\n",
       "      <td>198.86</td>\n",
       "      <td>11.13</td>\n",
       "      <td>6.98</td>\n",
       "      <td>8.52</td>\n",
       "    </tr>\n",
       "    <tr>\n",
       "      <th>3</th>\n",
       "      <td>RENAULT</td>\n",
       "      <td>DUSTER 2.0 16v 4X4</td>\n",
       "      <td>SEDÁN 5 PUERTAS</td>\n",
       "      <td>4x4</td>\n",
       "      <td>1998.0</td>\n",
       "      <td>MANUAL</td>\n",
       "      <td>NAFTA</td>\n",
       "      <td>EURO V</td>\n",
       "      <td>199.74</td>\n",
       "      <td>11.20</td>\n",
       "      <td>7.01</td>\n",
       "      <td>8.55</td>\n",
       "    </tr>\n",
       "    <tr>\n",
       "      <th>4</th>\n",
       "      <td>CITROËN</td>\n",
       "      <td>DS4</td>\n",
       "      <td>COUPÉ 3 + 2 PUERTAS</td>\n",
       "      <td>4x2</td>\n",
       "      <td>1598.0</td>\n",
       "      <td>AUTOMATICA</td>\n",
       "      <td>NAFTA</td>\n",
       "      <td>EURO V</td>\n",
       "      <td>177.60</td>\n",
       "      <td>10.60</td>\n",
       "      <td>6.00</td>\n",
       "      <td>7.70</td>\n",
       "    </tr>\n",
       "  </tbody>\n",
       "</table>\n",
       "</div>"
      ],
      "text/plain": [
       "  vehiculo_marca     vehiculo_modelo        vehiculo_tipo vehiculo_traccion  \\\n",
       "0         TOYOTA    LAND CRUISER 200                  SUV               4x4   \n",
       "1        RENAULT     FLUENCE 2.0 16V      SEDÁN 4 PUERTAS               4x2   \n",
       "2        RENAULT      DUSTER 2.0 16v      SEDÁN 5 PUERTAS               4x2   \n",
       "3        RENAULT  DUSTER 2.0 16v 4X4      SEDÁN 5 PUERTAS               4x4   \n",
       "4        CITROËN                 DS4  COUPÉ 3 + 2 PUERTAS               4x2   \n",
       "\n",
       "   vehiculo_cilindrada vehiculo_tipo_transmision vehiculo_tipo_combustible  \\\n",
       "0               4461.0                AUTOMATICA                   GAS OIL   \n",
       "1               1997.0                       CVT                     NAFTA   \n",
       "2               1998.0                    MANUAL                     NAFTA   \n",
       "3               1998.0                    MANUAL                     NAFTA   \n",
       "4               1598.0                AUTOMATICA                     NAFTA   \n",
       "\n",
       "  vehiculo_standard_emision  emision_CO2  consumo_urbano  consumo_extraurbano  \\\n",
       "0                    EURO V       260.70           11.56                 8.94   \n",
       "1                    EURO V       175.40           10.50                 6.10   \n",
       "2                    EURO V       198.86           11.13                 6.98   \n",
       "3                    EURO V       199.74           11.20                 7.01   \n",
       "4                    EURO V       177.60           10.60                 6.00   \n",
       "\n",
       "   consumo_mixto  \n",
       "0           9.90  \n",
       "1           7.70  \n",
       "2           8.52  \n",
       "3           8.55  \n",
       "4           7.70  "
      ]
     },
     "execution_count": 20,
     "metadata": {},
     "output_type": "execute_result"
    }
   ],
   "source": [
    "df.head()"
   ]
  },
  {
   "cell_type": "code",
   "execution_count": 21,
   "id": "collective-coast",
   "metadata": {},
   "outputs": [
    {
     "data": {
      "text/plain": [
       "(406, 12)"
      ]
     },
     "execution_count": 21,
     "metadata": {},
     "output_type": "execute_result"
    }
   ],
   "source": [
    "df.shape"
   ]
  },
  {
   "cell_type": "code",
   "execution_count": 22,
   "id": "foreign-monthly",
   "metadata": {},
   "outputs": [
    {
     "data": {
      "text/plain": [
       "vehiculo_marca               0\n",
       "vehiculo_modelo              0\n",
       "vehiculo_tipo                0\n",
       "vehiculo_traccion            0\n",
       "vehiculo_cilindrada          0\n",
       "vehiculo_tipo_transmision    0\n",
       "vehiculo_tipo_combustible    0\n",
       "vehiculo_standard_emision    0\n",
       "emision_CO2                  0\n",
       "consumo_urbano               0\n",
       "consumo_extraurbano          0\n",
       "consumo_mixto                0\n",
       "dtype: int64"
      ]
     },
     "execution_count": 22,
     "metadata": {},
     "output_type": "execute_result"
    }
   ],
   "source": [
    "df.isna().sum()"
   ]
  },
  {
   "cell_type": "markdown",
   "id": "proved-chaos",
   "metadata": {},
   "source": [
    "<a id=\"section_exploration\"></a> \n",
    "<h3> Exploración </h3>\n",
    "\n",
    "[volver a TOC](#section_toc)"
   ]
  },
  {
   "cell_type": "code",
   "execution_count": 23,
   "id": "dutch-weekly",
   "metadata": {},
   "outputs": [
    {
     "data": {
      "text/html": [
       "<div>\n",
       "<style scoped>\n",
       "    .dataframe tbody tr th:only-of-type {\n",
       "        vertical-align: middle;\n",
       "    }\n",
       "\n",
       "    .dataframe tbody tr th {\n",
       "        vertical-align: top;\n",
       "    }\n",
       "\n",
       "    .dataframe thead th {\n",
       "        text-align: right;\n",
       "    }\n",
       "</style>\n",
       "<table border=\"1\" class=\"dataframe\">\n",
       "  <thead>\n",
       "    <tr style=\"text-align: right;\">\n",
       "      <th></th>\n",
       "      <th>vehiculo_marca</th>\n",
       "      <th>vehiculo_modelo</th>\n",
       "      <th>vehiculo_tipo</th>\n",
       "      <th>vehiculo_traccion</th>\n",
       "      <th>vehiculo_cilindrada</th>\n",
       "      <th>vehiculo_tipo_transmision</th>\n",
       "      <th>vehiculo_tipo_combustible</th>\n",
       "      <th>vehiculo_standard_emision</th>\n",
       "      <th>emision_CO2</th>\n",
       "      <th>consumo_urbano</th>\n",
       "      <th>consumo_extraurbano</th>\n",
       "      <th>consumo_mixto</th>\n",
       "    </tr>\n",
       "  </thead>\n",
       "  <tbody>\n",
       "    <tr>\n",
       "      <th>0</th>\n",
       "      <td>TOYOTA</td>\n",
       "      <td>LAND CRUISER 200</td>\n",
       "      <td>SUV</td>\n",
       "      <td>4x4</td>\n",
       "      <td>4461.0</td>\n",
       "      <td>AUTOMATICA</td>\n",
       "      <td>GAS OIL</td>\n",
       "      <td>EURO V</td>\n",
       "      <td>260.70</td>\n",
       "      <td>11.56</td>\n",
       "      <td>8.94</td>\n",
       "      <td>9.90</td>\n",
       "    </tr>\n",
       "    <tr>\n",
       "      <th>1</th>\n",
       "      <td>RENAULT</td>\n",
       "      <td>FLUENCE 2.0 16V</td>\n",
       "      <td>SEDÁN 4 PUERTAS</td>\n",
       "      <td>4x2</td>\n",
       "      <td>1997.0</td>\n",
       "      <td>CVT</td>\n",
       "      <td>NAFTA</td>\n",
       "      <td>EURO V</td>\n",
       "      <td>175.40</td>\n",
       "      <td>10.50</td>\n",
       "      <td>6.10</td>\n",
       "      <td>7.70</td>\n",
       "    </tr>\n",
       "    <tr>\n",
       "      <th>2</th>\n",
       "      <td>RENAULT</td>\n",
       "      <td>DUSTER 2.0 16v</td>\n",
       "      <td>SEDÁN 5 PUERTAS</td>\n",
       "      <td>4x2</td>\n",
       "      <td>1998.0</td>\n",
       "      <td>MANUAL</td>\n",
       "      <td>NAFTA</td>\n",
       "      <td>EURO V</td>\n",
       "      <td>198.86</td>\n",
       "      <td>11.13</td>\n",
       "      <td>6.98</td>\n",
       "      <td>8.52</td>\n",
       "    </tr>\n",
       "    <tr>\n",
       "      <th>3</th>\n",
       "      <td>RENAULT</td>\n",
       "      <td>DUSTER 2.0 16v 4X4</td>\n",
       "      <td>SEDÁN 5 PUERTAS</td>\n",
       "      <td>4x4</td>\n",
       "      <td>1998.0</td>\n",
       "      <td>MANUAL</td>\n",
       "      <td>NAFTA</td>\n",
       "      <td>EURO V</td>\n",
       "      <td>199.74</td>\n",
       "      <td>11.20</td>\n",
       "      <td>7.01</td>\n",
       "      <td>8.55</td>\n",
       "    </tr>\n",
       "    <tr>\n",
       "      <th>4</th>\n",
       "      <td>CITROËN</td>\n",
       "      <td>DS4</td>\n",
       "      <td>COUPÉ 3 + 2 PUERTAS</td>\n",
       "      <td>4x2</td>\n",
       "      <td>1598.0</td>\n",
       "      <td>AUTOMATICA</td>\n",
       "      <td>NAFTA</td>\n",
       "      <td>EURO V</td>\n",
       "      <td>177.60</td>\n",
       "      <td>10.60</td>\n",
       "      <td>6.00</td>\n",
       "      <td>7.70</td>\n",
       "    </tr>\n",
       "  </tbody>\n",
       "</table>\n",
       "</div>"
      ],
      "text/plain": [
       "  vehiculo_marca     vehiculo_modelo        vehiculo_tipo vehiculo_traccion  \\\n",
       "0         TOYOTA    LAND CRUISER 200                  SUV               4x4   \n",
       "1        RENAULT     FLUENCE 2.0 16V      SEDÁN 4 PUERTAS               4x2   \n",
       "2        RENAULT      DUSTER 2.0 16v      SEDÁN 5 PUERTAS               4x2   \n",
       "3        RENAULT  DUSTER 2.0 16v 4X4      SEDÁN 5 PUERTAS               4x4   \n",
       "4        CITROËN                 DS4  COUPÉ 3 + 2 PUERTAS               4x2   \n",
       "\n",
       "   vehiculo_cilindrada vehiculo_tipo_transmision vehiculo_tipo_combustible  \\\n",
       "0               4461.0                AUTOMATICA                   GAS OIL   \n",
       "1               1997.0                       CVT                     NAFTA   \n",
       "2               1998.0                    MANUAL                     NAFTA   \n",
       "3               1998.0                    MANUAL                     NAFTA   \n",
       "4               1598.0                AUTOMATICA                     NAFTA   \n",
       "\n",
       "  vehiculo_standard_emision  emision_CO2  consumo_urbano  consumo_extraurbano  \\\n",
       "0                    EURO V       260.70           11.56                 8.94   \n",
       "1                    EURO V       175.40           10.50                 6.10   \n",
       "2                    EURO V       198.86           11.13                 6.98   \n",
       "3                    EURO V       199.74           11.20                 7.01   \n",
       "4                    EURO V       177.60           10.60                 6.00   \n",
       "\n",
       "   consumo_mixto  \n",
       "0           9.90  \n",
       "1           7.70  \n",
       "2           8.52  \n",
       "3           8.55  \n",
       "4           7.70  "
      ]
     },
     "execution_count": 23,
     "metadata": {},
     "output_type": "execute_result"
    }
   ],
   "source": [
    "df.head()"
   ]
  },
  {
   "cell_type": "code",
   "execution_count": 24,
   "id": "rising-organ",
   "metadata": {},
   "outputs": [
    {
     "data": {
      "text/plain": [
       "MERCEDES-BENZ        31\n",
       "HYUNDAI              31\n",
       "CHEVROLET            25\n",
       "BMW                  23\n",
       "AUDI                 21\n",
       "TOYOTA               20\n",
       "FORD                 18\n",
       "FIAT                 17\n",
       "RENAULT              17\n",
       "MINI                 16\n",
       "VOLKSWAGEN           15\n",
       "HONDA                15\n",
       "PEUGEOT              13\n",
       "NISSAN               12\n",
       "CITROËN              10\n",
       "CHANGAN               9\n",
       "LIFAN                 8\n",
       "LEXUS                 8\n",
       "SUZUKI                7\n",
       "JEEP                  7\n",
       "PEUGEOT / CITROËN     6\n",
       "LAND ROVER            6\n",
       "FAW                   5\n",
       "ZOTYE                 4\n",
       "MASERATI              4\n",
       "BAIC                  4\n",
       "ALFA ROMEO            4\n",
       "BORGWARD              4\n",
       "DOMY                  4\n",
       "JAC                   4\n",
       "MITSUBISHI            3\n",
       "PORSCHE               3\n",
       "HAVAL                 3\n",
       "DS                    3\n",
       "KIA                   3\n",
       "SUBARU                2\n",
       "CITROËN / DS          2\n",
       "ISUZU                 2\n",
       "RAM                   2\n",
       "ZANELLA               2\n",
       "FOTON                 2\n",
       "VOLVO                 2\n",
       "MERCEDES-AMG          2\n",
       "CHERY                 2\n",
       "KYC                   1\n",
       "GREAT WALL            1\n",
       "SHINERAY              1\n",
       "FERRARI               1\n",
       "DONGFENG              1\n",
       "Name: vehiculo_marca, dtype: int64"
      ]
     },
     "execution_count": 24,
     "metadata": {},
     "output_type": "execute_result"
    }
   ],
   "source": [
    "df['vehiculo_marca'].value_counts()"
   ]
  },
  {
   "cell_type": "code",
   "execution_count": 63,
   "id": "meaning-plasma",
   "metadata": {},
   "outputs": [
    {
     "data": {
      "text/plain": [
       "[None,\n",
       " None,\n",
       " None,\n",
       " None,\n",
       " None,\n",
       " None,\n",
       " None,\n",
       " None,\n",
       " None,\n",
       " None,\n",
       " None,\n",
       " None,\n",
       " None,\n",
       " None,\n",
       " None,\n",
       " None,\n",
       " None,\n",
       " None,\n",
       " None,\n",
       " None,\n",
       " None,\n",
       " None,\n",
       " None,\n",
       " None,\n",
       " None,\n",
       " None,\n",
       " None,\n",
       " None,\n",
       " None,\n",
       " None,\n",
       " None,\n",
       " None,\n",
       " None,\n",
       " None,\n",
       " None,\n",
       " None,\n",
       " None,\n",
       " None,\n",
       " None,\n",
       " None,\n",
       " None,\n",
       " None,\n",
       " None,\n",
       " None,\n",
       " None,\n",
       " None,\n",
       " None,\n",
       " None,\n",
       " None,\n",
       " None,\n",
       " None,\n",
       " None,\n",
       " None,\n",
       " None,\n",
       " None,\n",
       " None,\n",
       " None,\n",
       " None,\n",
       " None,\n",
       " None,\n",
       " None,\n",
       " None,\n",
       " None,\n",
       " None,\n",
       " None,\n",
       " None,\n",
       " None,\n",
       " None,\n",
       " None,\n",
       " None,\n",
       " None,\n",
       " None,\n",
       " None,\n",
       " None,\n",
       " None,\n",
       " None,\n",
       " None,\n",
       " None,\n",
       " None,\n",
       " None,\n",
       " None,\n",
       " None,\n",
       " None,\n",
       " None,\n",
       " None,\n",
       " None,\n",
       " None,\n",
       " None,\n",
       " None,\n",
       " None,\n",
       " None,\n",
       " None,\n",
       " None,\n",
       " None,\n",
       " None,\n",
       " None,\n",
       " None,\n",
       " None]"
      ]
     },
     "execution_count": 63,
     "metadata": {},
     "output_type": "execute_result"
    },
    {
     "data": {
      "image/png": "[encoded data removed]",
      "text/plain": [
       "<Figure size 1440x576 with 1 Axes>"
      ]
     },
     "metadata": {
      "needs_background": "light"
     },
     "output_type": "display_data"
    }
   ],
   "source": [
    "#mkI = df['vehiculo_marca'].value_counts().index\n",
    "#mkV = df['emision_CO2'].median().index\n",
    "#mkV = df.groupby(['vehiculo_marca'])[['emision_CO2']].apply(np.median)\n",
    "\n",
    "#plt.figure(figsize = (10,8))\n",
    "#sns.barplot(mkI,mkV)\n",
    "#plt.xticks(rotation='vertical')\n",
    "norm = plt.Normalize(df[\"consumo_urbano\"].values.min(), df[\"consumo_urbano\"].values.max())\n",
    "colors = plt.cm.Reds(norm(df[\"consumo_urbano\"])) \n",
    "plt.figure(figsize=(20,8))\n",
    "result = df.groupby([\"vehiculo_marca\"])['consumo_urbano'].aggregate(np.median).reset_index().sort_values('consumo_urbano')\n",
    "ax = sns.barplot(x='vehiculo_marca', y=\"consumo_urbano\", data=df,  order=result['vehiculo_marca'], palette = 'hls')\n",
    "plt.setp(ax.get_xticklabels(), rotation=90)"
   ]
  },
  {
   "cell_type": "code",
   "execution_count": 26,
   "id": "little-january",
   "metadata": {},
   "outputs": [
    {
     "data": {
      "text/plain": [
       "Text(0.5, 0, 'Emision CO2')"
      ]
     },
     "execution_count": 26,
     "metadata": {},
     "output_type": "execute_result"
    },
    {
     "data": {
      "image/png": "[encoded data removed]",
      "text/plain": [
       "<Figure size 1152x720 with 1 Axes>"
      ]
     },
     "metadata": {
      "needs_background": "light"
     },
     "output_type": "display_data"
    }
   ],
   "source": [
    "norm = plt.Normalize(df[\"emision_CO2\"].values.min(), df[\"emision_CO2\"].values.max())\n",
    "\n",
    "plt.figure(figsize=(16,10))\n",
    "\n",
    "result = df.groupby([\"vehiculo_marca\"])['emision_CO2'].aggregate(np.median).reset_index().sort_values('emision_CO2')\n",
    "sns.barplot(x='emision_CO2', y=\"vehiculo_marca\", data=df, order=result['vehiculo_marca'], palette = 'hls')\n",
    "plt.ylabel('Marca', fontsize=12)\n",
    "plt.xlabel('Emision CO2', fontsize=12)"
   ]
  },
  {
   "cell_type": "code",
   "execution_count": 27,
   "id": "annoying-addition",
   "metadata": {},
   "outputs": [
    {
     "data": {
      "text/plain": [
       "array(['TOYOTA', 'RENAULT', 'CITROËN', 'LEXUS', 'PEUGEOT', 'FORD',\n",
       "       'PEUGEOT / CITROËN', 'HYUNDAI', 'SUZUKI', 'CHEVROLET', 'LIFAN',\n",
       "       'BMW', 'CITROËN / DS', 'HONDA', 'NISSAN', 'FIAT', 'CHERY',\n",
       "       'VOLKSWAGEN', 'ALFA ROMEO', 'FAW', 'MERCEDES-BENZ', 'JEEP',\n",
       "       'LAND ROVER', 'JAC', 'VOLVO', 'SHINERAY', 'CHANGAN', 'DS', 'MINI',\n",
       "       'DOMY', 'BORGWARD', 'PORSCHE', 'AUDI', 'BAIC', 'ZANELLA', 'RAM',\n",
       "       'FOTON', 'MASERATI', 'SUBARU', 'HAVAL', 'ISUZU', 'DONGFENG',\n",
       "       'MERCEDES-AMG', 'MITSUBISHI', 'ZOTYE', 'KIA', 'GREAT WALL', 'KYC',\n",
       "       'FERRARI'], dtype=object)"
      ]
     },
     "execution_count": 27,
     "metadata": {},
     "output_type": "execute_result"
    }
   ],
   "source": [
    "df['vehiculo_marca'].unique()"
   ]
  },
  {
   "cell_type": "code",
   "execution_count": 28,
   "id": "statutory-lemon",
   "metadata": {},
   "outputs": [],
   "source": [
    "# df_Make=df['vehiculo_marca'].value_counts().reset_index().rename(columns={'index':'vehiculo_marca','vehiculo_marca':'Count'})[0:25]\n",
    "# df_Make\n",
    "# fig = go.Figure(go.Bar(x=df_Make['vehiculo_marca'],y=df_Make['Count'],\n",
    "#         marker={'color': df_Make['Count'], 'colorscale': 'Viridis'}, \n",
    "#         text=df_Make['Count'],\n",
    "#         textposition = \"outside\",\n",
    "# ))\n",
    "# fig.update_layout(title_text='Top 25 Company',xaxis_title=\"Company \",yaxis_title=\"Number Of Vehicles \",title_x=0.5)\n",
    "# fig.show()"
   ]
  },
  {
   "cell_type": "code",
   "execution_count": 29,
   "id": "confident-player",
   "metadata": {},
   "outputs": [
    {
     "data": {
      "text/plain": [
       "SEDÁN 4 PUERTAS                                39\n",
       "SEDÁN 5 PUERTAS                                38\n",
       "SUV                                            31\n",
       "RURAL                                          29\n",
       "BERLINA                                        21\n",
       "                                               ..\n",
       "SEDÁN 4 PUERTSA CON BAÚL TRASERO NB             1\n",
       "DE CARGA CABINA DOBLE                           1\n",
       "MONOVOLUMEN 5 PLAZAS / MONOVULUMEN 7 PLAZAS     1\n",
       "CHASIS CON CABINA SIMPLE                        1\n",
       "RURAL 5 PUERTAS TODOTERRENO                     1\n",
       "Name: vehiculo_tipo, Length: 97, dtype: int64"
      ]
     },
     "execution_count": 29,
     "metadata": {},
     "output_type": "execute_result"
    }
   ],
   "source": [
    "df['vehiculo_tipo'].value_counts()"
   ]
  },
  {
   "cell_type": "code",
   "execution_count": 30,
   "id": "enhanced-fellowship",
   "metadata": {},
   "outputs": [],
   "source": [
    "tipo_df = pd.read_csv('Data/tipo_vehiculos.csv')"
   ]
  },
  {
   "cell_type": "code",
   "execution_count": 31,
   "id": "organizational-canada",
   "metadata": {},
   "outputs": [],
   "source": [
    "tipo_df_dic = tipo_df.set_index('ID').T.to_dict('list')"
   ]
  },
  {
   "cell_type": "code",
   "execution_count": 32,
   "id": "alpha-single",
   "metadata": {},
   "outputs": [],
   "source": [
    "df.vehiculo_tipo = df.vehiculo_tipo.replace(tipo_df_dic)\n"
   ]
  },
  {
   "cell_type": "code",
   "execution_count": 33,
   "id": "minute-weekend",
   "metadata": {},
   "outputs": [
    {
     "data": {
      "text/plain": [
       "4 Puertas    103\n",
       "5 Puertas     86\n",
       "Rural         54\n",
       "Coupe         51\n",
       "SUV           47\n",
       "PICK UP       46\n",
       "Camion         6\n",
       "Furgon         6\n",
       "BUS            4\n",
       "4x4            3\n",
       "Name: vehiculo_tipo, dtype: int64"
      ]
     },
     "execution_count": 33,
     "metadata": {},
     "output_type": "execute_result"
    }
   ],
   "source": [
    "df['vehiculo_tipo'].value_counts()"
   ]
  },
  {
   "cell_type": "code",
   "execution_count": 34,
   "id": "endless-means",
   "metadata": {},
   "outputs": [
    {
     "data": {
      "text/plain": [
       "(array([  0.,  20.,  40.,  60.,  80., 100., 120.]),\n",
       " [Text(0, 0, ''),\n",
       "  Text(0, 0, ''),\n",
       "  Text(0, 0, ''),\n",
       "  Text(0, 0, ''),\n",
       "  Text(0, 0, ''),\n",
       "  Text(0, 0, ''),\n",
       "  Text(0, 0, '')])"
      ]
     },
     "execution_count": 34,
     "metadata": {},
     "output_type": "execute_result"
    },
    {
     "data": {
      "image/png": "[encoded data removed]",
      "text/plain": [
       "<Figure size 720x576 with 1 Axes>"
      ]
     },
     "metadata": {
      "needs_background": "light"
     },
     "output_type": "display_data"
    }
   ],
   "source": [
    "mkI = df['vehiculo_tipo'].value_counts().index\n",
    "mkV = df['vehiculo_tipo'].value_counts().values\n",
    "plt.figure(figsize = (10,8))\n",
    "sns.barplot(mkV,mkI, orient = 'h', palette='Spectral')\n",
    "plt.xticks(rotation='vertical')"
   ]
  },
  {
   "cell_type": "code",
   "execution_count": 35,
   "id": "practical-powder",
   "metadata": {},
   "outputs": [
    {
     "data": {
      "text/plain": [
       "Text(0.5, 0, 'Emision CO2')"
      ]
     },
     "execution_count": 35,
     "metadata": {},
     "output_type": "execute_result"
    },
    {
     "data": {
      "image/png": "[encoded data removed]",
      "text/plain": [
       "<Figure size 1152x720 with 1 Axes>"
      ]
     },
     "metadata": {
      "needs_background": "light"
     },
     "output_type": "display_data"
    }
   ],
   "source": [
    "norm = plt.Normalize(df[\"emision_CO2\"].values.min(), df[\"emision_CO2\"].values.max())\n",
    "plt.figure(figsize=(16,10))\n",
    "\n",
    "result = df.groupby([\"vehiculo_tipo\"])['emision_CO2'].aggregate(np.median).reset_index().sort_values('emision_CO2')\n",
    "sns.barplot(x='emision_CO2', y=\"vehiculo_tipo\", data=df, palette = 'hls', order=result['vehiculo_tipo'])\n",
    "\n",
    "plt.ylabel('Tipo de Vehiculo', fontsize=12)\n",
    "plt.xlabel('Emision CO2', fontsize=12)"
   ]
  },
  {
   "cell_type": "code",
   "execution_count": 36,
   "id": "applied-trick",
   "metadata": {},
   "outputs": [
    {
     "data": {
      "text/plain": [
       "Text(0.5, 0, 'Emision CO2')"
      ]
     },
     "execution_count": 36,
     "metadata": {},
     "output_type": "execute_result"
    },
    {
     "data": {
      "image/png": "[encoded data removed]",
      "text/plain": [
       "<Figure size 1152x720 with 1 Axes>"
      ]
     },
     "metadata": {
      "needs_background": "light"
     },
     "output_type": "display_data"
    }
   ],
   "source": [
    "norm = plt.Normalize(df[\"emision_CO2\"].values.min(), df[\"emision_CO2\"].values.max())\n",
    "plt.figure(figsize=(16,10))\n",
    "\n",
    "result = df.groupby([\"vehiculo_tipo\"])['emision_CO2'].aggregate(np.mean).reset_index().sort_values('emision_CO2')\n",
    "sns.barplot(x='emision_CO2', y=\"vehiculo_tipo\", data=df, order=result['vehiculo_tipo'], palette = 'hls')\n",
    "plt.ylabel('Tipo de Vehiculo', fontsize=12)\n",
    "plt.xlabel('Emision CO2', fontsize=12)"
   ]
  },
  {
   "cell_type": "code",
   "execution_count": 37,
   "id": "temporal-pearl",
   "metadata": {},
   "outputs": [
    {
     "data": {
      "text/plain": [
       "Text(0.5, 0, 'Emision CO2')"
      ]
     },
     "execution_count": 37,
     "metadata": {},
     "output_type": "execute_result"
    },
    {
     "data": {
      "image/png": "[encoded data removed]",
      "text/plain": [
       "<Figure size 1152x720 with 1 Axes>"
      ]
     },
     "metadata": {
      "needs_background": "light"
     },
     "output_type": "display_data"
    }
   ],
   "source": [
    "norm = plt.Normalize(df[\"emision_CO2\"].values.min(), df[\"emision_CO2\"].values.max())\n",
    "plt.figure(figsize=(16,10))\n",
    "\n",
    "result = df.groupby([\"vehiculo_tipo_combustible\"])['emision_CO2'].aggregate(np.median).reset_index().sort_values('emision_CO2')\n",
    "sns.barplot(x='emision_CO2', y=\"vehiculo_tipo_combustible\", data=df, order=result['vehiculo_tipo_combustible'], palette = 'hls')\n",
    "\n",
    "plt.ylabel('Tipo de Combustible ', fontsize=12)\n",
    "plt.xlabel('Emision CO2', fontsize=12)"
   ]
  },
  {
   "cell_type": "code",
   "execution_count": 38,
   "id": "according-philippines",
   "metadata": {},
   "outputs": [
    {
     "data": {
      "text/plain": [
       "Text(0.5, 0, 'Consumo mixto')"
      ]
     },
     "execution_count": 38,
     "metadata": {},
     "output_type": "execute_result"
    },
    {
     "data": {
      "image/png": "[encoded data removed]",
      "text/plain": [
       "<Figure size 1008x648 with 1 Axes>"
      ]
     },
     "metadata": {
      "needs_background": "light"
     },
     "output_type": "display_data"
    }
   ],
   "source": [
    "#sns.set_theme(style=\"ticks\")\n",
    "\n",
    "# Initialize the figure with a logarithmic x axis\n",
    "f, ax = plt.subplots(figsize=(14, 9))\n",
    "ax.set_xscale(\"log\")\n",
    "\n",
    "# Plot the orbital period with horizontal boxes\n",
    "sns.boxplot(x=\"consumo_mixto\", y=\"vehiculo_tipo\", data=df,\n",
    "            whis=[0, 100], width=.6, palette=\"vlag\")\n",
    "\n",
    "# Add in points to show each observation\n",
    "sns.stripplot(x=\"consumo_mixto\", y=\"vehiculo_tipo\", data=df,\n",
    "              size=4, color=\".3\", linewidth=0)\n",
    "\n",
    "# Tweak the visual presentation\n",
    "ax.xaxis.grid(True)\n",
    "ax.set(ylabel=\"\")\n",
    "sns.despine(trim=True, left=True)\n",
    "plt.xlabel('Consumo mixto', fontsize=12)"
   ]
  },
  {
   "cell_type": "code",
   "execution_count": 39,
   "id": "hindu-miracle",
   "metadata": {},
   "outputs": [
    {
     "data": {
      "text/html": [
       "<div>\n",
       "<style scoped>\n",
       "    .dataframe tbody tr th:only-of-type {\n",
       "        vertical-align: middle;\n",
       "    }\n",
       "\n",
       "    .dataframe tbody tr th {\n",
       "        vertical-align: top;\n",
       "    }\n",
       "\n",
       "    .dataframe thead th {\n",
       "        text-align: right;\n",
       "    }\n",
       "</style>\n",
       "<table border=\"1\" class=\"dataframe\">\n",
       "  <thead>\n",
       "    <tr style=\"text-align: right;\">\n",
       "      <th></th>\n",
       "      <th>vehiculo_marca</th>\n",
       "      <th>vehiculo_modelo</th>\n",
       "      <th>vehiculo_tipo</th>\n",
       "      <th>vehiculo_traccion</th>\n",
       "      <th>vehiculo_cilindrada</th>\n",
       "      <th>vehiculo_tipo_transmision</th>\n",
       "      <th>vehiculo_tipo_combustible</th>\n",
       "      <th>vehiculo_standard_emision</th>\n",
       "      <th>emision_CO2</th>\n",
       "      <th>consumo_urbano</th>\n",
       "      <th>consumo_extraurbano</th>\n",
       "      <th>consumo_mixto</th>\n",
       "    </tr>\n",
       "  </thead>\n",
       "  <tbody>\n",
       "    <tr>\n",
       "      <th>370</th>\n",
       "      <td>CHEVROLET</td>\n",
       "      <td>CRUZE 1.4 TRANSMISIÓN AUTOMÁTICA</td>\n",
       "      <td>4 Puertas</td>\n",
       "      <td>4x2</td>\n",
       "      <td>1399.0</td>\n",
       "      <td>AUTOMATICA</td>\n",
       "      <td>NAFTA</td>\n",
       "      <td>EURO V</td>\n",
       "      <td>156.1</td>\n",
       "      <td>6.26</td>\n",
       "      <td>5.84</td>\n",
       "      <td>672.0</td>\n",
       "    </tr>\n",
       "  </tbody>\n",
       "</table>\n",
       "</div>"
      ],
      "text/plain": [
       "    vehiculo_marca                   vehiculo_modelo vehiculo_tipo  \\\n",
       "370      CHEVROLET  CRUZE 1.4 TRANSMISIÓN AUTOMÁTICA     4 Puertas   \n",
       "\n",
       "    vehiculo_traccion  vehiculo_cilindrada vehiculo_tipo_transmision  \\\n",
       "370               4x2               1399.0                AUTOMATICA   \n",
       "\n",
       "    vehiculo_tipo_combustible vehiculo_standard_emision  emision_CO2  \\\n",
       "370                     NAFTA                    EURO V        156.1   \n",
       "\n",
       "     consumo_urbano  consumo_extraurbano  consumo_mixto  \n",
       "370            6.26                 5.84          672.0  "
      ]
     },
     "execution_count": 39,
     "metadata": {},
     "output_type": "execute_result"
    }
   ],
   "source": [
    "#Outlier 4Puertas x consumo Mixto\n",
    "max_consumo_mixto = df['consumo_mixto'].max()\n",
    "df[df['consumo_mixto'] == max_consumo_mixto]"
   ]
  },
  {
   "cell_type": "code",
   "execution_count": 40,
   "id": "bizarre-reliance",
   "metadata": {},
   "outputs": [
    {
     "name": "stderr",
     "output_type": "stream",
     "text": [
      "/home/ignacio/anaconda3/envs/dhdsblend/lib/python3.7/site-packages/seaborn/axisgrid.py:1742: UserWarning:\n",
      "\n",
      "Tight layout not applied. tight_layout cannot make axes width small enough to accommodate all axes decorations\n",
      "\n"
     ]
    },
    {
     "data": {
      "text/plain": [
       "<seaborn.axisgrid.JointGrid at 0x7f3e5e9d1d50>"
      ]
     },
     "execution_count": 40,
     "metadata": {},
     "output_type": "execute_result"
    },
    {
     "data": {
      "image/png": "[encoded data removed]",
      "text/plain": [
       "<Figure size 432x432 with 3 Axes>"
      ]
     },
     "metadata": {
      "needs_background": "light"
     },
     "output_type": "display_data"
    }
   ],
   "source": [
    "# Use JointGrid directly to draw a custom plot\n",
    "g = sns.JointGrid(data=df, x=\"emision_CO2\", y=\"vehiculo_cilindrada\", space=0, ratio=17)\n",
    "g.plot_joint(sns.scatterplot, size=df[\"consumo_urbano\"], sizes=(30, 120),\n",
    "             color=\"g\", alpha=.6, legend=False)\n",
    "g.plot_marginals(sns.rugplot, height=1, color=\"g\", alpha=.6)\n",
    "# plt.ylabel('Cilindrada', fontsize=12)\n",
    "# plt.xlabel('Emision CO2', fontsize=12)"
   ]
  },
  {
   "cell_type": "code",
   "execution_count": 41,
   "id": "hybrid-executive",
   "metadata": {},
   "outputs": [
    {
     "data": {
      "text/plain": [
       "Text(0.5, 0, 'Emision CO2')"
      ]
     },
     "execution_count": 41,
     "metadata": {},
     "output_type": "execute_result"
    },
    {
     "data": {
      "image/png": "[encoded data removed]",
      "text/plain": [
       "<Figure size 432x288 with 1 Axes>"
      ]
     },
     "metadata": {
      "needs_background": "light"
     },
     "output_type": "display_data"
    }
   ],
   "source": [
    "# Draw a categorical scatterplot to show each observation\n",
    "ax = sns.swarmplot(data=df, x=\"emision_CO2\", y=\"vehiculo_tipo\", hue=\"vehiculo_tipo_combustible\")\n",
    "ax.set(ylabel=\"\")\n",
    "plt.legend(loc='upper right');\n",
    "plt.xlabel('Emision CO2', fontsize=12)"
   ]
  },
  {
   "cell_type": "code",
   "execution_count": 42,
   "id": "isolated-fortune",
   "metadata": {},
   "outputs": [
    {
     "data": {
      "text/plain": [
       "4x2          286\n",
       "4x4           95\n",
       "4x2 - 4x4     25\n",
       "Name: vehiculo_traccion, dtype: int64"
      ]
     },
     "execution_count": 42,
     "metadata": {},
     "output_type": "execute_result"
    }
   ],
   "source": [
    "df['vehiculo_traccion'].value_counts()"
   ]
  },
  {
   "cell_type": "code",
   "execution_count": 43,
   "id": "figured-variation",
   "metadata": {},
   "outputs": [
    {
     "data": {
      "text/plain": [
       "AUTOMATICA                                     223\n",
       "MANUAL                                         147\n",
       "CVT                                             33\n",
       "MANUAL AUTOMATIZADA                              1\n",
       "CTT                                              1\n",
       "E-CVT (Hibrida controlada electrónicamente)      1\n",
       "Name: vehiculo_tipo_transmision, dtype: int64"
      ]
     },
     "execution_count": 43,
     "metadata": {},
     "output_type": "execute_result"
    }
   ],
   "source": [
    "df['vehiculo_tipo_transmision'].value_counts()"
   ]
  },
  {
   "cell_type": "code",
   "execution_count": 44,
   "id": "precious-telephone",
   "metadata": {},
   "outputs": [
    {
     "data": {
      "text/plain": [
       "NAFTA                   316\n",
       "GAS OIL                  65\n",
       "NAFTA / ELECTRICIDAD     25\n",
       "Name: vehiculo_tipo_combustible, dtype: int64"
      ]
     },
     "execution_count": 44,
     "metadata": {},
     "output_type": "execute_result"
    }
   ],
   "source": [
    "df['vehiculo_tipo_combustible'].value_counts()"
   ]
  },
  {
   "cell_type": "code",
   "execution_count": 45,
   "id": "employed-least",
   "metadata": {},
   "outputs": [
    {
     "data": {
      "text/plain": [
       "EURO V        264\n",
       "EURO VI b      49\n",
       "EURO VI c      39\n",
       "EURO VI        24\n",
       "EURO  V        18\n",
       "EURO VI a       5\n",
       "EURO VI d       5\n",
       "EURUO V         1\n",
       "EURO  VI b      1\n",
       "Name: vehiculo_standard_emision, dtype: int64"
      ]
     },
     "execution_count": 45,
     "metadata": {},
     "output_type": "execute_result"
    }
   ],
   "source": [
    "df['vehiculo_standard_emision'].value_counts()"
   ]
  },
  {
   "cell_type": "code",
   "execution_count": 46,
   "id": "aboriginal-component",
   "metadata": {},
   "outputs": [
    {
     "data": {
      "text/plain": [
       "Index(['vehiculo_marca', 'vehiculo_modelo', 'vehiculo_tipo',\n",
       "       'vehiculo_traccion', 'vehiculo_cilindrada', 'vehiculo_tipo_transmision',\n",
       "       'vehiculo_tipo_combustible', 'vehiculo_standard_emision', 'emision_CO2',\n",
       "       'consumo_urbano', 'consumo_extraurbano', 'consumo_mixto'],\n",
       "      dtype='object')"
      ]
     },
     "execution_count": 46,
     "metadata": {},
     "output_type": "execute_result"
    }
   ],
   "source": [
    "df.columns\n"
   ]
  },
  {
   "cell_type": "code",
   "execution_count": 47,
   "id": "sensitive-intervention",
   "metadata": {},
   "outputs": [
    {
     "data": {
      "text/html": [
       "<div>\n",
       "<style scoped>\n",
       "    .dataframe tbody tr th:only-of-type {\n",
       "        vertical-align: middle;\n",
       "    }\n",
       "\n",
       "    .dataframe tbody tr th {\n",
       "        vertical-align: top;\n",
       "    }\n",
       "\n",
       "    .dataframe thead th {\n",
       "        text-align: right;\n",
       "    }\n",
       "</style>\n",
       "<table border=\"1\" class=\"dataframe\">\n",
       "  <thead>\n",
       "    <tr style=\"text-align: right;\">\n",
       "      <th></th>\n",
       "      <th>count</th>\n",
       "      <th>mean</th>\n",
       "      <th>std</th>\n",
       "      <th>min</th>\n",
       "      <th>25%</th>\n",
       "      <th>50%</th>\n",
       "      <th>75%</th>\n",
       "      <th>max</th>\n",
       "    </tr>\n",
       "  </thead>\n",
       "  <tbody>\n",
       "    <tr>\n",
       "      <th>vehiculo_cilindrada</th>\n",
       "      <td>406.0</td>\n",
       "      <td>2084.467980</td>\n",
       "      <td>796.148300</td>\n",
       "      <td>997.00</td>\n",
       "      <td>1587.0000</td>\n",
       "      <td>1984.0</td>\n",
       "      <td>2298.0000</td>\n",
       "      <td>6496.00</td>\n",
       "    </tr>\n",
       "    <tr>\n",
       "      <th>emision_CO2</th>\n",
       "      <td>406.0</td>\n",
       "      <td>180.538473</td>\n",
       "      <td>42.006972</td>\n",
       "      <td>88.00</td>\n",
       "      <td>150.2950</td>\n",
       "      <td>175.7</td>\n",
       "      <td>204.0000</td>\n",
       "      <td>360.00</td>\n",
       "    </tr>\n",
       "    <tr>\n",
       "      <th>consumo_urbano</th>\n",
       "      <td>406.0</td>\n",
       "      <td>10.045764</td>\n",
       "      <td>4.911663</td>\n",
       "      <td>2.39</td>\n",
       "      <td>8.0575</td>\n",
       "      <td>9.4</td>\n",
       "      <td>11.1225</td>\n",
       "      <td>92.00</td>\n",
       "    </tr>\n",
       "    <tr>\n",
       "      <th>consumo_extraurbano</th>\n",
       "      <td>406.0</td>\n",
       "      <td>6.379975</td>\n",
       "      <td>1.378159</td>\n",
       "      <td>3.50</td>\n",
       "      <td>5.4625</td>\n",
       "      <td>6.1</td>\n",
       "      <td>7.0075</td>\n",
       "      <td>12.95</td>\n",
       "    </tr>\n",
       "    <tr>\n",
       "      <th>consumo_mixto</th>\n",
       "      <td>406.0</td>\n",
       "      <td>9.277389</td>\n",
       "      <td>33.017760</td>\n",
       "      <td>3.80</td>\n",
       "      <td>6.4775</td>\n",
       "      <td>7.4</td>\n",
       "      <td>8.4150</td>\n",
       "      <td>672.00</td>\n",
       "    </tr>\n",
       "  </tbody>\n",
       "</table>\n",
       "</div>"
      ],
      "text/plain": [
       "                     count         mean         std     min        25%  \\\n",
       "vehiculo_cilindrada  406.0  2084.467980  796.148300  997.00  1587.0000   \n",
       "emision_CO2          406.0   180.538473   42.006972   88.00   150.2950   \n",
       "consumo_urbano       406.0    10.045764    4.911663    2.39     8.0575   \n",
       "consumo_extraurbano  406.0     6.379975    1.378159    3.50     5.4625   \n",
       "consumo_mixto        406.0     9.277389   33.017760    3.80     6.4775   \n",
       "\n",
       "                        50%        75%      max  \n",
       "vehiculo_cilindrada  1984.0  2298.0000  6496.00  \n",
       "emision_CO2           175.7   204.0000   360.00  \n",
       "consumo_urbano          9.4    11.1225    92.00  \n",
       "consumo_extraurbano     6.1     7.0075    12.95  \n",
       "consumo_mixto           7.4     8.4150   672.00  "
      ]
     },
     "execution_count": 47,
     "metadata": {},
     "output_type": "execute_result"
    }
   ],
   "source": [
    "df.describe().T"
   ]
  },
  {
   "cell_type": "code",
   "execution_count": 48,
   "id": "standing-projector",
   "metadata": {},
   "outputs": [
    {
     "data": {
      "image/png": "[encoded data removed]",
      "text/plain": [
       "<Figure size 432x288 with 2 Axes>"
      ]
     },
     "metadata": {
      "needs_background": "light"
     },
     "output_type": "display_data"
    }
   ],
   "source": [
    "sns.heatmap(df.corr(), vmin=-1, vmax=1, center=0, cmap=\"YlGnBu\");"
   ]
  },
  {
   "cell_type": "code",
   "execution_count": 49,
   "id": "statistical-plumbing",
   "metadata": {},
   "outputs": [
    {
     "data": {
      "image/png": "[encoded data removed]",
      "text/plain": [
       "<Figure size 576x432 with 2 Axes>"
      ]
     },
     "metadata": {
      "needs_background": "light"
     },
     "output_type": "display_data"
    }
   ],
   "source": [
    "plt.rcParams['figure.figsize']=(8,6)\n",
    "sns.heatmap(df.corr(),cmap='coolwarm',linewidths=.5,fmt=\".2f\",annot = True);"
   ]
  },
  {
   "cell_type": "code",
   "execution_count": 50,
   "id": "mexican-protein",
   "metadata": {},
   "outputs": [
    {
     "data": {
      "text/plain": [
       "Text(0.5, 0, 'Tipo de Vehiculo')"
      ]
     },
     "execution_count": 50,
     "metadata": {},
     "output_type": "execute_result"
    },
    {
     "data": {
      "image/png": "[encoded data removed]",
      "text/plain": [
       "<Figure size 720x576 with 1 Axes>"
      ]
     },
     "metadata": {
      "needs_background": "light"
     },
     "output_type": "display_data"
    }
   ],
   "source": [
    "#El boxplot muestra que los camiones y 4x4 emiten mas CO2 comparado a otros tipos de vehiculoss\n",
    "\n",
    "plt.figure(figsize = (10,8))\n",
    "sns.boxplot(x=\"vehiculo_tipo\", y=\"emision_CO2\", data=df, palette = 'hls')\n",
    "plt.xticks(rotation = 'vertical')\n",
    "plt.ylabel('Emision CO2', fontsize=12)\n",
    "plt.xlabel('Tipo de Vehiculo', fontsize=12)\n"
   ]
  },
  {
   "cell_type": "code",
   "execution_count": 51,
   "id": "floral-adrian",
   "metadata": {},
   "outputs": [
    {
     "data": {
      "image/png": "[encoded data removed]",
      "text/plain": [
       "<Figure size 720x576 with 1 Axes>"
      ]
     },
     "metadata": {
      "needs_background": "light"
     },
     "output_type": "display_data"
    }
   ],
   "source": [
    "#El boxplot muestra que los vehiculos que usan GAS OIL emiten mas CO2\n",
    "plt.figure(figsize = (10,8))\n",
    "sns.boxplot(x = 'vehiculo_tipo_combustible' , y = 'emision_CO2', data = df, palette = 'hls')\n",
    "plt.ylabel('Emision CO2', fontsize=12)\n",
    "plt.xlabel('Tipo de Combustible ', fontsize=12)\n",
    "plt.show()"
   ]
  },
  {
   "cell_type": "code",
   "execution_count": 52,
   "id": "verbal-drove",
   "metadata": {},
   "outputs": [
    {
     "data": {
      "text/html": [
       "<div>\n",
       "<style scoped>\n",
       "    .dataframe tbody tr th:only-of-type {\n",
       "        vertical-align: middle;\n",
       "    }\n",
       "\n",
       "    .dataframe tbody tr th {\n",
       "        vertical-align: top;\n",
       "    }\n",
       "\n",
       "    .dataframe thead th {\n",
       "        text-align: right;\n",
       "    }\n",
       "</style>\n",
       "<table border=\"1\" class=\"dataframe\">\n",
       "  <thead>\n",
       "    <tr style=\"text-align: right;\">\n",
       "      <th></th>\n",
       "      <th>vehiculo_marca</th>\n",
       "      <th>vehiculo_modelo</th>\n",
       "      <th>vehiculo_tipo</th>\n",
       "      <th>vehiculo_traccion</th>\n",
       "      <th>vehiculo_cilindrada</th>\n",
       "      <th>vehiculo_tipo_transmision</th>\n",
       "      <th>vehiculo_tipo_combustible</th>\n",
       "      <th>vehiculo_standard_emision</th>\n",
       "      <th>emision_CO2</th>\n",
       "      <th>consumo_urbano</th>\n",
       "      <th>consumo_extraurbano</th>\n",
       "      <th>consumo_mixto</th>\n",
       "    </tr>\n",
       "  </thead>\n",
       "  <tbody>\n",
       "    <tr>\n",
       "      <th>0</th>\n",
       "      <td>TOYOTA</td>\n",
       "      <td>LAND CRUISER 200</td>\n",
       "      <td>SUV</td>\n",
       "      <td>4x4</td>\n",
       "      <td>4461.0</td>\n",
       "      <td>AUTOMATICA</td>\n",
       "      <td>GAS OIL</td>\n",
       "      <td>EURO V</td>\n",
       "      <td>260.70</td>\n",
       "      <td>11.56</td>\n",
       "      <td>8.94</td>\n",
       "      <td>9.90</td>\n",
       "    </tr>\n",
       "    <tr>\n",
       "      <th>1</th>\n",
       "      <td>RENAULT</td>\n",
       "      <td>FLUENCE 2.0 16V</td>\n",
       "      <td>4 Puertas</td>\n",
       "      <td>4x2</td>\n",
       "      <td>1997.0</td>\n",
       "      <td>CVT</td>\n",
       "      <td>NAFTA</td>\n",
       "      <td>EURO V</td>\n",
       "      <td>175.40</td>\n",
       "      <td>10.50</td>\n",
       "      <td>6.10</td>\n",
       "      <td>7.70</td>\n",
       "    </tr>\n",
       "    <tr>\n",
       "      <th>2</th>\n",
       "      <td>RENAULT</td>\n",
       "      <td>DUSTER 2.0 16v</td>\n",
       "      <td>5 Puertas</td>\n",
       "      <td>4x2</td>\n",
       "      <td>1998.0</td>\n",
       "      <td>MANUAL</td>\n",
       "      <td>NAFTA</td>\n",
       "      <td>EURO V</td>\n",
       "      <td>198.86</td>\n",
       "      <td>11.13</td>\n",
       "      <td>6.98</td>\n",
       "      <td>8.52</td>\n",
       "    </tr>\n",
       "    <tr>\n",
       "      <th>3</th>\n",
       "      <td>RENAULT</td>\n",
       "      <td>DUSTER 2.0 16v 4X4</td>\n",
       "      <td>5 Puertas</td>\n",
       "      <td>4x4</td>\n",
       "      <td>1998.0</td>\n",
       "      <td>MANUAL</td>\n",
       "      <td>NAFTA</td>\n",
       "      <td>EURO V</td>\n",
       "      <td>199.74</td>\n",
       "      <td>11.20</td>\n",
       "      <td>7.01</td>\n",
       "      <td>8.55</td>\n",
       "    </tr>\n",
       "    <tr>\n",
       "      <th>4</th>\n",
       "      <td>CITROËN</td>\n",
       "      <td>DS4</td>\n",
       "      <td>Coupe</td>\n",
       "      <td>4x2</td>\n",
       "      <td>1598.0</td>\n",
       "      <td>AUTOMATICA</td>\n",
       "      <td>NAFTA</td>\n",
       "      <td>EURO V</td>\n",
       "      <td>177.60</td>\n",
       "      <td>10.60</td>\n",
       "      <td>6.00</td>\n",
       "      <td>7.70</td>\n",
       "    </tr>\n",
       "  </tbody>\n",
       "</table>\n",
       "</div>"
      ],
      "text/plain": [
       "  vehiculo_marca     vehiculo_modelo vehiculo_tipo vehiculo_traccion  \\\n",
       "0         TOYOTA    LAND CRUISER 200           SUV               4x4   \n",
       "1        RENAULT     FLUENCE 2.0 16V     4 Puertas               4x2   \n",
       "2        RENAULT      DUSTER 2.0 16v     5 Puertas               4x2   \n",
       "3        RENAULT  DUSTER 2.0 16v 4X4     5 Puertas               4x4   \n",
       "4        CITROËN                 DS4         Coupe               4x2   \n",
       "\n",
       "   vehiculo_cilindrada vehiculo_tipo_transmision vehiculo_tipo_combustible  \\\n",
       "0               4461.0                AUTOMATICA                   GAS OIL   \n",
       "1               1997.0                       CVT                     NAFTA   \n",
       "2               1998.0                    MANUAL                     NAFTA   \n",
       "3               1998.0                    MANUAL                     NAFTA   \n",
       "4               1598.0                AUTOMATICA                     NAFTA   \n",
       "\n",
       "  vehiculo_standard_emision  emision_CO2  consumo_urbano  consumo_extraurbano  \\\n",
       "0                    EURO V       260.70           11.56                 8.94   \n",
       "1                    EURO V       175.40           10.50                 6.10   \n",
       "2                    EURO V       198.86           11.13                 6.98   \n",
       "3                    EURO V       199.74           11.20                 7.01   \n",
       "4                    EURO V       177.60           10.60                 6.00   \n",
       "\n",
       "   consumo_mixto  \n",
       "0           9.90  \n",
       "1           7.70  \n",
       "2           8.52  \n",
       "3           8.55  \n",
       "4           7.70  "
      ]
     },
     "execution_count": 52,
     "metadata": {},
     "output_type": "execute_result"
    }
   ],
   "source": [
    "df.head()"
   ]
  },
  {
   "cell_type": "code",
   "execution_count": 53,
   "id": "accompanied-description",
   "metadata": {},
   "outputs": [],
   "source": [
    "df.to_csv(path_or_buf='Data/co2_emissions_clean.csv', sep=',',\n",
    "                   header=True, encoding='utf8', index=False)"
   ]
  },
  {
   "cell_type": "code",
   "execution_count": null,
   "id": "pending-denial",
   "metadata": {},
   "outputs": [],
   "source": []
  }
 ],
 "metadata": {
  "kernelspec": {
   "display_name": "Python 3",
   "language": "python",
   "name": "python3"
  },
  "language_info": {
   "codemirror_mode": {
    "name": "ipython",
    "version": 3
   },
   "file_extension": ".py",
   "mimetype": "text/x-python",
   "name": "python",
   "nbconvert_exporter": "python",
   "pygments_lexer": "ipython3",
   "version": "3.7.7"
  }
 },
 "nbformat": 4,
 "nbformat_minor": 5
}
