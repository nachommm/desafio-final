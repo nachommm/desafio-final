{
 "cells": [
  {
   "cell_type": "markdown",
   "metadata": {},
   "source": [
    "<h2>Desafio 4 - Trabajo Final</h2>\n",
    "\n",
    "<h3>Grupo 7</h3>\n",
    "<ul>\n",
    "    <li>Ignacio Mendieta</li>\n",
    "    <li>Laura Jazmín Chao</li>\n",
    "    <li>Juan Nicolás Capistrano</li>\n",
    "    <li>Betiana Srur</li>\n",
    "    <li>Marcelo Carrizo</li>\n",
    "    \n",
    "</ul>\n",
    "<h3>Modelo de regresión Lineal y Análisis de componentes principales\n",
    "\n"
   ]
  },
  {
   "cell_type": "markdown",
   "metadata": {},
   "source": [
    "<a id=\"section_toc\"></a> \n",
    "<h2> Tabla de Contenidos </h2>\n",
    "\n",
    "[Librerías](#section_import)\n",
    "\n",
    "[Dataset](#section_dataset)\n",
    "\n",
    "[Preprocesamiento de los datos](#section_prepro)\n",
    "\n",
    "[Modelado de regresión lineal múltiple](#section_linreg)\n",
    "\n",
    "[Testeo con Grid Search y Cross Validation](#section_grid)\n",
    "\n",
    "[Testeo con Regularización Ridge y Lasso](#section_lasso_ridge)\n",
    "\n",
    "[Análisis de componentes princiales](#section_pca)\n",
    "\n",
    "[Regresión sobre componentes princiales](#section_linreg_pca)\n",
    "\n",
    "[Comparación de métricas](#section_metrics)"
   ]
  },
  {
   "cell_type": "markdown",
   "metadata": {},
   "source": [
    "<a id=\"section_import\"></a> \n",
    "<h3>Librerías</h3>\n",
    "\n",
    "[volver a TOC](#section_toc)"
   ]
  },
  {
   "cell_type": "code",
   "execution_count": 1,
   "metadata": {},
   "outputs": [],
   "source": [
    "import pandas as pd\n",
    "import numpy as np\n",
    "from datetime import datetime\n",
    "\n",
    "import matplotlib.pyplot as plt\n",
    "import matplotlib as mpl\n",
    "import seaborn as sns\n",
    "%matplotlib inline\n",
    "\n",
    "# Plotly Libraris\n",
    "import plotly.express as px\n",
    "import plotly.graph_objects as go\n",
    "from plotly.subplots import make_subplots\n"
   ]
  },
  {
   "cell_type": "code",
   "execution_count": 2,
   "metadata": {},
   "outputs": [],
   "source": [
    "from sklearn.linear_model import LinearRegression\n",
    "from sklearn import linear_model\n",
    "from sklearn import metrics\n",
    "from sklearn.model_selection import train_test_split"
   ]
  },
  {
   "cell_type": "code",
   "execution_count": 3,
   "metadata": {},
   "outputs": [],
   "source": [
    "from sklearn.preprocessing import OneHotEncoder"
   ]
  },
  {
   "cell_type": "code",
   "execution_count": 4,
   "metadata": {},
   "outputs": [],
   "source": [
    "from sklearn.model_selection import cross_val_score, cross_val_predict\n",
    "from sklearn.model_selection import GridSearchCV"
   ]
  },
  {
   "cell_type": "code",
   "execution_count": 5,
   "metadata": {},
   "outputs": [],
   "source": [
    "from sklearn.decomposition import PCA"
   ]
  },
  {
   "cell_type": "markdown",
   "metadata": {},
   "source": [
    "<a id=\"section_dataset\"></a> \n",
    "<h3>Dataset</h3>\n",
    "\n",
    "[volver a TOC](#section_toc)"
   ]
  },
  {
   "cell_type": "code",
   "execution_count": 6,
   "metadata": {},
   "outputs": [],
   "source": [
    "df = pd.read_csv('Data/co2_emissions_clean.csv')"
   ]
  },
  {
   "cell_type": "code",
   "execution_count": 7,
   "metadata": {},
   "outputs": [
    {
     "data": {
      "text/plain": [
       "(406, 12)"
      ]
     },
     "execution_count": 7,
     "metadata": {},
     "output_type": "execute_result"
    }
   ],
   "source": [
    "df.shape"
   ]
  },
  {
   "cell_type": "code",
   "execution_count": 8,
   "metadata": {},
   "outputs": [
    {
     "data": {
      "text/html": [
       "<div>\n",
       "<style scoped>\n",
       "    .dataframe tbody tr th:only-of-type {\n",
       "        vertical-align: middle;\n",
       "    }\n",
       "\n",
       "    .dataframe tbody tr th {\n",
       "        vertical-align: top;\n",
       "    }\n",
       "\n",
       "    .dataframe thead th {\n",
       "        text-align: right;\n",
       "    }\n",
       "</style>\n",
       "<table border=\"1\" class=\"dataframe\">\n",
       "  <thead>\n",
       "    <tr style=\"text-align: right;\">\n",
       "      <th></th>\n",
       "      <th>vehiculo_marca</th>\n",
       "      <th>vehiculo_modelo</th>\n",
       "      <th>vehiculo_tipo</th>\n",
       "      <th>vehiculo_traccion</th>\n",
       "      <th>vehiculo_cilindrada</th>\n",
       "      <th>vehiculo_tipo_transmision</th>\n",
       "      <th>vehiculo_tipo_combustible</th>\n",
       "      <th>vehiculo_standard_emision</th>\n",
       "      <th>emision_CO2</th>\n",
       "      <th>consumo_urbano</th>\n",
       "      <th>consumo_extraurbano</th>\n",
       "      <th>consumo_mixto</th>\n",
       "    </tr>\n",
       "  </thead>\n",
       "  <tbody>\n",
       "    <tr>\n",
       "      <th>0</th>\n",
       "      <td>TOYOTA</td>\n",
       "      <td>LAND CRUISER 200</td>\n",
       "      <td>SUV</td>\n",
       "      <td>4x4</td>\n",
       "      <td>4461.0</td>\n",
       "      <td>AUTOMATICA</td>\n",
       "      <td>GAS OIL</td>\n",
       "      <td>EURO V</td>\n",
       "      <td>260.70</td>\n",
       "      <td>11.56</td>\n",
       "      <td>8.94</td>\n",
       "      <td>9.90</td>\n",
       "    </tr>\n",
       "    <tr>\n",
       "      <th>1</th>\n",
       "      <td>RENAULT</td>\n",
       "      <td>FLUENCE 2.0 16V</td>\n",
       "      <td>4 Puertas</td>\n",
       "      <td>4x2</td>\n",
       "      <td>1997.0</td>\n",
       "      <td>CVT</td>\n",
       "      <td>NAFTA</td>\n",
       "      <td>EURO V</td>\n",
       "      <td>175.40</td>\n",
       "      <td>10.50</td>\n",
       "      <td>6.10</td>\n",
       "      <td>7.70</td>\n",
       "    </tr>\n",
       "    <tr>\n",
       "      <th>2</th>\n",
       "      <td>RENAULT</td>\n",
       "      <td>DUSTER 2.0 16v</td>\n",
       "      <td>5 Puertas</td>\n",
       "      <td>4x2</td>\n",
       "      <td>1998.0</td>\n",
       "      <td>MANUAL</td>\n",
       "      <td>NAFTA</td>\n",
       "      <td>EURO V</td>\n",
       "      <td>198.86</td>\n",
       "      <td>11.13</td>\n",
       "      <td>6.98</td>\n",
       "      <td>8.52</td>\n",
       "    </tr>\n",
       "    <tr>\n",
       "      <th>3</th>\n",
       "      <td>RENAULT</td>\n",
       "      <td>DUSTER 2.0 16v 4X4</td>\n",
       "      <td>5 Puertas</td>\n",
       "      <td>4x4</td>\n",
       "      <td>1998.0</td>\n",
       "      <td>MANUAL</td>\n",
       "      <td>NAFTA</td>\n",
       "      <td>EURO V</td>\n",
       "      <td>199.74</td>\n",
       "      <td>11.20</td>\n",
       "      <td>7.01</td>\n",
       "      <td>8.55</td>\n",
       "    </tr>\n",
       "    <tr>\n",
       "      <th>4</th>\n",
       "      <td>CITROËN</td>\n",
       "      <td>DS4</td>\n",
       "      <td>Coupe</td>\n",
       "      <td>4x2</td>\n",
       "      <td>1598.0</td>\n",
       "      <td>AUTOMATICA</td>\n",
       "      <td>NAFTA</td>\n",
       "      <td>EURO V</td>\n",
       "      <td>177.60</td>\n",
       "      <td>10.60</td>\n",
       "      <td>6.00</td>\n",
       "      <td>7.70</td>\n",
       "    </tr>\n",
       "  </tbody>\n",
       "</table>\n",
       "</div>"
      ],
      "text/plain": [
       "  vehiculo_marca     vehiculo_modelo vehiculo_tipo vehiculo_traccion  \\\n",
       "0         TOYOTA    LAND CRUISER 200           SUV               4x4   \n",
       "1        RENAULT     FLUENCE 2.0 16V     4 Puertas               4x2   \n",
       "2        RENAULT      DUSTER 2.0 16v     5 Puertas               4x2   \n",
       "3        RENAULT  DUSTER 2.0 16v 4X4     5 Puertas               4x4   \n",
       "4        CITROËN                 DS4         Coupe               4x2   \n",
       "\n",
       "   vehiculo_cilindrada vehiculo_tipo_transmision vehiculo_tipo_combustible  \\\n",
       "0               4461.0                AUTOMATICA                   GAS OIL   \n",
       "1               1997.0                       CVT                     NAFTA   \n",
       "2               1998.0                    MANUAL                     NAFTA   \n",
       "3               1998.0                    MANUAL                     NAFTA   \n",
       "4               1598.0                AUTOMATICA                     NAFTA   \n",
       "\n",
       "  vehiculo_standard_emision  emision_CO2  consumo_urbano  consumo_extraurbano  \\\n",
       "0                    EURO V       260.70           11.56                 8.94   \n",
       "1                    EURO V       175.40           10.50                 6.10   \n",
       "2                    EURO V       198.86           11.13                 6.98   \n",
       "3                    EURO V       199.74           11.20                 7.01   \n",
       "4                    EURO V       177.60           10.60                 6.00   \n",
       "\n",
       "   consumo_mixto  \n",
       "0           9.90  \n",
       "1           7.70  \n",
       "2           8.52  \n",
       "3           8.55  \n",
       "4           7.70  "
      ]
     },
     "execution_count": 8,
     "metadata": {},
     "output_type": "execute_result"
    }
   ],
   "source": [
    "df.head()"
   ]
  },
  {
   "cell_type": "markdown",
   "metadata": {},
   "source": [
    "<a id=\"section_prepro\"></a> \n",
    "<h3>Preprocesamiento de los datos</h3>\n",
    "\n",
    "[volver a TOC](#section_toc)"
   ]
  },
  {
   "cell_type": "code",
   "execution_count": 9,
   "metadata": {},
   "outputs": [
    {
     "data": {
      "text/plain": [
       "Index(['vehiculo_marca', 'vehiculo_modelo', 'vehiculo_tipo',\n",
       "       'vehiculo_traccion', 'vehiculo_cilindrada', 'vehiculo_tipo_transmision',\n",
       "       'vehiculo_tipo_combustible', 'vehiculo_standard_emision', 'emision_CO2',\n",
       "       'consumo_urbano', 'consumo_extraurbano', 'consumo_mixto'],\n",
       "      dtype='object')"
      ]
     },
     "execution_count": 9,
     "metadata": {},
     "output_type": "execute_result"
    }
   ],
   "source": [
    "df.columns"
   ]
  },
  {
   "cell_type": "code",
   "execution_count": 10,
   "metadata": {},
   "outputs": [],
   "source": [
    "categorical_columns = ['vehiculo_tipo','vehiculo_marca', 'vehiculo_traccion', 'vehiculo_tipo_transmision', 'vehiculo_standard_emision',\n",
    "   'vehiculo_tipo_combustible']"
   ]
  },
  {
   "cell_type": "code",
   "execution_count": 11,
   "metadata": {},
   "outputs": [
    {
     "data": {
      "text/plain": [
       "[array(['SUV', '4 Puertas', '5 Puertas', 'Coupe', 'Chasis Largo',\n",
       "        'PICK UP', 'Furgon', 'Camion', '4x4', 'SEDÁN 3 PUERTAS COUPÉ',\n",
       "        'Rural', 'BUS', 'PICK UP CABINA SIMPLE DOBLE',\n",
       "        'SUV \\x96 CROSSOVER 4 PUERTAS CON PORTÓN TRASERO',\n",
       "        'BERLINA 4 PUERTAS Y PORTÓN TRASERO',\n",
       "        'RURAL 4 PUERTAS CON PORTÓN TRASERO / SEDÁN 2 PUERTAS CON PORTÓN TRASERO',\n",
       "        'SEDÁN 5 PUERTAS (HATCHBACK)'], dtype=object),\n",
       " array(['TOYOTA', 'RENAULT', 'CITROËN', 'LEXUS', 'PEUGEOT', 'FORD',\n",
       "        'PEUGEOT / CITROËN', 'HYUNDAI', 'SUZUKI', 'CHEVROLET', 'LIFAN',\n",
       "        'BMW', 'CITROËN / DS', 'HONDA', 'NISSAN', 'FIAT', 'CHERY',\n",
       "        'VOLKSWAGEN', 'ALFA ROMEO', 'FAW', 'MERCEDES-BENZ', 'JEEP',\n",
       "        'LAND ROVER', 'JAC', 'VOLVO', 'SHINERAY', 'CHANGAN', 'DS', 'MINI',\n",
       "        'DOMY', 'BORGWARD', 'PORSCHE', 'AUDI', 'BAIC', 'ZANELLA', 'RAM',\n",
       "        'FOTON', 'MASERATI', 'SUBARU', 'HAVAL', 'ISUZU', 'DONGFENG',\n",
       "        'MERCEDES-AMG', 'MITSUBISHI', 'ZOTYE', 'KIA', 'GREAT WALL', 'KYC',\n",
       "        'FERRARI'], dtype=object),\n",
       " array(['4x4', '4x2', '4x2 - 4x4'], dtype=object),\n",
       " array(['AUTOMATICA', 'CVT', 'MANUAL', 'CTT', 'MANUAL AUTOMATIZADA',\n",
       "        'E-CVT (Hibrida controlada electrónicamente)'], dtype=object),\n",
       " array(['EURO V', 'EURO VI', 'EURO VI b', 'EURUO V', 'EURO VI a',\n",
       "        'EURO  V', 'EURO VI c', 'EURO VI d', 'EURO  VI b'], dtype=object),\n",
       " array(['GAS OIL', 'NAFTA', 'NAFTA / ELECTRICIDAD', 'DIESEL'], dtype=object)]"
      ]
     },
     "execution_count": 11,
     "metadata": {},
     "output_type": "execute_result"
    }
   ],
   "source": [
    "encoder_categories = []\n",
    "\n",
    "for col in categorical_columns:    \n",
    "    col_categories = df[col].unique()\n",
    "    encoder_categories.append(col_categories)\n",
    "\n",
    "encoder_categories"
   ]
  },
  {
   "cell_type": "code",
   "execution_count": null,
   "metadata": {},
   "outputs": [],
   "source": []
  },
  {
   "cell_type": "code",
   "execution_count": 12,
   "metadata": {},
   "outputs": [],
   "source": [
    "encoder = OneHotEncoder(categories = encoder_categories, sparse=False)\n",
    "encoder = encoder.fit(df[categorical_columns])"
   ]
  },
  {
   "cell_type": "code",
   "execution_count": 13,
   "metadata": {},
   "outputs": [],
   "source": [
    "X_encoded = encoder.transform(df[categorical_columns])"
   ]
  },
  {
   "cell_type": "code",
   "execution_count": 14,
   "metadata": {},
   "outputs": [
    {
     "data": {
      "text/html": [
       "<div>\n",
       "<style scoped>\n",
       "    .dataframe tbody tr th:only-of-type {\n",
       "        vertical-align: middle;\n",
       "    }\n",
       "\n",
       "    .dataframe tbody tr th {\n",
       "        vertical-align: top;\n",
       "    }\n",
       "\n",
       "    .dataframe thead th {\n",
       "        text-align: right;\n",
       "    }\n",
       "</style>\n",
       "<table border=\"1\" class=\"dataframe\">\n",
       "  <thead>\n",
       "    <tr style=\"text-align: right;\">\n",
       "      <th></th>\n",
       "      <th>vehiculo_tipo_SUV</th>\n",
       "      <th>vehiculo_tipo_4 Puertas</th>\n",
       "      <th>vehiculo_tipo_5 Puertas</th>\n",
       "      <th>vehiculo_tipo_Coupe</th>\n",
       "      <th>vehiculo_tipo_Chasis Largo</th>\n",
       "      <th>vehiculo_tipo_PICK UP</th>\n",
       "      <th>vehiculo_tipo_Furgon</th>\n",
       "      <th>vehiculo_tipo_Camion</th>\n",
       "      <th>vehiculo_tipo_4x4</th>\n",
       "      <th>vehiculo_tipo_SEDÁN 3 PUERTAS COUPÉ</th>\n",
       "      <th>...</th>\n",
       "      <th>vehiculo_standard_emision_EURUO V</th>\n",
       "      <th>vehiculo_standard_emision_EURO VI a</th>\n",
       "      <th>vehiculo_standard_emision_EURO  V</th>\n",
       "      <th>vehiculo_standard_emision_EURO VI c</th>\n",
       "      <th>vehiculo_standard_emision_EURO VI d</th>\n",
       "      <th>vehiculo_standard_emision_EURO  VI b</th>\n",
       "      <th>vehiculo_tipo_combustible_GAS OIL</th>\n",
       "      <th>vehiculo_tipo_combustible_NAFTA</th>\n",
       "      <th>vehiculo_tipo_combustible_NAFTA / ELECTRICIDAD</th>\n",
       "      <th>vehiculo_tipo_combustible_DIESEL</th>\n",
       "    </tr>\n",
       "  </thead>\n",
       "  <tbody>\n",
       "    <tr>\n",
       "      <th>0</th>\n",
       "      <td>1.0</td>\n",
       "      <td>0.0</td>\n",
       "      <td>0.0</td>\n",
       "      <td>0.0</td>\n",
       "      <td>0.0</td>\n",
       "      <td>0.0</td>\n",
       "      <td>0.0</td>\n",
       "      <td>0.0</td>\n",
       "      <td>0.0</td>\n",
       "      <td>0.0</td>\n",
       "      <td>...</td>\n",
       "      <td>0.0</td>\n",
       "      <td>0.0</td>\n",
       "      <td>0.0</td>\n",
       "      <td>0.0</td>\n",
       "      <td>0.0</td>\n",
       "      <td>0.0</td>\n",
       "      <td>1.0</td>\n",
       "      <td>0.0</td>\n",
       "      <td>0.0</td>\n",
       "      <td>0.0</td>\n",
       "    </tr>\n",
       "    <tr>\n",
       "      <th>1</th>\n",
       "      <td>0.0</td>\n",
       "      <td>1.0</td>\n",
       "      <td>0.0</td>\n",
       "      <td>0.0</td>\n",
       "      <td>0.0</td>\n",
       "      <td>0.0</td>\n",
       "      <td>0.0</td>\n",
       "      <td>0.0</td>\n",
       "      <td>0.0</td>\n",
       "      <td>0.0</td>\n",
       "      <td>...</td>\n",
       "      <td>0.0</td>\n",
       "      <td>0.0</td>\n",
       "      <td>0.0</td>\n",
       "      <td>0.0</td>\n",
       "      <td>0.0</td>\n",
       "      <td>0.0</td>\n",
       "      <td>0.0</td>\n",
       "      <td>1.0</td>\n",
       "      <td>0.0</td>\n",
       "      <td>0.0</td>\n",
       "    </tr>\n",
       "    <tr>\n",
       "      <th>2</th>\n",
       "      <td>0.0</td>\n",
       "      <td>0.0</td>\n",
       "      <td>1.0</td>\n",
       "      <td>0.0</td>\n",
       "      <td>0.0</td>\n",
       "      <td>0.0</td>\n",
       "      <td>0.0</td>\n",
       "      <td>0.0</td>\n",
       "      <td>0.0</td>\n",
       "      <td>0.0</td>\n",
       "      <td>...</td>\n",
       "      <td>0.0</td>\n",
       "      <td>0.0</td>\n",
       "      <td>0.0</td>\n",
       "      <td>0.0</td>\n",
       "      <td>0.0</td>\n",
       "      <td>0.0</td>\n",
       "      <td>0.0</td>\n",
       "      <td>1.0</td>\n",
       "      <td>0.0</td>\n",
       "      <td>0.0</td>\n",
       "    </tr>\n",
       "    <tr>\n",
       "      <th>3</th>\n",
       "      <td>0.0</td>\n",
       "      <td>0.0</td>\n",
       "      <td>1.0</td>\n",
       "      <td>0.0</td>\n",
       "      <td>0.0</td>\n",
       "      <td>0.0</td>\n",
       "      <td>0.0</td>\n",
       "      <td>0.0</td>\n",
       "      <td>0.0</td>\n",
       "      <td>0.0</td>\n",
       "      <td>...</td>\n",
       "      <td>0.0</td>\n",
       "      <td>0.0</td>\n",
       "      <td>0.0</td>\n",
       "      <td>0.0</td>\n",
       "      <td>0.0</td>\n",
       "      <td>0.0</td>\n",
       "      <td>0.0</td>\n",
       "      <td>1.0</td>\n",
       "      <td>0.0</td>\n",
       "      <td>0.0</td>\n",
       "    </tr>\n",
       "    <tr>\n",
       "      <th>4</th>\n",
       "      <td>0.0</td>\n",
       "      <td>0.0</td>\n",
       "      <td>0.0</td>\n",
       "      <td>1.0</td>\n",
       "      <td>0.0</td>\n",
       "      <td>0.0</td>\n",
       "      <td>0.0</td>\n",
       "      <td>0.0</td>\n",
       "      <td>0.0</td>\n",
       "      <td>0.0</td>\n",
       "      <td>...</td>\n",
       "      <td>0.0</td>\n",
       "      <td>0.0</td>\n",
       "      <td>0.0</td>\n",
       "      <td>0.0</td>\n",
       "      <td>0.0</td>\n",
       "      <td>0.0</td>\n",
       "      <td>0.0</td>\n",
       "      <td>1.0</td>\n",
       "      <td>0.0</td>\n",
       "      <td>0.0</td>\n",
       "    </tr>\n",
       "    <tr>\n",
       "      <th>...</th>\n",
       "      <td>...</td>\n",
       "      <td>...</td>\n",
       "      <td>...</td>\n",
       "      <td>...</td>\n",
       "      <td>...</td>\n",
       "      <td>...</td>\n",
       "      <td>...</td>\n",
       "      <td>...</td>\n",
       "      <td>...</td>\n",
       "      <td>...</td>\n",
       "      <td>...</td>\n",
       "      <td>...</td>\n",
       "      <td>...</td>\n",
       "      <td>...</td>\n",
       "      <td>...</td>\n",
       "      <td>...</td>\n",
       "      <td>...</td>\n",
       "      <td>...</td>\n",
       "      <td>...</td>\n",
       "      <td>...</td>\n",
       "      <td>...</td>\n",
       "    </tr>\n",
       "    <tr>\n",
       "      <th>401</th>\n",
       "      <td>0.0</td>\n",
       "      <td>0.0</td>\n",
       "      <td>0.0</td>\n",
       "      <td>0.0</td>\n",
       "      <td>0.0</td>\n",
       "      <td>0.0</td>\n",
       "      <td>0.0</td>\n",
       "      <td>0.0</td>\n",
       "      <td>0.0</td>\n",
       "      <td>0.0</td>\n",
       "      <td>...</td>\n",
       "      <td>0.0</td>\n",
       "      <td>0.0</td>\n",
       "      <td>0.0</td>\n",
       "      <td>0.0</td>\n",
       "      <td>0.0</td>\n",
       "      <td>1.0</td>\n",
       "      <td>0.0</td>\n",
       "      <td>0.0</td>\n",
       "      <td>1.0</td>\n",
       "      <td>0.0</td>\n",
       "    </tr>\n",
       "    <tr>\n",
       "      <th>402</th>\n",
       "      <td>1.0</td>\n",
       "      <td>0.0</td>\n",
       "      <td>0.0</td>\n",
       "      <td>0.0</td>\n",
       "      <td>0.0</td>\n",
       "      <td>0.0</td>\n",
       "      <td>0.0</td>\n",
       "      <td>0.0</td>\n",
       "      <td>0.0</td>\n",
       "      <td>0.0</td>\n",
       "      <td>...</td>\n",
       "      <td>0.0</td>\n",
       "      <td>0.0</td>\n",
       "      <td>0.0</td>\n",
       "      <td>0.0</td>\n",
       "      <td>0.0</td>\n",
       "      <td>0.0</td>\n",
       "      <td>0.0</td>\n",
       "      <td>0.0</td>\n",
       "      <td>1.0</td>\n",
       "      <td>0.0</td>\n",
       "    </tr>\n",
       "    <tr>\n",
       "      <th>403</th>\n",
       "      <td>0.0</td>\n",
       "      <td>0.0</td>\n",
       "      <td>0.0</td>\n",
       "      <td>1.0</td>\n",
       "      <td>0.0</td>\n",
       "      <td>0.0</td>\n",
       "      <td>0.0</td>\n",
       "      <td>0.0</td>\n",
       "      <td>0.0</td>\n",
       "      <td>0.0</td>\n",
       "      <td>...</td>\n",
       "      <td>0.0</td>\n",
       "      <td>0.0</td>\n",
       "      <td>0.0</td>\n",
       "      <td>0.0</td>\n",
       "      <td>0.0</td>\n",
       "      <td>0.0</td>\n",
       "      <td>0.0</td>\n",
       "      <td>1.0</td>\n",
       "      <td>0.0</td>\n",
       "      <td>0.0</td>\n",
       "    </tr>\n",
       "    <tr>\n",
       "      <th>404</th>\n",
       "      <td>0.0</td>\n",
       "      <td>0.0</td>\n",
       "      <td>0.0</td>\n",
       "      <td>1.0</td>\n",
       "      <td>0.0</td>\n",
       "      <td>0.0</td>\n",
       "      <td>0.0</td>\n",
       "      <td>0.0</td>\n",
       "      <td>0.0</td>\n",
       "      <td>0.0</td>\n",
       "      <td>...</td>\n",
       "      <td>0.0</td>\n",
       "      <td>0.0</td>\n",
       "      <td>0.0</td>\n",
       "      <td>0.0</td>\n",
       "      <td>0.0</td>\n",
       "      <td>0.0</td>\n",
       "      <td>0.0</td>\n",
       "      <td>1.0</td>\n",
       "      <td>0.0</td>\n",
       "      <td>0.0</td>\n",
       "    </tr>\n",
       "    <tr>\n",
       "      <th>405</th>\n",
       "      <td>0.0</td>\n",
       "      <td>1.0</td>\n",
       "      <td>0.0</td>\n",
       "      <td>0.0</td>\n",
       "      <td>0.0</td>\n",
       "      <td>0.0</td>\n",
       "      <td>0.0</td>\n",
       "      <td>0.0</td>\n",
       "      <td>0.0</td>\n",
       "      <td>0.0</td>\n",
       "      <td>...</td>\n",
       "      <td>0.0</td>\n",
       "      <td>0.0</td>\n",
       "      <td>0.0</td>\n",
       "      <td>0.0</td>\n",
       "      <td>0.0</td>\n",
       "      <td>0.0</td>\n",
       "      <td>0.0</td>\n",
       "      <td>1.0</td>\n",
       "      <td>0.0</td>\n",
       "      <td>0.0</td>\n",
       "    </tr>\n",
       "  </tbody>\n",
       "</table>\n",
       "<p>406 rows × 88 columns</p>\n",
       "</div>"
      ],
      "text/plain": [
       "     vehiculo_tipo_SUV  vehiculo_tipo_4 Puertas  vehiculo_tipo_5 Puertas  \\\n",
       "0                  1.0                      0.0                      0.0   \n",
       "1                  0.0                      1.0                      0.0   \n",
       "2                  0.0                      0.0                      1.0   \n",
       "3                  0.0                      0.0                      1.0   \n",
       "4                  0.0                      0.0                      0.0   \n",
       "..                 ...                      ...                      ...   \n",
       "401                0.0                      0.0                      0.0   \n",
       "402                1.0                      0.0                      0.0   \n",
       "403                0.0                      0.0                      0.0   \n",
       "404                0.0                      0.0                      0.0   \n",
       "405                0.0                      1.0                      0.0   \n",
       "\n",
       "     vehiculo_tipo_Coupe  vehiculo_tipo_Chasis Largo  vehiculo_tipo_PICK UP  \\\n",
       "0                    0.0                         0.0                    0.0   \n",
       "1                    0.0                         0.0                    0.0   \n",
       "2                    0.0                         0.0                    0.0   \n",
       "3                    0.0                         0.0                    0.0   \n",
       "4                    1.0                         0.0                    0.0   \n",
       "..                   ...                         ...                    ...   \n",
       "401                  0.0                         0.0                    0.0   \n",
       "402                  0.0                         0.0                    0.0   \n",
       "403                  1.0                         0.0                    0.0   \n",
       "404                  1.0                         0.0                    0.0   \n",
       "405                  0.0                         0.0                    0.0   \n",
       "\n",
       "     vehiculo_tipo_Furgon  vehiculo_tipo_Camion  vehiculo_tipo_4x4  \\\n",
       "0                     0.0                   0.0                0.0   \n",
       "1                     0.0                   0.0                0.0   \n",
       "2                     0.0                   0.0                0.0   \n",
       "3                     0.0                   0.0                0.0   \n",
       "4                     0.0                   0.0                0.0   \n",
       "..                    ...                   ...                ...   \n",
       "401                   0.0                   0.0                0.0   \n",
       "402                   0.0                   0.0                0.0   \n",
       "403                   0.0                   0.0                0.0   \n",
       "404                   0.0                   0.0                0.0   \n",
       "405                   0.0                   0.0                0.0   \n",
       "\n",
       "     vehiculo_tipo_SEDÁN 3 PUERTAS COUPÉ  ...  \\\n",
       "0                                    0.0  ...   \n",
       "1                                    0.0  ...   \n",
       "2                                    0.0  ...   \n",
       "3                                    0.0  ...   \n",
       "4                                    0.0  ...   \n",
       "..                                   ...  ...   \n",
       "401                                  0.0  ...   \n",
       "402                                  0.0  ...   \n",
       "403                                  0.0  ...   \n",
       "404                                  0.0  ...   \n",
       "405                                  0.0  ...   \n",
       "\n",
       "     vehiculo_standard_emision_EURUO V  vehiculo_standard_emision_EURO VI a  \\\n",
       "0                                  0.0                                  0.0   \n",
       "1                                  0.0                                  0.0   \n",
       "2                                  0.0                                  0.0   \n",
       "3                                  0.0                                  0.0   \n",
       "4                                  0.0                                  0.0   \n",
       "..                                 ...                                  ...   \n",
       "401                                0.0                                  0.0   \n",
       "402                                0.0                                  0.0   \n",
       "403                                0.0                                  0.0   \n",
       "404                                0.0                                  0.0   \n",
       "405                                0.0                                  0.0   \n",
       "\n",
       "     vehiculo_standard_emision_EURO  V  vehiculo_standard_emision_EURO VI c  \\\n",
       "0                                  0.0                                  0.0   \n",
       "1                                  0.0                                  0.0   \n",
       "2                                  0.0                                  0.0   \n",
       "3                                  0.0                                  0.0   \n",
       "4                                  0.0                                  0.0   \n",
       "..                                 ...                                  ...   \n",
       "401                                0.0                                  0.0   \n",
       "402                                0.0                                  0.0   \n",
       "403                                0.0                                  0.0   \n",
       "404                                0.0                                  0.0   \n",
       "405                                0.0                                  0.0   \n",
       "\n",
       "     vehiculo_standard_emision_EURO VI d  \\\n",
       "0                                    0.0   \n",
       "1                                    0.0   \n",
       "2                                    0.0   \n",
       "3                                    0.0   \n",
       "4                                    0.0   \n",
       "..                                   ...   \n",
       "401                                  0.0   \n",
       "402                                  0.0   \n",
       "403                                  0.0   \n",
       "404                                  0.0   \n",
       "405                                  0.0   \n",
       "\n",
       "     vehiculo_standard_emision_EURO  VI b  vehiculo_tipo_combustible_GAS OIL  \\\n",
       "0                                     0.0                                1.0   \n",
       "1                                     0.0                                0.0   \n",
       "2                                     0.0                                0.0   \n",
       "3                                     0.0                                0.0   \n",
       "4                                     0.0                                0.0   \n",
       "..                                    ...                                ...   \n",
       "401                                   1.0                                0.0   \n",
       "402                                   0.0                                0.0   \n",
       "403                                   0.0                                0.0   \n",
       "404                                   0.0                                0.0   \n",
       "405                                   0.0                                0.0   \n",
       "\n",
       "     vehiculo_tipo_combustible_NAFTA  \\\n",
       "0                                0.0   \n",
       "1                                1.0   \n",
       "2                                1.0   \n",
       "3                                1.0   \n",
       "4                                1.0   \n",
       "..                               ...   \n",
       "401                              0.0   \n",
       "402                              0.0   \n",
       "403                              1.0   \n",
       "404                              1.0   \n",
       "405                              1.0   \n",
       "\n",
       "     vehiculo_tipo_combustible_NAFTA / ELECTRICIDAD  \\\n",
       "0                                               0.0   \n",
       "1                                               0.0   \n",
       "2                                               0.0   \n",
       "3                                               0.0   \n",
       "4                                               0.0   \n",
       "..                                              ...   \n",
       "401                                             1.0   \n",
       "402                                             1.0   \n",
       "403                                             0.0   \n",
       "404                                             0.0   \n",
       "405                                             0.0   \n",
       "\n",
       "     vehiculo_tipo_combustible_DIESEL  \n",
       "0                                 0.0  \n",
       "1                                 0.0  \n",
       "2                                 0.0  \n",
       "3                                 0.0  \n",
       "4                                 0.0  \n",
       "..                                ...  \n",
       "401                               0.0  \n",
       "402                               0.0  \n",
       "403                               0.0  \n",
       "404                               0.0  \n",
       "405                               0.0  \n",
       "\n",
       "[406 rows x 88 columns]"
      ]
     },
     "execution_count": 14,
     "metadata": {},
     "output_type": "execute_result"
    }
   ],
   "source": [
    "X_dummies = pd.DataFrame(X_encoded, columns = encoder.get_feature_names(categorical_columns))\n",
    "X_dummies"
   ]
  },
  {
   "cell_type": "code",
   "execution_count": 15,
   "metadata": {},
   "outputs": [],
   "source": [
    "X_numerical = df[['vehiculo_cilindrada', 'consumo_urbano', 'consumo_extraurbano', 'consumo_mixto']]"
   ]
  },
  {
   "cell_type": "code",
   "execution_count": 16,
   "metadata": {},
   "outputs": [],
   "source": [
    "#X = pd.concat([df, X_dummies], axis = 1)\n",
    "X = pd.concat([X_numerical, X_dummies], axis = 1)"
   ]
  },
  {
   "cell_type": "code",
   "execution_count": 17,
   "metadata": {},
   "outputs": [
    {
     "data": {
      "text/plain": [
       "(406, 92)"
      ]
     },
     "execution_count": 17,
     "metadata": {},
     "output_type": "execute_result"
    }
   ],
   "source": [
    "X.shape"
   ]
  },
  {
   "cell_type": "code",
   "execution_count": 18,
   "metadata": {},
   "outputs": [
    {
     "data": {
      "text/html": [
       "<div>\n",
       "<style scoped>\n",
       "    .dataframe tbody tr th:only-of-type {\n",
       "        vertical-align: middle;\n",
       "    }\n",
       "\n",
       "    .dataframe tbody tr th {\n",
       "        vertical-align: top;\n",
       "    }\n",
       "\n",
       "    .dataframe thead th {\n",
       "        text-align: right;\n",
       "    }\n",
       "</style>\n",
       "<table border=\"1\" class=\"dataframe\">\n",
       "  <thead>\n",
       "    <tr style=\"text-align: right;\">\n",
       "      <th></th>\n",
       "      <th>vehiculo_cilindrada</th>\n",
       "      <th>consumo_urbano</th>\n",
       "      <th>consumo_extraurbano</th>\n",
       "      <th>consumo_mixto</th>\n",
       "      <th>vehiculo_tipo_SUV</th>\n",
       "      <th>vehiculo_tipo_4 Puertas</th>\n",
       "      <th>vehiculo_tipo_5 Puertas</th>\n",
       "      <th>vehiculo_tipo_Coupe</th>\n",
       "      <th>vehiculo_tipo_Chasis Largo</th>\n",
       "      <th>vehiculo_tipo_PICK UP</th>\n",
       "      <th>...</th>\n",
       "      <th>vehiculo_standard_emision_EURUO V</th>\n",
       "      <th>vehiculo_standard_emision_EURO VI a</th>\n",
       "      <th>vehiculo_standard_emision_EURO  V</th>\n",
       "      <th>vehiculo_standard_emision_EURO VI c</th>\n",
       "      <th>vehiculo_standard_emision_EURO VI d</th>\n",
       "      <th>vehiculo_standard_emision_EURO  VI b</th>\n",
       "      <th>vehiculo_tipo_combustible_GAS OIL</th>\n",
       "      <th>vehiculo_tipo_combustible_NAFTA</th>\n",
       "      <th>vehiculo_tipo_combustible_NAFTA / ELECTRICIDAD</th>\n",
       "      <th>vehiculo_tipo_combustible_DIESEL</th>\n",
       "    </tr>\n",
       "  </thead>\n",
       "  <tbody>\n",
       "    <tr>\n",
       "      <th>0</th>\n",
       "      <td>4461.0</td>\n",
       "      <td>11.56</td>\n",
       "      <td>8.94</td>\n",
       "      <td>9.90</td>\n",
       "      <td>1.0</td>\n",
       "      <td>0.0</td>\n",
       "      <td>0.0</td>\n",
       "      <td>0.0</td>\n",
       "      <td>0.0</td>\n",
       "      <td>0.0</td>\n",
       "      <td>...</td>\n",
       "      <td>0.0</td>\n",
       "      <td>0.0</td>\n",
       "      <td>0.0</td>\n",
       "      <td>0.0</td>\n",
       "      <td>0.0</td>\n",
       "      <td>0.0</td>\n",
       "      <td>1.0</td>\n",
       "      <td>0.0</td>\n",
       "      <td>0.0</td>\n",
       "      <td>0.0</td>\n",
       "    </tr>\n",
       "    <tr>\n",
       "      <th>1</th>\n",
       "      <td>1997.0</td>\n",
       "      <td>10.50</td>\n",
       "      <td>6.10</td>\n",
       "      <td>7.70</td>\n",
       "      <td>0.0</td>\n",
       "      <td>1.0</td>\n",
       "      <td>0.0</td>\n",
       "      <td>0.0</td>\n",
       "      <td>0.0</td>\n",
       "      <td>0.0</td>\n",
       "      <td>...</td>\n",
       "      <td>0.0</td>\n",
       "      <td>0.0</td>\n",
       "      <td>0.0</td>\n",
       "      <td>0.0</td>\n",
       "      <td>0.0</td>\n",
       "      <td>0.0</td>\n",
       "      <td>0.0</td>\n",
       "      <td>1.0</td>\n",
       "      <td>0.0</td>\n",
       "      <td>0.0</td>\n",
       "    </tr>\n",
       "    <tr>\n",
       "      <th>2</th>\n",
       "      <td>1998.0</td>\n",
       "      <td>11.13</td>\n",
       "      <td>6.98</td>\n",
       "      <td>8.52</td>\n",
       "      <td>0.0</td>\n",
       "      <td>0.0</td>\n",
       "      <td>1.0</td>\n",
       "      <td>0.0</td>\n",
       "      <td>0.0</td>\n",
       "      <td>0.0</td>\n",
       "      <td>...</td>\n",
       "      <td>0.0</td>\n",
       "      <td>0.0</td>\n",
       "      <td>0.0</td>\n",
       "      <td>0.0</td>\n",
       "      <td>0.0</td>\n",
       "      <td>0.0</td>\n",
       "      <td>0.0</td>\n",
       "      <td>1.0</td>\n",
       "      <td>0.0</td>\n",
       "      <td>0.0</td>\n",
       "    </tr>\n",
       "    <tr>\n",
       "      <th>3</th>\n",
       "      <td>1998.0</td>\n",
       "      <td>11.20</td>\n",
       "      <td>7.01</td>\n",
       "      <td>8.55</td>\n",
       "      <td>0.0</td>\n",
       "      <td>0.0</td>\n",
       "      <td>1.0</td>\n",
       "      <td>0.0</td>\n",
       "      <td>0.0</td>\n",
       "      <td>0.0</td>\n",
       "      <td>...</td>\n",
       "      <td>0.0</td>\n",
       "      <td>0.0</td>\n",
       "      <td>0.0</td>\n",
       "      <td>0.0</td>\n",
       "      <td>0.0</td>\n",
       "      <td>0.0</td>\n",
       "      <td>0.0</td>\n",
       "      <td>1.0</td>\n",
       "      <td>0.0</td>\n",
       "      <td>0.0</td>\n",
       "    </tr>\n",
       "    <tr>\n",
       "      <th>4</th>\n",
       "      <td>1598.0</td>\n",
       "      <td>10.60</td>\n",
       "      <td>6.00</td>\n",
       "      <td>7.70</td>\n",
       "      <td>0.0</td>\n",
       "      <td>0.0</td>\n",
       "      <td>0.0</td>\n",
       "      <td>1.0</td>\n",
       "      <td>0.0</td>\n",
       "      <td>0.0</td>\n",
       "      <td>...</td>\n",
       "      <td>0.0</td>\n",
       "      <td>0.0</td>\n",
       "      <td>0.0</td>\n",
       "      <td>0.0</td>\n",
       "      <td>0.0</td>\n",
       "      <td>0.0</td>\n",
       "      <td>0.0</td>\n",
       "      <td>1.0</td>\n",
       "      <td>0.0</td>\n",
       "      <td>0.0</td>\n",
       "    </tr>\n",
       "  </tbody>\n",
       "</table>\n",
       "<p>5 rows × 92 columns</p>\n",
       "</div>"
      ],
      "text/plain": [
       "   vehiculo_cilindrada  consumo_urbano  consumo_extraurbano  consumo_mixto  \\\n",
       "0               4461.0           11.56                 8.94           9.90   \n",
       "1               1997.0           10.50                 6.10           7.70   \n",
       "2               1998.0           11.13                 6.98           8.52   \n",
       "3               1998.0           11.20                 7.01           8.55   \n",
       "4               1598.0           10.60                 6.00           7.70   \n",
       "\n",
       "   vehiculo_tipo_SUV  vehiculo_tipo_4 Puertas  vehiculo_tipo_5 Puertas  \\\n",
       "0                1.0                      0.0                      0.0   \n",
       "1                0.0                      1.0                      0.0   \n",
       "2                0.0                      0.0                      1.0   \n",
       "3                0.0                      0.0                      1.0   \n",
       "4                0.0                      0.0                      0.0   \n",
       "\n",
       "   vehiculo_tipo_Coupe  vehiculo_tipo_Chasis Largo  vehiculo_tipo_PICK UP  \\\n",
       "0                  0.0                         0.0                    0.0   \n",
       "1                  0.0                         0.0                    0.0   \n",
       "2                  0.0                         0.0                    0.0   \n",
       "3                  0.0                         0.0                    0.0   \n",
       "4                  1.0                         0.0                    0.0   \n",
       "\n",
       "   ...  vehiculo_standard_emision_EURUO V  \\\n",
       "0  ...                                0.0   \n",
       "1  ...                                0.0   \n",
       "2  ...                                0.0   \n",
       "3  ...                                0.0   \n",
       "4  ...                                0.0   \n",
       "\n",
       "   vehiculo_standard_emision_EURO VI a  vehiculo_standard_emision_EURO  V  \\\n",
       "0                                  0.0                                0.0   \n",
       "1                                  0.0                                0.0   \n",
       "2                                  0.0                                0.0   \n",
       "3                                  0.0                                0.0   \n",
       "4                                  0.0                                0.0   \n",
       "\n",
       "   vehiculo_standard_emision_EURO VI c  vehiculo_standard_emision_EURO VI d  \\\n",
       "0                                  0.0                                  0.0   \n",
       "1                                  0.0                                  0.0   \n",
       "2                                  0.0                                  0.0   \n",
       "3                                  0.0                                  0.0   \n",
       "4                                  0.0                                  0.0   \n",
       "\n",
       "   vehiculo_standard_emision_EURO  VI b  vehiculo_tipo_combustible_GAS OIL  \\\n",
       "0                                   0.0                                1.0   \n",
       "1                                   0.0                                0.0   \n",
       "2                                   0.0                                0.0   \n",
       "3                                   0.0                                0.0   \n",
       "4                                   0.0                                0.0   \n",
       "\n",
       "   vehiculo_tipo_combustible_NAFTA  \\\n",
       "0                              0.0   \n",
       "1                              1.0   \n",
       "2                              1.0   \n",
       "3                              1.0   \n",
       "4                              1.0   \n",
       "\n",
       "   vehiculo_tipo_combustible_NAFTA / ELECTRICIDAD  \\\n",
       "0                                             0.0   \n",
       "1                                             0.0   \n",
       "2                                             0.0   \n",
       "3                                             0.0   \n",
       "4                                             0.0   \n",
       "\n",
       "   vehiculo_tipo_combustible_DIESEL  \n",
       "0                               0.0  \n",
       "1                               0.0  \n",
       "2                               0.0  \n",
       "3                               0.0  \n",
       "4                               0.0  \n",
       "\n",
       "[5 rows x 92 columns]"
      ]
     },
     "execution_count": 18,
     "metadata": {},
     "output_type": "execute_result"
    }
   ],
   "source": [
    "X.head()"
   ]
  },
  {
   "cell_type": "code",
   "execution_count": 19,
   "metadata": {},
   "outputs": [],
   "source": [
    "y = df.emision_CO2"
   ]
  },
  {
   "cell_type": "code",
   "execution_count": 20,
   "metadata": {},
   "outputs": [
    {
     "data": {
      "text/plain": [
       "(406,)"
      ]
     },
     "execution_count": 20,
     "metadata": {},
     "output_type": "execute_result"
    }
   ],
   "source": [
    "y.shape"
   ]
  },
  {
   "cell_type": "markdown",
   "metadata": {},
   "source": [
    "<a id=\"section_linreg\"></a> \n",
    "<h3>Modelado de regresión lineal múltiple</h3>\n",
    "\n",
    "[volver a TOC](#section_toc)"
   ]
  },
  {
   "cell_type": "code",
   "execution_count": 21,
   "metadata": {},
   "outputs": [],
   "source": [
    "# Instanciamos el modelo\n",
    "linreg = LinearRegression()"
   ]
  },
  {
   "cell_type": "code",
   "execution_count": 22,
   "metadata": {},
   "outputs": [],
   "source": [
    "X_train, X_test, y_train, y_test = train_test_split(X, y, shuffle=True, random_state = 40)"
   ]
  },
  {
   "cell_type": "code",
   "execution_count": 23,
   "metadata": {},
   "outputs": [
    {
     "data": {
      "text/plain": [
       "LinearRegression()"
      ]
     },
     "execution_count": 23,
     "metadata": {},
     "output_type": "execute_result"
    }
   ],
   "source": [
    "# Entrenamos el modelo \n",
    "linreg.fit(X_train, y_train)"
   ]
  },
  {
   "cell_type": "code",
   "execution_count": 24,
   "metadata": {},
   "outputs": [],
   "source": [
    "y_pred = linreg.predict(X_test)"
   ]
  },
  {
   "cell_type": "code",
   "execution_count": 25,
   "metadata": {},
   "outputs": [],
   "source": [
    "from sklearn import metrics"
   ]
  },
  {
   "cell_type": "code",
   "execution_count": 26,
   "metadata": {},
   "outputs": [
    {
     "name": "stdout",
     "output_type": "stream",
     "text": [
      "Mean Absolute Error (MAE):      8.898676\n",
      "Mean Squared Error (MSE):     144.034563\n",
      "RMSE:                          12.001440\n",
      "R2:                             0.927828\n",
      "dtype: float64\n"
     ]
    }
   ],
   "source": [
    "reg_metrics = pd.Series([\n",
    "                metrics.mean_absolute_error(y_test, y_pred), \n",
    "                metrics.mean_squared_error(y_test, y_pred),\n",
    "                np.sqrt(metrics.mean_squared_error(y_test, y_pred)),\n",
    "                metrics.r2_score(y_test, y_pred)])\n",
    "\n",
    "\n",
    "reg_metrics.index = ['Mean Absolute Error (MAE):', 'Mean Squared Error (MSE):', 'RMSE:', 'R2:']\n",
    "\n",
    "print(reg_metrics)"
   ]
  },
  {
   "cell_type": "code",
   "execution_count": 27,
   "metadata": {},
   "outputs": [],
   "source": [
    "## Agregar las labels y modificar colores!!!\n",
    "\n",
    "def graf_lineal_model(y, y_pred):\n",
    "    # Graficamos el modelo\n",
    "    plt.scatter(y_pred, y, s=30, alpha=0.4, c='b')\n",
    "    plt.plot(y,y, '-.',c='g')\n",
    "    plt.show()\n",
    "    print(y.shape)\n",
    "    print(y_pred.shape)\n",
    "    return"
   ]
  },
  {
   "cell_type": "code",
   "execution_count": 28,
   "metadata": {},
   "outputs": [
    {
     "data": {
      "image/png": "[encoded data removed]",
      "text/plain": [
       "<Figure size 432x288 with 1 Axes>"
      ]
     },
     "metadata": {
      "needs_background": "light"
     },
     "output_type": "display_data"
    },
    {
     "name": "stdout",
     "output_type": "stream",
     "text": [
      "(102,)\n",
      "(102,)\n"
     ]
    }
   ],
   "source": [
    "graf_lineal_model(y_test, y_pred)"
   ]
  },
  {
   "cell_type": "markdown",
   "metadata": {},
   "source": [
    "<a id=\"section_grid\"></a> \n",
    "<h3>Testeo con Gridsearch y CrossValidation</h3>\n",
    "\n",
    "[volver a TOC](#section_toc)"
   ]
  },
  {
   "cell_type": "code",
   "execution_count": null,
   "metadata": {},
   "outputs": [],
   "source": [
    "\n",
    "model = LinearRegression()\n",
    "parameters = {'fit_intercept':[True], 'normalize':[True],}\n",
    "\n",
    "grid = GridSearchCV(model,parameters, cv=3)\n",
    "grid.fit(X_train, y_train)\n",
    "\n",
    "print (\"r2 / variance : \", grid.best_score_)\n",
    "print(\"Residual sum of squares: %.2f\"% np.mean((grid.predict(X_test) - y_test) ** 2))"
   ]
  },
  {
   "cell_type": "code",
   "execution_count": null,
   "metadata": {},
   "outputs": [],
   "source": [
    "reg = LinearRegression()\n",
    "parameters = {'fit_intercept':('True', 'False'), 'normalize':('True', 'False'), 'copy_X':('True', 'False')}\n",
    "clf3 = GridSearchCV(reg, parameters)\n",
    "clf3.fit(X, y)\n",
    "print (\"r2 / variance : \", grid.best_score_)"
   ]
  },
  {
   "cell_type": "code",
   "execution_count": null,
   "metadata": {},
   "outputs": [],
   "source": [
    "scores = cross_val_score(reg, X_train, y_train, cv = 5) #cv is the number of folds, scores will give an array of scores\n",
    "print (scores, np.mean(scores), np.std(scores))\n",
    "print ('R2:', metrics.r2_score(y_test, y_pred))"
   ]
  },
  {
   "cell_type": "code",
   "execution_count": null,
   "metadata": {},
   "outputs": [],
   "source": [
    "predictions = cross_val_predict(reg, X_test, y_test, cv = 5)\n",
    "#predictions\n",
    "#accuracy = metrics.r2_scores(y_test, predictions)\n",
    "print ('R2:', metrics.r2_score(y_test, predictions))"
   ]
  },
  {
   "cell_type": "code",
   "execution_count": null,
   "metadata": {},
   "outputs": [],
   "source": [
    " graf_lineal_model(y_test, predictions)"
   ]
  },
  {
   "cell_type": "code",
   "execution_count": null,
   "metadata": {},
   "outputs": [],
   "source": [
    "sns.distplot(y_test, bins = 20)\n",
    "plt.show()\n",
    "sns.distplot(predictions, bins = 20, color = 'red')\n",
    "plt.show()"
   ]
  },
  {
   "cell_type": "code",
   "execution_count": null,
   "metadata": {},
   "outputs": [],
   "source": [
    "f, ax = plt.subplots(1, figsize=(10, 8), sharex=True)\n",
    "\n",
    "sns.stripplot(y = y_test, color = 'darkmagenta', alpha = 0.7, label = 'Test')\n",
    "sns.stripplot(y = predictions, color = 'lawngreen', alpha = 0.7, label = 'Predición')\n",
    "plt.legend()\n",
    "plt.show()"
   ]
  },
  {
   "cell_type": "markdown",
   "metadata": {},
   "source": [
    "<a id=\"section_lasso_ridge\"></a> \n",
    "<h3>Testeo con Regularización Ridge y Lasso</h3>\n",
    "\n",
    "[volver a TOC](#section_toc)"
   ]
  },
  {
   "cell_type": "code",
   "execution_count": null,
   "metadata": {},
   "outputs": [],
   "source": []
  },
  {
   "cell_type": "code",
   "execution_count": 29,
   "metadata": {},
   "outputs": [],
   "source": [
    "lasso = linear_model.Lasso(alpha=0.1)\n",
    "lasso.fit(X_train, y_train)\n",
    "y_pred_lasso = lasso.predict(X_test)"
   ]
  },
  {
   "cell_type": "code",
   "execution_count": 30,
   "metadata": {},
   "outputs": [
    {
     "name": "stdout",
     "output_type": "stream",
     "text": [
      "Mean Absolute Error (MAE):      8.322778\n",
      "Mean Squared Error (MSE):     129.127981\n",
      "RMSE:                          11.363449\n",
      "R2:                             0.935297\n",
      "dtype: float64\n"
     ]
    }
   ],
   "source": [
    "lasso_metrics = pd.Series([\n",
    "                metrics.mean_absolute_error(y_test, y_pred_lasso), \n",
    "                metrics.mean_squared_error(y_test, y_pred_lasso),\n",
    "                np.sqrt(metrics.mean_squared_error(y_test, y_pred_lasso)),\n",
    "                metrics.r2_score(y_test, y_pred_lasso)])\n",
    "\n",
    "\n",
    "lasso_metrics.index = ['Mean Absolute Error (MAE):', 'Mean Squared Error (MSE):', 'RMSE:', 'R2:']\n",
    "\n",
    "print(lasso_metrics)"
   ]
  },
  {
   "cell_type": "code",
   "execution_count": 31,
   "metadata": {},
   "outputs": [],
   "source": [
    "ridge = linear_model.Ridge(alpha=0.1)\n",
    "ridge.fit(X_train, y_train)\n",
    "y_pred_ridge = ridge.predict(X_test)\n",
    "\n",
    "\n",
    "\n"
   ]
  },
  {
   "cell_type": "code",
   "execution_count": 32,
   "metadata": {},
   "outputs": [
    {
     "name": "stdout",
     "output_type": "stream",
     "text": [
      "Mean Absolute Error (MAE):      8.786627\n",
      "Mean Squared Error (MSE):     139.728954\n",
      "RMSE:                          11.820700\n",
      "R2:                             0.929986\n",
      "dtype: float64\n"
     ]
    }
   ],
   "source": [
    "ridge_metrics = pd.Series([\n",
    "                metrics.mean_absolute_error(y_test, y_pred_ridge), \n",
    "                metrics.mean_squared_error(y_test, y_pred_ridge),\n",
    "                np.sqrt(metrics.mean_squared_error(y_test, y_pred_ridge)),\n",
    "                metrics.r2_score(y_test, y_pred_ridge)])\n",
    "\n",
    "\n",
    "ridge_metrics.index = ['Mean Absolute Error (MAE):', 'Mean Squared Error (MSE):', 'RMSE:', 'R2:']\n",
    "\n",
    "print(ridge_metrics)"
   ]
  },
  {
   "cell_type": "code",
   "execution_count": null,
   "metadata": {},
   "outputs": [],
   "source": []
  },
  {
   "cell_type": "markdown",
   "metadata": {},
   "source": [
    "<a id=\"section_pca\"></a> \n",
    "<h3>Análisis de componentes principales</h3>\n",
    "\n",
    "[volver a TOC](#section_toc)"
   ]
  },
  {
   "cell_type": "code",
   "execution_count": null,
   "metadata": {},
   "outputs": [],
   "source": []
  },
  {
   "cell_type": "code",
   "execution_count": 33,
   "metadata": {},
   "outputs": [],
   "source": [
    "model_pca = PCA(4).fit(X)"
   ]
  },
  {
   "cell_type": "code",
   "execution_count": 34,
   "metadata": {},
   "outputs": [
    {
     "data": {
      "text/html": [
       "<div>\n",
       "<style scoped>\n",
       "    .dataframe tbody tr th:only-of-type {\n",
       "        vertical-align: middle;\n",
       "    }\n",
       "\n",
       "    .dataframe tbody tr th {\n",
       "        vertical-align: top;\n",
       "    }\n",
       "\n",
       "    .dataframe thead th {\n",
       "        text-align: right;\n",
       "    }\n",
       "</style>\n",
       "<table border=\"1\" class=\"dataframe\">\n",
       "  <thead>\n",
       "    <tr style=\"text-align: right;\">\n",
       "      <th></th>\n",
       "      <th>PC1</th>\n",
       "      <th>PC2</th>\n",
       "      <th>PC3</th>\n",
       "      <th>PC4</th>\n",
       "    </tr>\n",
       "  </thead>\n",
       "  <tbody>\n",
       "    <tr>\n",
       "      <th>vehiculo_cilindrada</th>\n",
       "      <td>0.999997</td>\n",
       "      <td>0.000234</td>\n",
       "      <td>-0.002166</td>\n",
       "      <td>-0.000946</td>\n",
       "    </tr>\n",
       "    <tr>\n",
       "      <th>consumo_urbano</th>\n",
       "      <td>0.002103</td>\n",
       "      <td>-0.001338</td>\n",
       "      <td>0.997351</td>\n",
       "      <td>-0.062044</td>\n",
       "    </tr>\n",
       "    <tr>\n",
       "      <th>consumo_extraurbano</th>\n",
       "      <td>0.001127</td>\n",
       "      <td>0.001355</td>\n",
       "      <td>0.062838</td>\n",
       "      <td>0.938894</td>\n",
       "    </tr>\n",
       "    <tr>\n",
       "      <th>consumo_mixto</th>\n",
       "      <td>-0.000233</td>\n",
       "      <td>0.999995</td>\n",
       "      <td>0.001213</td>\n",
       "      <td>-0.001250</td>\n",
       "    </tr>\n",
       "    <tr>\n",
       "      <th>vehiculo_tipo_SUV</th>\n",
       "      <td>0.000016</td>\n",
       "      <td>-0.000138</td>\n",
       "      <td>-0.000516</td>\n",
       "      <td>0.027695</td>\n",
       "    </tr>\n",
       "    <tr>\n",
       "      <th>...</th>\n",
       "      <td>...</td>\n",
       "      <td>...</td>\n",
       "      <td>...</td>\n",
       "      <td>...</td>\n",
       "    </tr>\n",
       "    <tr>\n",
       "      <th>vehiculo_standard_emision_EURO  VI b</th>\n",
       "      <td>-0.000001</td>\n",
       "      <td>-0.000011</td>\n",
       "      <td>-0.000820</td>\n",
       "      <td>-0.000582</td>\n",
       "    </tr>\n",
       "    <tr>\n",
       "      <th>vehiculo_tipo_combustible_GAS OIL</th>\n",
       "      <td>0.000054</td>\n",
       "      <td>-0.000214</td>\n",
       "      <td>-0.009859</td>\n",
       "      <td>0.077812</td>\n",
       "    </tr>\n",
       "    <tr>\n",
       "      <th>vehiculo_tipo_combustible_NAFTA</th>\n",
       "      <td>-0.000076</td>\n",
       "      <td>0.000407</td>\n",
       "      <td>0.019821</td>\n",
       "      <td>-0.021971</td>\n",
       "    </tr>\n",
       "    <tr>\n",
       "      <th>vehiculo_tipo_combustible_NAFTA / ELECTRICIDAD</th>\n",
       "      <td>0.000025</td>\n",
       "      <td>-0.000160</td>\n",
       "      <td>-0.008709</td>\n",
       "      <td>-0.048866</td>\n",
       "    </tr>\n",
       "    <tr>\n",
       "      <th>vehiculo_tipo_combustible_DIESEL</th>\n",
       "      <td>-0.000003</td>\n",
       "      <td>-0.000033</td>\n",
       "      <td>-0.001254</td>\n",
       "      <td>-0.006975</td>\n",
       "    </tr>\n",
       "  </tbody>\n",
       "</table>\n",
       "<p>92 rows × 4 columns</p>\n",
       "</div>"
      ],
      "text/plain": [
       "                                                     PC1       PC2       PC3  \\\n",
       "vehiculo_cilindrada                             0.999997  0.000234 -0.002166   \n",
       "consumo_urbano                                  0.002103 -0.001338  0.997351   \n",
       "consumo_extraurbano                             0.001127  0.001355  0.062838   \n",
       "consumo_mixto                                  -0.000233  0.999995  0.001213   \n",
       "vehiculo_tipo_SUV                               0.000016 -0.000138 -0.000516   \n",
       "...                                                  ...       ...       ...   \n",
       "vehiculo_standard_emision_EURO  VI b           -0.000001 -0.000011 -0.000820   \n",
       "vehiculo_tipo_combustible_GAS OIL               0.000054 -0.000214 -0.009859   \n",
       "vehiculo_tipo_combustible_NAFTA                -0.000076  0.000407  0.019821   \n",
       "vehiculo_tipo_combustible_NAFTA / ELECTRICIDAD  0.000025 -0.000160 -0.008709   \n",
       "vehiculo_tipo_combustible_DIESEL               -0.000003 -0.000033 -0.001254   \n",
       "\n",
       "                                                     PC4  \n",
       "vehiculo_cilindrada                            -0.000946  \n",
       "consumo_urbano                                 -0.062044  \n",
       "consumo_extraurbano                             0.938894  \n",
       "consumo_mixto                                  -0.001250  \n",
       "vehiculo_tipo_SUV                               0.027695  \n",
       "...                                                  ...  \n",
       "vehiculo_standard_emision_EURO  VI b           -0.000582  \n",
       "vehiculo_tipo_combustible_GAS OIL               0.077812  \n",
       "vehiculo_tipo_combustible_NAFTA                -0.021971  \n",
       "vehiculo_tipo_combustible_NAFTA / ELECTRICIDAD -0.048866  \n",
       "vehiculo_tipo_combustible_DIESEL               -0.006975  \n",
       "\n",
       "[92 rows x 4 columns]"
      ]
     },
     "execution_count": 34,
     "metadata": {},
     "output_type": "execute_result"
    }
   ],
   "source": [
    "pca_loadings = pd.DataFrame(model_pca.components_.T, index=X.columns, columns=['PC1', 'PC2', 'PC3', 'PC4'],)\n",
    "pca_loadings"
   ]
  },
  {
   "cell_type": "code",
   "execution_count": 35,
   "metadata": {},
   "outputs": [],
   "source": [
    "# Para evitar notación científica en pandas\n",
    "\n",
    "pd.options.display.float_format = '{:.2f}'.format"
   ]
  },
  {
   "cell_type": "code",
   "execution_count": 36,
   "metadata": {},
   "outputs": [
    {
     "data": {
      "text/html": [
       "<div>\n",
       "<style scoped>\n",
       "    .dataframe tbody tr th:only-of-type {\n",
       "        vertical-align: middle;\n",
       "    }\n",
       "\n",
       "    .dataframe tbody tr th {\n",
       "        vertical-align: top;\n",
       "    }\n",
       "\n",
       "    .dataframe thead th {\n",
       "        text-align: right;\n",
       "    }\n",
       "</style>\n",
       "<table border=\"1\" class=\"dataframe\">\n",
       "  <thead>\n",
       "    <tr style=\"text-align: right;\">\n",
       "      <th></th>\n",
       "      <th>PC1</th>\n",
       "      <th>PC2</th>\n",
       "      <th>PC3</th>\n",
       "      <th>PC4</th>\n",
       "    </tr>\n",
       "  </thead>\n",
       "  <tbody>\n",
       "    <tr>\n",
       "      <th>PC1</th>\n",
       "      <td>1.00</td>\n",
       "      <td>-0.00</td>\n",
       "      <td>0.00</td>\n",
       "      <td>0.00</td>\n",
       "    </tr>\n",
       "    <tr>\n",
       "      <th>PC2</th>\n",
       "      <td>-0.00</td>\n",
       "      <td>1.00</td>\n",
       "      <td>0.00</td>\n",
       "      <td>-0.00</td>\n",
       "    </tr>\n",
       "    <tr>\n",
       "      <th>PC3</th>\n",
       "      <td>0.00</td>\n",
       "      <td>0.00</td>\n",
       "      <td>1.00</td>\n",
       "      <td>0.00</td>\n",
       "    </tr>\n",
       "    <tr>\n",
       "      <th>PC4</th>\n",
       "      <td>0.00</td>\n",
       "      <td>-0.00</td>\n",
       "      <td>0.00</td>\n",
       "      <td>1.00</td>\n",
       "    </tr>\n",
       "  </tbody>\n",
       "</table>\n",
       "</div>"
      ],
      "text/plain": [
       "      PC1   PC2  PC3   PC4\n",
       "PC1  1.00 -0.00 0.00  0.00\n",
       "PC2 -0.00  1.00 0.00 -0.00\n",
       "PC3  0.00  0.00 1.00  0.00\n",
       "PC4  0.00 -0.00 0.00  1.00"
      ]
     },
     "execution_count": 36,
     "metadata": {},
     "output_type": "execute_result"
    }
   ],
   "source": [
    "pca_loadings.T.dot(pca_loadings)\n",
    "# multiplico matrices (producto interno) para calcular la covarianza entre PC1, PC2 y demás."
   ]
  },
  {
   "cell_type": "code",
   "execution_count": 37,
   "metadata": {},
   "outputs": [
    {
     "data": {
      "text/html": [
       "<div>\n",
       "<style scoped>\n",
       "    .dataframe tbody tr th:only-of-type {\n",
       "        vertical-align: middle;\n",
       "    }\n",
       "\n",
       "    .dataframe tbody tr th {\n",
       "        vertical-align: top;\n",
       "    }\n",
       "\n",
       "    .dataframe thead th {\n",
       "        text-align: right;\n",
       "    }\n",
       "</style>\n",
       "<table border=\"1\" class=\"dataframe\">\n",
       "  <thead>\n",
       "    <tr style=\"text-align: right;\">\n",
       "      <th></th>\n",
       "      <th>PC1</th>\n",
       "      <th>PC2</th>\n",
       "      <th>PC3</th>\n",
       "      <th>PC4</th>\n",
       "    </tr>\n",
       "  </thead>\n",
       "  <tbody>\n",
       "    <tr>\n",
       "      <th>0</th>\n",
       "      <td>2376.53</td>\n",
       "      <td>1.18</td>\n",
       "      <td>-3.49</td>\n",
       "      <td>0.44</td>\n",
       "    </tr>\n",
       "    <tr>\n",
       "      <th>1</th>\n",
       "      <td>-87.47</td>\n",
       "      <td>-1.60</td>\n",
       "      <td>0.62</td>\n",
       "      <td>-0.36</td>\n",
       "    </tr>\n",
       "    <tr>\n",
       "      <th>2</th>\n",
       "      <td>-86.47</td>\n",
       "      <td>-0.78</td>\n",
       "      <td>1.31</td>\n",
       "      <td>0.61</td>\n",
       "    </tr>\n",
       "    <tr>\n",
       "      <th>3</th>\n",
       "      <td>-86.46</td>\n",
       "      <td>-0.75</td>\n",
       "      <td>1.38</td>\n",
       "      <td>0.90</td>\n",
       "    </tr>\n",
       "    <tr>\n",
       "      <th>4</th>\n",
       "      <td>-486.47</td>\n",
       "      <td>-1.69</td>\n",
       "      <td>1.60</td>\n",
       "      <td>-0.04</td>\n",
       "    </tr>\n",
       "  </tbody>\n",
       "</table>\n",
       "</div>"
      ],
      "text/plain": [
       "      PC1   PC2   PC3   PC4\n",
       "0 2376.53  1.18 -3.49  0.44\n",
       "1  -87.47 -1.60  0.62 -0.36\n",
       "2  -86.47 -0.78  1.31  0.61\n",
       "3  -86.46 -0.75  1.38  0.90\n",
       "4 -486.47 -1.69  1.60 -0.04"
      ]
     },
     "execution_count": 37,
     "metadata": {},
     "output_type": "execute_result"
    }
   ],
   "source": [
    "df_pca = pd.DataFrame(model_pca.fit_transform(X),index=X.index, columns=['PC1', 'PC2', 'PC3', 'PC4'])\n",
    "df_pca.head()"
   ]
  },
  {
   "cell_type": "code",
   "execution_count": 38,
   "metadata": {},
   "outputs": [
    {
     "data": {
      "image/png": "[encoded data removed]",
      "text/plain": [
       "<Figure size 504x360 with 1 Axes>"
      ]
     },
     "metadata": {
      "needs_background": "light"
     },
     "output_type": "display_data"
    }
   ],
   "source": [
    "plt.figure(figsize=(7,5))\n",
    "\n",
    "plt.plot([1,2,3,4], model_pca.explained_variance_ratio_, '-o', label='Componente individual')\n",
    "plt.plot([1,2,3,4], np.cumsum(model_pca.explained_variance_ratio_), '-s', label='Acumulado')\n",
    "\n",
    "plt.ylabel('Porcentaje de Varianza Explicada')\n",
    "plt.xlabel('Componentes Principales')\n",
    "plt.xlim(0.75,4.25)\n",
    "plt.ylim(0,1.05)\n",
    "plt.xticks([1,2,3,4])\n",
    "plt.legend(loc=6);"
   ]
  },
  {
   "cell_type": "code",
   "execution_count": 39,
   "metadata": {},
   "outputs": [],
   "source": [
    "def plot_explained_variance(components_count, X):\n",
    "\n",
    "    model_pca = PCA(components_count).fit(X)\n",
    "\n",
    "    explained_variance = model_pca.explained_variance_ratio_\n",
    "\n",
    "    #print(explained_variance)\n",
    "\n",
    "    cumulative_explained_variance = np.cumsum(explained_variance)\n",
    "\n",
    "    #print(cumulative_explained_variance)\n",
    "\n",
    "    plt.plot(cumulative_explained_variance)\n",
    "    plt.xlabel('Número de componentes')\n",
    "    plt.ylabel('% de varianza explicada');\n",
    "        "
   ]
  },
  {
   "cell_type": "code",
   "execution_count": 40,
   "metadata": {},
   "outputs": [
    {
     "data": {
      "image/png": "[encoded data removed]",
      "text/plain": [
       "<Figure size 432x288 with 1 Axes>"
      ]
     },
     "metadata": {
      "needs_background": "light"
     },
     "output_type": "display_data"
    }
   ],
   "source": [
    "plot_explained_variance(components_count = 50, X = X)"
   ]
  },
  {
   "cell_type": "code",
   "execution_count": 41,
   "metadata": {},
   "outputs": [
    {
     "data": {
      "image/png": "[encoded data removed]",
      "text/plain": [
       "<Figure size 432x288 with 1 Axes>"
      ]
     },
     "metadata": {
      "needs_background": "light"
     },
     "output_type": "display_data"
    }
   ],
   "source": [
    "plot_explained_variance(components_count = 50, X = X)"
   ]
  },
  {
   "cell_type": "code",
   "execution_count": 42,
   "metadata": {},
   "outputs": [
    {
     "data": {
      "image/png": "[encoded data removed]",
      "text/plain": [
       "<Figure size 432x288 with 1 Axes>"
      ]
     },
     "metadata": {
      "needs_background": "light"
     },
     "output_type": "display_data"
    }
   ],
   "source": [
    "plot_explained_variance(components_count = 10, X = X)"
   ]
  },
  {
   "cell_type": "code",
   "execution_count": 44,
   "metadata": {},
   "outputs": [
    {
     "data": {
      "image/png": "[encoded data removed]",
      "text/plain": [
       "<Figure size 432x288 with 1 Axes>"
      ]
     },
     "metadata": {
      "needs_background": "light"
     },
     "output_type": "display_data"
    }
   ],
   "source": [
    "plot_explained_variance(components_count = 2, X = X)"
   ]
  },
  {
   "cell_type": "markdown",
   "metadata": {},
   "source": [
    "<a id=\"section_linreg_pca\"></a> \n",
    "<h3>Regresión sobre componentes principales</h3>\n",
    "\n",
    "[volver a TOC](#section_toc)"
   ]
  },
  {
   "cell_type": "code",
   "execution_count": 45,
   "metadata": {},
   "outputs": [],
   "source": [
    "model_pca2 = PCA(2).fit(X_train)\n",
    "X_train_PCA = model_pca.transform(X_train)\n",
    "X_test_PCA = model_pca.transform(X_test)"
   ]
  },
  {
   "cell_type": "code",
   "execution_count": 46,
   "metadata": {},
   "outputs": [],
   "source": [
    "linreg_pca = linear_model.LinearRegression()\n",
    "linreg_pca.fit(X_train_PCA, y_train)\n",
    "# linear_fit\n",
    "y_pred_pca = linreg_pca.predict(X_test_PCA)\n"
   ]
  },
  {
   "cell_type": "code",
   "execution_count": 47,
   "metadata": {},
   "outputs": [],
   "source": [
    "from sklearn import metrics"
   ]
  },
  {
   "cell_type": "code",
   "execution_count": 48,
   "metadata": {},
   "outputs": [
    {
     "name": "stdout",
     "output_type": "stream",
     "text": [
      "Mean Absolute Error (MAE):     9.20\n",
      "Mean Squared Error (MSE):    164.87\n",
      "RMSE:                         12.84\n",
      "R2:                            0.92\n",
      "dtype: float64\n"
     ]
    }
   ],
   "source": [
    "reg_pca_metrics = pd.Series([\n",
    "                metrics.mean_absolute_error(y_test, y_pred_pca), \n",
    "                metrics.mean_squared_error(y_test, y_pred_pca),\n",
    "                np.sqrt(metrics.mean_squared_error(y_test, y_pred_pca)),\n",
    "                metrics.r2_score(y_test, y_pred_pca)])\n",
    "\n",
    "\n",
    "reg_pca_metrics.index = ['Mean Absolute Error (MAE):', 'Mean Squared Error (MSE):', 'RMSE:', 'R2:']\n",
    "\n",
    "print(reg_pca_metrics)"
   ]
  },
  {
   "cell_type": "code",
   "execution_count": 49,
   "metadata": {},
   "outputs": [
    {
     "name": "stdout",
     "output_type": "stream",
     "text": [
      "Mean Absolute Error (MAE):     9.22\n",
      "Mean Squared Error (MSE):    165.52\n",
      "RMSE:                         12.87\n",
      "R2:                            0.92\n",
      "dtype: float64\n"
     ]
    }
   ],
   "source": [
    "lasso = linear_model.Lasso(alpha=0.1)\n",
    "lasso.fit(X_train_PCA, y_train)\n",
    "y_pred_pca_lasso = lasso.predict(X_test_PCA)\n",
    "\n",
    "lasso_pca_metrics = pd.Series([\n",
    "                metrics.mean_absolute_error(y_test, y_pred_pca_lasso), \n",
    "                metrics.mean_squared_error(y_test, y_pred_pca_lasso),\n",
    "                np.sqrt(metrics.mean_squared_error(y_test, y_pred_pca_lasso)),\n",
    "                metrics.r2_score(y_test, y_pred_pca_lasso)])\n",
    "\n",
    "\n",
    "lasso_pca_metrics.index = ['Mean Absolute Error (MAE):', 'Mean Squared Error (MSE):', 'RMSE:', 'R2:']\n",
    "\n",
    "print(lasso_pca_metrics)"
   ]
  },
  {
   "cell_type": "code",
   "execution_count": 52,
   "metadata": {},
   "outputs": [
    {
     "name": "stdout",
     "output_type": "stream",
     "text": [
      "Mean Absolute Error (MAE):     9.20\n",
      "Mean Squared Error (MSE):    164.91\n",
      "RMSE:                         12.84\n",
      "R2:                            0.92\n",
      "dtype: float64\n"
     ]
    }
   ],
   "source": [
    "ridge = linear_model.Ridge(alpha=0.1)\n",
    "ridge.fit(X_train_PCA, y_train)\n",
    "y_pred_pca_ridge = ridge.predict(X_test_PCA)\n",
    "\n",
    "ridge_pca_metrics = pd.Series([\n",
    "                metrics.mean_absolute_error(y_test, y_pred_pca_ridge), \n",
    "                metrics.mean_squared_error(y_test, y_pred_pca_ridge),\n",
    "                np.sqrt(metrics.mean_squared_error(y_test, y_pred_pca_ridge)),\n",
    "                metrics.r2_score(y_test, y_pred_pca_ridge)])\n",
    "\n",
    "\n",
    "ridge_pca_metrics.index = ['Mean Absolute Error (MAE):', 'Mean Squared Error (MSE):', 'RMSE:', 'R2:']\n",
    "\n",
    "print(ridge_pca_metrics)"
   ]
  },
  {
   "cell_type": "markdown",
   "metadata": {},
   "source": [
    "<a id=\"section_metrics\"></a> \n",
    "<h3>Comparación de métricas</h3>\n",
    "\n",
    "[volver a TOC](#section_toc)"
   ]
  },
  {
   "cell_type": "code",
   "execution_count": 53,
   "metadata": {},
   "outputs": [
    {
     "data": {
      "text/html": [
       "<div>\n",
       "<style scoped>\n",
       "    .dataframe tbody tr th:only-of-type {\n",
       "        vertical-align: middle;\n",
       "    }\n",
       "\n",
       "    .dataframe tbody tr th {\n",
       "        vertical-align: top;\n",
       "    }\n",
       "\n",
       "    .dataframe thead th {\n",
       "        text-align: right;\n",
       "    }\n",
       "</style>\n",
       "<table border=\"1\" class=\"dataframe\">\n",
       "  <thead>\n",
       "    <tr style=\"text-align: right;\">\n",
       "      <th></th>\n",
       "      <th>Mean Absolute Error (MAE):</th>\n",
       "      <th>Mean Squared Error (MSE):</th>\n",
       "      <th>RMSE:</th>\n",
       "      <th>R2:</th>\n",
       "    </tr>\n",
       "  </thead>\n",
       "  <tbody>\n",
       "    <tr>\n",
       "      <th>regresion lineal</th>\n",
       "      <td>8.90</td>\n",
       "      <td>144.03</td>\n",
       "      <td>12.00</td>\n",
       "      <td>0.93</td>\n",
       "    </tr>\n",
       "    <tr>\n",
       "      <th>lasso</th>\n",
       "      <td>8.32</td>\n",
       "      <td>129.13</td>\n",
       "      <td>11.36</td>\n",
       "      <td>0.94</td>\n",
       "    </tr>\n",
       "    <tr>\n",
       "      <th>ridge</th>\n",
       "      <td>8.79</td>\n",
       "      <td>139.73</td>\n",
       "      <td>11.82</td>\n",
       "      <td>0.93</td>\n",
       "    </tr>\n",
       "    <tr>\n",
       "      <th>pca - regresion lineal</th>\n",
       "      <td>9.20</td>\n",
       "      <td>164.87</td>\n",
       "      <td>12.84</td>\n",
       "      <td>0.92</td>\n",
       "    </tr>\n",
       "    <tr>\n",
       "      <th>pca - lasso</th>\n",
       "      <td>9.22</td>\n",
       "      <td>165.52</td>\n",
       "      <td>12.87</td>\n",
       "      <td>0.92</td>\n",
       "    </tr>\n",
       "    <tr>\n",
       "      <th>pca - ridge</th>\n",
       "      <td>9.20</td>\n",
       "      <td>164.91</td>\n",
       "      <td>12.84</td>\n",
       "      <td>0.92</td>\n",
       "    </tr>\n",
       "  </tbody>\n",
       "</table>\n",
       "</div>"
      ],
      "text/plain": [
       "                        Mean Absolute Error (MAE):  Mean Squared Error (MSE):  \\\n",
       "regresion lineal                              8.90                     144.03   \n",
       "lasso                                         8.32                     129.13   \n",
       "ridge                                         8.79                     139.73   \n",
       "pca - regresion lineal                        9.20                     164.87   \n",
       "pca - lasso                                   9.22                     165.52   \n",
       "pca - ridge                                   9.20                     164.91   \n",
       "\n",
       "                        RMSE:  R2:  \n",
       "regresion lineal        12.00 0.93  \n",
       "lasso                   11.36 0.94  \n",
       "ridge                   11.82 0.93  \n",
       "pca - regresion lineal  12.84 0.92  \n",
       "pca - lasso             12.87 0.92  \n",
       "pca - ridge             12.84 0.92  "
      ]
     },
     "execution_count": 53,
     "metadata": {},
     "output_type": "execute_result"
    }
   ],
   "source": [
    "metrics = pd.DataFrame([reg_metrics, lasso_metrics, ridge_metrics, \n",
    "                        reg_pca_metrics, lasso_pca_metrics, ridge_pca_metrics ])\n",
    "metrics.index = [\"regresion lineal\", \"lasso\", \"ridge\", \"pca - regresion lineal\", \"pca - lasso\", \"pca - ridge\"]\n",
    "metrics"
   ]
  },
  {
   "cell_type": "code",
   "execution_count": null,
   "metadata": {},
   "outputs": [],
   "source": []
  }
 ],
 "metadata": {
  "kernelspec": {
   "display_name": "Python 3",
   "language": "python",
   "name": "python3"
  },
  "language_info": {
   "codemirror_mode": {
    "name": "ipython",
    "version": 3
   },
   "file_extension": ".py",
   "mimetype": "text/x-python",
   "name": "python",
   "nbconvert_exporter": "python",
   "pygments_lexer": "ipython3",
   "version": "3.8.3"
  }
 },
 "nbformat": 4,
 "nbformat_minor": 5
}
