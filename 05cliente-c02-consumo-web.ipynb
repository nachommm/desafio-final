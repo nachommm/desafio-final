{
 "cells": [
  {
   "cell_type": "markdown",
   "metadata": {},
   "source": [
    "<h2>Desafio 4 - Trabajo Final</h2>\n",
    "\n",
    "<h3>Grupo 7</h3>\n",
    "<ul>\n",
    "    <li>Ignacio Mendieta</li>\n",
    "    <li>Laura Jazmín Chao</li>\n",
    "    <li>Juan Nicolás Capistrano</li>\n",
    "    <li>Betiana Srur</li>\n",
    "    <li>Marcelo Carrizo</li>\n",
    "    \n",
    "</ul>\n",
    "<h3>Ejemplo de cliente para predicción de consumo de CO2"
   ]
  },
  {
   "cell_type": "markdown",
   "metadata": {},
   "source": [
    "<a id=\"section_toc\"></a> \n",
    "<h2> Tabla de Contenidos </h2>\n",
    "\n",
    "[Librerías](#section_import)\n",
    "\n",
    "[Entrenamiento del model](#section_train)\n",
    "\n",
    "[Visualización de coeficientes](#section_coef)\n",
    "\n",
    "[Solicitud de predicción](#section_predict)\n",
    "\n",
    "[Disponibilización del servidor](#section_server)"
   ]
  },
  {
   "cell_type": "markdown",
   "metadata": {},
   "source": [
    "<a id=\"section_import\"></a> \n",
    "<h3>Librerías</h3>\n",
    "\n",
    "[volver a TOC](#section_toc)"
   ]
  },
  {
   "cell_type": "code",
   "execution_count": 23,
   "metadata": {},
   "outputs": [],
   "source": [
    "# Algunas de las de siempre\n",
    "import numpy as np\n",
    "import pandas as pd\n",
    "\n",
    "# Las que vamos a necesitar para hacer los llamados y para lidiar con los datos en formato json\n",
    "import requests\n",
    "from flask import  Flask, request, jsonify, render_template\n",
    "import json\n",
    "\n"
   ]
  },
  {
   "cell_type": "markdown",
   "metadata": {},
   "source": [
    "***"
   ]
  },
  {
   "cell_type": "markdown",
   "metadata": {},
   "source": [
    "<a id=\"section_train\"></a> \n",
    "<h3>Entrenamiento del modelo</h3>\n",
    "\n",
    "[volver a TOC](#section_toc)"
   ]
  },
  {
   "cell_type": "code",
   "execution_count": 24,
   "metadata": {},
   "outputs": [],
   "source": [
    "df = pd.read_csv('Data/co2_emissions_clean.csv')\n",
    "df.dropna(inplace=True)"
   ]
  },
  {
   "cell_type": "code",
   "execution_count": 25,
   "metadata": {},
   "outputs": [],
   "source": [
    "# Definimos los datos que vamos a pasar en el request\n",
    "base=df.to_json() #dataframe en formato json\n",
    "lista_predictores=df.drop(columns=['vehiculo_marca', 'vehiculo_modelo', 'vehiculo_tipo',\n",
    "                                   'vehiculo_traccion','vehiculo_tipo_transmision','vehiculo_tipo_combustible', \n",
    "                                   'vehiculo_standard_emision', 'emision_CO2']).columns.values #features para entrenar el modelo\n",
    "variable_target='emision_CO2' \n",
    "directory='/media/ignacio/DH/desafio-final' #dirección donde vamos a guardar el modelo  \n",
    "name='predecir_consumo_Co2' #nombre modelo\n",
    "\n",
    "url = 'http://localhost:5000/entrenar_modelo' #definimos la URL para hacer el llamado local con el endpoint correspondiente"
   ]
  },
  {
   "cell_type": "code",
   "execution_count": 26,
   "metadata": {},
   "outputs": [
    {
     "data": {
      "text/plain": [
       "{'r2_resultado_test': 0.8430373731777071,\n",
       " 'r2_resultado_train': 0.892148002360325}"
      ]
     },
     "metadata": {},
     "output_type": "display_data"
    }
   ],
   "source": [
    "# Hacemos el pedido y vemos los resultados.\n",
    "modelo = requests.post(url,\n",
    "                       json = {'base' : base,\n",
    "                               'lista_predictores':list(lista_predictores),\n",
    "                               'target':variable_target,\n",
    "                               'directory':directory,\n",
    "                               'name':name})\n",
    "display(modelo.json())"
   ]
  },
  {
   "cell_type": "markdown",
   "metadata": {},
   "source": [
    "***"
   ]
  },
  {
   "cell_type": "markdown",
   "metadata": {},
   "source": [
    "<a id=\"section_coef\"></a> \n",
    "<h3>Visualización de Coeficientes</h3>\n",
    "\n",
    "[volver a TOC](#section_toc)"
   ]
  },
  {
   "cell_type": "code",
   "execution_count": 27,
   "metadata": {},
   "outputs": [],
   "source": [
    "#Definimos los datos que vamos a pasar en el pedido\n",
    "dir_modelo='/media/ignacio/DH/desafio-final' #dirección donde se encuentra el modelo entrenado\n",
    "nombre_modelo='predecir_consumo_Co2' #nombre del modelo entrenado\n",
    "palette='hot' #paleta de colores para usar en el gráfico de barras\n",
    "size=(25,8) #tamaño de la figura\n",
    "predictores=list(lista_predictores) #lista con los features en el mismo orden en el que fueron pasados en el modelo\n",
    "url = 'http://localhost:5000/plot_coeficientes' #definimos la URL para hacer el llamado local con el endpoint correspondiente"
   ]
  },
  {
   "cell_type": "code",
   "execution_count": 28,
   "metadata": {},
   "outputs": [
    {
     "name": "stdout",
     "output_type": "stream",
     "text": [
      "{\"coeficientes\":{\"consumo_extraurbano\":14.598618527,\"consumo_mixto\":11.4344132914,\"consumo_urbano\":0.0380119041,\"vehiculo_cilindrada\":0.0005168963}}\n"
     ]
    }
   ],
   "source": [
    "# Hacemos el pedido e imprimimos el output\n",
    "coef = requests.post(url,\n",
    "                     json = {'direccion' : dir_modelo,\n",
    "                             'nombre_modelo':nombre_modelo,\n",
    "                             'paleta_colores':palette,\n",
    "                             'tamano':size,\n",
    "                             'predictores':predictores})\n",
    "print(coef.json())"
   ]
  },
  {
   "cell_type": "markdown",
   "metadata": {},
   "source": [
    "***"
   ]
  },
  {
   "cell_type": "markdown",
   "metadata": {},
   "source": [
    "<a id=\"section_predict\"></a> \n",
    "<h3>Solicitud de predicción</h3>\n",
    "\n",
    "[volver a TOC](#section_toc)"
   ]
  },
  {
   "cell_type": "code",
   "execution_count": null,
   "metadata": {},
   "outputs": [],
   "source": [
    "#Definimos las variables que vamos a utilizar para el pedido\n",
    "direccion_modelo='/media/ignacio/DH/desafio-final' #dirección donde se encuentra el modelo grabado\n",
    "nombre_modelo='predecir_consumo_Co2' #nombre del modelo grabado\n",
    "\n",
    "features=df.drop(columns=['vehiculo_marca', 'vehiculo_modelo', 'vehiculo_tipo',\n",
    "                                   'vehiculo_traccion','vehiculo_potencia','lca_numero', \n",
    "                                   'vehiculo_id_motor','vehiculo_id_motor','fecha_firma',\n",
    "                                   'ensayo_gei_numero','ensayo_gei_laboratorio','id_etiqueta',\n",
    "                                  'vehiculo_tipo_transmision','vehiculo_tipo_combustible', \n",
    "                                   'vehiculo_standard_emision', 'emision_CO2']).iloc[3].to_json() #elegimos features de un jugador \n",
    "#cualquiera de la base para chequear que funcione bien el llamado\n",
    "url = 'http://localhost:5000/prediccion' #definimos la URL para hacer el llamado local con el endpoint correspondiente\n"
   ]
  },
  {
   "cell_type": "code",
   "execution_count": 30,
   "metadata": {},
   "outputs": [
    {
     "name": "stdout",
     "output_type": "stream",
     "text": [
      "{'prediccion_co2': 193.9197967070415}\n"
     ]
    }
   ],
   "source": [
    "#Hacemos el llamado\n",
    "pred = requests.get(url, \n",
    "                    params = {'direccion':direccion_modelo,\n",
    "                              'nombre_modelo':nombre_modelo,\n",
    "                              'features':[features]})\n",
    "print(pred.json())"
   ]
  },
  {
   "cell_type": "code",
   "execution_count": null,
   "metadata": {},
   "outputs": [],
   "source": []
  }
 ],
 "metadata": {
  "kernelspec": {
   "display_name": "Python 3",
   "language": "python",
   "name": "python3"
  },
  "language_info": {
   "codemirror_mode": {
    "name": "ipython",
    "version": 3
   },
   "file_extension": ".py",
   "mimetype": "text/x-python",
   "name": "python",
   "nbconvert_exporter": "python",
   "pygments_lexer": "ipython3",
   "version": "3.7.9"
  }
 },
 "nbformat": 4,
 "nbformat_minor": 4
}
