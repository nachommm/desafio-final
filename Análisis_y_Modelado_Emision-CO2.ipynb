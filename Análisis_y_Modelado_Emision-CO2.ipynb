{
 "cells": [
  {
   "cell_type": "code",
   "execution_count": 420,
   "id": "illegal-crazy",
   "metadata": {},
   "outputs": [],
   "source": [
    "import pandas as pd\n",
    "import numpy as np\n",
    "from datetime import datetime\n",
    "\n",
    "import matplotlib.pyplot as plt\n",
    "import matplotlib as mpl\n",
    "import seaborn as sns\n",
    "%matplotlib inline\n",
    "\n",
    "# Plotly Libraris\n",
    "import plotly.express as px\n",
    "import plotly.graph_objects as go\n",
    "from plotly.subplots import make_subplots\n",
    "\n",
    "import statsmodels.api as sm\n",
    "import statsmodels.formula.api as smf\n",
    "import statsmodels.tsa.api as smt\n",
    "\n",
    "from scipy import stats\n",
    "from statistics import mode\n",
    "\n",
    "\n"
   ]
  },
  {
   "cell_type": "code",
   "execution_count": 421,
   "id": "inner-needle",
   "metadata": {},
   "outputs": [],
   "source": [
    "df = pd.read_csv('Data/emision-co2-autos_limpio.csv')"
   ]
  },
  {
   "cell_type": "code",
   "execution_count": 422,
   "id": "suffering-cutting",
   "metadata": {},
   "outputs": [
    {
     "data": {
      "text/html": [
       "<div>\n",
       "<style scoped>\n",
       "    .dataframe tbody tr th:only-of-type {\n",
       "        vertical-align: middle;\n",
       "    }\n",
       "\n",
       "    .dataframe tbody tr th {\n",
       "        vertical-align: top;\n",
       "    }\n",
       "\n",
       "    .dataframe thead th {\n",
       "        text-align: right;\n",
       "    }\n",
       "</style>\n",
       "<table border=\"1\" class=\"dataframe\">\n",
       "  <thead>\n",
       "    <tr style=\"text-align: right;\">\n",
       "      <th></th>\n",
       "      <th>vehiculo_marca</th>\n",
       "      <th>vehiculo_modelo</th>\n",
       "      <th>vehiculo_tipo</th>\n",
       "      <th>vehiculo_traccion</th>\n",
       "      <th>vehiculo_id_motor</th>\n",
       "      <th>vehiculo_cilindrada</th>\n",
       "      <th>vehiculo_potencia</th>\n",
       "      <th>vehiculo_tipo_transmision</th>\n",
       "      <th>vehiculo_tipo_combustible</th>\n",
       "      <th>vehiculo_standard_emision</th>\n",
       "      <th>lca_numero</th>\n",
       "      <th>fecha_firma</th>\n",
       "      <th>ensayo_gei_numero</th>\n",
       "      <th>ensayo_gei_laboratorio</th>\n",
       "      <th>emision_CO2</th>\n",
       "      <th>consumo_urbano</th>\n",
       "      <th>consumo_extraurbano</th>\n",
       "      <th>consumo_mixto</th>\n",
       "      <th>id_etiqueta</th>\n",
       "    </tr>\n",
       "  </thead>\n",
       "  <tbody>\n",
       "    <tr>\n",
       "      <th>0</th>\n",
       "      <td>TOYOTA</td>\n",
       "      <td>LAND CRUISER 200</td>\n",
       "      <td>SUV</td>\n",
       "      <td>4x4</td>\n",
       "      <td>TOYOTA 1VD-FTV</td>\n",
       "      <td>4461.0</td>\n",
       "      <td>NaN</td>\n",
       "      <td>AUTOMATICA</td>\n",
       "      <td>GAS OIL</td>\n",
       "      <td>EURO V</td>\n",
       "      <td>NaN</td>\n",
       "      <td>04/10/2017</td>\n",
       "      <td>H1860666086/241</td>\n",
       "      <td>VINÇOTTE nv</td>\n",
       "      <td>260.70</td>\n",
       "      <td>11.56</td>\n",
       "      <td>8.94</td>\n",
       "      <td>9.90</td>\n",
       "      <td>000001A</td>\n",
       "    </tr>\n",
       "    <tr>\n",
       "      <th>1</th>\n",
       "      <td>RENAULT</td>\n",
       "      <td>FLUENCE 2.0 16V</td>\n",
       "      <td>SEDÁN 4 PUERTAS</td>\n",
       "      <td>4x2</td>\n",
       "      <td>RENAULT M4RK7</td>\n",
       "      <td>1997.0</td>\n",
       "      <td>NaN</td>\n",
       "      <td>CVT</td>\n",
       "      <td>NAFTA</td>\n",
       "      <td>EURO V</td>\n",
       "      <td>NaN</td>\n",
       "      <td>22/06/2016</td>\n",
       "      <td>09/09790</td>\n",
       "      <td>UTAC</td>\n",
       "      <td>175.40</td>\n",
       "      <td>10.50</td>\n",
       "      <td>6.10</td>\n",
       "      <td>7.70</td>\n",
       "      <td>000178A</td>\n",
       "    </tr>\n",
       "    <tr>\n",
       "      <th>2</th>\n",
       "      <td>RENAULT</td>\n",
       "      <td>DUSTER 2.0 16v</td>\n",
       "      <td>SEDÁN 5 PUERTAS</td>\n",
       "      <td>4x2</td>\n",
       "      <td>RENAULT F4R E4</td>\n",
       "      <td>1998.0</td>\n",
       "      <td>105</td>\n",
       "      <td>MANUAL</td>\n",
       "      <td>NAFTA</td>\n",
       "      <td>EURO V</td>\n",
       "      <td>NaN</td>\n",
       "      <td>NaN</td>\n",
       "      <td>R1-0210/17</td>\n",
       "      <td>DELPHI</td>\n",
       "      <td>198.86</td>\n",
       "      <td>11.13</td>\n",
       "      <td>6.98</td>\n",
       "      <td>8.52</td>\n",
       "      <td>000650C</td>\n",
       "    </tr>\n",
       "    <tr>\n",
       "      <th>3</th>\n",
       "      <td>RENAULT</td>\n",
       "      <td>DUSTER 2.0 16v 4X4</td>\n",
       "      <td>SEDÁN 5 PUERTAS</td>\n",
       "      <td>4x4</td>\n",
       "      <td>RENAULT F4R E4</td>\n",
       "      <td>1998.0</td>\n",
       "      <td>105</td>\n",
       "      <td>MANUAL</td>\n",
       "      <td>NAFTA</td>\n",
       "      <td>EURO V</td>\n",
       "      <td>NaN</td>\n",
       "      <td>NaN</td>\n",
       "      <td>R1-0209/17</td>\n",
       "      <td>DELPHI</td>\n",
       "      <td>199.74</td>\n",
       "      <td>11.20</td>\n",
       "      <td>7.01</td>\n",
       "      <td>8.55</td>\n",
       "      <td>000659C</td>\n",
       "    </tr>\n",
       "    <tr>\n",
       "      <th>4</th>\n",
       "      <td>CITROËN</td>\n",
       "      <td>DS4</td>\n",
       "      <td>COUPÉ 3 + 2 PUERTAS</td>\n",
       "      <td>4x2</td>\n",
       "      <td>CITROËN EP6CDTM (5FM)</td>\n",
       "      <td>1598.0</td>\n",
       "      <td>NaN</td>\n",
       "      <td>AUTOMATICA</td>\n",
       "      <td>NAFTA</td>\n",
       "      <td>EURO V</td>\n",
       "      <td>NaN</td>\n",
       "      <td>11/10/2011</td>\n",
       "      <td>11/04511</td>\n",
       "      <td>UTAC</td>\n",
       "      <td>177.60</td>\n",
       "      <td>10.60</td>\n",
       "      <td>6.00</td>\n",
       "      <td>7.70</td>\n",
       "      <td>000106A</td>\n",
       "    </tr>\n",
       "  </tbody>\n",
       "</table>\n",
       "</div>"
      ],
      "text/plain": [
       "  vehiculo_marca     vehiculo_modelo        vehiculo_tipo vehiculo_traccion  \\\n",
       "0         TOYOTA    LAND CRUISER 200                  SUV               4x4   \n",
       "1        RENAULT     FLUENCE 2.0 16V      SEDÁN 4 PUERTAS               4x2   \n",
       "2        RENAULT      DUSTER 2.0 16v      SEDÁN 5 PUERTAS               4x2   \n",
       "3        RENAULT  DUSTER 2.0 16v 4X4      SEDÁN 5 PUERTAS               4x4   \n",
       "4        CITROËN                 DS4  COUPÉ 3 + 2 PUERTAS               4x2   \n",
       "\n",
       "       vehiculo_id_motor  vehiculo_cilindrada vehiculo_potencia  \\\n",
       "0         TOYOTA 1VD-FTV               4461.0               NaN   \n",
       "1          RENAULT M4RK7               1997.0               NaN   \n",
       "2         RENAULT F4R E4               1998.0               105   \n",
       "3         RENAULT F4R E4               1998.0               105   \n",
       "4  CITROËN EP6CDTM (5FM)               1598.0               NaN   \n",
       "\n",
       "  vehiculo_tipo_transmision vehiculo_tipo_combustible  \\\n",
       "0                AUTOMATICA                   GAS OIL   \n",
       "1                       CVT                     NAFTA   \n",
       "2                    MANUAL                     NAFTA   \n",
       "3                    MANUAL                     NAFTA   \n",
       "4                AUTOMATICA                     NAFTA   \n",
       "\n",
       "  vehiculo_standard_emision  lca_numero fecha_firma ensayo_gei_numero  \\\n",
       "0                    EURO V         NaN  04/10/2017   H1860666086/241   \n",
       "1                    EURO V         NaN  22/06/2016          09/09790   \n",
       "2                    EURO V         NaN         NaN        R1-0210/17   \n",
       "3                    EURO V         NaN         NaN        R1-0209/17   \n",
       "4                    EURO V         NaN  11/10/2011          11/04511   \n",
       "\n",
       "  ensayo_gei_laboratorio  emision_CO2  consumo_urbano  consumo_extraurbano  \\\n",
       "0            VINÇOTTE nv       260.70           11.56                 8.94   \n",
       "1                   UTAC       175.40           10.50                 6.10   \n",
       "2                 DELPHI       198.86           11.13                 6.98   \n",
       "3                 DELPHI       199.74           11.20                 7.01   \n",
       "4                   UTAC       177.60           10.60                 6.00   \n",
       "\n",
       "   consumo_mixto id_etiqueta  \n",
       "0           9.90     000001A  \n",
       "1           7.70     000178A  \n",
       "2           8.52     000650C  \n",
       "3           8.55     000659C  \n",
       "4           7.70     000106A  "
      ]
     },
     "execution_count": 422,
     "metadata": {},
     "output_type": "execute_result"
    }
   ],
   "source": [
    "df.head()"
   ]
  },
  {
   "cell_type": "code",
   "execution_count": 423,
   "id": "sharing-birmingham",
   "metadata": {},
   "outputs": [
    {
     "data": {
      "text/plain": [
       "vehiculo_marca                object\n",
       "vehiculo_modelo               object\n",
       "vehiculo_tipo                 object\n",
       "vehiculo_traccion             object\n",
       "vehiculo_id_motor             object\n",
       "vehiculo_cilindrada          float64\n",
       "vehiculo_potencia             object\n",
       "vehiculo_tipo_transmision     object\n",
       "vehiculo_tipo_combustible     object\n",
       "vehiculo_standard_emision     object\n",
       "lca_numero                   float64\n",
       "fecha_firma                   object\n",
       "ensayo_gei_numero             object\n",
       "ensayo_gei_laboratorio        object\n",
       "emision_CO2                  float64\n",
       "consumo_urbano               float64\n",
       "consumo_extraurbano          float64\n",
       "consumo_mixto                float64\n",
       "id_etiqueta                   object\n",
       "dtype: object"
      ]
     },
     "execution_count": 423,
     "metadata": {},
     "output_type": "execute_result"
    }
   ],
   "source": [
    "df.dtypes"
   ]
  },
  {
   "cell_type": "code",
   "execution_count": 424,
   "id": "pursuant-copyright",
   "metadata": {},
   "outputs": [
    {
     "data": {
      "text/plain": [
       "(432, 19)"
      ]
     },
     "execution_count": 424,
     "metadata": {},
     "output_type": "execute_result"
    }
   ],
   "source": [
    "df.shape"
   ]
  },
  {
   "cell_type": "code",
   "execution_count": 425,
   "id": "harmful-brave",
   "metadata": {},
   "outputs": [
    {
     "data": {
      "text/plain": [
       "332"
      ]
     },
     "execution_count": 425,
     "metadata": {},
     "output_type": "execute_result"
    }
   ],
   "source": [
    "# Total de datos faltantes\n",
    "df.isna().any(axis=1).sum()"
   ]
  },
  {
   "cell_type": "code",
   "execution_count": 426,
   "id": "democratic-ontario",
   "metadata": {},
   "outputs": [
    {
     "data": {
      "text/plain": [
       "vehiculo_marca                20\n",
       "vehiculo_modelo               20\n",
       "vehiculo_tipo                 20\n",
       "vehiculo_traccion             20\n",
       "vehiculo_id_motor             20\n",
       "vehiculo_cilindrada           21\n",
       "vehiculo_potencia            307\n",
       "vehiculo_tipo_transmision     15\n",
       "vehiculo_tipo_combustible     14\n",
       "vehiculo_standard_emision     21\n",
       "lca_numero                   139\n",
       "fecha_firma                   28\n",
       "ensayo_gei_numero             20\n",
       "ensayo_gei_laboratorio        20\n",
       "emision_CO2                   20\n",
       "consumo_urbano                22\n",
       "consumo_extraurbano           22\n",
       "consumo_mixto                 20\n",
       "id_etiqueta                   20\n",
       "dtype: int64"
      ]
     },
     "execution_count": 426,
     "metadata": {},
     "output_type": "execute_result"
    }
   ],
   "source": [
    "# Datos faltantes por columna\n",
    "df.isna().sum()"
   ]
  },
  {
   "cell_type": "code",
   "execution_count": 427,
   "id": "accessory-neighborhood",
   "metadata": {},
   "outputs": [],
   "source": [
    "# Elimino las columnas con mayor cantidad de datos faltantes y las que considero que no voy a utilizar para el análisis\n",
    "df.drop(['vehiculo_potencia','lca_numero', 'vehiculo_id_motor','vehiculo_id_motor','fecha_firma','ensayo_gei_numero','ensayo_gei_laboratorio','id_etiqueta'], axis=1, inplace=True)"
   ]
  },
  {
   "cell_type": "code",
   "execution_count": 428,
   "id": "signal-saver",
   "metadata": {},
   "outputs": [
    {
     "data": {
      "text/plain": [
       "(432, 12)"
      ]
     },
     "execution_count": 428,
     "metadata": {},
     "output_type": "execute_result"
    }
   ],
   "source": [
    "df.shape"
   ]
  },
  {
   "cell_type": "code",
   "execution_count": 429,
   "id": "corresponding-indonesian",
   "metadata": {},
   "outputs": [
    {
     "data": {
      "text/plain": [
       "26"
      ]
     },
     "execution_count": 429,
     "metadata": {},
     "output_type": "execute_result"
    }
   ],
   "source": [
    "df.isna().any(axis=1).sum()"
   ]
  },
  {
   "cell_type": "code",
   "execution_count": 430,
   "id": "exposed-membership",
   "metadata": {},
   "outputs": [],
   "source": [
    "df.dropna(inplace=True)"
   ]
  },
  {
   "cell_type": "code",
   "execution_count": 431,
   "id": "boolean-bacon",
   "metadata": {},
   "outputs": [],
   "source": [
    "df.reset_index(inplace = True)"
   ]
  },
  {
   "cell_type": "code",
   "execution_count": 432,
   "id": "collectible-tomato",
   "metadata": {},
   "outputs": [
    {
     "data": {
      "text/plain": [
       "(406, 13)"
      ]
     },
     "execution_count": 432,
     "metadata": {},
     "output_type": "execute_result"
    }
   ],
   "source": [
    "df.shape"
   ]
  },
  {
   "cell_type": "code",
   "execution_count": 433,
   "id": "intermediate-particular",
   "metadata": {},
   "outputs": [
    {
     "data": {
      "text/plain": [
       "index                        0\n",
       "vehiculo_marca               0\n",
       "vehiculo_modelo              0\n",
       "vehiculo_tipo                0\n",
       "vehiculo_traccion            0\n",
       "vehiculo_cilindrada          0\n",
       "vehiculo_tipo_transmision    0\n",
       "vehiculo_tipo_combustible    0\n",
       "vehiculo_standard_emision    0\n",
       "emision_CO2                  0\n",
       "consumo_urbano               0\n",
       "consumo_extraurbano          0\n",
       "consumo_mixto                0\n",
       "dtype: int64"
      ]
     },
     "execution_count": 433,
     "metadata": {},
     "output_type": "execute_result"
    }
   ],
   "source": [
    "df.isna().sum()"
   ]
  },
  {
   "cell_type": "code",
   "execution_count": 434,
   "id": "under-providence",
   "metadata": {},
   "outputs": [
    {
     "data": {
      "text/html": [
       "<div>\n",
       "<style scoped>\n",
       "    .dataframe tbody tr th:only-of-type {\n",
       "        vertical-align: middle;\n",
       "    }\n",
       "\n",
       "    .dataframe tbody tr th {\n",
       "        vertical-align: top;\n",
       "    }\n",
       "\n",
       "    .dataframe thead th {\n",
       "        text-align: right;\n",
       "    }\n",
       "</style>\n",
       "<table border=\"1\" class=\"dataframe\">\n",
       "  <thead>\n",
       "    <tr style=\"text-align: right;\">\n",
       "      <th></th>\n",
       "      <th>index</th>\n",
       "      <th>vehiculo_marca</th>\n",
       "      <th>vehiculo_modelo</th>\n",
       "      <th>vehiculo_tipo</th>\n",
       "      <th>vehiculo_traccion</th>\n",
       "      <th>vehiculo_cilindrada</th>\n",
       "      <th>vehiculo_tipo_transmision</th>\n",
       "      <th>vehiculo_tipo_combustible</th>\n",
       "      <th>vehiculo_standard_emision</th>\n",
       "      <th>emision_CO2</th>\n",
       "      <th>consumo_urbano</th>\n",
       "      <th>consumo_extraurbano</th>\n",
       "      <th>consumo_mixto</th>\n",
       "    </tr>\n",
       "  </thead>\n",
       "  <tbody>\n",
       "    <tr>\n",
       "      <th>0</th>\n",
       "      <td>0</td>\n",
       "      <td>TOYOTA</td>\n",
       "      <td>LAND CRUISER 200</td>\n",
       "      <td>SUV</td>\n",
       "      <td>4x4</td>\n",
       "      <td>4461.0</td>\n",
       "      <td>AUTOMATICA</td>\n",
       "      <td>GAS OIL</td>\n",
       "      <td>EURO V</td>\n",
       "      <td>260.70</td>\n",
       "      <td>11.56</td>\n",
       "      <td>8.94</td>\n",
       "      <td>9.90</td>\n",
       "    </tr>\n",
       "    <tr>\n",
       "      <th>1</th>\n",
       "      <td>1</td>\n",
       "      <td>RENAULT</td>\n",
       "      <td>FLUENCE 2.0 16V</td>\n",
       "      <td>SEDÁN 4 PUERTAS</td>\n",
       "      <td>4x2</td>\n",
       "      <td>1997.0</td>\n",
       "      <td>CVT</td>\n",
       "      <td>NAFTA</td>\n",
       "      <td>EURO V</td>\n",
       "      <td>175.40</td>\n",
       "      <td>10.50</td>\n",
       "      <td>6.10</td>\n",
       "      <td>7.70</td>\n",
       "    </tr>\n",
       "    <tr>\n",
       "      <th>2</th>\n",
       "      <td>2</td>\n",
       "      <td>RENAULT</td>\n",
       "      <td>DUSTER 2.0 16v</td>\n",
       "      <td>SEDÁN 5 PUERTAS</td>\n",
       "      <td>4x2</td>\n",
       "      <td>1998.0</td>\n",
       "      <td>MANUAL</td>\n",
       "      <td>NAFTA</td>\n",
       "      <td>EURO V</td>\n",
       "      <td>198.86</td>\n",
       "      <td>11.13</td>\n",
       "      <td>6.98</td>\n",
       "      <td>8.52</td>\n",
       "    </tr>\n",
       "    <tr>\n",
       "      <th>3</th>\n",
       "      <td>3</td>\n",
       "      <td>RENAULT</td>\n",
       "      <td>DUSTER 2.0 16v 4X4</td>\n",
       "      <td>SEDÁN 5 PUERTAS</td>\n",
       "      <td>4x4</td>\n",
       "      <td>1998.0</td>\n",
       "      <td>MANUAL</td>\n",
       "      <td>NAFTA</td>\n",
       "      <td>EURO V</td>\n",
       "      <td>199.74</td>\n",
       "      <td>11.20</td>\n",
       "      <td>7.01</td>\n",
       "      <td>8.55</td>\n",
       "    </tr>\n",
       "    <tr>\n",
       "      <th>4</th>\n",
       "      <td>4</td>\n",
       "      <td>CITROËN</td>\n",
       "      <td>DS4</td>\n",
       "      <td>COUPÉ 3 + 2 PUERTAS</td>\n",
       "      <td>4x2</td>\n",
       "      <td>1598.0</td>\n",
       "      <td>AUTOMATICA</td>\n",
       "      <td>NAFTA</td>\n",
       "      <td>EURO V</td>\n",
       "      <td>177.60</td>\n",
       "      <td>10.60</td>\n",
       "      <td>6.00</td>\n",
       "      <td>7.70</td>\n",
       "    </tr>\n",
       "  </tbody>\n",
       "</table>\n",
       "</div>"
      ],
      "text/plain": [
       "   index vehiculo_marca     vehiculo_modelo        vehiculo_tipo  \\\n",
       "0      0         TOYOTA    LAND CRUISER 200                  SUV   \n",
       "1      1        RENAULT     FLUENCE 2.0 16V      SEDÁN 4 PUERTAS   \n",
       "2      2        RENAULT      DUSTER 2.0 16v      SEDÁN 5 PUERTAS   \n",
       "3      3        RENAULT  DUSTER 2.0 16v 4X4      SEDÁN 5 PUERTAS   \n",
       "4      4        CITROËN                 DS4  COUPÉ 3 + 2 PUERTAS   \n",
       "\n",
       "  vehiculo_traccion  vehiculo_cilindrada vehiculo_tipo_transmision  \\\n",
       "0               4x4               4461.0                AUTOMATICA   \n",
       "1               4x2               1997.0                       CVT   \n",
       "2               4x2               1998.0                    MANUAL   \n",
       "3               4x4               1998.0                    MANUAL   \n",
       "4               4x2               1598.0                AUTOMATICA   \n",
       "\n",
       "  vehiculo_tipo_combustible vehiculo_standard_emision  emision_CO2  \\\n",
       "0                   GAS OIL                    EURO V       260.70   \n",
       "1                     NAFTA                    EURO V       175.40   \n",
       "2                     NAFTA                    EURO V       198.86   \n",
       "3                     NAFTA                    EURO V       199.74   \n",
       "4                     NAFTA                    EURO V       177.60   \n",
       "\n",
       "   consumo_urbano  consumo_extraurbano  consumo_mixto  \n",
       "0           11.56                 8.94           9.90  \n",
       "1           10.50                 6.10           7.70  \n",
       "2           11.13                 6.98           8.52  \n",
       "3           11.20                 7.01           8.55  \n",
       "4           10.60                 6.00           7.70  "
      ]
     },
     "execution_count": 434,
     "metadata": {},
     "output_type": "execute_result"
    }
   ],
   "source": [
    "df.head()"
   ]
  },
  {
   "cell_type": "code",
   "execution_count": 435,
   "id": "directed-smile",
   "metadata": {},
   "outputs": [
    {
     "data": {
      "text/plain": [
       "MERCEDES-BENZ        31\n",
       "HYUNDAI              31\n",
       "CHEVROLET            25\n",
       "BMW                  23\n",
       "AUDI                 21\n",
       "TOYOTA               20\n",
       "FORD                 18\n",
       "FIAT                 17\n",
       "RENAULT              17\n",
       "MINI                 16\n",
       "VOLKSWAGEN           15\n",
       "HONDA                15\n",
       "PEUGEOT              13\n",
       "NISSAN               12\n",
       "CITROËN              10\n",
       "CHANGAN               9\n",
       "LIFAN                 8\n",
       "LEXUS                 8\n",
       "SUZUKI                7\n",
       "JEEP                  7\n",
       "LAND ROVER            6\n",
       "PEUGEOT / CITROËN     6\n",
       "FAW                   5\n",
       "DOMY                  4\n",
       "BAIC                  4\n",
       "ALFA ROMEO            4\n",
       "ZOTYE                 4\n",
       "BORGWARD              4\n",
       "MASERATI              4\n",
       "JAC                   4\n",
       "KIA                   3\n",
       "MITSUBISHI            3\n",
       "DS                    3\n",
       "HAVAL                 3\n",
       "PORSCHE               3\n",
       "RAM                   2\n",
       "MERCEDES-AMG          2\n",
       "ZANELLA               2\n",
       "CITROËN / DS          2\n",
       "CHERY                 2\n",
       "SUBARU                2\n",
       "FOTON                 2\n",
       "VOLVO                 2\n",
       "ISUZU                 2\n",
       "KYC                   1\n",
       "FERRARI               1\n",
       "SHINERAY              1\n",
       "DONGFENG              1\n",
       "GREAT WALL            1\n",
       "Name: vehiculo_marca, dtype: int64"
      ]
     },
     "execution_count": 435,
     "metadata": {},
     "output_type": "execute_result"
    }
   ],
   "source": [
    "df['vehiculo_marca'].value_counts()"
   ]
  },
  {
   "cell_type": "code",
   "execution_count": 436,
   "id": "classical-worship",
   "metadata": {},
   "outputs": [
    {
     "data": {
      "text/plain": [
       "(array([ 0,  1,  2,  3,  4,  5,  6,  7,  8,  9, 10, 11, 12, 13, 14, 15, 16,\n",
       "        17, 18, 19, 20, 21, 22, 23, 24, 25, 26, 27, 28, 29, 30, 31, 32, 33,\n",
       "        34, 35, 36, 37, 38, 39, 40, 41, 42, 43, 44, 45, 46, 47, 48]),\n",
       " <a list of 49 Text major ticklabel objects>)"
      ]
     },
     "execution_count": 436,
     "metadata": {},
     "output_type": "execute_result"
    },
    {
     "data": {
      "image/png": "[encoded data removed]",
      "text/plain": [
       "<Figure size 720x576 with 1 Axes>"
      ]
     },
     "metadata": {
      "needs_background": "light"
     },
     "output_type": "display_data"
    }
   ],
   "source": [
    "mkI = df['vehiculo_marca'].value_counts().index\n",
    "mkV = df['vehiculo_marca'].value_counts().values\n",
    "plt.figure(figsize = (10,8))\n",
    "sns.barplot(mkI,mkV)\n",
    "plt.xticks(rotation='vertical')"
   ]
  },
  {
   "cell_type": "code",
   "execution_count": 437,
   "id": "strong-browser",
   "metadata": {},
   "outputs": [
    {
     "data": {
      "text/plain": [
       "array(['TOYOTA', 'RENAULT', 'CITROËN', 'LEXUS', 'PEUGEOT', 'FORD',\n",
       "       'PEUGEOT / CITROËN', 'HYUNDAI', 'SUZUKI', 'CHEVROLET', 'LIFAN',\n",
       "       'BMW', 'CITROËN / DS', 'HONDA', 'NISSAN', 'FIAT', 'CHERY',\n",
       "       'VOLKSWAGEN', 'ALFA ROMEO', 'FAW', 'MERCEDES-BENZ', 'JEEP',\n",
       "       'LAND ROVER', 'JAC', 'VOLVO', 'SHINERAY', 'CHANGAN', 'DS', 'MINI',\n",
       "       'DOMY', 'BORGWARD', 'PORSCHE', 'AUDI', 'BAIC', 'ZANELLA', 'RAM',\n",
       "       'FOTON', 'MASERATI', 'SUBARU', 'HAVAL', 'ISUZU', 'DONGFENG',\n",
       "       'MERCEDES-AMG', 'MITSUBISHI', 'ZOTYE', 'KIA', 'GREAT WALL', 'KYC',\n",
       "       'FERRARI'], dtype=object)"
      ]
     },
     "execution_count": 437,
     "metadata": {},
     "output_type": "execute_result"
    }
   ],
   "source": [
    "df['vehiculo_marca'].unique()"
   ]
  },
  {
   "cell_type": "code",
   "execution_count": 438,
   "id": "developmental-centre",
   "metadata": {},
   "outputs": [
    {
     "data": {
      "application/vnd.plotly.v1+json": {
       "config": {
        "plotlyServerURL": "https://plotly.com"
       },
       "data": [
        {
         "marker": {
          "color": [
           31,
           31,
           25,
           23,
           21,
           20,
           18,
           17,
           17,
           16,
           15,
           15,
           13,
           12,
           10,
           9,
           8,
           8,
           7,
           7,
           6,
           6,
           5,
           4,
           4
          ],
          "colorscale": [
           [
            0,
            "#440154"
           ],
           [
            0.1111111111111111,
            "#482878"
           ],
           [
            0.2222222222222222,
            "#3e4989"
           ],
           [
            0.3333333333333333,
            "#31688e"
           ],
           [
            0.4444444444444444,
            "#26828e"
           ],
           [
            0.5555555555555556,
            "#1f9e89"
           ],
           [
            0.6666666666666666,
            "#35b779"
           ],
           [
            0.7777777777777778,
            "#6ece58"
           ],
           [
            0.8888888888888888,
            "#b5de2b"
           ],
           [
            1,
            "#fde725"
           ]
          ]
         },
         "text": [
          31,
          31,
          25,
          23,
          21,
          20,
          18,
          17,
          17,
          16,
          15,
          15,
          13,
          12,
          10,
          9,
          8,
          8,
          7,
          7,
          6,
          6,
          5,
          4,
          4
         ],
         "textposition": "outside",
         "type": "bar",
         "x": [
          "MERCEDES-BENZ",
          "HYUNDAI",
          "CHEVROLET",
          "BMW",
          "AUDI",
          "TOYOTA",
          "FORD",
          "FIAT",
          "RENAULT",
          "MINI",
          "VOLKSWAGEN",
          "HONDA",
          "PEUGEOT",
          "NISSAN",
          "CITROËN",
          "CHANGAN",
          "LIFAN",
          "LEXUS",
          "SUZUKI",
          "JEEP",
          "LAND ROVER",
          "PEUGEOT / CITROËN",
          "FAW",
          "DOMY",
          "BAIC"
         ],
         "y": [
          31,
          31,
          25,
          23,
          21,
          20,
          18,
          17,
          17,
          16,
          15,
          15,
          13,
          12,
          10,
          9,
          8,
          8,
          7,
          7,
          6,
          6,
          5,
          4,
          4
         ]
        }
       ],
       "layout": {
        "template": {
         "data": {
          "bar": [
           {
            "error_x": {
             "color": "#2a3f5f"
            },
            "error_y": {
             "color": "#2a3f5f"
            },
            "marker": {
             "line": {
              "color": "#E5ECF6",
              "width": 0.5
             }
            },
            "type": "bar"
           }
          ],
          "barpolar": [
           {
            "marker": {
             "line": {
              "color": "#E5ECF6",
              "width": 0.5
             }
            },
            "type": "barpolar"
           }
          ],
          "carpet": [
           {
            "aaxis": {
             "endlinecolor": "#2a3f5f",
             "gridcolor": "white",
             "linecolor": "white",
             "minorgridcolor": "white",
             "startlinecolor": "#2a3f5f"
            },
            "baxis": {
             "endlinecolor": "#2a3f5f",
             "gridcolor": "white",
             "linecolor": "white",
             "minorgridcolor": "white",
             "startlinecolor": "#2a3f5f"
            },
            "type": "carpet"
           }
          ],
          "choropleth": [
           {
            "colorbar": {
             "outlinewidth": 0,
             "ticks": ""
            },
            "type": "choropleth"
           }
          ],
          "contour": [
           {
            "colorbar": {
             "outlinewidth": 0,
             "ticks": ""
            },
            "colorscale": [
             [
              0,
              "#0d0887"
             ],
             [
              0.1111111111111111,
              "#46039f"
             ],
             [
              0.2222222222222222,
              "#7201a8"
             ],
             [
              0.3333333333333333,
              "#9c179e"
             ],
             [
              0.4444444444444444,
              "#bd3786"
             ],
             [
              0.5555555555555556,
              "#d8576b"
             ],
             [
              0.6666666666666666,
              "#ed7953"
             ],
             [
              0.7777777777777778,
              "#fb9f3a"
             ],
             [
              0.8888888888888888,
              "#fdca26"
             ],
             [
              1,
              "#f0f921"
             ]
            ],
            "type": "contour"
           }
          ],
          "contourcarpet": [
           {
            "colorbar": {
             "outlinewidth": 0,
             "ticks": ""
            },
            "type": "contourcarpet"
           }
          ],
          "heatmap": [
           {
            "colorbar": {
             "outlinewidth": 0,
             "ticks": ""
            },
            "colorscale": [
             [
              0,
              "#0d0887"
             ],
             [
              0.1111111111111111,
              "#46039f"
             ],
             [
              0.2222222222222222,
              "#7201a8"
             ],
             [
              0.3333333333333333,
              "#9c179e"
             ],
             [
              0.4444444444444444,
              "#bd3786"
             ],
             [
              0.5555555555555556,
              "#d8576b"
             ],
             [
              0.6666666666666666,
              "#ed7953"
             ],
             [
              0.7777777777777778,
              "#fb9f3a"
             ],
             [
              0.8888888888888888,
              "#fdca26"
             ],
             [
              1,
              "#f0f921"
             ]
            ],
            "type": "heatmap"
           }
          ],
          "heatmapgl": [
           {
            "colorbar": {
             "outlinewidth": 0,
             "ticks": ""
            },
            "colorscale": [
             [
              0,
              "#0d0887"
             ],
             [
              0.1111111111111111,
              "#46039f"
             ],
             [
              0.2222222222222222,
              "#7201a8"
             ],
             [
              0.3333333333333333,
              "#9c179e"
             ],
             [
              0.4444444444444444,
              "#bd3786"
             ],
             [
              0.5555555555555556,
              "#d8576b"
             ],
             [
              0.6666666666666666,
              "#ed7953"
             ],
             [
              0.7777777777777778,
              "#fb9f3a"
             ],
             [
              0.8888888888888888,
              "#fdca26"
             ],
             [
              1,
              "#f0f921"
             ]
            ],
            "type": "heatmapgl"
           }
          ],
          "histogram": [
           {
            "marker": {
             "colorbar": {
              "outlinewidth": 0,
              "ticks": ""
             }
            },
            "type": "histogram"
           }
          ],
          "histogram2d": [
           {
            "colorbar": {
             "outlinewidth": 0,
             "ticks": ""
            },
            "colorscale": [
             [
              0,
              "#0d0887"
             ],
             [
              0.1111111111111111,
              "#46039f"
             ],
             [
              0.2222222222222222,
              "#7201a8"
             ],
             [
              0.3333333333333333,
              "#9c179e"
             ],
             [
              0.4444444444444444,
              "#bd3786"
             ],
             [
              0.5555555555555556,
              "#d8576b"
             ],
             [
              0.6666666666666666,
              "#ed7953"
             ],
             [
              0.7777777777777778,
              "#fb9f3a"
             ],
             [
              0.8888888888888888,
              "#fdca26"
             ],
             [
              1,
              "#f0f921"
             ]
            ],
            "type": "histogram2d"
           }
          ],
          "histogram2dcontour": [
           {
            "colorbar": {
             "outlinewidth": 0,
             "ticks": ""
            },
            "colorscale": [
             [
              0,
              "#0d0887"
             ],
             [
              0.1111111111111111,
              "#46039f"
             ],
             [
              0.2222222222222222,
              "#7201a8"
             ],
             [
              0.3333333333333333,
              "#9c179e"
             ],
             [
              0.4444444444444444,
              "#bd3786"
             ],
             [
              0.5555555555555556,
              "#d8576b"
             ],
             [
              0.6666666666666666,
              "#ed7953"
             ],
             [
              0.7777777777777778,
              "#fb9f3a"
             ],
             [
              0.8888888888888888,
              "#fdca26"
             ],
             [
              1,
              "#f0f921"
             ]
            ],
            "type": "histogram2dcontour"
           }
          ],
          "mesh3d": [
           {
            "colorbar": {
             "outlinewidth": 0,
             "ticks": ""
            },
            "type": "mesh3d"
           }
          ],
          "parcoords": [
           {
            "line": {
             "colorbar": {
              "outlinewidth": 0,
              "ticks": ""
             }
            },
            "type": "parcoords"
           }
          ],
          "pie": [
           {
            "automargin": true,
            "type": "pie"
           }
          ],
          "scatter": [
           {
            "marker": {
             "colorbar": {
              "outlinewidth": 0,
              "ticks": ""
             }
            },
            "type": "scatter"
           }
          ],
          "scatter3d": [
           {
            "line": {
             "colorbar": {
              "outlinewidth": 0,
              "ticks": ""
             }
            },
            "marker": {
             "colorbar": {
              "outlinewidth": 0,
              "ticks": ""
             }
            },
            "type": "scatter3d"
           }
          ],
          "scattercarpet": [
           {
            "marker": {
             "colorbar": {
              "outlinewidth": 0,
              "ticks": ""
             }
            },
            "type": "scattercarpet"
           }
          ],
          "scattergeo": [
           {
            "marker": {
             "colorbar": {
              "outlinewidth": 0,
              "ticks": ""
             }
            },
            "type": "scattergeo"
           }
          ],
          "scattergl": [
           {
            "marker": {
             "colorbar": {
              "outlinewidth": 0,
              "ticks": ""
             }
            },
            "type": "scattergl"
           }
          ],
          "scattermapbox": [
           {
            "marker": {
             "colorbar": {
              "outlinewidth": 0,
              "ticks": ""
             }
            },
            "type": "scattermapbox"
           }
          ],
          "scatterpolar": [
           {
            "marker": {
             "colorbar": {
              "outlinewidth": 0,
              "ticks": ""
             }
            },
            "type": "scatterpolar"
           }
          ],
          "scatterpolargl": [
           {
            "marker": {
             "colorbar": {
              "outlinewidth": 0,
              "ticks": ""
             }
            },
            "type": "scatterpolargl"
           }
          ],
          "scatterternary": [
           {
            "marker": {
             "colorbar": {
              "outlinewidth": 0,
              "ticks": ""
             }
            },
            "type": "scatterternary"
           }
          ],
          "surface": [
           {
            "colorbar": {
             "outlinewidth": 0,
             "ticks": ""
            },
            "colorscale": [
             [
              0,
              "#0d0887"
             ],
             [
              0.1111111111111111,
              "#46039f"
             ],
             [
              0.2222222222222222,
              "#7201a8"
             ],
             [
              0.3333333333333333,
              "#9c179e"
             ],
             [
              0.4444444444444444,
              "#bd3786"
             ],
             [
              0.5555555555555556,
              "#d8576b"
             ],
             [
              0.6666666666666666,
              "#ed7953"
             ],
             [
              0.7777777777777778,
              "#fb9f3a"
             ],
             [
              0.8888888888888888,
              "#fdca26"
             ],
             [
              1,
              "#f0f921"
             ]
            ],
            "type": "surface"
           }
          ],
          "table": [
           {
            "cells": {
             "fill": {
              "color": "#EBF0F8"
             },
             "line": {
              "color": "white"
             }
            },
            "header": {
             "fill": {
              "color": "#C8D4E3"
             },
             "line": {
              "color": "white"
             }
            },
            "type": "table"
           }
          ]
         },
         "layout": {
          "annotationdefaults": {
           "arrowcolor": "#2a3f5f",
           "arrowhead": 0,
           "arrowwidth": 1
          },
          "coloraxis": {
           "colorbar": {
            "outlinewidth": 0,
            "ticks": ""
           }
          },
          "colorscale": {
           "diverging": [
            [
             0,
             "#8e0152"
            ],
            [
             0.1,
             "#c51b7d"
            ],
            [
             0.2,
             "#de77ae"
            ],
            [
             0.3,
             "#f1b6da"
            ],
            [
             0.4,
             "#fde0ef"
            ],
            [
             0.5,
             "#f7f7f7"
            ],
            [
             0.6,
             "#e6f5d0"
            ],
            [
             0.7,
             "#b8e186"
            ],
            [
             0.8,
             "#7fbc41"
            ],
            [
             0.9,
             "#4d9221"
            ],
            [
             1,
             "#276419"
            ]
           ],
           "sequential": [
            [
             0,
             "#0d0887"
            ],
            [
             0.1111111111111111,
             "#46039f"
            ],
            [
             0.2222222222222222,
             "#7201a8"
            ],
            [
             0.3333333333333333,
             "#9c179e"
            ],
            [
             0.4444444444444444,
             "#bd3786"
            ],
            [
             0.5555555555555556,
             "#d8576b"
            ],
            [
             0.6666666666666666,
             "#ed7953"
            ],
            [
             0.7777777777777778,
             "#fb9f3a"
            ],
            [
             0.8888888888888888,
             "#fdca26"
            ],
            [
             1,
             "#f0f921"
            ]
           ],
           "sequentialminus": [
            [
             0,
             "#0d0887"
            ],
            [
             0.1111111111111111,
             "#46039f"
            ],
            [
             0.2222222222222222,
             "#7201a8"
            ],
            [
             0.3333333333333333,
             "#9c179e"
            ],
            [
             0.4444444444444444,
             "#bd3786"
            ],
            [
             0.5555555555555556,
             "#d8576b"
            ],
            [
             0.6666666666666666,
             "#ed7953"
            ],
            [
             0.7777777777777778,
             "#fb9f3a"
            ],
            [
             0.8888888888888888,
             "#fdca26"
            ],
            [
             1,
             "#f0f921"
            ]
           ]
          },
          "colorway": [
           "#636efa",
           "#EF553B",
           "#00cc96",
           "#ab63fa",
           "#FFA15A",
           "#19d3f3",
           "#FF6692",
           "#B6E880",
           "#FF97FF",
           "#FECB52"
          ],
          "font": {
           "color": "#2a3f5f"
          },
          "geo": {
           "bgcolor": "white",
           "lakecolor": "white",
           "landcolor": "#E5ECF6",
           "showlakes": true,
           "showland": true,
           "subunitcolor": "white"
          },
          "hoverlabel": {
           "align": "left"
          },
          "hovermode": "closest",
          "mapbox": {
           "style": "light"
          },
          "paper_bgcolor": "white",
          "plot_bgcolor": "#E5ECF6",
          "polar": {
           "angularaxis": {
            "gridcolor": "white",
            "linecolor": "white",
            "ticks": ""
           },
           "bgcolor": "#E5ECF6",
           "radialaxis": {
            "gridcolor": "white",
            "linecolor": "white",
            "ticks": ""
           }
          },
          "scene": {
           "xaxis": {
            "backgroundcolor": "#E5ECF6",
            "gridcolor": "white",
            "gridwidth": 2,
            "linecolor": "white",
            "showbackground": true,
            "ticks": "",
            "zerolinecolor": "white"
           },
           "yaxis": {
            "backgroundcolor": "#E5ECF6",
            "gridcolor": "white",
            "gridwidth": 2,
            "linecolor": "white",
            "showbackground": true,
            "ticks": "",
            "zerolinecolor": "white"
           },
           "zaxis": {
            "backgroundcolor": "#E5ECF6",
            "gridcolor": "white",
            "gridwidth": 2,
            "linecolor": "white",
            "showbackground": true,
            "ticks": "",
            "zerolinecolor": "white"
           }
          },
          "shapedefaults": {
           "line": {
            "color": "#2a3f5f"
           }
          },
          "ternary": {
           "aaxis": {
            "gridcolor": "white",
            "linecolor": "white",
            "ticks": ""
           },
           "baxis": {
            "gridcolor": "white",
            "linecolor": "white",
            "ticks": ""
           },
           "bgcolor": "#E5ECF6",
           "caxis": {
            "gridcolor": "white",
            "linecolor": "white",
            "ticks": ""
           }
          },
          "title": {
           "x": 0.05
          },
          "xaxis": {
           "automargin": true,
           "gridcolor": "white",
           "linecolor": "white",
           "ticks": "",
           "title": {
            "standoff": 15
           },
           "zerolinecolor": "white",
           "zerolinewidth": 2
          },
          "yaxis": {
           "automargin": true,
           "gridcolor": "white",
           "linecolor": "white",
           "ticks": "",
           "title": {
            "standoff": 15
           },
           "zerolinecolor": "white",
           "zerolinewidth": 2
          }
         }
        },
        "title": {
         "text": "Top 25 Company",
         "x": 0.5
        },
        "xaxis": {
         "title": {
          "text": "Company "
         }
        },
        "yaxis": {
         "title": {
          "text": "Number Of Vehicles "
         }
        }
       }
      },
      "text/html": [
       "<div>\n",
       "        \n",
       "        \n",
       "            <div id=\"779cb750-8b6a-498a-a843-c63a691cda9a\" class=\"plotly-graph-div\" style=\"height:525px; width:100%;\"></div>\n",
       "            <script type=\"text/javascript\">\n",
       "                require([\"plotly\"], function(Plotly) {\n",
       "                    window.PLOTLYENV=window.PLOTLYENV || {};\n",
       "                    \n",
       "                if (document.getElementById(\"779cb750-8b6a-498a-a843-c63a691cda9a\")) {\n",
       "                    Plotly.newPlot(\n",
       "                        '779cb750-8b6a-498a-a843-c63a691cda9a',\n",
       "                        [{\"marker\": {\"color\": [31, 31, 25, 23, 21, 20, 18, 17, 17, 16, 15, 15, 13, 12, 10, 9, 8, 8, 7, 7, 6, 6, 5, 4, 4], \"colorscale\": [[0.0, \"#440154\"], [0.1111111111111111, \"#482878\"], [0.2222222222222222, \"#3e4989\"], [0.3333333333333333, \"#31688e\"], [0.4444444444444444, \"#26828e\"], [0.5555555555555556, \"#1f9e89\"], [0.6666666666666666, \"#35b779\"], [0.7777777777777778, \"#6ece58\"], [0.8888888888888888, \"#b5de2b\"], [1.0, \"#fde725\"]]}, \"text\": [31.0, 31.0, 25.0, 23.0, 21.0, 20.0, 18.0, 17.0, 17.0, 16.0, 15.0, 15.0, 13.0, 12.0, 10.0, 9.0, 8.0, 8.0, 7.0, 7.0, 6.0, 6.0, 5.0, 4.0, 4.0], \"textposition\": \"outside\", \"type\": \"bar\", \"x\": [\"MERCEDES-BENZ\", \"HYUNDAI\", \"CHEVROLET\", \"BMW\", \"AUDI\", \"TOYOTA\", \"FORD\", \"FIAT\", \"RENAULT\", \"MINI\", \"VOLKSWAGEN\", \"HONDA\", \"PEUGEOT\", \"NISSAN\", \"CITRO\\u00cbN\", \"CHANGAN\", \"LIFAN\", \"LEXUS\", \"SUZUKI\", \"JEEP\", \"LAND ROVER\", \"PEUGEOT / CITRO\\u00cbN\", \"FAW\", \"DOMY\", \"BAIC\"], \"y\": [31, 31, 25, 23, 21, 20, 18, 17, 17, 16, 15, 15, 13, 12, 10, 9, 8, 8, 7, 7, 6, 6, 5, 4, 4]}],\n",
       "                        {\"template\": {\"data\": {\"bar\": [{\"error_x\": {\"color\": \"#2a3f5f\"}, \"error_y\": {\"color\": \"#2a3f5f\"}, \"marker\": {\"line\": {\"color\": \"#E5ECF6\", \"width\": 0.5}}, \"type\": \"bar\"}], \"barpolar\": [{\"marker\": {\"line\": {\"color\": \"#E5ECF6\", \"width\": 0.5}}, \"type\": \"barpolar\"}], \"carpet\": [{\"aaxis\": {\"endlinecolor\": \"#2a3f5f\", \"gridcolor\": \"white\", \"linecolor\": \"white\", \"minorgridcolor\": \"white\", \"startlinecolor\": \"#2a3f5f\"}, \"baxis\": {\"endlinecolor\": \"#2a3f5f\", \"gridcolor\": \"white\", \"linecolor\": \"white\", \"minorgridcolor\": \"white\", \"startlinecolor\": \"#2a3f5f\"}, \"type\": \"carpet\"}], \"choropleth\": [{\"colorbar\": {\"outlinewidth\": 0, \"ticks\": \"\"}, \"type\": \"choropleth\"}], \"contour\": [{\"colorbar\": {\"outlinewidth\": 0, \"ticks\": \"\"}, \"colorscale\": [[0.0, \"#0d0887\"], [0.1111111111111111, \"#46039f\"], [0.2222222222222222, \"#7201a8\"], [0.3333333333333333, \"#9c179e\"], [0.4444444444444444, \"#bd3786\"], [0.5555555555555556, \"#d8576b\"], [0.6666666666666666, \"#ed7953\"], [0.7777777777777778, \"#fb9f3a\"], [0.8888888888888888, \"#fdca26\"], [1.0, \"#f0f921\"]], \"type\": \"contour\"}], \"contourcarpet\": [{\"colorbar\": {\"outlinewidth\": 0, \"ticks\": \"\"}, \"type\": \"contourcarpet\"}], \"heatmap\": [{\"colorbar\": {\"outlinewidth\": 0, \"ticks\": \"\"}, \"colorscale\": [[0.0, \"#0d0887\"], [0.1111111111111111, \"#46039f\"], [0.2222222222222222, \"#7201a8\"], [0.3333333333333333, \"#9c179e\"], [0.4444444444444444, \"#bd3786\"], [0.5555555555555556, \"#d8576b\"], [0.6666666666666666, \"#ed7953\"], [0.7777777777777778, \"#fb9f3a\"], [0.8888888888888888, \"#fdca26\"], [1.0, \"#f0f921\"]], \"type\": \"heatmap\"}], \"heatmapgl\": [{\"colorbar\": {\"outlinewidth\": 0, \"ticks\": \"\"}, \"colorscale\": [[0.0, \"#0d0887\"], [0.1111111111111111, \"#46039f\"], [0.2222222222222222, \"#7201a8\"], [0.3333333333333333, \"#9c179e\"], [0.4444444444444444, \"#bd3786\"], [0.5555555555555556, \"#d8576b\"], [0.6666666666666666, \"#ed7953\"], [0.7777777777777778, \"#fb9f3a\"], [0.8888888888888888, \"#fdca26\"], [1.0, \"#f0f921\"]], \"type\": \"heatmapgl\"}], \"histogram\": [{\"marker\": {\"colorbar\": {\"outlinewidth\": 0, \"ticks\": \"\"}}, \"type\": \"histogram\"}], \"histogram2d\": [{\"colorbar\": {\"outlinewidth\": 0, \"ticks\": \"\"}, \"colorscale\": [[0.0, \"#0d0887\"], [0.1111111111111111, \"#46039f\"], [0.2222222222222222, \"#7201a8\"], [0.3333333333333333, \"#9c179e\"], [0.4444444444444444, \"#bd3786\"], [0.5555555555555556, \"#d8576b\"], [0.6666666666666666, \"#ed7953\"], [0.7777777777777778, \"#fb9f3a\"], [0.8888888888888888, \"#fdca26\"], [1.0, \"#f0f921\"]], \"type\": \"histogram2d\"}], \"histogram2dcontour\": [{\"colorbar\": {\"outlinewidth\": 0, \"ticks\": \"\"}, \"colorscale\": [[0.0, \"#0d0887\"], [0.1111111111111111, \"#46039f\"], [0.2222222222222222, \"#7201a8\"], [0.3333333333333333, \"#9c179e\"], [0.4444444444444444, \"#bd3786\"], [0.5555555555555556, \"#d8576b\"], [0.6666666666666666, \"#ed7953\"], [0.7777777777777778, \"#fb9f3a\"], [0.8888888888888888, \"#fdca26\"], [1.0, \"#f0f921\"]], \"type\": \"histogram2dcontour\"}], \"mesh3d\": [{\"colorbar\": {\"outlinewidth\": 0, \"ticks\": \"\"}, \"type\": \"mesh3d\"}], \"parcoords\": [{\"line\": {\"colorbar\": {\"outlinewidth\": 0, \"ticks\": \"\"}}, \"type\": \"parcoords\"}], \"pie\": [{\"automargin\": true, \"type\": \"pie\"}], \"scatter\": [{\"marker\": {\"colorbar\": {\"outlinewidth\": 0, \"ticks\": \"\"}}, \"type\": \"scatter\"}], \"scatter3d\": [{\"line\": {\"colorbar\": {\"outlinewidth\": 0, \"ticks\": \"\"}}, \"marker\": {\"colorbar\": {\"outlinewidth\": 0, \"ticks\": \"\"}}, \"type\": \"scatter3d\"}], \"scattercarpet\": [{\"marker\": {\"colorbar\": {\"outlinewidth\": 0, \"ticks\": \"\"}}, \"type\": \"scattercarpet\"}], \"scattergeo\": [{\"marker\": {\"colorbar\": {\"outlinewidth\": 0, \"ticks\": \"\"}}, \"type\": \"scattergeo\"}], \"scattergl\": [{\"marker\": {\"colorbar\": {\"outlinewidth\": 0, \"ticks\": \"\"}}, \"type\": \"scattergl\"}], \"scattermapbox\": [{\"marker\": {\"colorbar\": {\"outlinewidth\": 0, \"ticks\": \"\"}}, \"type\": \"scattermapbox\"}], \"scatterpolar\": [{\"marker\": {\"colorbar\": {\"outlinewidth\": 0, \"ticks\": \"\"}}, \"type\": \"scatterpolar\"}], \"scatterpolargl\": [{\"marker\": {\"colorbar\": {\"outlinewidth\": 0, \"ticks\": \"\"}}, \"type\": \"scatterpolargl\"}], \"scatterternary\": [{\"marker\": {\"colorbar\": {\"outlinewidth\": 0, \"ticks\": \"\"}}, \"type\": \"scatterternary\"}], \"surface\": [{\"colorbar\": {\"outlinewidth\": 0, \"ticks\": \"\"}, \"colorscale\": [[0.0, \"#0d0887\"], [0.1111111111111111, \"#46039f\"], [0.2222222222222222, \"#7201a8\"], [0.3333333333333333, \"#9c179e\"], [0.4444444444444444, \"#bd3786\"], [0.5555555555555556, \"#d8576b\"], [0.6666666666666666, \"#ed7953\"], [0.7777777777777778, \"#fb9f3a\"], [0.8888888888888888, \"#fdca26\"], [1.0, \"#f0f921\"]], \"type\": \"surface\"}], \"table\": [{\"cells\": {\"fill\": {\"color\": \"#EBF0F8\"}, \"line\": {\"color\": \"white\"}}, \"header\": {\"fill\": {\"color\": \"#C8D4E3\"}, \"line\": {\"color\": \"white\"}}, \"type\": \"table\"}]}, \"layout\": {\"annotationdefaults\": {\"arrowcolor\": \"#2a3f5f\", \"arrowhead\": 0, \"arrowwidth\": 1}, \"coloraxis\": {\"colorbar\": {\"outlinewidth\": 0, \"ticks\": \"\"}}, \"colorscale\": {\"diverging\": [[0, \"#8e0152\"], [0.1, \"#c51b7d\"], [0.2, \"#de77ae\"], [0.3, \"#f1b6da\"], [0.4, \"#fde0ef\"], [0.5, \"#f7f7f7\"], [0.6, \"#e6f5d0\"], [0.7, \"#b8e186\"], [0.8, \"#7fbc41\"], [0.9, \"#4d9221\"], [1, \"#276419\"]], \"sequential\": [[0.0, \"#0d0887\"], [0.1111111111111111, \"#46039f\"], [0.2222222222222222, \"#7201a8\"], [0.3333333333333333, \"#9c179e\"], [0.4444444444444444, \"#bd3786\"], [0.5555555555555556, \"#d8576b\"], [0.6666666666666666, \"#ed7953\"], [0.7777777777777778, \"#fb9f3a\"], [0.8888888888888888, \"#fdca26\"], [1.0, \"#f0f921\"]], \"sequentialminus\": [[0.0, \"#0d0887\"], [0.1111111111111111, \"#46039f\"], [0.2222222222222222, \"#7201a8\"], [0.3333333333333333, \"#9c179e\"], [0.4444444444444444, \"#bd3786\"], [0.5555555555555556, \"#d8576b\"], [0.6666666666666666, \"#ed7953\"], [0.7777777777777778, \"#fb9f3a\"], [0.8888888888888888, \"#fdca26\"], [1.0, \"#f0f921\"]]}, \"colorway\": [\"#636efa\", \"#EF553B\", \"#00cc96\", \"#ab63fa\", \"#FFA15A\", \"#19d3f3\", \"#FF6692\", \"#B6E880\", \"#FF97FF\", \"#FECB52\"], \"font\": {\"color\": \"#2a3f5f\"}, \"geo\": {\"bgcolor\": \"white\", \"lakecolor\": \"white\", \"landcolor\": \"#E5ECF6\", \"showlakes\": true, \"showland\": true, \"subunitcolor\": \"white\"}, \"hoverlabel\": {\"align\": \"left\"}, \"hovermode\": \"closest\", \"mapbox\": {\"style\": \"light\"}, \"paper_bgcolor\": \"white\", \"plot_bgcolor\": \"#E5ECF6\", \"polar\": {\"angularaxis\": {\"gridcolor\": \"white\", \"linecolor\": \"white\", \"ticks\": \"\"}, \"bgcolor\": \"#E5ECF6\", \"radialaxis\": {\"gridcolor\": \"white\", \"linecolor\": \"white\", \"ticks\": \"\"}}, \"scene\": {\"xaxis\": {\"backgroundcolor\": \"#E5ECF6\", \"gridcolor\": \"white\", \"gridwidth\": 2, \"linecolor\": \"white\", \"showbackground\": true, \"ticks\": \"\", \"zerolinecolor\": \"white\"}, \"yaxis\": {\"backgroundcolor\": \"#E5ECF6\", \"gridcolor\": \"white\", \"gridwidth\": 2, \"linecolor\": \"white\", \"showbackground\": true, \"ticks\": \"\", \"zerolinecolor\": \"white\"}, \"zaxis\": {\"backgroundcolor\": \"#E5ECF6\", \"gridcolor\": \"white\", \"gridwidth\": 2, \"linecolor\": \"white\", \"showbackground\": true, \"ticks\": \"\", \"zerolinecolor\": \"white\"}}, \"shapedefaults\": {\"line\": {\"color\": \"#2a3f5f\"}}, \"ternary\": {\"aaxis\": {\"gridcolor\": \"white\", \"linecolor\": \"white\", \"ticks\": \"\"}, \"baxis\": {\"gridcolor\": \"white\", \"linecolor\": \"white\", \"ticks\": \"\"}, \"bgcolor\": \"#E5ECF6\", \"caxis\": {\"gridcolor\": \"white\", \"linecolor\": \"white\", \"ticks\": \"\"}}, \"title\": {\"x\": 0.05}, \"xaxis\": {\"automargin\": true, \"gridcolor\": \"white\", \"linecolor\": \"white\", \"ticks\": \"\", \"title\": {\"standoff\": 15}, \"zerolinecolor\": \"white\", \"zerolinewidth\": 2}, \"yaxis\": {\"automargin\": true, \"gridcolor\": \"white\", \"linecolor\": \"white\", \"ticks\": \"\", \"title\": {\"standoff\": 15}, \"zerolinecolor\": \"white\", \"zerolinewidth\": 2}}}, \"title\": {\"text\": \"Top 25 Company\", \"x\": 0.5}, \"xaxis\": {\"title\": {\"text\": \"Company \"}}, \"yaxis\": {\"title\": {\"text\": \"Number Of Vehicles \"}}},\n",
       "                        {\"responsive\": true}\n",
       "                    ).then(function(){\n",
       "                            \n",
       "var gd = document.getElementById('779cb750-8b6a-498a-a843-c63a691cda9a');\n",
       "var x = new MutationObserver(function (mutations, observer) {{\n",
       "        var display = window.getComputedStyle(gd).display;\n",
       "        if (!display || display === 'none') {{\n",
       "            console.log([gd, 'removed!']);\n",
       "            Plotly.purge(gd);\n",
       "            observer.disconnect();\n",
       "        }}\n",
       "}});\n",
       "\n",
       "// Listen for the removal of the full notebook cells\n",
       "var notebookContainer = gd.closest('#notebook-container');\n",
       "if (notebookContainer) {{\n",
       "    x.observe(notebookContainer, {childList: true});\n",
       "}}\n",
       "\n",
       "// Listen for the clearing of the current output cell\n",
       "var outputEl = gd.closest('.output');\n",
       "if (outputEl) {{\n",
       "    x.observe(outputEl, {childList: true});\n",
       "}}\n",
       "\n",
       "                        })\n",
       "                };\n",
       "                });\n",
       "            </script>\n",
       "        </div>"
      ]
     },
     "metadata": {},
     "output_type": "display_data"
    }
   ],
   "source": [
    "df_Make=df['vehiculo_marca'].value_counts().reset_index().rename(columns={'index':'vehiculo_marca','vehiculo_marca':'Count'})[0:25]\n",
    "df_Make\n",
    "fig = go.Figure(go.Bar(x=df_Make['vehiculo_marca'],y=df_Make['Count'],\n",
    "        marker={'color': df_Make['Count'], 'colorscale': 'Viridis'}, \n",
    "        text=df_Make['Count'],\n",
    "        textposition = \"outside\",\n",
    "))\n",
    "fig.update_layout(title_text='Top 25 Company',xaxis_title=\"Company \",yaxis_title=\"Number Of Vehicles \",title_x=0.5)\n",
    "fig.show()"
   ]
  },
  {
   "cell_type": "code",
   "execution_count": 439,
   "id": "adolescent-guyana",
   "metadata": {},
   "outputs": [
    {
     "data": {
      "text/plain": [
       "SEDÁN 4 PUERTAS                                                                39\n",
       "SEDÁN 5 PUERTAS                                                                38\n",
       "RURAL                                                                          29\n",
       "SUV                                                                            28\n",
       "BERLINA                                                                        21\n",
       "PICK UP                                                                        18\n",
       "BERLINA 5 PUERTAS                                                              12\n",
       "CONVERTIBLE                                                                    11\n",
       "SEDÁN                                                                          11\n",
       "FAMILIAR                                                                       10\n",
       "COUPÉ 2 PUERTAS                                                                 8\n",
       "RURAL 5 PUERTAS                                                                 8\n",
       "SEDÁN 3 PUERTAS                                                                 6\n",
       "CAMIONETA 4 PUERTAS                                                             6\n",
       "COUPÉ                                                                           6\n",
       "SUV 5 PUERTAS                                                                   6\n",
       "BERLINA 4 PUERTAS                                                               6\n",
       "SEDÁN 4 PUERTAS CON PORTÓN TRASERO                                              5\n",
       "PICK UP CABINA DOBLE                                                            5\n",
       "RURAL 4/5 PUERTAS                                                               4\n",
       "SEDÁN 4 PUERTAS Y PORTÓN TRASERO                                                4\n",
       "COUPÉ 4 PUERTAS                                                                 4\n",
       "SUV 4/5 PUERTAS                                                                 4\n",
       "RURAL 5 PUERTAS -- TODOTERRENO                                                  4\n",
       "SEDÁN 4 PUERTAS CON PORTÓN TRASERO HB                                           3\n",
       "FAMILIAR 5 PUERTAS                                                              3\n",
       "SEDÁN 4/5 PUERTAS                                                               3\n",
       "FURGÓN                                                                          3\n",
       "HATCHBACK                                                                       3\n",
       "SUV  CROSSOVER 4 PUERTAS CON PORTÓN TRASERO                                    3\n",
       "SUV 4 PUERTAS Y PORTÓN TRASERO                                                  3\n",
       "CAMIONETA                                                                       3\n",
       "CAMIÓN                                                                          3\n",
       "COMERCIAL LIVIANO                                                               2\n",
       "RURAL 5 PUERTAS 2WD                                                             2\n",
       "COUPÉ CONVERTIBLE 2 PUERTAS                                                     2\n",
       "PICK UP 2 PUETAS CABINA SIMPLE PICK UP 4 PUERTAS CABINA DOBLE                   2\n",
       "CABRIOLET 2 PUERTAS                                                             2\n",
       "RURAL 4 PUERTAS CON PORTÓN TRASERO                                              2\n",
       "BERLINA 3 PUERTAS                                                               2\n",
       "SEDÁN 4 / 5 PUERTAS                                                             2\n",
       "CAMIONETA DE CARGA                                                              2\n",
       "SEDÁN 2 o 4 PUERTAS CON PORTÓN TRASERO                                          2\n",
       "TODOTERRENO                                                                     2\n",
       "STATION WAGON - SUV - CROSSOVER 4 PUERTAS CON PORTÓN TRASERO                    2\n",
       "PICK UP CABINA SIMPLE - CABINA DOBLE                                            2\n",
       "SEEDÁN 4 PUERTAS                                                                2\n",
       "FAMILIAR 4 PUERTAS                                                              2\n",
       "FURGÓN / CHASIS CON CABINA                                                      2\n",
       "5 PUERTAS HB                                                                    2\n",
       "MONOVOLÚMEN 4 PUERTAS Y PORTÓN TRASERO                                          2\n",
       "SEDÁN 4 PUERTAS CON BAÚL TRASERO NB                                             2\n",
       "PICK UP CABINA SIMPLE / CABINA DOBLE                                            2\n",
       "COUPÉ 2 PUERTAS COUPÉ 2 PUERTAS CABRIO                                          2\n",
       "RURAL 5 PUERTAS 4WD                                                             1\n",
       "SEDÁN 5 PUERTAS / COUPÉ                                                         1\n",
       "FAMILIAR RURAL                                                                  1\n",
       "COUPÉ 3 + 2 PUERTAS                                                             1\n",
       "DE CARGA CABINA DOBLE                                                           1\n",
       "SEDÁN 5 PUERTAS (HATCHBACK)                                                     1\n",
       "STATION WAGON - SUV - CROSSOVER - 4 PUERTAS CON PORTÓN TRASERO                  1\n",
       "MINIBUS - FURGÓN                                                                1\n",
       "CAMIONETA DE 4 PUERTAS                                                          1\n",
       "MONOVOLÚMEN 4 PUERTAS Y PORTÓN TRASERO (5 / 7 ASIENTOS)                         1\n",
       "PICK UP CABINA SIMPLE DOBLE                                                     1\n",
       "FAMILIAR-CABRIOLET                                                              1\n",
       "MOMOVOLÚMEN 4PUERTAS Y PORTÓN TRASERO                                           1\n",
       "PICK UP CABINA SIMPLE CABINA DOBLE                                              1\n",
       "HATCH 5 PUERTAS SEDÁN 5 PUERTAS                                                 1\n",
       "CHASIS CON CABINA SIMPLE                                                        1\n",
       "CHASIS LARGO / CHASIS EXTRA LARGO                                               1\n",
       "SEDÁN 4 PUERTAS - COUPÉ 2 PUERTAS                                               1\n",
       "SEDÁN - COUPÉ                                                                   1\n",
       "CONVERTIBLE 2 PUERTAS / COUPÉ 2 PUERTAS - CONVERTIBLE 2 PUERTAS                 1\n",
       "FURGONETA                                                                       1\n",
       "SEDÁN 3 PUERTAS CON PORTÓN                                                      1\n",
       "SEDÁN 5 PUERTAS (FAMILIAR)                                                      1\n",
       "PICK UP: CAJA BAJA JAULA CAJA PAQUETERA FURGÓN                                  1\n",
       "FAMILIAR-FURGÓN                                                                 1\n",
       "DE CARGA CABINA SIMPLE                                                          1\n",
       "SEDÁN 4 PUERTAS CON PORTÓN TRASERO HB / SEDÁN 4 PUERTSA CON BAÚL TRASERO NB     1\n",
       "MOMOVOLÚMEN 4PUERTAS Y PORTÓN TRASERO (5 / 7 ASIENTOS)                          1\n",
       "BERLINA 4 PUERTAS CON PORTÓN TRASERO                                            1\n",
       "CHASIS CON CABINA DOBLE                                                         1\n",
       "SEDÁN 4 PUERTAS CON TAPA BAÚL NB                                                1\n",
       "TODO TERRENO                                                                    1\n",
       "SEDÁN 3/5 PUERTAS                                                               1\n",
       "BERLINA 3 PUERTAS CABRIOLET                                                     1\n",
       "SEDÁN 4 PUERTSA CON BAÚL TRASERO NB                                             1\n",
       "SEDÁN 3 PUERTAS / 5 PUERTAS / COUPÉ                                             1\n",
       "RURAL 5 PUERTAS TODOTERRENO                                                     1\n",
       "MICROOMNIBUS                                                                    1\n",
       "SEDÁN 3 PUERTAS COUPÉ                                                           1\n",
       "BERLINA 4 PUERTAS Y PORTÓN TRASERO                                              1\n",
       "RURAL 4 PUERTAS CON PORTÓN TRASERO / SEDÁN 2 PUERTAS CON PORTÓN TRASERO         1\n",
       "MONOVOLUMEN 5 PLAZAS / MONOVULUMEN 7 PLAZAS                                     1\n",
       "HATCHBACK 4 PUERTAS CON PORTÓN TRASERO                                          1\n",
       "MONOVOLUMEN 7 PLAZAS                                                            1\n",
       "Name: vehiculo_tipo, dtype: int64"
      ]
     },
     "execution_count": 439,
     "metadata": {},
     "output_type": "execute_result"
    }
   ],
   "source": [
    "df['vehiculo_tipo'].value_counts()"
   ]
  },
  {
   "cell_type": "code",
   "execution_count": 440,
   "id": "norman-classics",
   "metadata": {},
   "outputs": [
    {
     "data": {
      "text/plain": [
       "4x2          286\n",
       "4x4           95\n",
       "4x2 - 4x4     25\n",
       "Name: vehiculo_traccion, dtype: int64"
      ]
     },
     "execution_count": 440,
     "metadata": {},
     "output_type": "execute_result"
    }
   ],
   "source": [
    "df['vehiculo_traccion'].value_counts()"
   ]
  },
  {
   "cell_type": "code",
   "execution_count": 441,
   "id": "lucky-creek",
   "metadata": {},
   "outputs": [
    {
     "data": {
      "text/plain": [
       "AUTOMATICA                                     223\n",
       "MANUAL                                         147\n",
       "CVT                                             33\n",
       "E-CVT (Hibrida controlada electrónicamente)      1\n",
       "CTT                                              1\n",
       "MANUAL AUTOMATIZADA                              1\n",
       "Name: vehiculo_tipo_transmision, dtype: int64"
      ]
     },
     "execution_count": 441,
     "metadata": {},
     "output_type": "execute_result"
    }
   ],
   "source": [
    "df['vehiculo_tipo_transmision'].value_counts()"
   ]
  },
  {
   "cell_type": "code",
   "execution_count": 442,
   "id": "prescribed-three",
   "metadata": {},
   "outputs": [
    {
     "data": {
      "text/plain": [
       "NAFTA                   316\n",
       "GAS OIL                  61\n",
       "NAFTA / ELECTRICIDAD     25\n",
       "DIESEL                    4\n",
       "Name: vehiculo_tipo_combustible, dtype: int64"
      ]
     },
     "execution_count": 442,
     "metadata": {},
     "output_type": "execute_result"
    }
   ],
   "source": [
    "df['vehiculo_tipo_combustible'].value_counts()"
   ]
  },
  {
   "cell_type": "code",
   "execution_count": 443,
   "id": "empty-split",
   "metadata": {},
   "outputs": [
    {
     "data": {
      "text/plain": [
       "EURO V        264\n",
       "EURO VI b      49\n",
       "EURO VI c      39\n",
       "EURO VI        24\n",
       "EURO  V        18\n",
       "EURO VI d       5\n",
       "EURO VI a       5\n",
       "EURUO V         1\n",
       "EURO  VI b      1\n",
       "Name: vehiculo_standard_emision, dtype: int64"
      ]
     },
     "execution_count": 443,
     "metadata": {},
     "output_type": "execute_result"
    }
   ],
   "source": [
    "df['vehiculo_standard_emision'].value_counts()"
   ]
  },
  {
   "cell_type": "code",
   "execution_count": 444,
   "id": "delayed-sewing",
   "metadata": {},
   "outputs": [
    {
     "data": {
      "text/plain": [
       "Index(['index', 'vehiculo_marca', 'vehiculo_modelo', 'vehiculo_tipo',\n",
       "       'vehiculo_traccion', 'vehiculo_cilindrada', 'vehiculo_tipo_transmision',\n",
       "       'vehiculo_tipo_combustible', 'vehiculo_standard_emision', 'emision_CO2',\n",
       "       'consumo_urbano', 'consumo_extraurbano', 'consumo_mixto'],\n",
       "      dtype='object')"
      ]
     },
     "execution_count": 444,
     "metadata": {},
     "output_type": "execute_result"
    }
   ],
   "source": [
    "df.columns\n"
   ]
  },
  {
   "cell_type": "code",
   "execution_count": 445,
   "id": "strong-roads",
   "metadata": {},
   "outputs": [
    {
     "data": {
      "text/html": [
       "<div>\n",
       "<style scoped>\n",
       "    .dataframe tbody tr th:only-of-type {\n",
       "        vertical-align: middle;\n",
       "    }\n",
       "\n",
       "    .dataframe tbody tr th {\n",
       "        vertical-align: top;\n",
       "    }\n",
       "\n",
       "    .dataframe thead th {\n",
       "        text-align: right;\n",
       "    }\n",
       "</style>\n",
       "<table border=\"1\" class=\"dataframe\">\n",
       "  <thead>\n",
       "    <tr style=\"text-align: right;\">\n",
       "      <th></th>\n",
       "      <th>count</th>\n",
       "      <th>mean</th>\n",
       "      <th>std</th>\n",
       "      <th>min</th>\n",
       "      <th>25%</th>\n",
       "      <th>50%</th>\n",
       "      <th>75%</th>\n",
       "      <th>max</th>\n",
       "    </tr>\n",
       "  </thead>\n",
       "  <tbody>\n",
       "    <tr>\n",
       "      <th>index</th>\n",
       "      <td>406.0</td>\n",
       "      <td>203.327586</td>\n",
       "      <td>118.528024</td>\n",
       "      <td>0.00</td>\n",
       "      <td>101.2500</td>\n",
       "      <td>202.5</td>\n",
       "      <td>303.7500</td>\n",
       "      <td>411.00</td>\n",
       "    </tr>\n",
       "    <tr>\n",
       "      <th>vehiculo_cilindrada</th>\n",
       "      <td>406.0</td>\n",
       "      <td>2084.467980</td>\n",
       "      <td>796.148300</td>\n",
       "      <td>997.00</td>\n",
       "      <td>1587.0000</td>\n",
       "      <td>1984.0</td>\n",
       "      <td>2298.0000</td>\n",
       "      <td>6496.00</td>\n",
       "    </tr>\n",
       "    <tr>\n",
       "      <th>emision_CO2</th>\n",
       "      <td>406.0</td>\n",
       "      <td>180.538473</td>\n",
       "      <td>42.006972</td>\n",
       "      <td>88.00</td>\n",
       "      <td>150.2950</td>\n",
       "      <td>175.7</td>\n",
       "      <td>204.0000</td>\n",
       "      <td>360.00</td>\n",
       "    </tr>\n",
       "    <tr>\n",
       "      <th>consumo_urbano</th>\n",
       "      <td>406.0</td>\n",
       "      <td>10.045764</td>\n",
       "      <td>4.911663</td>\n",
       "      <td>2.39</td>\n",
       "      <td>8.0575</td>\n",
       "      <td>9.4</td>\n",
       "      <td>11.1225</td>\n",
       "      <td>92.00</td>\n",
       "    </tr>\n",
       "    <tr>\n",
       "      <th>consumo_extraurbano</th>\n",
       "      <td>406.0</td>\n",
       "      <td>6.379975</td>\n",
       "      <td>1.378159</td>\n",
       "      <td>3.50</td>\n",
       "      <td>5.4625</td>\n",
       "      <td>6.1</td>\n",
       "      <td>7.0075</td>\n",
       "      <td>12.95</td>\n",
       "    </tr>\n",
       "    <tr>\n",
       "      <th>consumo_mixto</th>\n",
       "      <td>406.0</td>\n",
       "      <td>9.277389</td>\n",
       "      <td>33.017760</td>\n",
       "      <td>3.80</td>\n",
       "      <td>6.4775</td>\n",
       "      <td>7.4</td>\n",
       "      <td>8.4150</td>\n",
       "      <td>672.00</td>\n",
       "    </tr>\n",
       "  </tbody>\n",
       "</table>\n",
       "</div>"
      ],
      "text/plain": [
       "                     count         mean         std     min        25%  \\\n",
       "index                406.0   203.327586  118.528024    0.00   101.2500   \n",
       "vehiculo_cilindrada  406.0  2084.467980  796.148300  997.00  1587.0000   \n",
       "emision_CO2          406.0   180.538473   42.006972   88.00   150.2950   \n",
       "consumo_urbano       406.0    10.045764    4.911663    2.39     8.0575   \n",
       "consumo_extraurbano  406.0     6.379975    1.378159    3.50     5.4625   \n",
       "consumo_mixto        406.0     9.277389   33.017760    3.80     6.4775   \n",
       "\n",
       "                        50%        75%      max  \n",
       "index                 202.5   303.7500   411.00  \n",
       "vehiculo_cilindrada  1984.0  2298.0000  6496.00  \n",
       "emision_CO2           175.7   204.0000   360.00  \n",
       "consumo_urbano          9.4    11.1225    92.00  \n",
       "consumo_extraurbano     6.1     7.0075    12.95  \n",
       "consumo_mixto           7.4     8.4150   672.00  "
      ]
     },
     "execution_count": 445,
     "metadata": {},
     "output_type": "execute_result"
    }
   ],
   "source": [
    "df.describe().T"
   ]
  },
  {
   "cell_type": "code",
   "execution_count": 446,
   "id": "pending-actor",
   "metadata": {},
   "outputs": [
    {
     "data": {
      "image/png": "[encoded data removed]",
      "text/plain": [
       "<Figure size 432x288 with 2 Axes>"
      ]
     },
     "metadata": {
      "needs_background": "light"
     },
     "output_type": "display_data"
    }
   ],
   "source": [
    "sns.heatmap(df.corr(), vmin=-1, vmax=1, center=0, cmap=\"YlGnBu\");"
   ]
  },
  {
   "cell_type": "code",
   "execution_count": 491,
   "id": "vertical-bulgarian",
   "metadata": {},
   "outputs": [
    {
     "data": {
      "text/plain": [
       "(array([ 0,  1,  2,  3,  4,  5,  6,  7,  8,  9, 10, 11, 12, 13, 14, 15, 16]),\n",
       " <a list of 17 Text major ticklabel objects>)"
      ]
     },
     "execution_count": 491,
     "metadata": {},
     "output_type": "execute_result"
    },
    {
     "name": "stderr",
     "output_type": "stream",
     "text": [
      "C:\\Users\\20173409045\\Anaconda3\\lib\\site-packages\\matplotlib\\backends\\backend_agg.py:214: RuntimeWarning:\n",
      "\n",
      "Glyph 150 missing from current font.\n",
      "\n",
      "C:\\Users\\20173409045\\Anaconda3\\lib\\site-packages\\matplotlib\\backends\\backend_agg.py:183: RuntimeWarning:\n",
      "\n",
      "Glyph 150 missing from current font.\n",
      "\n"
     ]
    },
    {
     "data": {
      "image/png": "[encoded data removed]",
      "text/plain": [
       "<Figure size 720x576 with 1 Axes>"
      ]
     },
     "metadata": {
      "needs_background": "light"
     },
     "output_type": "display_data"
    }
   ],
   "source": [
    "#El boxplot muestra que los camiones y 4x4 emiten mas CO2 comparado a otros tipos de vehiculoss\n",
    "\n",
    "plt.figure(figsize = (10,8))\n",
    "sns.boxplot(x=\"vehiculo_tipo\", y=\"emision_CO2\", data=df)\n",
    "plt.xticks(rotation = 'vertical')\n"
   ]
  },
  {
   "cell_type": "code",
   "execution_count": 448,
   "id": "thick-disclaimer",
   "metadata": {},
   "outputs": [
    {
     "data": {
      "image/png": "[encoded data removed]",
      "text/plain": [
       "<Figure size 720x576 with 1 Axes>"
      ]
     },
     "metadata": {
      "needs_background": "light"
     },
     "output_type": "display_data"
    }
   ],
   "source": [
    "#El boxplot muestra que los vehiculos que usan GAS OIL emiten mas CO2\n",
    "plt.figure(figsize = (10,8))\n",
    "sns.boxplot(x = 'vehiculo_tipo_combustible' , y = 'emision_CO2', data = df)\n",
    "plt.show()"
   ]
  },
  {
   "cell_type": "markdown",
   "id": "elementary-hazard",
   "metadata": {},
   "source": [
    "## MODELADO"
   ]
  },
  {
   "cell_type": "code",
   "execution_count": 449,
   "id": "quarterly-triple",
   "metadata": {},
   "outputs": [],
   "source": [
    "from sklearn.linear_model import LinearRegression\n",
    "from sklearn import metrics\n",
    "from sklearn.model_selection import train_test_split"
   ]
  },
  {
   "cell_type": "code",
   "execution_count": 450,
   "id": "exciting-litigation",
   "metadata": {},
   "outputs": [],
   "source": [
    "def train_test_rmse(feature_cols):\n",
    "    X = df[feature_cols]\n",
    "    y = df.emision_CO2\n",
    "    X_train, X_test, y_train, y_test = train_test_split(X, y, shuffle=True , random_state = 40)\n",
    "    print (X_train.shape, y_train.shape) \n",
    "    print (X_test.shape, y_test.shape)\n",
    "    linreg = LinearRegression()\n",
    "    linreg.fit(X_train, y_train)\n",
    "    y_pred = linreg.predict(X_test)\n",
    "    return np.sqrt(metrics.mean_squared_error(y_test, y_pred))"
   ]
  },
  {
   "cell_type": "code",
   "execution_count": 451,
   "id": "equipped-thong",
   "metadata": {},
   "outputs": [],
   "source": [
    "features_columnas = [ 'vehiculo_cilindrada', 'consumo_urbano', 'consumo_extraurbano', 'consumo_mixto']"
   ]
  },
  {
   "cell_type": "code",
   "execution_count": 452,
   "id": "smaller-weekly",
   "metadata": {},
   "outputs": [
    {
     "name": "stdout",
     "output_type": "stream",
     "text": [
      "(304, 4) (304,)\n",
      "(102, 4) (102,)\n",
      "13.099058834565392\n"
     ]
    }
   ],
   "source": [
    "print (train_test_rmse( features_cols))"
   ]
  },
  {
   "cell_type": "code",
   "execution_count": 453,
   "id": "institutional-sister",
   "metadata": {},
   "outputs": [
    {
     "name": "stdout",
     "output_type": "stream",
     "text": [
      "11.327428693621442\n",
      "[ 1.61344172e-02  4.92542762e-01  1.89183885e+01 -1.44267429e-02\n",
      "  1.28861676e+00  3.27771215e+00  3.38240128e+00  2.34137095e+00\n",
      " -2.08846274e-11  5.70672837e+00  1.73367001e+01  6.88363126e+00\n",
      " -2.11439185e+01 -1.34977928e+01 -7.23287866e+00  1.17666038e+01\n",
      "  1.24696836e+01 -4.35802059e+00 -9.34898632e+00 -1.26527813e+00\n",
      " -7.60657330e+00 -1.52629310e+01  1.46149698e-01 -4.42804920e-01\n",
      " -9.36774800e+00 -3.71048519e+00  2.58428591e+00  5.68931893e+00\n",
      "  6.06354144e+00 -1.12815650e+01  4.93191875e+00  8.26561395e+00\n",
      " -1.71711782e+01 -5.84568022e+00 -1.98774162e+01 -3.54349674e+00\n",
      "  3.56431015e+00  3.70699406e+00 -3.77201693e+00  7.91046709e+00\n",
      " -4.35738666e+00  2.06050466e+00  6.31147854e-01  1.10743589e+01\n",
      " -1.01706708e+01 -1.06207473e+01  2.64833927e+01  9.17498151e+00\n",
      " -1.77398809e+00 -2.38439271e+01  6.72059531e+00  1.46956057e+01\n",
      " -6.29356549e+00 -8.26941036e+00  3.00415052e+01  6.16648718e-01\n",
      "  1.49192518e-01  2.81972739e-02  1.59503656e+01 -3.75545585e+00\n",
      "  2.29944743e+01 -1.43381329e+01 -2.74837201e-01 -1.81885803e+01\n",
      "  3.09014767e+00  7.17590157e+00 -1.93791992e+00  3.12116492e+00\n",
      "  2.63929490e+00 -5.41013493e+00 -8.22051421e-01 -4.77302316e+00\n",
      "  5.59507459e+00  3.15769634e+00  4.77887085e-01  2.45887790e+00\n",
      " -6.84326397e-01 -5.41013493e+00 -4.44089210e-16  5.59642142e+00\n",
      " -5.36385366e+00 -5.80495158e-01 -8.68739326e+00 -4.55767691e+00\n",
      " -3.10407042e-02  8.77523217e+00  1.24553794e+01 -7.60657330e+00\n",
      "  7.06899064e+00  8.02051858e+00 -1.17485734e+01 -3.34093583e+00]\n"
     ]
    }
   ],
   "source": [
    "print (linreg.intercept_)\n",
    "print (linreg.coef_)"
   ]
  },
  {
   "cell_type": "code",
   "execution_count": 454,
   "id": "standing-montgomery",
   "metadata": {},
   "outputs": [
    {
     "name": "stdout",
     "output_type": "stream",
     "text": [
      "MAE: 8.898676199860429\n",
      "MSE: 144.03456322533017\n",
      "RMSE: 12.001440047983\n"
     ]
    }
   ],
   "source": [
    "print ('MAE:', metrics.mean_absolute_error(y_test,y_pred))\n",
    "print ('MSE:', metrics.mean_squared_error(y_test,y_pred))\n",
    "print ('RMSE:', np.sqrt(metrics.mean_squared_error(y_test, y_pred)))"
   ]
  },
  {
   "cell_type": "code",
   "execution_count": 455,
   "id": "alone-front",
   "metadata": {},
   "outputs": [
    {
     "name": "stdout",
     "output_type": "stream",
     "text": [
      "R2: 0.9278281892297295\n"
     ]
    }
   ],
   "source": [
    "print ('R2:', metrics.r2_score(y_test, y_pred))"
   ]
  },
  {
   "cell_type": "code",
   "execution_count": 456,
   "id": "adequate-vitamin",
   "metadata": {},
   "outputs": [
    {
     "data": {
      "image/png": "[encoded data removed]",
      "text/plain": [
       "<Figure size 432x288 with 1 Axes>"
      ]
     },
     "metadata": {
      "needs_background": "light"
     },
     "output_type": "display_data"
    },
    {
     "name": "stdout",
     "output_type": "stream",
     "text": [
      "(102,)\n",
      "(102,)\n"
     ]
    }
   ],
   "source": [
    "graf_lineal_model(X, y_test, y_pred)"
   ]
  },
  {
   "cell_type": "markdown",
   "id": "announced-overview",
   "metadata": {},
   "source": [
    "## DUMMIES"
   ]
  },
  {
   "cell_type": "code",
   "execution_count": 457,
   "id": "empirical-lloyd",
   "metadata": {},
   "outputs": [
    {
     "data": {
      "text/plain": [
       "Index(['index', 'vehiculo_marca', 'vehiculo_modelo', 'vehiculo_tipo',\n",
       "       'vehiculo_traccion', 'vehiculo_cilindrada', 'vehiculo_tipo_transmision',\n",
       "       'vehiculo_tipo_combustible', 'vehiculo_standard_emision', 'emision_CO2',\n",
       "       'consumo_urbano', 'consumo_extraurbano', 'consumo_mixto'],\n",
       "      dtype='object')"
      ]
     },
     "execution_count": 457,
     "metadata": {},
     "output_type": "execute_result"
    }
   ],
   "source": [
    "df.columns"
   ]
  },
  {
   "cell_type": "code",
   "execution_count": 458,
   "id": "comparative-naples",
   "metadata": {},
   "outputs": [],
   "source": [
    "tipo_df = pd.read_csv('Data/tipo_vehiculos.csv'  )\n",
    "#Costo.. pero salio!!!!\n",
    "tipo_df_dic = tipo_df.set_index('ID').T.to_dict('list')\n",
    "#tipo_df_dic"
   ]
  },
  {
   "cell_type": "code",
   "execution_count": 459,
   "id": "disturbed-thousand",
   "metadata": {},
   "outputs": [],
   "source": [
    "df.vehiculo_tipo = df.vehiculo_tipo.replace(tipo_df_dic)"
   ]
  },
  {
   "cell_type": "code",
   "execution_count": 460,
   "id": "differential-ukraine",
   "metadata": {},
   "outputs": [
    {
     "data": {
      "text/plain": [
       "(406, 13)"
      ]
     },
     "execution_count": 460,
     "metadata": {},
     "output_type": "execute_result"
    }
   ],
   "source": [
    "df.shape"
   ]
  },
  {
   "cell_type": "code",
   "execution_count": 461,
   "id": "documented-colon",
   "metadata": {},
   "outputs": [
    {
     "data": {
      "text/plain": [
       "(array([  0.,  20.,  40.,  60.,  80., 100., 120.]),\n",
       " <a list of 7 Text major ticklabel objects>)"
      ]
     },
     "execution_count": 461,
     "metadata": {},
     "output_type": "execute_result"
    },
    {
     "name": "stderr",
     "output_type": "stream",
     "text": [
      "C:\\Users\\20173409045\\Anaconda3\\lib\\site-packages\\matplotlib\\backends\\backend_agg.py:214: RuntimeWarning:\n",
      "\n",
      "Glyph 150 missing from current font.\n",
      "\n",
      "C:\\Users\\20173409045\\Anaconda3\\lib\\site-packages\\matplotlib\\backends\\backend_agg.py:183: RuntimeWarning:\n",
      "\n",
      "Glyph 150 missing from current font.\n",
      "\n"
     ]
    },
    {
     "data": {
      "image/png": "[encoded data removed]",
      "text/plain": [
       "<Figure size 720x576 with 1 Axes>"
      ]
     },
     "metadata": {
      "needs_background": "light"
     },
     "output_type": "display_data"
    }
   ],
   "source": [
    "mkI = df['vehiculo_tipo'].value_counts().index\n",
    "mkV = df['vehiculo_tipo'].value_counts().values\n",
    "plt.figure(figsize = (10,8))\n",
    "sns.barplot(mkV,mkI, orient = 'h', palette='Spectral')\n",
    "plt.xticks(rotation='vertical')"
   ]
  },
  {
   "cell_type": "code",
   "execution_count": 462,
   "id": "regional-physiology",
   "metadata": {},
   "outputs": [
    {
     "data": {
      "text/plain": [
       "Index(['index', 'vehiculo_marca', 'vehiculo_modelo', 'vehiculo_tipo',\n",
       "       'vehiculo_traccion', 'vehiculo_cilindrada', 'vehiculo_tipo_transmision',\n",
       "       'vehiculo_tipo_combustible', 'vehiculo_standard_emision', 'emision_CO2',\n",
       "       'consumo_urbano', 'consumo_extraurbano', 'consumo_mixto'],\n",
       "      dtype='object')"
      ]
     },
     "execution_count": 462,
     "metadata": {},
     "output_type": "execute_result"
    }
   ],
   "source": [
    "df.columns"
   ]
  },
  {
   "cell_type": "code",
   "execution_count": 463,
   "id": "existing-humidity",
   "metadata": {},
   "outputs": [
    {
     "data": {
      "text/html": [
       "<div>\n",
       "<style scoped>\n",
       "    .dataframe tbody tr th:only-of-type {\n",
       "        vertical-align: middle;\n",
       "    }\n",
       "\n",
       "    .dataframe tbody tr th {\n",
       "        vertical-align: top;\n",
       "    }\n",
       "\n",
       "    .dataframe thead th {\n",
       "        text-align: right;\n",
       "    }\n",
       "</style>\n",
       "<table border=\"1\" class=\"dataframe\">\n",
       "  <thead>\n",
       "    <tr style=\"text-align: right;\">\n",
       "      <th></th>\n",
       "      <th>index</th>\n",
       "      <th>vehiculo_marca</th>\n",
       "      <th>vehiculo_modelo</th>\n",
       "      <th>vehiculo_tipo</th>\n",
       "      <th>vehiculo_traccion</th>\n",
       "      <th>vehiculo_cilindrada</th>\n",
       "      <th>vehiculo_tipo_transmision</th>\n",
       "      <th>vehiculo_tipo_combustible</th>\n",
       "      <th>vehiculo_standard_emision</th>\n",
       "      <th>emision_CO2</th>\n",
       "      <th>consumo_urbano</th>\n",
       "      <th>consumo_extraurbano</th>\n",
       "      <th>consumo_mixto</th>\n",
       "    </tr>\n",
       "  </thead>\n",
       "  <tbody>\n",
       "    <tr>\n",
       "      <th>0</th>\n",
       "      <td>0</td>\n",
       "      <td>TOYOTA</td>\n",
       "      <td>LAND CRUISER 200</td>\n",
       "      <td>SUV</td>\n",
       "      <td>4x4</td>\n",
       "      <td>4461.0</td>\n",
       "      <td>AUTOMATICA</td>\n",
       "      <td>GAS OIL</td>\n",
       "      <td>EURO V</td>\n",
       "      <td>260.70</td>\n",
       "      <td>11.56</td>\n",
       "      <td>8.94</td>\n",
       "      <td>9.90</td>\n",
       "    </tr>\n",
       "    <tr>\n",
       "      <th>1</th>\n",
       "      <td>1</td>\n",
       "      <td>RENAULT</td>\n",
       "      <td>FLUENCE 2.0 16V</td>\n",
       "      <td>4 Puertas</td>\n",
       "      <td>4x2</td>\n",
       "      <td>1997.0</td>\n",
       "      <td>CVT</td>\n",
       "      <td>NAFTA</td>\n",
       "      <td>EURO V</td>\n",
       "      <td>175.40</td>\n",
       "      <td>10.50</td>\n",
       "      <td>6.10</td>\n",
       "      <td>7.70</td>\n",
       "    </tr>\n",
       "    <tr>\n",
       "      <th>2</th>\n",
       "      <td>2</td>\n",
       "      <td>RENAULT</td>\n",
       "      <td>DUSTER 2.0 16v</td>\n",
       "      <td>5 Puertas</td>\n",
       "      <td>4x2</td>\n",
       "      <td>1998.0</td>\n",
       "      <td>MANUAL</td>\n",
       "      <td>NAFTA</td>\n",
       "      <td>EURO V</td>\n",
       "      <td>198.86</td>\n",
       "      <td>11.13</td>\n",
       "      <td>6.98</td>\n",
       "      <td>8.52</td>\n",
       "    </tr>\n",
       "    <tr>\n",
       "      <th>3</th>\n",
       "      <td>3</td>\n",
       "      <td>RENAULT</td>\n",
       "      <td>DUSTER 2.0 16v 4X4</td>\n",
       "      <td>5 Puertas</td>\n",
       "      <td>4x4</td>\n",
       "      <td>1998.0</td>\n",
       "      <td>MANUAL</td>\n",
       "      <td>NAFTA</td>\n",
       "      <td>EURO V</td>\n",
       "      <td>199.74</td>\n",
       "      <td>11.20</td>\n",
       "      <td>7.01</td>\n",
       "      <td>8.55</td>\n",
       "    </tr>\n",
       "    <tr>\n",
       "      <th>4</th>\n",
       "      <td>4</td>\n",
       "      <td>CITROËN</td>\n",
       "      <td>DS4</td>\n",
       "      <td>Coupe</td>\n",
       "      <td>4x2</td>\n",
       "      <td>1598.0</td>\n",
       "      <td>AUTOMATICA</td>\n",
       "      <td>NAFTA</td>\n",
       "      <td>EURO V</td>\n",
       "      <td>177.60</td>\n",
       "      <td>10.60</td>\n",
       "      <td>6.00</td>\n",
       "      <td>7.70</td>\n",
       "    </tr>\n",
       "    <tr>\n",
       "      <th>5</th>\n",
       "      <td>5</td>\n",
       "      <td>CITROËN</td>\n",
       "      <td>DS3</td>\n",
       "      <td>Coupe</td>\n",
       "      <td>4x2</td>\n",
       "      <td>1598.0</td>\n",
       "      <td>MANUAL</td>\n",
       "      <td>NAFTA</td>\n",
       "      <td>EURO V</td>\n",
       "      <td>140.80</td>\n",
       "      <td>8.20</td>\n",
       "      <td>4.70</td>\n",
       "      <td>6.00</td>\n",
       "    </tr>\n",
       "    <tr>\n",
       "      <th>6</th>\n",
       "      <td>6</td>\n",
       "      <td>LEXUS</td>\n",
       "      <td>GS450H</td>\n",
       "      <td>4 Puertas</td>\n",
       "      <td>4x2</td>\n",
       "      <td>3456.0</td>\n",
       "      <td>CVT</td>\n",
       "      <td>NAFTA / ELECTRICIDAD</td>\n",
       "      <td>EURO V</td>\n",
       "      <td>145.00</td>\n",
       "      <td>6.60</td>\n",
       "      <td>5.90</td>\n",
       "      <td>6.20</td>\n",
       "    </tr>\n",
       "    <tr>\n",
       "      <th>7</th>\n",
       "      <td>7</td>\n",
       "      <td>CITROËN</td>\n",
       "      <td>DS3</td>\n",
       "      <td>Coupe</td>\n",
       "      <td>4x2</td>\n",
       "      <td>1598.0</td>\n",
       "      <td>MANUAL</td>\n",
       "      <td>NAFTA</td>\n",
       "      <td>EURO V</td>\n",
       "      <td>141.20</td>\n",
       "      <td>8.00</td>\n",
       "      <td>4.90</td>\n",
       "      <td>6.00</td>\n",
       "    </tr>\n",
       "    <tr>\n",
       "      <th>8</th>\n",
       "      <td>8</td>\n",
       "      <td>PEUGEOT</td>\n",
       "      <td>208</td>\n",
       "      <td>5 Puertas</td>\n",
       "      <td>4x2</td>\n",
       "      <td>1587.0</td>\n",
       "      <td>MANUAL</td>\n",
       "      <td>NAFTA</td>\n",
       "      <td>EURO V</td>\n",
       "      <td>173.77</td>\n",
       "      <td>10.17</td>\n",
       "      <td>5.84</td>\n",
       "      <td>7.44</td>\n",
       "    </tr>\n",
       "    <tr>\n",
       "      <th>9</th>\n",
       "      <td>9</td>\n",
       "      <td>TOYOTA</td>\n",
       "      <td>RAV4</td>\n",
       "      <td>SUV</td>\n",
       "      <td>4x4</td>\n",
       "      <td>2494.0</td>\n",
       "      <td>AUTOMATICA</td>\n",
       "      <td>NAFTA</td>\n",
       "      <td>EURO V</td>\n",
       "      <td>197.70</td>\n",
       "      <td>11.40</td>\n",
       "      <td>6.90</td>\n",
       "      <td>8.50</td>\n",
       "    </tr>\n",
       "  </tbody>\n",
       "</table>\n",
       "</div>"
      ],
      "text/plain": [
       "   index vehiculo_marca     vehiculo_modelo vehiculo_tipo vehiculo_traccion  \\\n",
       "0      0         TOYOTA    LAND CRUISER 200           SUV               4x4   \n",
       "1      1        RENAULT     FLUENCE 2.0 16V     4 Puertas               4x2   \n",
       "2      2        RENAULT      DUSTER 2.0 16v     5 Puertas               4x2   \n",
       "3      3        RENAULT  DUSTER 2.0 16v 4X4     5 Puertas               4x4   \n",
       "4      4        CITROËN                 DS4         Coupe               4x2   \n",
       "5      5        CITROËN                 DS3         Coupe               4x2   \n",
       "6      6          LEXUS              GS450H     4 Puertas               4x2   \n",
       "7      7        CITROËN                 DS3         Coupe               4x2   \n",
       "8      8        PEUGEOT                 208     5 Puertas               4x2   \n",
       "9      9         TOYOTA                RAV4           SUV               4x4   \n",
       "\n",
       "   vehiculo_cilindrada vehiculo_tipo_transmision vehiculo_tipo_combustible  \\\n",
       "0               4461.0                AUTOMATICA                   GAS OIL   \n",
       "1               1997.0                       CVT                     NAFTA   \n",
       "2               1998.0                    MANUAL                     NAFTA   \n",
       "3               1998.0                    MANUAL                     NAFTA   \n",
       "4               1598.0                AUTOMATICA                     NAFTA   \n",
       "5               1598.0                    MANUAL                     NAFTA   \n",
       "6               3456.0                       CVT      NAFTA / ELECTRICIDAD   \n",
       "7               1598.0                    MANUAL                     NAFTA   \n",
       "8               1587.0                    MANUAL                     NAFTA   \n",
       "9               2494.0                AUTOMATICA                     NAFTA   \n",
       "\n",
       "  vehiculo_standard_emision  emision_CO2  consumo_urbano  consumo_extraurbano  \\\n",
       "0                    EURO V       260.70           11.56                 8.94   \n",
       "1                    EURO V       175.40           10.50                 6.10   \n",
       "2                    EURO V       198.86           11.13                 6.98   \n",
       "3                    EURO V       199.74           11.20                 7.01   \n",
       "4                    EURO V       177.60           10.60                 6.00   \n",
       "5                    EURO V       140.80            8.20                 4.70   \n",
       "6                    EURO V       145.00            6.60                 5.90   \n",
       "7                    EURO V       141.20            8.00                 4.90   \n",
       "8                    EURO V       173.77           10.17                 5.84   \n",
       "9                    EURO V       197.70           11.40                 6.90   \n",
       "\n",
       "   consumo_mixto  \n",
       "0           9.90  \n",
       "1           7.70  \n",
       "2           8.52  \n",
       "3           8.55  \n",
       "4           7.70  \n",
       "5           6.00  \n",
       "6           6.20  \n",
       "7           6.00  \n",
       "8           7.44  \n",
       "9           8.50  "
      ]
     },
     "execution_count": 463,
     "metadata": {},
     "output_type": "execute_result"
    }
   ],
   "source": [
    "df.head(10)"
   ]
  },
  {
   "cell_type": "code",
   "execution_count": null,
   "id": "strategic-salem",
   "metadata": {},
   "outputs": [],
   "source": []
  },
  {
   "cell_type": "code",
   "execution_count": 464,
   "id": "meaningful-discharge",
   "metadata": {},
   "outputs": [],
   "source": [
    "categorical_columns = ['vehiculo_tipo','vehiculo_marca', 'vehiculo_traccion', 'vehiculo_tipo_transmision', 'vehiculo_standard_emision',\n",
    "   'vehiculo_tipo_combustible']"
   ]
  },
  {
   "cell_type": "code",
   "execution_count": 465,
   "id": "dental-november",
   "metadata": {},
   "outputs": [
    {
     "data": {
      "text/plain": [
       "[array(['SUV', '4 Puertas', '5 Puertas', 'Coupe', 'Chasis Largo',\n",
       "        'PICK UP', 'Furgon', 'Camion', '4x4', 'SEDÁN 3 PUERTAS COUPÉ',\n",
       "        'Rural', 'BUS', 'PICK UP CABINA SIMPLE DOBLE',\n",
       "        'SUV \\x96 CROSSOVER 4 PUERTAS CON PORTÓN TRASERO',\n",
       "        'BERLINA 4 PUERTAS Y PORTÓN TRASERO',\n",
       "        'RURAL 4 PUERTAS CON PORTÓN TRASERO / SEDÁN 2 PUERTAS CON PORTÓN TRASERO',\n",
       "        'SEDÁN 5 PUERTAS (HATCHBACK)'], dtype=object),\n",
       " array(['TOYOTA', 'RENAULT', 'CITROËN', 'LEXUS', 'PEUGEOT', 'FORD',\n",
       "        'PEUGEOT / CITROËN', 'HYUNDAI', 'SUZUKI', 'CHEVROLET', 'LIFAN',\n",
       "        'BMW', 'CITROËN / DS', 'HONDA', 'NISSAN', 'FIAT', 'CHERY',\n",
       "        'VOLKSWAGEN', 'ALFA ROMEO', 'FAW', 'MERCEDES-BENZ', 'JEEP',\n",
       "        'LAND ROVER', 'JAC', 'VOLVO', 'SHINERAY', 'CHANGAN', 'DS', 'MINI',\n",
       "        'DOMY', 'BORGWARD', 'PORSCHE', 'AUDI', 'BAIC', 'ZANELLA', 'RAM',\n",
       "        'FOTON', 'MASERATI', 'SUBARU', 'HAVAL', 'ISUZU', 'DONGFENG',\n",
       "        'MERCEDES-AMG', 'MITSUBISHI', 'ZOTYE', 'KIA', 'GREAT WALL', 'KYC',\n",
       "        'FERRARI'], dtype=object),\n",
       " array(['4x4', '4x2', '4x2 - 4x4'], dtype=object),\n",
       " array(['AUTOMATICA', 'CVT', 'MANUAL', 'CTT', 'MANUAL AUTOMATIZADA',\n",
       "        'E-CVT (Hibrida controlada electrónicamente)'], dtype=object),\n",
       " array(['EURO V', 'EURO VI', 'EURO VI b', 'EURUO V', 'EURO VI a',\n",
       "        'EURO  V', 'EURO VI c', 'EURO VI d', 'EURO  VI b'], dtype=object),\n",
       " array(['GAS OIL', 'NAFTA', 'NAFTA / ELECTRICIDAD', 'DIESEL'], dtype=object)]"
      ]
     },
     "execution_count": 465,
     "metadata": {},
     "output_type": "execute_result"
    }
   ],
   "source": [
    "encoder_categories = []\n",
    "\n",
    "for col in categorical_columns:    \n",
    "    col_categories = df[col].unique()\n",
    "    encoder_categories.append(col_categories)\n",
    "\n",
    "encoder_categories"
   ]
  },
  {
   "cell_type": "code",
   "execution_count": 466,
   "id": "elect-charleston",
   "metadata": {},
   "outputs": [],
   "source": [
    "encoder_categories\n",
    "from sklearn.preprocessing import OneHotEncoder"
   ]
  },
  {
   "cell_type": "code",
   "execution_count": 467,
   "id": "quality-original",
   "metadata": {},
   "outputs": [],
   "source": [
    "encoder = OneHotEncoder(categories = encoder_categories, sparse=False)\n",
    "encoder = encoder.fit(df[categorical_columns])"
   ]
  },
  {
   "cell_type": "code",
   "execution_count": 468,
   "id": "pointed-armor",
   "metadata": {},
   "outputs": [],
   "source": [
    "X_encoded = encoder.transform(df[categorical_columns])"
   ]
  },
  {
   "cell_type": "code",
   "execution_count": 469,
   "id": "radical-utilization",
   "metadata": {},
   "outputs": [
    {
     "data": {
      "text/html": [
       "<div>\n",
       "<style scoped>\n",
       "    .dataframe tbody tr th:only-of-type {\n",
       "        vertical-align: middle;\n",
       "    }\n",
       "\n",
       "    .dataframe tbody tr th {\n",
       "        vertical-align: top;\n",
       "    }\n",
       "\n",
       "    .dataframe thead th {\n",
       "        text-align: right;\n",
       "    }\n",
       "</style>\n",
       "<table border=\"1\" class=\"dataframe\">\n",
       "  <thead>\n",
       "    <tr style=\"text-align: right;\">\n",
       "      <th></th>\n",
       "      <th>vehiculo_tipo_SUV</th>\n",
       "      <th>vehiculo_tipo_4 Puertas</th>\n",
       "      <th>vehiculo_tipo_5 Puertas</th>\n",
       "      <th>vehiculo_tipo_Coupe</th>\n",
       "      <th>vehiculo_tipo_Chasis Largo</th>\n",
       "      <th>vehiculo_tipo_PICK UP</th>\n",
       "      <th>vehiculo_tipo_Furgon</th>\n",
       "      <th>vehiculo_tipo_Camion</th>\n",
       "      <th>vehiculo_tipo_4x4</th>\n",
       "      <th>vehiculo_tipo_SEDÁN 3 PUERTAS COUPÉ</th>\n",
       "      <th>vehiculo_tipo_Rural</th>\n",
       "      <th>vehiculo_tipo_BUS</th>\n",
       "      <th>vehiculo_tipo_PICK UP CABINA SIMPLE DOBLE</th>\n",
       "      <th>vehiculo_tipo_SUV  CROSSOVER 4 PUERTAS CON PORTÓN TRASERO</th>\n",
       "      <th>vehiculo_tipo_BERLINA 4 PUERTAS Y PORTÓN TRASERO</th>\n",
       "      <th>vehiculo_tipo_RURAL 4 PUERTAS CON PORTÓN TRASERO / SEDÁN 2 PUERTAS CON PORTÓN TRASERO</th>\n",
       "      <th>vehiculo_tipo_SEDÁN 5 PUERTAS (HATCHBACK)</th>\n",
       "      <th>vehiculo_marca_TOYOTA</th>\n",
       "      <th>vehiculo_marca_RENAULT</th>\n",
       "      <th>vehiculo_marca_CITROËN</th>\n",
       "      <th>vehiculo_marca_LEXUS</th>\n",
       "      <th>vehiculo_marca_PEUGEOT</th>\n",
       "      <th>vehiculo_marca_FORD</th>\n",
       "      <th>vehiculo_marca_PEUGEOT / CITROËN</th>\n",
       "      <th>vehiculo_marca_HYUNDAI</th>\n",
       "      <th>vehiculo_marca_SUZUKI</th>\n",
       "      <th>vehiculo_marca_CHEVROLET</th>\n",
       "      <th>vehiculo_marca_LIFAN</th>\n",
       "      <th>vehiculo_marca_BMW</th>\n",
       "      <th>vehiculo_marca_CITROËN / DS</th>\n",
       "      <th>vehiculo_marca_HONDA</th>\n",
       "      <th>vehiculo_marca_NISSAN</th>\n",
       "      <th>vehiculo_marca_FIAT</th>\n",
       "      <th>vehiculo_marca_CHERY</th>\n",
       "      <th>vehiculo_marca_VOLKSWAGEN</th>\n",
       "      <th>vehiculo_marca_ALFA ROMEO</th>\n",
       "      <th>vehiculo_marca_FAW</th>\n",
       "      <th>vehiculo_marca_MERCEDES-BENZ</th>\n",
       "      <th>vehiculo_marca_JEEP</th>\n",
       "      <th>vehiculo_marca_LAND ROVER</th>\n",
       "      <th>vehiculo_marca_JAC</th>\n",
       "      <th>vehiculo_marca_VOLVO</th>\n",
       "      <th>vehiculo_marca_SHINERAY</th>\n",
       "      <th>vehiculo_marca_CHANGAN</th>\n",
       "      <th>vehiculo_marca_DS</th>\n",
       "      <th>vehiculo_marca_MINI</th>\n",
       "      <th>vehiculo_marca_DOMY</th>\n",
       "      <th>vehiculo_marca_BORGWARD</th>\n",
       "      <th>vehiculo_marca_PORSCHE</th>\n",
       "      <th>vehiculo_marca_AUDI</th>\n",
       "      <th>vehiculo_marca_BAIC</th>\n",
       "      <th>vehiculo_marca_ZANELLA</th>\n",
       "      <th>vehiculo_marca_RAM</th>\n",
       "      <th>vehiculo_marca_FOTON</th>\n",
       "      <th>vehiculo_marca_MASERATI</th>\n",
       "      <th>vehiculo_marca_SUBARU</th>\n",
       "      <th>vehiculo_marca_HAVAL</th>\n",
       "      <th>vehiculo_marca_ISUZU</th>\n",
       "      <th>vehiculo_marca_DONGFENG</th>\n",
       "      <th>vehiculo_marca_MERCEDES-AMG</th>\n",
       "      <th>vehiculo_marca_MITSUBISHI</th>\n",
       "      <th>vehiculo_marca_ZOTYE</th>\n",
       "      <th>vehiculo_marca_KIA</th>\n",
       "      <th>vehiculo_marca_GREAT WALL</th>\n",
       "      <th>vehiculo_marca_KYC</th>\n",
       "      <th>vehiculo_marca_FERRARI</th>\n",
       "      <th>vehiculo_traccion_4x4</th>\n",
       "      <th>vehiculo_traccion_4x2</th>\n",
       "      <th>vehiculo_traccion_4x2 - 4x4</th>\n",
       "      <th>vehiculo_tipo_transmision_AUTOMATICA</th>\n",
       "      <th>vehiculo_tipo_transmision_CVT</th>\n",
       "      <th>vehiculo_tipo_transmision_MANUAL</th>\n",
       "      <th>vehiculo_tipo_transmision_CTT</th>\n",
       "      <th>vehiculo_tipo_transmision_MANUAL AUTOMATIZADA</th>\n",
       "      <th>vehiculo_tipo_transmision_E-CVT (Hibrida controlada electrónicamente)</th>\n",
       "      <th>vehiculo_standard_emision_EURO V</th>\n",
       "      <th>vehiculo_standard_emision_EURO VI</th>\n",
       "      <th>vehiculo_standard_emision_EURO VI b</th>\n",
       "      <th>vehiculo_standard_emision_EURUO V</th>\n",
       "      <th>vehiculo_standard_emision_EURO VI a</th>\n",
       "      <th>vehiculo_standard_emision_EURO  V</th>\n",
       "      <th>vehiculo_standard_emision_EURO VI c</th>\n",
       "      <th>vehiculo_standard_emision_EURO VI d</th>\n",
       "      <th>vehiculo_standard_emision_EURO  VI b</th>\n",
       "      <th>vehiculo_tipo_combustible_GAS OIL</th>\n",
       "      <th>vehiculo_tipo_combustible_NAFTA</th>\n",
       "      <th>vehiculo_tipo_combustible_NAFTA / ELECTRICIDAD</th>\n",
       "      <th>vehiculo_tipo_combustible_DIESEL</th>\n",
       "    </tr>\n",
       "  </thead>\n",
       "  <tbody>\n",
       "    <tr>\n",
       "      <th>0</th>\n",
       "      <td>1.0</td>\n",
       "      <td>0.0</td>\n",
       "      <td>0.0</td>\n",
       "      <td>0.0</td>\n",
       "      <td>0.0</td>\n",
       "      <td>0.0</td>\n",
       "      <td>0.0</td>\n",
       "      <td>0.0</td>\n",
       "      <td>0.0</td>\n",
       "      <td>0.0</td>\n",
       "      <td>0.0</td>\n",
       "      <td>0.0</td>\n",
       "      <td>0.0</td>\n",
       "      <td>0.0</td>\n",
       "      <td>0.0</td>\n",
       "      <td>0.0</td>\n",
       "      <td>0.0</td>\n",
       "      <td>1.0</td>\n",
       "      <td>0.0</td>\n",
       "      <td>0.0</td>\n",
       "      <td>0.0</td>\n",
       "      <td>0.0</td>\n",
       "      <td>0.0</td>\n",
       "      <td>0.0</td>\n",
       "      <td>0.0</td>\n",
       "      <td>0.0</td>\n",
       "      <td>0.0</td>\n",
       "      <td>0.0</td>\n",
       "      <td>0.0</td>\n",
       "      <td>0.0</td>\n",
       "      <td>0.0</td>\n",
       "      <td>0.0</td>\n",
       "      <td>0.0</td>\n",
       "      <td>0.0</td>\n",
       "      <td>0.0</td>\n",
       "      <td>0.0</td>\n",
       "      <td>0.0</td>\n",
       "      <td>0.0</td>\n",
       "      <td>0.0</td>\n",
       "      <td>0.0</td>\n",
       "      <td>0.0</td>\n",
       "      <td>0.0</td>\n",
       "      <td>0.0</td>\n",
       "      <td>0.0</td>\n",
       "      <td>0.0</td>\n",
       "      <td>0.0</td>\n",
       "      <td>0.0</td>\n",
       "      <td>0.0</td>\n",
       "      <td>0.0</td>\n",
       "      <td>0.0</td>\n",
       "      <td>0.0</td>\n",
       "      <td>0.0</td>\n",
       "      <td>0.0</td>\n",
       "      <td>0.0</td>\n",
       "      <td>0.0</td>\n",
       "      <td>0.0</td>\n",
       "      <td>0.0</td>\n",
       "      <td>0.0</td>\n",
       "      <td>0.0</td>\n",
       "      <td>0.0</td>\n",
       "      <td>0.0</td>\n",
       "      <td>0.0</td>\n",
       "      <td>0.0</td>\n",
       "      <td>0.0</td>\n",
       "      <td>0.0</td>\n",
       "      <td>0.0</td>\n",
       "      <td>1.0</td>\n",
       "      <td>0.0</td>\n",
       "      <td>0.0</td>\n",
       "      <td>1.0</td>\n",
       "      <td>0.0</td>\n",
       "      <td>0.0</td>\n",
       "      <td>0.0</td>\n",
       "      <td>0.0</td>\n",
       "      <td>0.0</td>\n",
       "      <td>1.0</td>\n",
       "      <td>0.0</td>\n",
       "      <td>0.0</td>\n",
       "      <td>0.0</td>\n",
       "      <td>0.0</td>\n",
       "      <td>0.0</td>\n",
       "      <td>0.0</td>\n",
       "      <td>0.0</td>\n",
       "      <td>0.0</td>\n",
       "      <td>1.0</td>\n",
       "      <td>0.0</td>\n",
       "      <td>0.0</td>\n",
       "      <td>0.0</td>\n",
       "    </tr>\n",
       "    <tr>\n",
       "      <th>1</th>\n",
       "      <td>0.0</td>\n",
       "      <td>1.0</td>\n",
       "      <td>0.0</td>\n",
       "      <td>0.0</td>\n",
       "      <td>0.0</td>\n",
       "      <td>0.0</td>\n",
       "      <td>0.0</td>\n",
       "      <td>0.0</td>\n",
       "      <td>0.0</td>\n",
       "      <td>0.0</td>\n",
       "      <td>0.0</td>\n",
       "      <td>0.0</td>\n",
       "      <td>0.0</td>\n",
       "      <td>0.0</td>\n",
       "      <td>0.0</td>\n",
       "      <td>0.0</td>\n",
       "      <td>0.0</td>\n",
       "      <td>0.0</td>\n",
       "      <td>1.0</td>\n",
       "      <td>0.0</td>\n",
       "      <td>0.0</td>\n",
       "      <td>0.0</td>\n",
       "      <td>0.0</td>\n",
       "      <td>0.0</td>\n",
       "      <td>0.0</td>\n",
       "      <td>0.0</td>\n",
       "      <td>0.0</td>\n",
       "      <td>0.0</td>\n",
       "      <td>0.0</td>\n",
       "      <td>0.0</td>\n",
       "      <td>0.0</td>\n",
       "      <td>0.0</td>\n",
       "      <td>0.0</td>\n",
       "      <td>0.0</td>\n",
       "      <td>0.0</td>\n",
       "      <td>0.0</td>\n",
       "      <td>0.0</td>\n",
       "      <td>0.0</td>\n",
       "      <td>0.0</td>\n",
       "      <td>0.0</td>\n",
       "      <td>0.0</td>\n",
       "      <td>0.0</td>\n",
       "      <td>0.0</td>\n",
       "      <td>0.0</td>\n",
       "      <td>0.0</td>\n",
       "      <td>0.0</td>\n",
       "      <td>0.0</td>\n",
       "      <td>0.0</td>\n",
       "      <td>0.0</td>\n",
       "      <td>0.0</td>\n",
       "      <td>0.0</td>\n",
       "      <td>0.0</td>\n",
       "      <td>0.0</td>\n",
       "      <td>0.0</td>\n",
       "      <td>0.0</td>\n",
       "      <td>0.0</td>\n",
       "      <td>0.0</td>\n",
       "      <td>0.0</td>\n",
       "      <td>0.0</td>\n",
       "      <td>0.0</td>\n",
       "      <td>0.0</td>\n",
       "      <td>0.0</td>\n",
       "      <td>0.0</td>\n",
       "      <td>0.0</td>\n",
       "      <td>0.0</td>\n",
       "      <td>0.0</td>\n",
       "      <td>0.0</td>\n",
       "      <td>1.0</td>\n",
       "      <td>0.0</td>\n",
       "      <td>0.0</td>\n",
       "      <td>1.0</td>\n",
       "      <td>0.0</td>\n",
       "      <td>0.0</td>\n",
       "      <td>0.0</td>\n",
       "      <td>0.0</td>\n",
       "      <td>1.0</td>\n",
       "      <td>0.0</td>\n",
       "      <td>0.0</td>\n",
       "      <td>0.0</td>\n",
       "      <td>0.0</td>\n",
       "      <td>0.0</td>\n",
       "      <td>0.0</td>\n",
       "      <td>0.0</td>\n",
       "      <td>0.0</td>\n",
       "      <td>0.0</td>\n",
       "      <td>1.0</td>\n",
       "      <td>0.0</td>\n",
       "      <td>0.0</td>\n",
       "    </tr>\n",
       "    <tr>\n",
       "      <th>2</th>\n",
       "      <td>0.0</td>\n",
       "      <td>0.0</td>\n",
       "      <td>1.0</td>\n",
       "      <td>0.0</td>\n",
       "      <td>0.0</td>\n",
       "      <td>0.0</td>\n",
       "      <td>0.0</td>\n",
       "      <td>0.0</td>\n",
       "      <td>0.0</td>\n",
       "      <td>0.0</td>\n",
       "      <td>0.0</td>\n",
       "      <td>0.0</td>\n",
       "      <td>0.0</td>\n",
       "      <td>0.0</td>\n",
       "      <td>0.0</td>\n",
       "      <td>0.0</td>\n",
       "      <td>0.0</td>\n",
       "      <td>0.0</td>\n",
       "      <td>1.0</td>\n",
       "      <td>0.0</td>\n",
       "      <td>0.0</td>\n",
       "      <td>0.0</td>\n",
       "      <td>0.0</td>\n",
       "      <td>0.0</td>\n",
       "      <td>0.0</td>\n",
       "      <td>0.0</td>\n",
       "      <td>0.0</td>\n",
       "      <td>0.0</td>\n",
       "      <td>0.0</td>\n",
       "      <td>0.0</td>\n",
       "      <td>0.0</td>\n",
       "      <td>0.0</td>\n",
       "      <td>0.0</td>\n",
       "      <td>0.0</td>\n",
       "      <td>0.0</td>\n",
       "      <td>0.0</td>\n",
       "      <td>0.0</td>\n",
       "      <td>0.0</td>\n",
       "      <td>0.0</td>\n",
       "      <td>0.0</td>\n",
       "      <td>0.0</td>\n",
       "      <td>0.0</td>\n",
       "      <td>0.0</td>\n",
       "      <td>0.0</td>\n",
       "      <td>0.0</td>\n",
       "      <td>0.0</td>\n",
       "      <td>0.0</td>\n",
       "      <td>0.0</td>\n",
       "      <td>0.0</td>\n",
       "      <td>0.0</td>\n",
       "      <td>0.0</td>\n",
       "      <td>0.0</td>\n",
       "      <td>0.0</td>\n",
       "      <td>0.0</td>\n",
       "      <td>0.0</td>\n",
       "      <td>0.0</td>\n",
       "      <td>0.0</td>\n",
       "      <td>0.0</td>\n",
       "      <td>0.0</td>\n",
       "      <td>0.0</td>\n",
       "      <td>0.0</td>\n",
       "      <td>0.0</td>\n",
       "      <td>0.0</td>\n",
       "      <td>0.0</td>\n",
       "      <td>0.0</td>\n",
       "      <td>0.0</td>\n",
       "      <td>0.0</td>\n",
       "      <td>1.0</td>\n",
       "      <td>0.0</td>\n",
       "      <td>0.0</td>\n",
       "      <td>0.0</td>\n",
       "      <td>1.0</td>\n",
       "      <td>0.0</td>\n",
       "      <td>0.0</td>\n",
       "      <td>0.0</td>\n",
       "      <td>1.0</td>\n",
       "      <td>0.0</td>\n",
       "      <td>0.0</td>\n",
       "      <td>0.0</td>\n",
       "      <td>0.0</td>\n",
       "      <td>0.0</td>\n",
       "      <td>0.0</td>\n",
       "      <td>0.0</td>\n",
       "      <td>0.0</td>\n",
       "      <td>0.0</td>\n",
       "      <td>1.0</td>\n",
       "      <td>0.0</td>\n",
       "      <td>0.0</td>\n",
       "    </tr>\n",
       "    <tr>\n",
       "      <th>3</th>\n",
       "      <td>0.0</td>\n",
       "      <td>0.0</td>\n",
       "      <td>1.0</td>\n",
       "      <td>0.0</td>\n",
       "      <td>0.0</td>\n",
       "      <td>0.0</td>\n",
       "      <td>0.0</td>\n",
       "      <td>0.0</td>\n",
       "      <td>0.0</td>\n",
       "      <td>0.0</td>\n",
       "      <td>0.0</td>\n",
       "      <td>0.0</td>\n",
       "      <td>0.0</td>\n",
       "      <td>0.0</td>\n",
       "      <td>0.0</td>\n",
       "      <td>0.0</td>\n",
       "      <td>0.0</td>\n",
       "      <td>0.0</td>\n",
       "      <td>1.0</td>\n",
       "      <td>0.0</td>\n",
       "      <td>0.0</td>\n",
       "      <td>0.0</td>\n",
       "      <td>0.0</td>\n",
       "      <td>0.0</td>\n",
       "      <td>0.0</td>\n",
       "      <td>0.0</td>\n",
       "      <td>0.0</td>\n",
       "      <td>0.0</td>\n",
       "      <td>0.0</td>\n",
       "      <td>0.0</td>\n",
       "      <td>0.0</td>\n",
       "      <td>0.0</td>\n",
       "      <td>0.0</td>\n",
       "      <td>0.0</td>\n",
       "      <td>0.0</td>\n",
       "      <td>0.0</td>\n",
       "      <td>0.0</td>\n",
       "      <td>0.0</td>\n",
       "      <td>0.0</td>\n",
       "      <td>0.0</td>\n",
       "      <td>0.0</td>\n",
       "      <td>0.0</td>\n",
       "      <td>0.0</td>\n",
       "      <td>0.0</td>\n",
       "      <td>0.0</td>\n",
       "      <td>0.0</td>\n",
       "      <td>0.0</td>\n",
       "      <td>0.0</td>\n",
       "      <td>0.0</td>\n",
       "      <td>0.0</td>\n",
       "      <td>0.0</td>\n",
       "      <td>0.0</td>\n",
       "      <td>0.0</td>\n",
       "      <td>0.0</td>\n",
       "      <td>0.0</td>\n",
       "      <td>0.0</td>\n",
       "      <td>0.0</td>\n",
       "      <td>0.0</td>\n",
       "      <td>0.0</td>\n",
       "      <td>0.0</td>\n",
       "      <td>0.0</td>\n",
       "      <td>0.0</td>\n",
       "      <td>0.0</td>\n",
       "      <td>0.0</td>\n",
       "      <td>0.0</td>\n",
       "      <td>0.0</td>\n",
       "      <td>1.0</td>\n",
       "      <td>0.0</td>\n",
       "      <td>0.0</td>\n",
       "      <td>0.0</td>\n",
       "      <td>0.0</td>\n",
       "      <td>1.0</td>\n",
       "      <td>0.0</td>\n",
       "      <td>0.0</td>\n",
       "      <td>0.0</td>\n",
       "      <td>1.0</td>\n",
       "      <td>0.0</td>\n",
       "      <td>0.0</td>\n",
       "      <td>0.0</td>\n",
       "      <td>0.0</td>\n",
       "      <td>0.0</td>\n",
       "      <td>0.0</td>\n",
       "      <td>0.0</td>\n",
       "      <td>0.0</td>\n",
       "      <td>0.0</td>\n",
       "      <td>1.0</td>\n",
       "      <td>0.0</td>\n",
       "      <td>0.0</td>\n",
       "    </tr>\n",
       "    <tr>\n",
       "      <th>4</th>\n",
       "      <td>0.0</td>\n",
       "      <td>0.0</td>\n",
       "      <td>0.0</td>\n",
       "      <td>1.0</td>\n",
       "      <td>0.0</td>\n",
       "      <td>0.0</td>\n",
       "      <td>0.0</td>\n",
       "      <td>0.0</td>\n",
       "      <td>0.0</td>\n",
       "      <td>0.0</td>\n",
       "      <td>0.0</td>\n",
       "      <td>0.0</td>\n",
       "      <td>0.0</td>\n",
       "      <td>0.0</td>\n",
       "      <td>0.0</td>\n",
       "      <td>0.0</td>\n",
       "      <td>0.0</td>\n",
       "      <td>0.0</td>\n",
       "      <td>0.0</td>\n",
       "      <td>1.0</td>\n",
       "      <td>0.0</td>\n",
       "      <td>0.0</td>\n",
       "      <td>0.0</td>\n",
       "      <td>0.0</td>\n",
       "      <td>0.0</td>\n",
       "      <td>0.0</td>\n",
       "      <td>0.0</td>\n",
       "      <td>0.0</td>\n",
       "      <td>0.0</td>\n",
       "      <td>0.0</td>\n",
       "      <td>0.0</td>\n",
       "      <td>0.0</td>\n",
       "      <td>0.0</td>\n",
       "      <td>0.0</td>\n",
       "      <td>0.0</td>\n",
       "      <td>0.0</td>\n",
       "      <td>0.0</td>\n",
       "      <td>0.0</td>\n",
       "      <td>0.0</td>\n",
       "      <td>0.0</td>\n",
       "      <td>0.0</td>\n",
       "      <td>0.0</td>\n",
       "      <td>0.0</td>\n",
       "      <td>0.0</td>\n",
       "      <td>0.0</td>\n",
       "      <td>0.0</td>\n",
       "      <td>0.0</td>\n",
       "      <td>0.0</td>\n",
       "      <td>0.0</td>\n",
       "      <td>0.0</td>\n",
       "      <td>0.0</td>\n",
       "      <td>0.0</td>\n",
       "      <td>0.0</td>\n",
       "      <td>0.0</td>\n",
       "      <td>0.0</td>\n",
       "      <td>0.0</td>\n",
       "      <td>0.0</td>\n",
       "      <td>0.0</td>\n",
       "      <td>0.0</td>\n",
       "      <td>0.0</td>\n",
       "      <td>0.0</td>\n",
       "      <td>0.0</td>\n",
       "      <td>0.0</td>\n",
       "      <td>0.0</td>\n",
       "      <td>0.0</td>\n",
       "      <td>0.0</td>\n",
       "      <td>0.0</td>\n",
       "      <td>1.0</td>\n",
       "      <td>0.0</td>\n",
       "      <td>1.0</td>\n",
       "      <td>0.0</td>\n",
       "      <td>0.0</td>\n",
       "      <td>0.0</td>\n",
       "      <td>0.0</td>\n",
       "      <td>0.0</td>\n",
       "      <td>1.0</td>\n",
       "      <td>0.0</td>\n",
       "      <td>0.0</td>\n",
       "      <td>0.0</td>\n",
       "      <td>0.0</td>\n",
       "      <td>0.0</td>\n",
       "      <td>0.0</td>\n",
       "      <td>0.0</td>\n",
       "      <td>0.0</td>\n",
       "      <td>0.0</td>\n",
       "      <td>1.0</td>\n",
       "      <td>0.0</td>\n",
       "      <td>0.0</td>\n",
       "    </tr>\n",
       "    <tr>\n",
       "      <th>...</th>\n",
       "      <td>...</td>\n",
       "      <td>...</td>\n",
       "      <td>...</td>\n",
       "      <td>...</td>\n",
       "      <td>...</td>\n",
       "      <td>...</td>\n",
       "      <td>...</td>\n",
       "      <td>...</td>\n",
       "      <td>...</td>\n",
       "      <td>...</td>\n",
       "      <td>...</td>\n",
       "      <td>...</td>\n",
       "      <td>...</td>\n",
       "      <td>...</td>\n",
       "      <td>...</td>\n",
       "      <td>...</td>\n",
       "      <td>...</td>\n",
       "      <td>...</td>\n",
       "      <td>...</td>\n",
       "      <td>...</td>\n",
       "      <td>...</td>\n",
       "      <td>...</td>\n",
       "      <td>...</td>\n",
       "      <td>...</td>\n",
       "      <td>...</td>\n",
       "      <td>...</td>\n",
       "      <td>...</td>\n",
       "      <td>...</td>\n",
       "      <td>...</td>\n",
       "      <td>...</td>\n",
       "      <td>...</td>\n",
       "      <td>...</td>\n",
       "      <td>...</td>\n",
       "      <td>...</td>\n",
       "      <td>...</td>\n",
       "      <td>...</td>\n",
       "      <td>...</td>\n",
       "      <td>...</td>\n",
       "      <td>...</td>\n",
       "      <td>...</td>\n",
       "      <td>...</td>\n",
       "      <td>...</td>\n",
       "      <td>...</td>\n",
       "      <td>...</td>\n",
       "      <td>...</td>\n",
       "      <td>...</td>\n",
       "      <td>...</td>\n",
       "      <td>...</td>\n",
       "      <td>...</td>\n",
       "      <td>...</td>\n",
       "      <td>...</td>\n",
       "      <td>...</td>\n",
       "      <td>...</td>\n",
       "      <td>...</td>\n",
       "      <td>...</td>\n",
       "      <td>...</td>\n",
       "      <td>...</td>\n",
       "      <td>...</td>\n",
       "      <td>...</td>\n",
       "      <td>...</td>\n",
       "      <td>...</td>\n",
       "      <td>...</td>\n",
       "      <td>...</td>\n",
       "      <td>...</td>\n",
       "      <td>...</td>\n",
       "      <td>...</td>\n",
       "      <td>...</td>\n",
       "      <td>...</td>\n",
       "      <td>...</td>\n",
       "      <td>...</td>\n",
       "      <td>...</td>\n",
       "      <td>...</td>\n",
       "      <td>...</td>\n",
       "      <td>...</td>\n",
       "      <td>...</td>\n",
       "      <td>...</td>\n",
       "      <td>...</td>\n",
       "      <td>...</td>\n",
       "      <td>...</td>\n",
       "      <td>...</td>\n",
       "      <td>...</td>\n",
       "      <td>...</td>\n",
       "      <td>...</td>\n",
       "      <td>...</td>\n",
       "      <td>...</td>\n",
       "      <td>...</td>\n",
       "      <td>...</td>\n",
       "      <td>...</td>\n",
       "    </tr>\n",
       "    <tr>\n",
       "      <th>401</th>\n",
       "      <td>0.0</td>\n",
       "      <td>0.0</td>\n",
       "      <td>0.0</td>\n",
       "      <td>0.0</td>\n",
       "      <td>0.0</td>\n",
       "      <td>0.0</td>\n",
       "      <td>0.0</td>\n",
       "      <td>0.0</td>\n",
       "      <td>0.0</td>\n",
       "      <td>0.0</td>\n",
       "      <td>0.0</td>\n",
       "      <td>0.0</td>\n",
       "      <td>0.0</td>\n",
       "      <td>0.0</td>\n",
       "      <td>0.0</td>\n",
       "      <td>0.0</td>\n",
       "      <td>1.0</td>\n",
       "      <td>1.0</td>\n",
       "      <td>0.0</td>\n",
       "      <td>0.0</td>\n",
       "      <td>0.0</td>\n",
       "      <td>0.0</td>\n",
       "      <td>0.0</td>\n",
       "      <td>0.0</td>\n",
       "      <td>0.0</td>\n",
       "      <td>0.0</td>\n",
       "      <td>0.0</td>\n",
       "      <td>0.0</td>\n",
       "      <td>0.0</td>\n",
       "      <td>0.0</td>\n",
       "      <td>0.0</td>\n",
       "      <td>0.0</td>\n",
       "      <td>0.0</td>\n",
       "      <td>0.0</td>\n",
       "      <td>0.0</td>\n",
       "      <td>0.0</td>\n",
       "      <td>0.0</td>\n",
       "      <td>0.0</td>\n",
       "      <td>0.0</td>\n",
       "      <td>0.0</td>\n",
       "      <td>0.0</td>\n",
       "      <td>0.0</td>\n",
       "      <td>0.0</td>\n",
       "      <td>0.0</td>\n",
       "      <td>0.0</td>\n",
       "      <td>0.0</td>\n",
       "      <td>0.0</td>\n",
       "      <td>0.0</td>\n",
       "      <td>0.0</td>\n",
       "      <td>0.0</td>\n",
       "      <td>0.0</td>\n",
       "      <td>0.0</td>\n",
       "      <td>0.0</td>\n",
       "      <td>0.0</td>\n",
       "      <td>0.0</td>\n",
       "      <td>0.0</td>\n",
       "      <td>0.0</td>\n",
       "      <td>0.0</td>\n",
       "      <td>0.0</td>\n",
       "      <td>0.0</td>\n",
       "      <td>0.0</td>\n",
       "      <td>0.0</td>\n",
       "      <td>0.0</td>\n",
       "      <td>0.0</td>\n",
       "      <td>0.0</td>\n",
       "      <td>0.0</td>\n",
       "      <td>0.0</td>\n",
       "      <td>1.0</td>\n",
       "      <td>0.0</td>\n",
       "      <td>0.0</td>\n",
       "      <td>1.0</td>\n",
       "      <td>0.0</td>\n",
       "      <td>0.0</td>\n",
       "      <td>0.0</td>\n",
       "      <td>0.0</td>\n",
       "      <td>0.0</td>\n",
       "      <td>0.0</td>\n",
       "      <td>0.0</td>\n",
       "      <td>0.0</td>\n",
       "      <td>0.0</td>\n",
       "      <td>0.0</td>\n",
       "      <td>0.0</td>\n",
       "      <td>0.0</td>\n",
       "      <td>1.0</td>\n",
       "      <td>0.0</td>\n",
       "      <td>0.0</td>\n",
       "      <td>1.0</td>\n",
       "      <td>0.0</td>\n",
       "    </tr>\n",
       "    <tr>\n",
       "      <th>402</th>\n",
       "      <td>1.0</td>\n",
       "      <td>0.0</td>\n",
       "      <td>0.0</td>\n",
       "      <td>0.0</td>\n",
       "      <td>0.0</td>\n",
       "      <td>0.0</td>\n",
       "      <td>0.0</td>\n",
       "      <td>0.0</td>\n",
       "      <td>0.0</td>\n",
       "      <td>0.0</td>\n",
       "      <td>0.0</td>\n",
       "      <td>0.0</td>\n",
       "      <td>0.0</td>\n",
       "      <td>0.0</td>\n",
       "      <td>0.0</td>\n",
       "      <td>0.0</td>\n",
       "      <td>0.0</td>\n",
       "      <td>0.0</td>\n",
       "      <td>0.0</td>\n",
       "      <td>0.0</td>\n",
       "      <td>0.0</td>\n",
       "      <td>0.0</td>\n",
       "      <td>1.0</td>\n",
       "      <td>0.0</td>\n",
       "      <td>0.0</td>\n",
       "      <td>0.0</td>\n",
       "      <td>0.0</td>\n",
       "      <td>0.0</td>\n",
       "      <td>0.0</td>\n",
       "      <td>0.0</td>\n",
       "      <td>0.0</td>\n",
       "      <td>0.0</td>\n",
       "      <td>0.0</td>\n",
       "      <td>0.0</td>\n",
       "      <td>0.0</td>\n",
       "      <td>0.0</td>\n",
       "      <td>0.0</td>\n",
       "      <td>0.0</td>\n",
       "      <td>0.0</td>\n",
       "      <td>0.0</td>\n",
       "      <td>0.0</td>\n",
       "      <td>0.0</td>\n",
       "      <td>0.0</td>\n",
       "      <td>0.0</td>\n",
       "      <td>0.0</td>\n",
       "      <td>0.0</td>\n",
       "      <td>0.0</td>\n",
       "      <td>0.0</td>\n",
       "      <td>0.0</td>\n",
       "      <td>0.0</td>\n",
       "      <td>0.0</td>\n",
       "      <td>0.0</td>\n",
       "      <td>0.0</td>\n",
       "      <td>0.0</td>\n",
       "      <td>0.0</td>\n",
       "      <td>0.0</td>\n",
       "      <td>0.0</td>\n",
       "      <td>0.0</td>\n",
       "      <td>0.0</td>\n",
       "      <td>0.0</td>\n",
       "      <td>0.0</td>\n",
       "      <td>0.0</td>\n",
       "      <td>0.0</td>\n",
       "      <td>0.0</td>\n",
       "      <td>0.0</td>\n",
       "      <td>0.0</td>\n",
       "      <td>0.0</td>\n",
       "      <td>1.0</td>\n",
       "      <td>0.0</td>\n",
       "      <td>0.0</td>\n",
       "      <td>0.0</td>\n",
       "      <td>0.0</td>\n",
       "      <td>0.0</td>\n",
       "      <td>0.0</td>\n",
       "      <td>1.0</td>\n",
       "      <td>1.0</td>\n",
       "      <td>0.0</td>\n",
       "      <td>0.0</td>\n",
       "      <td>0.0</td>\n",
       "      <td>0.0</td>\n",
       "      <td>0.0</td>\n",
       "      <td>0.0</td>\n",
       "      <td>0.0</td>\n",
       "      <td>0.0</td>\n",
       "      <td>0.0</td>\n",
       "      <td>0.0</td>\n",
       "      <td>1.0</td>\n",
       "      <td>0.0</td>\n",
       "    </tr>\n",
       "    <tr>\n",
       "      <th>403</th>\n",
       "      <td>0.0</td>\n",
       "      <td>0.0</td>\n",
       "      <td>0.0</td>\n",
       "      <td>1.0</td>\n",
       "      <td>0.0</td>\n",
       "      <td>0.0</td>\n",
       "      <td>0.0</td>\n",
       "      <td>0.0</td>\n",
       "      <td>0.0</td>\n",
       "      <td>0.0</td>\n",
       "      <td>0.0</td>\n",
       "      <td>0.0</td>\n",
       "      <td>0.0</td>\n",
       "      <td>0.0</td>\n",
       "      <td>0.0</td>\n",
       "      <td>0.0</td>\n",
       "      <td>0.0</td>\n",
       "      <td>0.0</td>\n",
       "      <td>0.0</td>\n",
       "      <td>0.0</td>\n",
       "      <td>0.0</td>\n",
       "      <td>0.0</td>\n",
       "      <td>0.0</td>\n",
       "      <td>0.0</td>\n",
       "      <td>0.0</td>\n",
       "      <td>0.0</td>\n",
       "      <td>0.0</td>\n",
       "      <td>0.0</td>\n",
       "      <td>0.0</td>\n",
       "      <td>0.0</td>\n",
       "      <td>0.0</td>\n",
       "      <td>0.0</td>\n",
       "      <td>0.0</td>\n",
       "      <td>0.0</td>\n",
       "      <td>1.0</td>\n",
       "      <td>0.0</td>\n",
       "      <td>0.0</td>\n",
       "      <td>0.0</td>\n",
       "      <td>0.0</td>\n",
       "      <td>0.0</td>\n",
       "      <td>0.0</td>\n",
       "      <td>0.0</td>\n",
       "      <td>0.0</td>\n",
       "      <td>0.0</td>\n",
       "      <td>0.0</td>\n",
       "      <td>0.0</td>\n",
       "      <td>0.0</td>\n",
       "      <td>0.0</td>\n",
       "      <td>0.0</td>\n",
       "      <td>0.0</td>\n",
       "      <td>0.0</td>\n",
       "      <td>0.0</td>\n",
       "      <td>0.0</td>\n",
       "      <td>0.0</td>\n",
       "      <td>0.0</td>\n",
       "      <td>0.0</td>\n",
       "      <td>0.0</td>\n",
       "      <td>0.0</td>\n",
       "      <td>0.0</td>\n",
       "      <td>0.0</td>\n",
       "      <td>0.0</td>\n",
       "      <td>0.0</td>\n",
       "      <td>0.0</td>\n",
       "      <td>0.0</td>\n",
       "      <td>0.0</td>\n",
       "      <td>0.0</td>\n",
       "      <td>0.0</td>\n",
       "      <td>1.0</td>\n",
       "      <td>0.0</td>\n",
       "      <td>1.0</td>\n",
       "      <td>0.0</td>\n",
       "      <td>0.0</td>\n",
       "      <td>0.0</td>\n",
       "      <td>0.0</td>\n",
       "      <td>0.0</td>\n",
       "      <td>1.0</td>\n",
       "      <td>0.0</td>\n",
       "      <td>0.0</td>\n",
       "      <td>0.0</td>\n",
       "      <td>0.0</td>\n",
       "      <td>0.0</td>\n",
       "      <td>0.0</td>\n",
       "      <td>0.0</td>\n",
       "      <td>0.0</td>\n",
       "      <td>0.0</td>\n",
       "      <td>1.0</td>\n",
       "      <td>0.0</td>\n",
       "      <td>0.0</td>\n",
       "    </tr>\n",
       "    <tr>\n",
       "      <th>404</th>\n",
       "      <td>0.0</td>\n",
       "      <td>0.0</td>\n",
       "      <td>0.0</td>\n",
       "      <td>1.0</td>\n",
       "      <td>0.0</td>\n",
       "      <td>0.0</td>\n",
       "      <td>0.0</td>\n",
       "      <td>0.0</td>\n",
       "      <td>0.0</td>\n",
       "      <td>0.0</td>\n",
       "      <td>0.0</td>\n",
       "      <td>0.0</td>\n",
       "      <td>0.0</td>\n",
       "      <td>0.0</td>\n",
       "      <td>0.0</td>\n",
       "      <td>0.0</td>\n",
       "      <td>0.0</td>\n",
       "      <td>0.0</td>\n",
       "      <td>0.0</td>\n",
       "      <td>0.0</td>\n",
       "      <td>0.0</td>\n",
       "      <td>0.0</td>\n",
       "      <td>0.0</td>\n",
       "      <td>0.0</td>\n",
       "      <td>0.0</td>\n",
       "      <td>0.0</td>\n",
       "      <td>0.0</td>\n",
       "      <td>0.0</td>\n",
       "      <td>0.0</td>\n",
       "      <td>0.0</td>\n",
       "      <td>0.0</td>\n",
       "      <td>0.0</td>\n",
       "      <td>0.0</td>\n",
       "      <td>0.0</td>\n",
       "      <td>1.0</td>\n",
       "      <td>0.0</td>\n",
       "      <td>0.0</td>\n",
       "      <td>0.0</td>\n",
       "      <td>0.0</td>\n",
       "      <td>0.0</td>\n",
       "      <td>0.0</td>\n",
       "      <td>0.0</td>\n",
       "      <td>0.0</td>\n",
       "      <td>0.0</td>\n",
       "      <td>0.0</td>\n",
       "      <td>0.0</td>\n",
       "      <td>0.0</td>\n",
       "      <td>0.0</td>\n",
       "      <td>0.0</td>\n",
       "      <td>0.0</td>\n",
       "      <td>0.0</td>\n",
       "      <td>0.0</td>\n",
       "      <td>0.0</td>\n",
       "      <td>0.0</td>\n",
       "      <td>0.0</td>\n",
       "      <td>0.0</td>\n",
       "      <td>0.0</td>\n",
       "      <td>0.0</td>\n",
       "      <td>0.0</td>\n",
       "      <td>0.0</td>\n",
       "      <td>0.0</td>\n",
       "      <td>0.0</td>\n",
       "      <td>0.0</td>\n",
       "      <td>0.0</td>\n",
       "      <td>0.0</td>\n",
       "      <td>0.0</td>\n",
       "      <td>0.0</td>\n",
       "      <td>1.0</td>\n",
       "      <td>0.0</td>\n",
       "      <td>0.0</td>\n",
       "      <td>0.0</td>\n",
       "      <td>1.0</td>\n",
       "      <td>0.0</td>\n",
       "      <td>0.0</td>\n",
       "      <td>0.0</td>\n",
       "      <td>1.0</td>\n",
       "      <td>0.0</td>\n",
       "      <td>0.0</td>\n",
       "      <td>0.0</td>\n",
       "      <td>0.0</td>\n",
       "      <td>0.0</td>\n",
       "      <td>0.0</td>\n",
       "      <td>0.0</td>\n",
       "      <td>0.0</td>\n",
       "      <td>0.0</td>\n",
       "      <td>1.0</td>\n",
       "      <td>0.0</td>\n",
       "      <td>0.0</td>\n",
       "    </tr>\n",
       "    <tr>\n",
       "      <th>405</th>\n",
       "      <td>0.0</td>\n",
       "      <td>1.0</td>\n",
       "      <td>0.0</td>\n",
       "      <td>0.0</td>\n",
       "      <td>0.0</td>\n",
       "      <td>0.0</td>\n",
       "      <td>0.0</td>\n",
       "      <td>0.0</td>\n",
       "      <td>0.0</td>\n",
       "      <td>0.0</td>\n",
       "      <td>0.0</td>\n",
       "      <td>0.0</td>\n",
       "      <td>0.0</td>\n",
       "      <td>0.0</td>\n",
       "      <td>0.0</td>\n",
       "      <td>0.0</td>\n",
       "      <td>0.0</td>\n",
       "      <td>0.0</td>\n",
       "      <td>0.0</td>\n",
       "      <td>0.0</td>\n",
       "      <td>0.0</td>\n",
       "      <td>0.0</td>\n",
       "      <td>0.0</td>\n",
       "      <td>0.0</td>\n",
       "      <td>0.0</td>\n",
       "      <td>0.0</td>\n",
       "      <td>1.0</td>\n",
       "      <td>0.0</td>\n",
       "      <td>0.0</td>\n",
       "      <td>0.0</td>\n",
       "      <td>0.0</td>\n",
       "      <td>0.0</td>\n",
       "      <td>0.0</td>\n",
       "      <td>0.0</td>\n",
       "      <td>0.0</td>\n",
       "      <td>0.0</td>\n",
       "      <td>0.0</td>\n",
       "      <td>0.0</td>\n",
       "      <td>0.0</td>\n",
       "      <td>0.0</td>\n",
       "      <td>0.0</td>\n",
       "      <td>0.0</td>\n",
       "      <td>0.0</td>\n",
       "      <td>0.0</td>\n",
       "      <td>0.0</td>\n",
       "      <td>0.0</td>\n",
       "      <td>0.0</td>\n",
       "      <td>0.0</td>\n",
       "      <td>0.0</td>\n",
       "      <td>0.0</td>\n",
       "      <td>0.0</td>\n",
       "      <td>0.0</td>\n",
       "      <td>0.0</td>\n",
       "      <td>0.0</td>\n",
       "      <td>0.0</td>\n",
       "      <td>0.0</td>\n",
       "      <td>0.0</td>\n",
       "      <td>0.0</td>\n",
       "      <td>0.0</td>\n",
       "      <td>0.0</td>\n",
       "      <td>0.0</td>\n",
       "      <td>0.0</td>\n",
       "      <td>0.0</td>\n",
       "      <td>0.0</td>\n",
       "      <td>0.0</td>\n",
       "      <td>0.0</td>\n",
       "      <td>0.0</td>\n",
       "      <td>1.0</td>\n",
       "      <td>0.0</td>\n",
       "      <td>0.0</td>\n",
       "      <td>0.0</td>\n",
       "      <td>1.0</td>\n",
       "      <td>0.0</td>\n",
       "      <td>0.0</td>\n",
       "      <td>0.0</td>\n",
       "      <td>1.0</td>\n",
       "      <td>0.0</td>\n",
       "      <td>0.0</td>\n",
       "      <td>0.0</td>\n",
       "      <td>0.0</td>\n",
       "      <td>0.0</td>\n",
       "      <td>0.0</td>\n",
       "      <td>0.0</td>\n",
       "      <td>0.0</td>\n",
       "      <td>0.0</td>\n",
       "      <td>1.0</td>\n",
       "      <td>0.0</td>\n",
       "      <td>0.0</td>\n",
       "    </tr>\n",
       "  </tbody>\n",
       "</table>\n",
       "<p>406 rows × 88 columns</p>\n",
       "</div>"
      ],
      "text/plain": [
       "     vehiculo_tipo_SUV  vehiculo_tipo_4 Puertas  vehiculo_tipo_5 Puertas  \\\n",
       "0                  1.0                      0.0                      0.0   \n",
       "1                  0.0                      1.0                      0.0   \n",
       "2                  0.0                      0.0                      1.0   \n",
       "3                  0.0                      0.0                      1.0   \n",
       "4                  0.0                      0.0                      0.0   \n",
       "..                 ...                      ...                      ...   \n",
       "401                0.0                      0.0                      0.0   \n",
       "402                1.0                      0.0                      0.0   \n",
       "403                0.0                      0.0                      0.0   \n",
       "404                0.0                      0.0                      0.0   \n",
       "405                0.0                      1.0                      0.0   \n",
       "\n",
       "     vehiculo_tipo_Coupe  vehiculo_tipo_Chasis Largo  vehiculo_tipo_PICK UP  \\\n",
       "0                    0.0                         0.0                    0.0   \n",
       "1                    0.0                         0.0                    0.0   \n",
       "2                    0.0                         0.0                    0.0   \n",
       "3                    0.0                         0.0                    0.0   \n",
       "4                    1.0                         0.0                    0.0   \n",
       "..                   ...                         ...                    ...   \n",
       "401                  0.0                         0.0                    0.0   \n",
       "402                  0.0                         0.0                    0.0   \n",
       "403                  1.0                         0.0                    0.0   \n",
       "404                  1.0                         0.0                    0.0   \n",
       "405                  0.0                         0.0                    0.0   \n",
       "\n",
       "     vehiculo_tipo_Furgon  vehiculo_tipo_Camion  vehiculo_tipo_4x4  \\\n",
       "0                     0.0                   0.0                0.0   \n",
       "1                     0.0                   0.0                0.0   \n",
       "2                     0.0                   0.0                0.0   \n",
       "3                     0.0                   0.0                0.0   \n",
       "4                     0.0                   0.0                0.0   \n",
       "..                    ...                   ...                ...   \n",
       "401                   0.0                   0.0                0.0   \n",
       "402                   0.0                   0.0                0.0   \n",
       "403                   0.0                   0.0                0.0   \n",
       "404                   0.0                   0.0                0.0   \n",
       "405                   0.0                   0.0                0.0   \n",
       "\n",
       "     vehiculo_tipo_SEDÁN 3 PUERTAS COUPÉ  vehiculo_tipo_Rural  \\\n",
       "0                                    0.0                  0.0   \n",
       "1                                    0.0                  0.0   \n",
       "2                                    0.0                  0.0   \n",
       "3                                    0.0                  0.0   \n",
       "4                                    0.0                  0.0   \n",
       "..                                   ...                  ...   \n",
       "401                                  0.0                  0.0   \n",
       "402                                  0.0                  0.0   \n",
       "403                                  0.0                  0.0   \n",
       "404                                  0.0                  0.0   \n",
       "405                                  0.0                  0.0   \n",
       "\n",
       "     vehiculo_tipo_BUS  vehiculo_tipo_PICK UP CABINA SIMPLE DOBLE  \\\n",
       "0                  0.0                                        0.0   \n",
       "1                  0.0                                        0.0   \n",
       "2                  0.0                                        0.0   \n",
       "3                  0.0                                        0.0   \n",
       "4                  0.0                                        0.0   \n",
       "..                 ...                                        ...   \n",
       "401                0.0                                        0.0   \n",
       "402                0.0                                        0.0   \n",
       "403                0.0                                        0.0   \n",
       "404                0.0                                        0.0   \n",
       "405                0.0                                        0.0   \n",
       "\n",
       "     vehiculo_tipo_SUV  CROSSOVER 4 PUERTAS CON PORTÓN TRASERO  \\\n",
       "0                                                  0.0            \n",
       "1                                                  0.0            \n",
       "2                                                  0.0            \n",
       "3                                                  0.0            \n",
       "4                                                  0.0            \n",
       "..                                                 ...            \n",
       "401                                                0.0            \n",
       "402                                                0.0            \n",
       "403                                                0.0            \n",
       "404                                                0.0            \n",
       "405                                                0.0            \n",
       "\n",
       "     vehiculo_tipo_BERLINA 4 PUERTAS Y PORTÓN TRASERO  \\\n",
       "0                                                 0.0   \n",
       "1                                                 0.0   \n",
       "2                                                 0.0   \n",
       "3                                                 0.0   \n",
       "4                                                 0.0   \n",
       "..                                                ...   \n",
       "401                                               0.0   \n",
       "402                                               0.0   \n",
       "403                                               0.0   \n",
       "404                                               0.0   \n",
       "405                                               0.0   \n",
       "\n",
       "     vehiculo_tipo_RURAL 4 PUERTAS CON PORTÓN TRASERO / SEDÁN 2 PUERTAS CON PORTÓN TRASERO  \\\n",
       "0                                                  0.0                                       \n",
       "1                                                  0.0                                       \n",
       "2                                                  0.0                                       \n",
       "3                                                  0.0                                       \n",
       "4                                                  0.0                                       \n",
       "..                                                 ...                                       \n",
       "401                                                0.0                                       \n",
       "402                                                0.0                                       \n",
       "403                                                0.0                                       \n",
       "404                                                0.0                                       \n",
       "405                                                0.0                                       \n",
       "\n",
       "     vehiculo_tipo_SEDÁN 5 PUERTAS (HATCHBACK)  vehiculo_marca_TOYOTA  \\\n",
       "0                                          0.0                    1.0   \n",
       "1                                          0.0                    0.0   \n",
       "2                                          0.0                    0.0   \n",
       "3                                          0.0                    0.0   \n",
       "4                                          0.0                    0.0   \n",
       "..                                         ...                    ...   \n",
       "401                                        1.0                    1.0   \n",
       "402                                        0.0                    0.0   \n",
       "403                                        0.0                    0.0   \n",
       "404                                        0.0                    0.0   \n",
       "405                                        0.0                    0.0   \n",
       "\n",
       "     vehiculo_marca_RENAULT  vehiculo_marca_CITROËN  vehiculo_marca_LEXUS  \\\n",
       "0                       0.0                     0.0                   0.0   \n",
       "1                       1.0                     0.0                   0.0   \n",
       "2                       1.0                     0.0                   0.0   \n",
       "3                       1.0                     0.0                   0.0   \n",
       "4                       0.0                     1.0                   0.0   \n",
       "..                      ...                     ...                   ...   \n",
       "401                     0.0                     0.0                   0.0   \n",
       "402                     0.0                     0.0                   0.0   \n",
       "403                     0.0                     0.0                   0.0   \n",
       "404                     0.0                     0.0                   0.0   \n",
       "405                     0.0                     0.0                   0.0   \n",
       "\n",
       "     vehiculo_marca_PEUGEOT  vehiculo_marca_FORD  \\\n",
       "0                       0.0                  0.0   \n",
       "1                       0.0                  0.0   \n",
       "2                       0.0                  0.0   \n",
       "3                       0.0                  0.0   \n",
       "4                       0.0                  0.0   \n",
       "..                      ...                  ...   \n",
       "401                     0.0                  0.0   \n",
       "402                     0.0                  1.0   \n",
       "403                     0.0                  0.0   \n",
       "404                     0.0                  0.0   \n",
       "405                     0.0                  0.0   \n",
       "\n",
       "     vehiculo_marca_PEUGEOT / CITROËN  vehiculo_marca_HYUNDAI  \\\n",
       "0                                 0.0                     0.0   \n",
       "1                                 0.0                     0.0   \n",
       "2                                 0.0                     0.0   \n",
       "3                                 0.0                     0.0   \n",
       "4                                 0.0                     0.0   \n",
       "..                                ...                     ...   \n",
       "401                               0.0                     0.0   \n",
       "402                               0.0                     0.0   \n",
       "403                               0.0                     0.0   \n",
       "404                               0.0                     0.0   \n",
       "405                               0.0                     0.0   \n",
       "\n",
       "     vehiculo_marca_SUZUKI  vehiculo_marca_CHEVROLET  vehiculo_marca_LIFAN  \\\n",
       "0                      0.0                       0.0                   0.0   \n",
       "1                      0.0                       0.0                   0.0   \n",
       "2                      0.0                       0.0                   0.0   \n",
       "3                      0.0                       0.0                   0.0   \n",
       "4                      0.0                       0.0                   0.0   \n",
       "..                     ...                       ...                   ...   \n",
       "401                    0.0                       0.0                   0.0   \n",
       "402                    0.0                       0.0                   0.0   \n",
       "403                    0.0                       0.0                   0.0   \n",
       "404                    0.0                       0.0                   0.0   \n",
       "405                    0.0                       1.0                   0.0   \n",
       "\n",
       "     vehiculo_marca_BMW  vehiculo_marca_CITROËN / DS  vehiculo_marca_HONDA  \\\n",
       "0                   0.0                          0.0                   0.0   \n",
       "1                   0.0                          0.0                   0.0   \n",
       "2                   0.0                          0.0                   0.0   \n",
       "3                   0.0                          0.0                   0.0   \n",
       "4                   0.0                          0.0                   0.0   \n",
       "..                  ...                          ...                   ...   \n",
       "401                 0.0                          0.0                   0.0   \n",
       "402                 0.0                          0.0                   0.0   \n",
       "403                 0.0                          0.0                   0.0   \n",
       "404                 0.0                          0.0                   0.0   \n",
       "405                 0.0                          0.0                   0.0   \n",
       "\n",
       "     vehiculo_marca_NISSAN  vehiculo_marca_FIAT  vehiculo_marca_CHERY  \\\n",
       "0                      0.0                  0.0                   0.0   \n",
       "1                      0.0                  0.0                   0.0   \n",
       "2                      0.0                  0.0                   0.0   \n",
       "3                      0.0                  0.0                   0.0   \n",
       "4                      0.0                  0.0                   0.0   \n",
       "..                     ...                  ...                   ...   \n",
       "401                    0.0                  0.0                   0.0   \n",
       "402                    0.0                  0.0                   0.0   \n",
       "403                    0.0                  0.0                   0.0   \n",
       "404                    0.0                  0.0                   0.0   \n",
       "405                    0.0                  0.0                   0.0   \n",
       "\n",
       "     vehiculo_marca_VOLKSWAGEN  vehiculo_marca_ALFA ROMEO  vehiculo_marca_FAW  \\\n",
       "0                          0.0                        0.0                 0.0   \n",
       "1                          0.0                        0.0                 0.0   \n",
       "2                          0.0                        0.0                 0.0   \n",
       "3                          0.0                        0.0                 0.0   \n",
       "4                          0.0                        0.0                 0.0   \n",
       "..                         ...                        ...                 ...   \n",
       "401                        0.0                        0.0                 0.0   \n",
       "402                        0.0                        0.0                 0.0   \n",
       "403                        1.0                        0.0                 0.0   \n",
       "404                        1.0                        0.0                 0.0   \n",
       "405                        0.0                        0.0                 0.0   \n",
       "\n",
       "     vehiculo_marca_MERCEDES-BENZ  vehiculo_marca_JEEP  \\\n",
       "0                             0.0                  0.0   \n",
       "1                             0.0                  0.0   \n",
       "2                             0.0                  0.0   \n",
       "3                             0.0                  0.0   \n",
       "4                             0.0                  0.0   \n",
       "..                            ...                  ...   \n",
       "401                           0.0                  0.0   \n",
       "402                           0.0                  0.0   \n",
       "403                           0.0                  0.0   \n",
       "404                           0.0                  0.0   \n",
       "405                           0.0                  0.0   \n",
       "\n",
       "     vehiculo_marca_LAND ROVER  vehiculo_marca_JAC  vehiculo_marca_VOLVO  \\\n",
       "0                          0.0                 0.0                   0.0   \n",
       "1                          0.0                 0.0                   0.0   \n",
       "2                          0.0                 0.0                   0.0   \n",
       "3                          0.0                 0.0                   0.0   \n",
       "4                          0.0                 0.0                   0.0   \n",
       "..                         ...                 ...                   ...   \n",
       "401                        0.0                 0.0                   0.0   \n",
       "402                        0.0                 0.0                   0.0   \n",
       "403                        0.0                 0.0                   0.0   \n",
       "404                        0.0                 0.0                   0.0   \n",
       "405                        0.0                 0.0                   0.0   \n",
       "\n",
       "     vehiculo_marca_SHINERAY  vehiculo_marca_CHANGAN  vehiculo_marca_DS  \\\n",
       "0                        0.0                     0.0                0.0   \n",
       "1                        0.0                     0.0                0.0   \n",
       "2                        0.0                     0.0                0.0   \n",
       "3                        0.0                     0.0                0.0   \n",
       "4                        0.0                     0.0                0.0   \n",
       "..                       ...                     ...                ...   \n",
       "401                      0.0                     0.0                0.0   \n",
       "402                      0.0                     0.0                0.0   \n",
       "403                      0.0                     0.0                0.0   \n",
       "404                      0.0                     0.0                0.0   \n",
       "405                      0.0                     0.0                0.0   \n",
       "\n",
       "     vehiculo_marca_MINI  vehiculo_marca_DOMY  vehiculo_marca_BORGWARD  \\\n",
       "0                    0.0                  0.0                      0.0   \n",
       "1                    0.0                  0.0                      0.0   \n",
       "2                    0.0                  0.0                      0.0   \n",
       "3                    0.0                  0.0                      0.0   \n",
       "4                    0.0                  0.0                      0.0   \n",
       "..                   ...                  ...                      ...   \n",
       "401                  0.0                  0.0                      0.0   \n",
       "402                  0.0                  0.0                      0.0   \n",
       "403                  0.0                  0.0                      0.0   \n",
       "404                  0.0                  0.0                      0.0   \n",
       "405                  0.0                  0.0                      0.0   \n",
       "\n",
       "     vehiculo_marca_PORSCHE  vehiculo_marca_AUDI  vehiculo_marca_BAIC  \\\n",
       "0                       0.0                  0.0                  0.0   \n",
       "1                       0.0                  0.0                  0.0   \n",
       "2                       0.0                  0.0                  0.0   \n",
       "3                       0.0                  0.0                  0.0   \n",
       "4                       0.0                  0.0                  0.0   \n",
       "..                      ...                  ...                  ...   \n",
       "401                     0.0                  0.0                  0.0   \n",
       "402                     0.0                  0.0                  0.0   \n",
       "403                     0.0                  0.0                  0.0   \n",
       "404                     0.0                  0.0                  0.0   \n",
       "405                     0.0                  0.0                  0.0   \n",
       "\n",
       "     vehiculo_marca_ZANELLA  vehiculo_marca_RAM  vehiculo_marca_FOTON  \\\n",
       "0                       0.0                 0.0                   0.0   \n",
       "1                       0.0                 0.0                   0.0   \n",
       "2                       0.0                 0.0                   0.0   \n",
       "3                       0.0                 0.0                   0.0   \n",
       "4                       0.0                 0.0                   0.0   \n",
       "..                      ...                 ...                   ...   \n",
       "401                     0.0                 0.0                   0.0   \n",
       "402                     0.0                 0.0                   0.0   \n",
       "403                     0.0                 0.0                   0.0   \n",
       "404                     0.0                 0.0                   0.0   \n",
       "405                     0.0                 0.0                   0.0   \n",
       "\n",
       "     vehiculo_marca_MASERATI  vehiculo_marca_SUBARU  vehiculo_marca_HAVAL  \\\n",
       "0                        0.0                    0.0                   0.0   \n",
       "1                        0.0                    0.0                   0.0   \n",
       "2                        0.0                    0.0                   0.0   \n",
       "3                        0.0                    0.0                   0.0   \n",
       "4                        0.0                    0.0                   0.0   \n",
       "..                       ...                    ...                   ...   \n",
       "401                      0.0                    0.0                   0.0   \n",
       "402                      0.0                    0.0                   0.0   \n",
       "403                      0.0                    0.0                   0.0   \n",
       "404                      0.0                    0.0                   0.0   \n",
       "405                      0.0                    0.0                   0.0   \n",
       "\n",
       "     vehiculo_marca_ISUZU  vehiculo_marca_DONGFENG  \\\n",
       "0                     0.0                      0.0   \n",
       "1                     0.0                      0.0   \n",
       "2                     0.0                      0.0   \n",
       "3                     0.0                      0.0   \n",
       "4                     0.0                      0.0   \n",
       "..                    ...                      ...   \n",
       "401                   0.0                      0.0   \n",
       "402                   0.0                      0.0   \n",
       "403                   0.0                      0.0   \n",
       "404                   0.0                      0.0   \n",
       "405                   0.0                      0.0   \n",
       "\n",
       "     vehiculo_marca_MERCEDES-AMG  vehiculo_marca_MITSUBISHI  \\\n",
       "0                            0.0                        0.0   \n",
       "1                            0.0                        0.0   \n",
       "2                            0.0                        0.0   \n",
       "3                            0.0                        0.0   \n",
       "4                            0.0                        0.0   \n",
       "..                           ...                        ...   \n",
       "401                          0.0                        0.0   \n",
       "402                          0.0                        0.0   \n",
       "403                          0.0                        0.0   \n",
       "404                          0.0                        0.0   \n",
       "405                          0.0                        0.0   \n",
       "\n",
       "     vehiculo_marca_ZOTYE  vehiculo_marca_KIA  vehiculo_marca_GREAT WALL  \\\n",
       "0                     0.0                 0.0                        0.0   \n",
       "1                     0.0                 0.0                        0.0   \n",
       "2                     0.0                 0.0                        0.0   \n",
       "3                     0.0                 0.0                        0.0   \n",
       "4                     0.0                 0.0                        0.0   \n",
       "..                    ...                 ...                        ...   \n",
       "401                   0.0                 0.0                        0.0   \n",
       "402                   0.0                 0.0                        0.0   \n",
       "403                   0.0                 0.0                        0.0   \n",
       "404                   0.0                 0.0                        0.0   \n",
       "405                   0.0                 0.0                        0.0   \n",
       "\n",
       "     vehiculo_marca_KYC  vehiculo_marca_FERRARI  vehiculo_traccion_4x4  \\\n",
       "0                   0.0                     0.0                    1.0   \n",
       "1                   0.0                     0.0                    0.0   \n",
       "2                   0.0                     0.0                    0.0   \n",
       "3                   0.0                     0.0                    1.0   \n",
       "4                   0.0                     0.0                    0.0   \n",
       "..                  ...                     ...                    ...   \n",
       "401                 0.0                     0.0                    0.0   \n",
       "402                 0.0                     0.0                    0.0   \n",
       "403                 0.0                     0.0                    0.0   \n",
       "404                 0.0                     0.0                    0.0   \n",
       "405                 0.0                     0.0                    0.0   \n",
       "\n",
       "     vehiculo_traccion_4x2  vehiculo_traccion_4x2 - 4x4  \\\n",
       "0                      0.0                          0.0   \n",
       "1                      1.0                          0.0   \n",
       "2                      1.0                          0.0   \n",
       "3                      0.0                          0.0   \n",
       "4                      1.0                          0.0   \n",
       "..                     ...                          ...   \n",
       "401                    1.0                          0.0   \n",
       "402                    1.0                          0.0   \n",
       "403                    1.0                          0.0   \n",
       "404                    1.0                          0.0   \n",
       "405                    1.0                          0.0   \n",
       "\n",
       "     vehiculo_tipo_transmision_AUTOMATICA  vehiculo_tipo_transmision_CVT  \\\n",
       "0                                     1.0                            0.0   \n",
       "1                                     0.0                            1.0   \n",
       "2                                     0.0                            0.0   \n",
       "3                                     0.0                            0.0   \n",
       "4                                     1.0                            0.0   \n",
       "..                                    ...                            ...   \n",
       "401                                   0.0                            1.0   \n",
       "402                                   0.0                            0.0   \n",
       "403                                   1.0                            0.0   \n",
       "404                                   0.0                            0.0   \n",
       "405                                   0.0                            0.0   \n",
       "\n",
       "     vehiculo_tipo_transmision_MANUAL  vehiculo_tipo_transmision_CTT  \\\n",
       "0                                 0.0                            0.0   \n",
       "1                                 0.0                            0.0   \n",
       "2                                 1.0                            0.0   \n",
       "3                                 1.0                            0.0   \n",
       "4                                 0.0                            0.0   \n",
       "..                                ...                            ...   \n",
       "401                               0.0                            0.0   \n",
       "402                               0.0                            0.0   \n",
       "403                               0.0                            0.0   \n",
       "404                               1.0                            0.0   \n",
       "405                               1.0                            0.0   \n",
       "\n",
       "     vehiculo_tipo_transmision_MANUAL AUTOMATIZADA  \\\n",
       "0                                              0.0   \n",
       "1                                              0.0   \n",
       "2                                              0.0   \n",
       "3                                              0.0   \n",
       "4                                              0.0   \n",
       "..                                             ...   \n",
       "401                                            0.0   \n",
       "402                                            0.0   \n",
       "403                                            0.0   \n",
       "404                                            0.0   \n",
       "405                                            0.0   \n",
       "\n",
       "     vehiculo_tipo_transmision_E-CVT (Hibrida controlada electrónicamente)  \\\n",
       "0                                                  0.0                       \n",
       "1                                                  0.0                       \n",
       "2                                                  0.0                       \n",
       "3                                                  0.0                       \n",
       "4                                                  0.0                       \n",
       "..                                                 ...                       \n",
       "401                                                0.0                       \n",
       "402                                                1.0                       \n",
       "403                                                0.0                       \n",
       "404                                                0.0                       \n",
       "405                                                0.0                       \n",
       "\n",
       "     vehiculo_standard_emision_EURO V  vehiculo_standard_emision_EURO VI  \\\n",
       "0                                 1.0                                0.0   \n",
       "1                                 1.0                                0.0   \n",
       "2                                 1.0                                0.0   \n",
       "3                                 1.0                                0.0   \n",
       "4                                 1.0                                0.0   \n",
       "..                                ...                                ...   \n",
       "401                               0.0                                0.0   \n",
       "402                               1.0                                0.0   \n",
       "403                               1.0                                0.0   \n",
       "404                               1.0                                0.0   \n",
       "405                               1.0                                0.0   \n",
       "\n",
       "     vehiculo_standard_emision_EURO VI b  vehiculo_standard_emision_EURUO V  \\\n",
       "0                                    0.0                                0.0   \n",
       "1                                    0.0                                0.0   \n",
       "2                                    0.0                                0.0   \n",
       "3                                    0.0                                0.0   \n",
       "4                                    0.0                                0.0   \n",
       "..                                   ...                                ...   \n",
       "401                                  0.0                                0.0   \n",
       "402                                  0.0                                0.0   \n",
       "403                                  0.0                                0.0   \n",
       "404                                  0.0                                0.0   \n",
       "405                                  0.0                                0.0   \n",
       "\n",
       "     vehiculo_standard_emision_EURO VI a  vehiculo_standard_emision_EURO  V  \\\n",
       "0                                    0.0                                0.0   \n",
       "1                                    0.0                                0.0   \n",
       "2                                    0.0                                0.0   \n",
       "3                                    0.0                                0.0   \n",
       "4                                    0.0                                0.0   \n",
       "..                                   ...                                ...   \n",
       "401                                  0.0                                0.0   \n",
       "402                                  0.0                                0.0   \n",
       "403                                  0.0                                0.0   \n",
       "404                                  0.0                                0.0   \n",
       "405                                  0.0                                0.0   \n",
       "\n",
       "     vehiculo_standard_emision_EURO VI c  vehiculo_standard_emision_EURO VI d  \\\n",
       "0                                    0.0                                  0.0   \n",
       "1                                    0.0                                  0.0   \n",
       "2                                    0.0                                  0.0   \n",
       "3                                    0.0                                  0.0   \n",
       "4                                    0.0                                  0.0   \n",
       "..                                   ...                                  ...   \n",
       "401                                  0.0                                  0.0   \n",
       "402                                  0.0                                  0.0   \n",
       "403                                  0.0                                  0.0   \n",
       "404                                  0.0                                  0.0   \n",
       "405                                  0.0                                  0.0   \n",
       "\n",
       "     vehiculo_standard_emision_EURO  VI b  vehiculo_tipo_combustible_GAS OIL  \\\n",
       "0                                     0.0                                1.0   \n",
       "1                                     0.0                                0.0   \n",
       "2                                     0.0                                0.0   \n",
       "3                                     0.0                                0.0   \n",
       "4                                     0.0                                0.0   \n",
       "..                                    ...                                ...   \n",
       "401                                   1.0                                0.0   \n",
       "402                                   0.0                                0.0   \n",
       "403                                   0.0                                0.0   \n",
       "404                                   0.0                                0.0   \n",
       "405                                   0.0                                0.0   \n",
       "\n",
       "     vehiculo_tipo_combustible_NAFTA  \\\n",
       "0                                0.0   \n",
       "1                                1.0   \n",
       "2                                1.0   \n",
       "3                                1.0   \n",
       "4                                1.0   \n",
       "..                               ...   \n",
       "401                              0.0   \n",
       "402                              0.0   \n",
       "403                              1.0   \n",
       "404                              1.0   \n",
       "405                              1.0   \n",
       "\n",
       "     vehiculo_tipo_combustible_NAFTA / ELECTRICIDAD  \\\n",
       "0                                               0.0   \n",
       "1                                               0.0   \n",
       "2                                               0.0   \n",
       "3                                               0.0   \n",
       "4                                               0.0   \n",
       "..                                              ...   \n",
       "401                                             1.0   \n",
       "402                                             1.0   \n",
       "403                                             0.0   \n",
       "404                                             0.0   \n",
       "405                                             0.0   \n",
       "\n",
       "     vehiculo_tipo_combustible_DIESEL  \n",
       "0                                 0.0  \n",
       "1                                 0.0  \n",
       "2                                 0.0  \n",
       "3                                 0.0  \n",
       "4                                 0.0  \n",
       "..                                ...  \n",
       "401                               0.0  \n",
       "402                               0.0  \n",
       "403                               0.0  \n",
       "404                               0.0  \n",
       "405                               0.0  \n",
       "\n",
       "[406 rows x 88 columns]"
      ]
     },
     "execution_count": 469,
     "metadata": {},
     "output_type": "execute_result"
    }
   ],
   "source": [
    "X_dummies = pd.DataFrame(X_encoded, columns = encoder.get_feature_names(categorical_columns))\n",
    "X_dummies"
   ]
  },
  {
   "cell_type": "code",
   "execution_count": 470,
   "id": "solar-tomorrow",
   "metadata": {},
   "outputs": [],
   "source": [
    "X_numerical = df[['vehiculo_cilindrada', 'consumo_urbano', 'consumo_extraurbano', 'consumo_mixto']]"
   ]
  },
  {
   "cell_type": "code",
   "execution_count": 471,
   "id": "marine-chorus",
   "metadata": {},
   "outputs": [],
   "source": [
    "#X = pd.concat([df, X_dummies], axis = 1)\n",
    "X = pd.concat([X_numerical, X_dummies], axis = 1)"
   ]
  },
  {
   "cell_type": "code",
   "execution_count": 472,
   "id": "institutional-music",
   "metadata": {},
   "outputs": [
    {
     "data": {
      "text/plain": [
       "(406, 92)"
      ]
     },
     "execution_count": 472,
     "metadata": {},
     "output_type": "execute_result"
    }
   ],
   "source": [
    "X.shape"
   ]
  },
  {
   "cell_type": "code",
   "execution_count": 473,
   "id": "happy-catholic",
   "metadata": {},
   "outputs": [
    {
     "data": {
      "text/html": [
       "<div>\n",
       "<style scoped>\n",
       "    .dataframe tbody tr th:only-of-type {\n",
       "        vertical-align: middle;\n",
       "    }\n",
       "\n",
       "    .dataframe tbody tr th {\n",
       "        vertical-align: top;\n",
       "    }\n",
       "\n",
       "    .dataframe thead th {\n",
       "        text-align: right;\n",
       "    }\n",
       "</style>\n",
       "<table border=\"1\" class=\"dataframe\">\n",
       "  <thead>\n",
       "    <tr style=\"text-align: right;\">\n",
       "      <th></th>\n",
       "      <th>vehiculo_cilindrada</th>\n",
       "      <th>consumo_urbano</th>\n",
       "      <th>consumo_extraurbano</th>\n",
       "      <th>consumo_mixto</th>\n",
       "      <th>vehiculo_tipo_SUV</th>\n",
       "      <th>vehiculo_tipo_4 Puertas</th>\n",
       "      <th>vehiculo_tipo_5 Puertas</th>\n",
       "      <th>vehiculo_tipo_Coupe</th>\n",
       "      <th>vehiculo_tipo_Chasis Largo</th>\n",
       "      <th>vehiculo_tipo_PICK UP</th>\n",
       "      <th>vehiculo_tipo_Furgon</th>\n",
       "      <th>vehiculo_tipo_Camion</th>\n",
       "      <th>vehiculo_tipo_4x4</th>\n",
       "      <th>vehiculo_tipo_SEDÁN 3 PUERTAS COUPÉ</th>\n",
       "      <th>vehiculo_tipo_Rural</th>\n",
       "      <th>vehiculo_tipo_BUS</th>\n",
       "      <th>vehiculo_tipo_PICK UP CABINA SIMPLE DOBLE</th>\n",
       "      <th>vehiculo_tipo_SUV  CROSSOVER 4 PUERTAS CON PORTÓN TRASERO</th>\n",
       "      <th>vehiculo_tipo_BERLINA 4 PUERTAS Y PORTÓN TRASERO</th>\n",
       "      <th>vehiculo_tipo_RURAL 4 PUERTAS CON PORTÓN TRASERO / SEDÁN 2 PUERTAS CON PORTÓN TRASERO</th>\n",
       "      <th>vehiculo_tipo_SEDÁN 5 PUERTAS (HATCHBACK)</th>\n",
       "      <th>vehiculo_marca_TOYOTA</th>\n",
       "      <th>vehiculo_marca_RENAULT</th>\n",
       "      <th>vehiculo_marca_CITROËN</th>\n",
       "      <th>vehiculo_marca_LEXUS</th>\n",
       "      <th>vehiculo_marca_PEUGEOT</th>\n",
       "      <th>vehiculo_marca_FORD</th>\n",
       "      <th>vehiculo_marca_PEUGEOT / CITROËN</th>\n",
       "      <th>vehiculo_marca_HYUNDAI</th>\n",
       "      <th>vehiculo_marca_SUZUKI</th>\n",
       "      <th>vehiculo_marca_CHEVROLET</th>\n",
       "      <th>vehiculo_marca_LIFAN</th>\n",
       "      <th>vehiculo_marca_BMW</th>\n",
       "      <th>vehiculo_marca_CITROËN / DS</th>\n",
       "      <th>vehiculo_marca_HONDA</th>\n",
       "      <th>vehiculo_marca_NISSAN</th>\n",
       "      <th>vehiculo_marca_FIAT</th>\n",
       "      <th>vehiculo_marca_CHERY</th>\n",
       "      <th>vehiculo_marca_VOLKSWAGEN</th>\n",
       "      <th>vehiculo_marca_ALFA ROMEO</th>\n",
       "      <th>vehiculo_marca_FAW</th>\n",
       "      <th>vehiculo_marca_MERCEDES-BENZ</th>\n",
       "      <th>vehiculo_marca_JEEP</th>\n",
       "      <th>vehiculo_marca_LAND ROVER</th>\n",
       "      <th>vehiculo_marca_JAC</th>\n",
       "      <th>vehiculo_marca_VOLVO</th>\n",
       "      <th>vehiculo_marca_SHINERAY</th>\n",
       "      <th>vehiculo_marca_CHANGAN</th>\n",
       "      <th>vehiculo_marca_DS</th>\n",
       "      <th>vehiculo_marca_MINI</th>\n",
       "      <th>vehiculo_marca_DOMY</th>\n",
       "      <th>vehiculo_marca_BORGWARD</th>\n",
       "      <th>vehiculo_marca_PORSCHE</th>\n",
       "      <th>vehiculo_marca_AUDI</th>\n",
       "      <th>vehiculo_marca_BAIC</th>\n",
       "      <th>vehiculo_marca_ZANELLA</th>\n",
       "      <th>vehiculo_marca_RAM</th>\n",
       "      <th>vehiculo_marca_FOTON</th>\n",
       "      <th>vehiculo_marca_MASERATI</th>\n",
       "      <th>vehiculo_marca_SUBARU</th>\n",
       "      <th>vehiculo_marca_HAVAL</th>\n",
       "      <th>vehiculo_marca_ISUZU</th>\n",
       "      <th>vehiculo_marca_DONGFENG</th>\n",
       "      <th>vehiculo_marca_MERCEDES-AMG</th>\n",
       "      <th>vehiculo_marca_MITSUBISHI</th>\n",
       "      <th>vehiculo_marca_ZOTYE</th>\n",
       "      <th>vehiculo_marca_KIA</th>\n",
       "      <th>vehiculo_marca_GREAT WALL</th>\n",
       "      <th>vehiculo_marca_KYC</th>\n",
       "      <th>vehiculo_marca_FERRARI</th>\n",
       "      <th>vehiculo_traccion_4x4</th>\n",
       "      <th>vehiculo_traccion_4x2</th>\n",
       "      <th>vehiculo_traccion_4x2 - 4x4</th>\n",
       "      <th>vehiculo_tipo_transmision_AUTOMATICA</th>\n",
       "      <th>vehiculo_tipo_transmision_CVT</th>\n",
       "      <th>vehiculo_tipo_transmision_MANUAL</th>\n",
       "      <th>vehiculo_tipo_transmision_CTT</th>\n",
       "      <th>vehiculo_tipo_transmision_MANUAL AUTOMATIZADA</th>\n",
       "      <th>vehiculo_tipo_transmision_E-CVT (Hibrida controlada electrónicamente)</th>\n",
       "      <th>vehiculo_standard_emision_EURO V</th>\n",
       "      <th>vehiculo_standard_emision_EURO VI</th>\n",
       "      <th>vehiculo_standard_emision_EURO VI b</th>\n",
       "      <th>vehiculo_standard_emision_EURUO V</th>\n",
       "      <th>vehiculo_standard_emision_EURO VI a</th>\n",
       "      <th>vehiculo_standard_emision_EURO  V</th>\n",
       "      <th>vehiculo_standard_emision_EURO VI c</th>\n",
       "      <th>vehiculo_standard_emision_EURO VI d</th>\n",
       "      <th>vehiculo_standard_emision_EURO  VI b</th>\n",
       "      <th>vehiculo_tipo_combustible_GAS OIL</th>\n",
       "      <th>vehiculo_tipo_combustible_NAFTA</th>\n",
       "      <th>vehiculo_tipo_combustible_NAFTA / ELECTRICIDAD</th>\n",
       "      <th>vehiculo_tipo_combustible_DIESEL</th>\n",
       "    </tr>\n",
       "  </thead>\n",
       "  <tbody>\n",
       "    <tr>\n",
       "      <th>0</th>\n",
       "      <td>4461.0</td>\n",
       "      <td>11.56</td>\n",
       "      <td>8.94</td>\n",
       "      <td>9.90</td>\n",
       "      <td>1.0</td>\n",
       "      <td>0.0</td>\n",
       "      <td>0.0</td>\n",
       "      <td>0.0</td>\n",
       "      <td>0.0</td>\n",
       "      <td>0.0</td>\n",
       "      <td>0.0</td>\n",
       "      <td>0.0</td>\n",
       "      <td>0.0</td>\n",
       "      <td>0.0</td>\n",
       "      <td>0.0</td>\n",
       "      <td>0.0</td>\n",
       "      <td>0.0</td>\n",
       "      <td>0.0</td>\n",
       "      <td>0.0</td>\n",
       "      <td>0.0</td>\n",
       "      <td>0.0</td>\n",
       "      <td>1.0</td>\n",
       "      <td>0.0</td>\n",
       "      <td>0.0</td>\n",
       "      <td>0.0</td>\n",
       "      <td>0.0</td>\n",
       "      <td>0.0</td>\n",
       "      <td>0.0</td>\n",
       "      <td>0.0</td>\n",
       "      <td>0.0</td>\n",
       "      <td>0.0</td>\n",
       "      <td>0.0</td>\n",
       "      <td>0.0</td>\n",
       "      <td>0.0</td>\n",
       "      <td>0.0</td>\n",
       "      <td>0.0</td>\n",
       "      <td>0.0</td>\n",
       "      <td>0.0</td>\n",
       "      <td>0.0</td>\n",
       "      <td>0.0</td>\n",
       "      <td>0.0</td>\n",
       "      <td>0.0</td>\n",
       "      <td>0.0</td>\n",
       "      <td>0.0</td>\n",
       "      <td>0.0</td>\n",
       "      <td>0.0</td>\n",
       "      <td>0.0</td>\n",
       "      <td>0.0</td>\n",
       "      <td>0.0</td>\n",
       "      <td>0.0</td>\n",
       "      <td>0.0</td>\n",
       "      <td>0.0</td>\n",
       "      <td>0.0</td>\n",
       "      <td>0.0</td>\n",
       "      <td>0.0</td>\n",
       "      <td>0.0</td>\n",
       "      <td>0.0</td>\n",
       "      <td>0.0</td>\n",
       "      <td>0.0</td>\n",
       "      <td>0.0</td>\n",
       "      <td>0.0</td>\n",
       "      <td>0.0</td>\n",
       "      <td>0.0</td>\n",
       "      <td>0.0</td>\n",
       "      <td>0.0</td>\n",
       "      <td>0.0</td>\n",
       "      <td>0.0</td>\n",
       "      <td>0.0</td>\n",
       "      <td>0.0</td>\n",
       "      <td>0.0</td>\n",
       "      <td>1.0</td>\n",
       "      <td>0.0</td>\n",
       "      <td>0.0</td>\n",
       "      <td>1.0</td>\n",
       "      <td>0.0</td>\n",
       "      <td>0.0</td>\n",
       "      <td>0.0</td>\n",
       "      <td>0.0</td>\n",
       "      <td>0.0</td>\n",
       "      <td>1.0</td>\n",
       "      <td>0.0</td>\n",
       "      <td>0.0</td>\n",
       "      <td>0.0</td>\n",
       "      <td>0.0</td>\n",
       "      <td>0.0</td>\n",
       "      <td>0.0</td>\n",
       "      <td>0.0</td>\n",
       "      <td>0.0</td>\n",
       "      <td>1.0</td>\n",
       "      <td>0.0</td>\n",
       "      <td>0.0</td>\n",
       "      <td>0.0</td>\n",
       "    </tr>\n",
       "    <tr>\n",
       "      <th>1</th>\n",
       "      <td>1997.0</td>\n",
       "      <td>10.50</td>\n",
       "      <td>6.10</td>\n",
       "      <td>7.70</td>\n",
       "      <td>0.0</td>\n",
       "      <td>1.0</td>\n",
       "      <td>0.0</td>\n",
       "      <td>0.0</td>\n",
       "      <td>0.0</td>\n",
       "      <td>0.0</td>\n",
       "      <td>0.0</td>\n",
       "      <td>0.0</td>\n",
       "      <td>0.0</td>\n",
       "      <td>0.0</td>\n",
       "      <td>0.0</td>\n",
       "      <td>0.0</td>\n",
       "      <td>0.0</td>\n",
       "      <td>0.0</td>\n",
       "      <td>0.0</td>\n",
       "      <td>0.0</td>\n",
       "      <td>0.0</td>\n",
       "      <td>0.0</td>\n",
       "      <td>1.0</td>\n",
       "      <td>0.0</td>\n",
       "      <td>0.0</td>\n",
       "      <td>0.0</td>\n",
       "      <td>0.0</td>\n",
       "      <td>0.0</td>\n",
       "      <td>0.0</td>\n",
       "      <td>0.0</td>\n",
       "      <td>0.0</td>\n",
       "      <td>0.0</td>\n",
       "      <td>0.0</td>\n",
       "      <td>0.0</td>\n",
       "      <td>0.0</td>\n",
       "      <td>0.0</td>\n",
       "      <td>0.0</td>\n",
       "      <td>0.0</td>\n",
       "      <td>0.0</td>\n",
       "      <td>0.0</td>\n",
       "      <td>0.0</td>\n",
       "      <td>0.0</td>\n",
       "      <td>0.0</td>\n",
       "      <td>0.0</td>\n",
       "      <td>0.0</td>\n",
       "      <td>0.0</td>\n",
       "      <td>0.0</td>\n",
       "      <td>0.0</td>\n",
       "      <td>0.0</td>\n",
       "      <td>0.0</td>\n",
       "      <td>0.0</td>\n",
       "      <td>0.0</td>\n",
       "      <td>0.0</td>\n",
       "      <td>0.0</td>\n",
       "      <td>0.0</td>\n",
       "      <td>0.0</td>\n",
       "      <td>0.0</td>\n",
       "      <td>0.0</td>\n",
       "      <td>0.0</td>\n",
       "      <td>0.0</td>\n",
       "      <td>0.0</td>\n",
       "      <td>0.0</td>\n",
       "      <td>0.0</td>\n",
       "      <td>0.0</td>\n",
       "      <td>0.0</td>\n",
       "      <td>0.0</td>\n",
       "      <td>0.0</td>\n",
       "      <td>0.0</td>\n",
       "      <td>0.0</td>\n",
       "      <td>0.0</td>\n",
       "      <td>0.0</td>\n",
       "      <td>1.0</td>\n",
       "      <td>0.0</td>\n",
       "      <td>0.0</td>\n",
       "      <td>1.0</td>\n",
       "      <td>0.0</td>\n",
       "      <td>0.0</td>\n",
       "      <td>0.0</td>\n",
       "      <td>0.0</td>\n",
       "      <td>1.0</td>\n",
       "      <td>0.0</td>\n",
       "      <td>0.0</td>\n",
       "      <td>0.0</td>\n",
       "      <td>0.0</td>\n",
       "      <td>0.0</td>\n",
       "      <td>0.0</td>\n",
       "      <td>0.0</td>\n",
       "      <td>0.0</td>\n",
       "      <td>0.0</td>\n",
       "      <td>1.0</td>\n",
       "      <td>0.0</td>\n",
       "      <td>0.0</td>\n",
       "    </tr>\n",
       "    <tr>\n",
       "      <th>2</th>\n",
       "      <td>1998.0</td>\n",
       "      <td>11.13</td>\n",
       "      <td>6.98</td>\n",
       "      <td>8.52</td>\n",
       "      <td>0.0</td>\n",
       "      <td>0.0</td>\n",
       "      <td>1.0</td>\n",
       "      <td>0.0</td>\n",
       "      <td>0.0</td>\n",
       "      <td>0.0</td>\n",
       "      <td>0.0</td>\n",
       "      <td>0.0</td>\n",
       "      <td>0.0</td>\n",
       "      <td>0.0</td>\n",
       "      <td>0.0</td>\n",
       "      <td>0.0</td>\n",
       "      <td>0.0</td>\n",
       "      <td>0.0</td>\n",
       "      <td>0.0</td>\n",
       "      <td>0.0</td>\n",
       "      <td>0.0</td>\n",
       "      <td>0.0</td>\n",
       "      <td>1.0</td>\n",
       "      <td>0.0</td>\n",
       "      <td>0.0</td>\n",
       "      <td>0.0</td>\n",
       "      <td>0.0</td>\n",
       "      <td>0.0</td>\n",
       "      <td>0.0</td>\n",
       "      <td>0.0</td>\n",
       "      <td>0.0</td>\n",
       "      <td>0.0</td>\n",
       "      <td>0.0</td>\n",
       "      <td>0.0</td>\n",
       "      <td>0.0</td>\n",
       "      <td>0.0</td>\n",
       "      <td>0.0</td>\n",
       "      <td>0.0</td>\n",
       "      <td>0.0</td>\n",
       "      <td>0.0</td>\n",
       "      <td>0.0</td>\n",
       "      <td>0.0</td>\n",
       "      <td>0.0</td>\n",
       "      <td>0.0</td>\n",
       "      <td>0.0</td>\n",
       "      <td>0.0</td>\n",
       "      <td>0.0</td>\n",
       "      <td>0.0</td>\n",
       "      <td>0.0</td>\n",
       "      <td>0.0</td>\n",
       "      <td>0.0</td>\n",
       "      <td>0.0</td>\n",
       "      <td>0.0</td>\n",
       "      <td>0.0</td>\n",
       "      <td>0.0</td>\n",
       "      <td>0.0</td>\n",
       "      <td>0.0</td>\n",
       "      <td>0.0</td>\n",
       "      <td>0.0</td>\n",
       "      <td>0.0</td>\n",
       "      <td>0.0</td>\n",
       "      <td>0.0</td>\n",
       "      <td>0.0</td>\n",
       "      <td>0.0</td>\n",
       "      <td>0.0</td>\n",
       "      <td>0.0</td>\n",
       "      <td>0.0</td>\n",
       "      <td>0.0</td>\n",
       "      <td>0.0</td>\n",
       "      <td>0.0</td>\n",
       "      <td>0.0</td>\n",
       "      <td>1.0</td>\n",
       "      <td>0.0</td>\n",
       "      <td>0.0</td>\n",
       "      <td>0.0</td>\n",
       "      <td>1.0</td>\n",
       "      <td>0.0</td>\n",
       "      <td>0.0</td>\n",
       "      <td>0.0</td>\n",
       "      <td>1.0</td>\n",
       "      <td>0.0</td>\n",
       "      <td>0.0</td>\n",
       "      <td>0.0</td>\n",
       "      <td>0.0</td>\n",
       "      <td>0.0</td>\n",
       "      <td>0.0</td>\n",
       "      <td>0.0</td>\n",
       "      <td>0.0</td>\n",
       "      <td>0.0</td>\n",
       "      <td>1.0</td>\n",
       "      <td>0.0</td>\n",
       "      <td>0.0</td>\n",
       "    </tr>\n",
       "    <tr>\n",
       "      <th>3</th>\n",
       "      <td>1998.0</td>\n",
       "      <td>11.20</td>\n",
       "      <td>7.01</td>\n",
       "      <td>8.55</td>\n",
       "      <td>0.0</td>\n",
       "      <td>0.0</td>\n",
       "      <td>1.0</td>\n",
       "      <td>0.0</td>\n",
       "      <td>0.0</td>\n",
       "      <td>0.0</td>\n",
       "      <td>0.0</td>\n",
       "      <td>0.0</td>\n",
       "      <td>0.0</td>\n",
       "      <td>0.0</td>\n",
       "      <td>0.0</td>\n",
       "      <td>0.0</td>\n",
       "      <td>0.0</td>\n",
       "      <td>0.0</td>\n",
       "      <td>0.0</td>\n",
       "      <td>0.0</td>\n",
       "      <td>0.0</td>\n",
       "      <td>0.0</td>\n",
       "      <td>1.0</td>\n",
       "      <td>0.0</td>\n",
       "      <td>0.0</td>\n",
       "      <td>0.0</td>\n",
       "      <td>0.0</td>\n",
       "      <td>0.0</td>\n",
       "      <td>0.0</td>\n",
       "      <td>0.0</td>\n",
       "      <td>0.0</td>\n",
       "      <td>0.0</td>\n",
       "      <td>0.0</td>\n",
       "      <td>0.0</td>\n",
       "      <td>0.0</td>\n",
       "      <td>0.0</td>\n",
       "      <td>0.0</td>\n",
       "      <td>0.0</td>\n",
       "      <td>0.0</td>\n",
       "      <td>0.0</td>\n",
       "      <td>0.0</td>\n",
       "      <td>0.0</td>\n",
       "      <td>0.0</td>\n",
       "      <td>0.0</td>\n",
       "      <td>0.0</td>\n",
       "      <td>0.0</td>\n",
       "      <td>0.0</td>\n",
       "      <td>0.0</td>\n",
       "      <td>0.0</td>\n",
       "      <td>0.0</td>\n",
       "      <td>0.0</td>\n",
       "      <td>0.0</td>\n",
       "      <td>0.0</td>\n",
       "      <td>0.0</td>\n",
       "      <td>0.0</td>\n",
       "      <td>0.0</td>\n",
       "      <td>0.0</td>\n",
       "      <td>0.0</td>\n",
       "      <td>0.0</td>\n",
       "      <td>0.0</td>\n",
       "      <td>0.0</td>\n",
       "      <td>0.0</td>\n",
       "      <td>0.0</td>\n",
       "      <td>0.0</td>\n",
       "      <td>0.0</td>\n",
       "      <td>0.0</td>\n",
       "      <td>0.0</td>\n",
       "      <td>0.0</td>\n",
       "      <td>0.0</td>\n",
       "      <td>0.0</td>\n",
       "      <td>1.0</td>\n",
       "      <td>0.0</td>\n",
       "      <td>0.0</td>\n",
       "      <td>0.0</td>\n",
       "      <td>0.0</td>\n",
       "      <td>1.0</td>\n",
       "      <td>0.0</td>\n",
       "      <td>0.0</td>\n",
       "      <td>0.0</td>\n",
       "      <td>1.0</td>\n",
       "      <td>0.0</td>\n",
       "      <td>0.0</td>\n",
       "      <td>0.0</td>\n",
       "      <td>0.0</td>\n",
       "      <td>0.0</td>\n",
       "      <td>0.0</td>\n",
       "      <td>0.0</td>\n",
       "      <td>0.0</td>\n",
       "      <td>0.0</td>\n",
       "      <td>1.0</td>\n",
       "      <td>0.0</td>\n",
       "      <td>0.0</td>\n",
       "    </tr>\n",
       "    <tr>\n",
       "      <th>4</th>\n",
       "      <td>1598.0</td>\n",
       "      <td>10.60</td>\n",
       "      <td>6.00</td>\n",
       "      <td>7.70</td>\n",
       "      <td>0.0</td>\n",
       "      <td>0.0</td>\n",
       "      <td>0.0</td>\n",
       "      <td>1.0</td>\n",
       "      <td>0.0</td>\n",
       "      <td>0.0</td>\n",
       "      <td>0.0</td>\n",
       "      <td>0.0</td>\n",
       "      <td>0.0</td>\n",
       "      <td>0.0</td>\n",
       "      <td>0.0</td>\n",
       "      <td>0.0</td>\n",
       "      <td>0.0</td>\n",
       "      <td>0.0</td>\n",
       "      <td>0.0</td>\n",
       "      <td>0.0</td>\n",
       "      <td>0.0</td>\n",
       "      <td>0.0</td>\n",
       "      <td>0.0</td>\n",
       "      <td>1.0</td>\n",
       "      <td>0.0</td>\n",
       "      <td>0.0</td>\n",
       "      <td>0.0</td>\n",
       "      <td>0.0</td>\n",
       "      <td>0.0</td>\n",
       "      <td>0.0</td>\n",
       "      <td>0.0</td>\n",
       "      <td>0.0</td>\n",
       "      <td>0.0</td>\n",
       "      <td>0.0</td>\n",
       "      <td>0.0</td>\n",
       "      <td>0.0</td>\n",
       "      <td>0.0</td>\n",
       "      <td>0.0</td>\n",
       "      <td>0.0</td>\n",
       "      <td>0.0</td>\n",
       "      <td>0.0</td>\n",
       "      <td>0.0</td>\n",
       "      <td>0.0</td>\n",
       "      <td>0.0</td>\n",
       "      <td>0.0</td>\n",
       "      <td>0.0</td>\n",
       "      <td>0.0</td>\n",
       "      <td>0.0</td>\n",
       "      <td>0.0</td>\n",
       "      <td>0.0</td>\n",
       "      <td>0.0</td>\n",
       "      <td>0.0</td>\n",
       "      <td>0.0</td>\n",
       "      <td>0.0</td>\n",
       "      <td>0.0</td>\n",
       "      <td>0.0</td>\n",
       "      <td>0.0</td>\n",
       "      <td>0.0</td>\n",
       "      <td>0.0</td>\n",
       "      <td>0.0</td>\n",
       "      <td>0.0</td>\n",
       "      <td>0.0</td>\n",
       "      <td>0.0</td>\n",
       "      <td>0.0</td>\n",
       "      <td>0.0</td>\n",
       "      <td>0.0</td>\n",
       "      <td>0.0</td>\n",
       "      <td>0.0</td>\n",
       "      <td>0.0</td>\n",
       "      <td>0.0</td>\n",
       "      <td>0.0</td>\n",
       "      <td>1.0</td>\n",
       "      <td>0.0</td>\n",
       "      <td>1.0</td>\n",
       "      <td>0.0</td>\n",
       "      <td>0.0</td>\n",
       "      <td>0.0</td>\n",
       "      <td>0.0</td>\n",
       "      <td>0.0</td>\n",
       "      <td>1.0</td>\n",
       "      <td>0.0</td>\n",
       "      <td>0.0</td>\n",
       "      <td>0.0</td>\n",
       "      <td>0.0</td>\n",
       "      <td>0.0</td>\n",
       "      <td>0.0</td>\n",
       "      <td>0.0</td>\n",
       "      <td>0.0</td>\n",
       "      <td>0.0</td>\n",
       "      <td>1.0</td>\n",
       "      <td>0.0</td>\n",
       "      <td>0.0</td>\n",
       "    </tr>\n",
       "  </tbody>\n",
       "</table>\n",
       "</div>"
      ],
      "text/plain": [
       "   vehiculo_cilindrada  consumo_urbano  consumo_extraurbano  consumo_mixto  \\\n",
       "0               4461.0           11.56                 8.94           9.90   \n",
       "1               1997.0           10.50                 6.10           7.70   \n",
       "2               1998.0           11.13                 6.98           8.52   \n",
       "3               1998.0           11.20                 7.01           8.55   \n",
       "4               1598.0           10.60                 6.00           7.70   \n",
       "\n",
       "   vehiculo_tipo_SUV  vehiculo_tipo_4 Puertas  vehiculo_tipo_5 Puertas  \\\n",
       "0                1.0                      0.0                      0.0   \n",
       "1                0.0                      1.0                      0.0   \n",
       "2                0.0                      0.0                      1.0   \n",
       "3                0.0                      0.0                      1.0   \n",
       "4                0.0                      0.0                      0.0   \n",
       "\n",
       "   vehiculo_tipo_Coupe  vehiculo_tipo_Chasis Largo  vehiculo_tipo_PICK UP  \\\n",
       "0                  0.0                         0.0                    0.0   \n",
       "1                  0.0                         0.0                    0.0   \n",
       "2                  0.0                         0.0                    0.0   \n",
       "3                  0.0                         0.0                    0.0   \n",
       "4                  1.0                         0.0                    0.0   \n",
       "\n",
       "   vehiculo_tipo_Furgon  vehiculo_tipo_Camion  vehiculo_tipo_4x4  \\\n",
       "0                   0.0                   0.0                0.0   \n",
       "1                   0.0                   0.0                0.0   \n",
       "2                   0.0                   0.0                0.0   \n",
       "3                   0.0                   0.0                0.0   \n",
       "4                   0.0                   0.0                0.0   \n",
       "\n",
       "   vehiculo_tipo_SEDÁN 3 PUERTAS COUPÉ  vehiculo_tipo_Rural  \\\n",
       "0                                  0.0                  0.0   \n",
       "1                                  0.0                  0.0   \n",
       "2                                  0.0                  0.0   \n",
       "3                                  0.0                  0.0   \n",
       "4                                  0.0                  0.0   \n",
       "\n",
       "   vehiculo_tipo_BUS  vehiculo_tipo_PICK UP CABINA SIMPLE DOBLE  \\\n",
       "0                0.0                                        0.0   \n",
       "1                0.0                                        0.0   \n",
       "2                0.0                                        0.0   \n",
       "3                0.0                                        0.0   \n",
       "4                0.0                                        0.0   \n",
       "\n",
       "   vehiculo_tipo_SUV  CROSSOVER 4 PUERTAS CON PORTÓN TRASERO  \\\n",
       "0                                                0.0            \n",
       "1                                                0.0            \n",
       "2                                                0.0            \n",
       "3                                                0.0            \n",
       "4                                                0.0            \n",
       "\n",
       "   vehiculo_tipo_BERLINA 4 PUERTAS Y PORTÓN TRASERO  \\\n",
       "0                                               0.0   \n",
       "1                                               0.0   \n",
       "2                                               0.0   \n",
       "3                                               0.0   \n",
       "4                                               0.0   \n",
       "\n",
       "   vehiculo_tipo_RURAL 4 PUERTAS CON PORTÓN TRASERO / SEDÁN 2 PUERTAS CON PORTÓN TRASERO  \\\n",
       "0                                                0.0                                       \n",
       "1                                                0.0                                       \n",
       "2                                                0.0                                       \n",
       "3                                                0.0                                       \n",
       "4                                                0.0                                       \n",
       "\n",
       "   vehiculo_tipo_SEDÁN 5 PUERTAS (HATCHBACK)  vehiculo_marca_TOYOTA  \\\n",
       "0                                        0.0                    1.0   \n",
       "1                                        0.0                    0.0   \n",
       "2                                        0.0                    0.0   \n",
       "3                                        0.0                    0.0   \n",
       "4                                        0.0                    0.0   \n",
       "\n",
       "   vehiculo_marca_RENAULT  vehiculo_marca_CITROËN  vehiculo_marca_LEXUS  \\\n",
       "0                     0.0                     0.0                   0.0   \n",
       "1                     1.0                     0.0                   0.0   \n",
       "2                     1.0                     0.0                   0.0   \n",
       "3                     1.0                     0.0                   0.0   \n",
       "4                     0.0                     1.0                   0.0   \n",
       "\n",
       "   vehiculo_marca_PEUGEOT  vehiculo_marca_FORD  \\\n",
       "0                     0.0                  0.0   \n",
       "1                     0.0                  0.0   \n",
       "2                     0.0                  0.0   \n",
       "3                     0.0                  0.0   \n",
       "4                     0.0                  0.0   \n",
       "\n",
       "   vehiculo_marca_PEUGEOT / CITROËN  vehiculo_marca_HYUNDAI  \\\n",
       "0                               0.0                     0.0   \n",
       "1                               0.0                     0.0   \n",
       "2                               0.0                     0.0   \n",
       "3                               0.0                     0.0   \n",
       "4                               0.0                     0.0   \n",
       "\n",
       "   vehiculo_marca_SUZUKI  vehiculo_marca_CHEVROLET  vehiculo_marca_LIFAN  \\\n",
       "0                    0.0                       0.0                   0.0   \n",
       "1                    0.0                       0.0                   0.0   \n",
       "2                    0.0                       0.0                   0.0   \n",
       "3                    0.0                       0.0                   0.0   \n",
       "4                    0.0                       0.0                   0.0   \n",
       "\n",
       "   vehiculo_marca_BMW  vehiculo_marca_CITROËN / DS  vehiculo_marca_HONDA  \\\n",
       "0                 0.0                          0.0                   0.0   \n",
       "1                 0.0                          0.0                   0.0   \n",
       "2                 0.0                          0.0                   0.0   \n",
       "3                 0.0                          0.0                   0.0   \n",
       "4                 0.0                          0.0                   0.0   \n",
       "\n",
       "   vehiculo_marca_NISSAN  vehiculo_marca_FIAT  vehiculo_marca_CHERY  \\\n",
       "0                    0.0                  0.0                   0.0   \n",
       "1                    0.0                  0.0                   0.0   \n",
       "2                    0.0                  0.0                   0.0   \n",
       "3                    0.0                  0.0                   0.0   \n",
       "4                    0.0                  0.0                   0.0   \n",
       "\n",
       "   vehiculo_marca_VOLKSWAGEN  vehiculo_marca_ALFA ROMEO  vehiculo_marca_FAW  \\\n",
       "0                        0.0                        0.0                 0.0   \n",
       "1                        0.0                        0.0                 0.0   \n",
       "2                        0.0                        0.0                 0.0   \n",
       "3                        0.0                        0.0                 0.0   \n",
       "4                        0.0                        0.0                 0.0   \n",
       "\n",
       "   vehiculo_marca_MERCEDES-BENZ  vehiculo_marca_JEEP  \\\n",
       "0                           0.0                  0.0   \n",
       "1                           0.0                  0.0   \n",
       "2                           0.0                  0.0   \n",
       "3                           0.0                  0.0   \n",
       "4                           0.0                  0.0   \n",
       "\n",
       "   vehiculo_marca_LAND ROVER  vehiculo_marca_JAC  vehiculo_marca_VOLVO  \\\n",
       "0                        0.0                 0.0                   0.0   \n",
       "1                        0.0                 0.0                   0.0   \n",
       "2                        0.0                 0.0                   0.0   \n",
       "3                        0.0                 0.0                   0.0   \n",
       "4                        0.0                 0.0                   0.0   \n",
       "\n",
       "   vehiculo_marca_SHINERAY  vehiculo_marca_CHANGAN  vehiculo_marca_DS  \\\n",
       "0                      0.0                     0.0                0.0   \n",
       "1                      0.0                     0.0                0.0   \n",
       "2                      0.0                     0.0                0.0   \n",
       "3                      0.0                     0.0                0.0   \n",
       "4                      0.0                     0.0                0.0   \n",
       "\n",
       "   vehiculo_marca_MINI  vehiculo_marca_DOMY  vehiculo_marca_BORGWARD  \\\n",
       "0                  0.0                  0.0                      0.0   \n",
       "1                  0.0                  0.0                      0.0   \n",
       "2                  0.0                  0.0                      0.0   \n",
       "3                  0.0                  0.0                      0.0   \n",
       "4                  0.0                  0.0                      0.0   \n",
       "\n",
       "   vehiculo_marca_PORSCHE  vehiculo_marca_AUDI  vehiculo_marca_BAIC  \\\n",
       "0                     0.0                  0.0                  0.0   \n",
       "1                     0.0                  0.0                  0.0   \n",
       "2                     0.0                  0.0                  0.0   \n",
       "3                     0.0                  0.0                  0.0   \n",
       "4                     0.0                  0.0                  0.0   \n",
       "\n",
       "   vehiculo_marca_ZANELLA  vehiculo_marca_RAM  vehiculo_marca_FOTON  \\\n",
       "0                     0.0                 0.0                   0.0   \n",
       "1                     0.0                 0.0                   0.0   \n",
       "2                     0.0                 0.0                   0.0   \n",
       "3                     0.0                 0.0                   0.0   \n",
       "4                     0.0                 0.0                   0.0   \n",
       "\n",
       "   vehiculo_marca_MASERATI  vehiculo_marca_SUBARU  vehiculo_marca_HAVAL  \\\n",
       "0                      0.0                    0.0                   0.0   \n",
       "1                      0.0                    0.0                   0.0   \n",
       "2                      0.0                    0.0                   0.0   \n",
       "3                      0.0                    0.0                   0.0   \n",
       "4                      0.0                    0.0                   0.0   \n",
       "\n",
       "   vehiculo_marca_ISUZU  vehiculo_marca_DONGFENG  vehiculo_marca_MERCEDES-AMG  \\\n",
       "0                   0.0                      0.0                          0.0   \n",
       "1                   0.0                      0.0                          0.0   \n",
       "2                   0.0                      0.0                          0.0   \n",
       "3                   0.0                      0.0                          0.0   \n",
       "4                   0.0                      0.0                          0.0   \n",
       "\n",
       "   vehiculo_marca_MITSUBISHI  vehiculo_marca_ZOTYE  vehiculo_marca_KIA  \\\n",
       "0                        0.0                   0.0                 0.0   \n",
       "1                        0.0                   0.0                 0.0   \n",
       "2                        0.0                   0.0                 0.0   \n",
       "3                        0.0                   0.0                 0.0   \n",
       "4                        0.0                   0.0                 0.0   \n",
       "\n",
       "   vehiculo_marca_GREAT WALL  vehiculo_marca_KYC  vehiculo_marca_FERRARI  \\\n",
       "0                        0.0                 0.0                     0.0   \n",
       "1                        0.0                 0.0                     0.0   \n",
       "2                        0.0                 0.0                     0.0   \n",
       "3                        0.0                 0.0                     0.0   \n",
       "4                        0.0                 0.0                     0.0   \n",
       "\n",
       "   vehiculo_traccion_4x4  vehiculo_traccion_4x2  vehiculo_traccion_4x2 - 4x4  \\\n",
       "0                    1.0                    0.0                          0.0   \n",
       "1                    0.0                    1.0                          0.0   \n",
       "2                    0.0                    1.0                          0.0   \n",
       "3                    1.0                    0.0                          0.0   \n",
       "4                    0.0                    1.0                          0.0   \n",
       "\n",
       "   vehiculo_tipo_transmision_AUTOMATICA  vehiculo_tipo_transmision_CVT  \\\n",
       "0                                   1.0                            0.0   \n",
       "1                                   0.0                            1.0   \n",
       "2                                   0.0                            0.0   \n",
       "3                                   0.0                            0.0   \n",
       "4                                   1.0                            0.0   \n",
       "\n",
       "   vehiculo_tipo_transmision_MANUAL  vehiculo_tipo_transmision_CTT  \\\n",
       "0                               0.0                            0.0   \n",
       "1                               0.0                            0.0   \n",
       "2                               1.0                            0.0   \n",
       "3                               1.0                            0.0   \n",
       "4                               0.0                            0.0   \n",
       "\n",
       "   vehiculo_tipo_transmision_MANUAL AUTOMATIZADA  \\\n",
       "0                                            0.0   \n",
       "1                                            0.0   \n",
       "2                                            0.0   \n",
       "3                                            0.0   \n",
       "4                                            0.0   \n",
       "\n",
       "   vehiculo_tipo_transmision_E-CVT (Hibrida controlada electrónicamente)  \\\n",
       "0                                                0.0                       \n",
       "1                                                0.0                       \n",
       "2                                                0.0                       \n",
       "3                                                0.0                       \n",
       "4                                                0.0                       \n",
       "\n",
       "   vehiculo_standard_emision_EURO V  vehiculo_standard_emision_EURO VI  \\\n",
       "0                               1.0                                0.0   \n",
       "1                               1.0                                0.0   \n",
       "2                               1.0                                0.0   \n",
       "3                               1.0                                0.0   \n",
       "4                               1.0                                0.0   \n",
       "\n",
       "   vehiculo_standard_emision_EURO VI b  vehiculo_standard_emision_EURUO V  \\\n",
       "0                                  0.0                                0.0   \n",
       "1                                  0.0                                0.0   \n",
       "2                                  0.0                                0.0   \n",
       "3                                  0.0                                0.0   \n",
       "4                                  0.0                                0.0   \n",
       "\n",
       "   vehiculo_standard_emision_EURO VI a  vehiculo_standard_emision_EURO  V  \\\n",
       "0                                  0.0                                0.0   \n",
       "1                                  0.0                                0.0   \n",
       "2                                  0.0                                0.0   \n",
       "3                                  0.0                                0.0   \n",
       "4                                  0.0                                0.0   \n",
       "\n",
       "   vehiculo_standard_emision_EURO VI c  vehiculo_standard_emision_EURO VI d  \\\n",
       "0                                  0.0                                  0.0   \n",
       "1                                  0.0                                  0.0   \n",
       "2                                  0.0                                  0.0   \n",
       "3                                  0.0                                  0.0   \n",
       "4                                  0.0                                  0.0   \n",
       "\n",
       "   vehiculo_standard_emision_EURO  VI b  vehiculo_tipo_combustible_GAS OIL  \\\n",
       "0                                   0.0                                1.0   \n",
       "1                                   0.0                                0.0   \n",
       "2                                   0.0                                0.0   \n",
       "3                                   0.0                                0.0   \n",
       "4                                   0.0                                0.0   \n",
       "\n",
       "   vehiculo_tipo_combustible_NAFTA  \\\n",
       "0                              0.0   \n",
       "1                              1.0   \n",
       "2                              1.0   \n",
       "3                              1.0   \n",
       "4                              1.0   \n",
       "\n",
       "   vehiculo_tipo_combustible_NAFTA / ELECTRICIDAD  \\\n",
       "0                                             0.0   \n",
       "1                                             0.0   \n",
       "2                                             0.0   \n",
       "3                                             0.0   \n",
       "4                                             0.0   \n",
       "\n",
       "   vehiculo_tipo_combustible_DIESEL  \n",
       "0                               0.0  \n",
       "1                               0.0  \n",
       "2                               0.0  \n",
       "3                               0.0  \n",
       "4                               0.0  "
      ]
     },
     "execution_count": 473,
     "metadata": {},
     "output_type": "execute_result"
    }
   ],
   "source": [
    "X.head()"
   ]
  },
  {
   "cell_type": "code",
   "execution_count": 474,
   "id": "numerical-halifax",
   "metadata": {},
   "outputs": [],
   "source": [
    "y = df.emision_CO2"
   ]
  },
  {
   "cell_type": "code",
   "execution_count": 475,
   "id": "choice-baptist",
   "metadata": {},
   "outputs": [
    {
     "data": {
      "text/plain": [
       "(406,)"
      ]
     },
     "execution_count": 475,
     "metadata": {},
     "output_type": "execute_result"
    }
   ],
   "source": [
    "y.shape"
   ]
  },
  {
   "cell_type": "code",
   "execution_count": 476,
   "id": "exclusive-pursuit",
   "metadata": {},
   "outputs": [
    {
     "data": {
      "text/plain": [
       "LinearRegression()"
      ]
     },
     "execution_count": 476,
     "metadata": {},
     "output_type": "execute_result"
    }
   ],
   "source": [
    "# Instanciamos el modelo\n",
    "linreg = LinearRegression()\n",
    "X_train, X_test, y_train, y_test = train_test_split(X, y, shuffle=True, random_state = 40)\n",
    "# Entrenamos el modelo \n",
    "linreg.fit(X_train, y_train)"
   ]
  },
  {
   "cell_type": "code",
   "execution_count": 477,
   "id": "identified-advocate",
   "metadata": {},
   "outputs": [],
   "source": [
    "y_pred = linreg.predict(X_test)"
   ]
  },
  {
   "cell_type": "code",
   "execution_count": 478,
   "id": "current-wholesale",
   "metadata": {},
   "outputs": [
    {
     "name": "stdout",
     "output_type": "stream",
     "text": [
      "MAE: 8.898676199860429\n",
      "MSE: 144.03456322533017\n",
      "RMSE: 12.001440047983\n"
     ]
    }
   ],
   "source": [
    "print ('MAE:', metrics.mean_absolute_error(y_test,y_pred))\n",
    "print ('MSE:', metrics.mean_squared_error(y_test,y_pred))\n",
    "print ('RMSE:', np.sqrt(metrics.mean_squared_error(y_test, y_pred)))"
   ]
  },
  {
   "cell_type": "code",
   "execution_count": 479,
   "id": "convinced-render",
   "metadata": {},
   "outputs": [
    {
     "name": "stdout",
     "output_type": "stream",
     "text": [
      "R2: 0.9278281892297295\n"
     ]
    }
   ],
   "source": [
    "print ('R2:', metrics.r2_score(y_test, y_pred))"
   ]
  },
  {
   "cell_type": "code",
   "execution_count": 480,
   "id": "adverse-violence",
   "metadata": {},
   "outputs": [
    {
     "data": {
      "image/png": "[encoded data removed]",
      "text/plain": [
       "<Figure size 432x288 with 1 Axes>"
      ]
     },
     "metadata": {
      "needs_background": "light"
     },
     "output_type": "display_data"
    },
    {
     "name": "stdout",
     "output_type": "stream",
     "text": [
      "(102,)\n",
      "(102,)\n"
     ]
    }
   ],
   "source": [
    "graf_lineal_model(X, y_test, y_pred)"
   ]
  },
  {
   "cell_type": "code",
   "execution_count": 481,
   "id": "express-typing",
   "metadata": {},
   "outputs": [],
   "source": [
    "from sklearn.model_selection import cross_val_score, cross_val_predict\n",
    "from sklearn.model_selection import GridSearchCV"
   ]
  },
  {
   "cell_type": "code",
   "execution_count": 482,
   "id": "optimum-ethiopia",
   "metadata": {},
   "outputs": [
    {
     "name": "stdout",
     "output_type": "stream",
     "text": [
      "r2 / variance :  -8.264735373294696e+26\n",
      "Residual sum of squares: 336729751424175770517372928.00\n"
     ]
    }
   ],
   "source": [
    "#X_train, X_test, y_train, y_test = cross_validation.train_test_split(data, ground_truth_data,test_size=0.3,random_state =1 )\n",
    "model = LinearRegression()\n",
    "parameters = {'fit_intercept':[True], 'normalize':[True],}\n",
    "grid = GridSearchCV(model,parameters, cv=3)\n",
    "grid.fit(X_train, y_train)\n",
    "print (\"r2 / variance : \", grid.best_score_)\n",
    "print(\"Residual sum of squares: %.2f\"% np.mean((grid.predict(X_test) - y_test) ** 2))"
   ]
  },
  {
   "cell_type": "code",
   "execution_count": 483,
   "id": "hybrid-transcript",
   "metadata": {},
   "outputs": [
    {
     "name": "stdout",
     "output_type": "stream",
     "text": [
      "r2 / variance :  -8.264735373294696e+26\n"
     ]
    }
   ],
   "source": [
    "reg = LinearRegression()\n",
    "parameters = {'fit_intercept':('True', 'False'), 'normalize':('True', 'False'), 'copy_X':('True', 'False')}\n",
    "clf3 = GridSearchCV(reg, parameters)\n",
    "clf3.fit(X, y)\n",
    "print (\"r2 / variance : \", grid.best_score_)"
   ]
  },
  {
   "cell_type": "code",
   "execution_count": 484,
   "id": "grateful-mining",
   "metadata": {},
   "outputs": [
    {
     "name": "stdout",
     "output_type": "stream",
     "text": [
      "[ 8.60986837e-01 -4.34376565e+00  6.87584689e-01 -2.91368720e+03\n",
      "  8.76054341e-01] -583.1212680081117 1165.2846763604557\n",
      "R2: 0.9278281892297295\n"
     ]
    }
   ],
   "source": [
    "scores = cross_val_score(reg, X_train, y_train, cv = 5) #cv is the number of folds, scores will give an array of scores\n",
    "print (scores, np.mean(scores), np.std(scores))\n",
    "print ('R2:', metrics.r2_score(y_test, y_pred))"
   ]
  },
  {
   "cell_type": "code",
   "execution_count": 485,
   "id": "remarkable-oxford",
   "metadata": {},
   "outputs": [
    {
     "name": "stdout",
     "output_type": "stream",
     "text": [
      "R2: 0.9824629097891908\n"
     ]
    }
   ],
   "source": [
    "predictions = cross_val_predict(reg, X_test, y_test, cv = 5)\n",
    "#predictions\n",
    "#accuracy = metrics.r2_scores(y_test, predictions)\n",
    "print ('R2:', metrics.r2_score(y_test, predictions))"
   ]
  },
  {
   "cell_type": "code",
   "execution_count": 486,
   "id": "previous-oxford",
   "metadata": {},
   "outputs": [],
   "source": [
    "def graf_lineal_model(X, y, y_pred):\n",
    "    # Graficamos el modelo\n",
    "    plt.scatter(y_pred, y, s=30, alpha=0.4, c='b')\n",
    "    plt.plot(y,y, '-.',c='g')\n",
    "    plt.show()\n",
    "    print(y.shape)\n",
    "    print(y_pred.shape)\n",
    "    return"
   ]
  },
  {
   "cell_type": "code",
   "execution_count": 487,
   "id": "rural-disaster",
   "metadata": {},
   "outputs": [
    {
     "data": {
      "image/png": "[encoded data removed]",
      "text/plain": [
       "<Figure size 432x288 with 1 Axes>"
      ]
     },
     "metadata": {
      "needs_background": "light"
     },
     "output_type": "display_data"
    },
    {
     "name": "stdout",
     "output_type": "stream",
     "text": [
      "(102,)\n",
      "(102,)\n"
     ]
    }
   ],
   "source": [
    " graf_lineal_model(X, y_test, y_pred)"
   ]
  },
  {
   "cell_type": "code",
   "execution_count": 488,
   "id": "framed-officer",
   "metadata": {},
   "outputs": [
    {
     "data": {
      "image/png": "[encoded data removed]",
      "text/plain": [
       "<Figure size 432x288 with 1 Axes>"
      ]
     },
     "metadata": {
      "needs_background": "light"
     },
     "output_type": "display_data"
    },
    {
     "name": "stdout",
     "output_type": "stream",
     "text": [
      "(102,)\n",
      "(102,)\n"
     ]
    }
   ],
   "source": [
    " graf_lineal_model(X, y_test, predictions)"
   ]
  },
  {
   "cell_type": "code",
   "execution_count": 489,
   "id": "governing-transaction",
   "metadata": {},
   "outputs": [
    {
     "data": {
      "image/png": "[encoded data removed]",
      "text/plain": [
       "<Figure size 432x288 with 1 Axes>"
      ]
     },
     "metadata": {
      "needs_background": "light"
     },
     "output_type": "display_data"
    },
    {
     "data": {
      "image/png": "[encoded data removed]",
      "text/plain": [
       "<Figure size 432x288 with 1 Axes>"
      ]
     },
     "metadata": {
      "needs_background": "light"
     },
     "output_type": "display_data"
    }
   ],
   "source": [
    "sns.distplot(y_test, bins = 20)\n",
    "plt.show()\n",
    "sns.distplot(predictions, bins = 20, color = 'red')\n",
    "plt.show()"
   ]
  },
  {
   "cell_type": "code",
   "execution_count": 490,
   "id": "alpha-flush",
   "metadata": {},
   "outputs": [
    {
     "data": {
      "image/png": "[encoded data removed]",
      "text/plain": [
       "<Figure size 720x576 with 1 Axes>"
      ]
     },
     "metadata": {
      "needs_background": "light"
     },
     "output_type": "display_data"
    }
   ],
   "source": [
    "f, ax = plt.subplots(1, figsize=(10, 8), sharex=True)\n",
    "\n",
    "sns.stripplot(y = y_test, color = 'darkmagenta', alpha = 0.7, label = 'Test')\n",
    "sns.stripplot(y = predictions, color = 'lawngreen', alpha = 0.7, label = 'Predición')\n",
    "plt.legend()\n",
    "plt.show()"
   ]
  },
  {
   "cell_type": "code",
   "execution_count": null,
   "id": "nervous-radar",
   "metadata": {},
   "outputs": [],
   "source": []
  }
 ],
 "metadata": {
  "kernelspec": {
   "display_name": "Python 3",
   "language": "python",
   "name": "python3"
  },
  "language_info": {
   "codemirror_mode": {
    "name": "ipython",
    "version": 3
   },
   "file_extension": ".py",
   "mimetype": "text/x-python",
   "name": "python",
   "nbconvert_exporter": "python",
   "pygments_lexer": "ipython3",
   "version": "3.7.7"
  }
 },
 "nbformat": 4,
 "nbformat_minor": 5
}
