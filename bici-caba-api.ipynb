{
 "cells": [
  {
   "cell_type": "code",
   "execution_count": 1,
   "id": "traditional-jacksonville",
   "metadata": {},
   "outputs": [],
   "source": [
    "from urllib.request import urlopen\n",
    "import json\n",
    "import pandas as pd\n",
    "import requests"
   ]
  },
  {
   "cell_type": "code",
   "execution_count": null,
   "id": "sonic-timber",
   "metadata": {},
   "outputs": [],
   "source": [
    "resp = requests.get('https://apitransporte.buenosaires.gob.ar/ecobici/gbfs/stationInformation?client_id=5121c01c329f42d99af2d40112b37c78&client_secret=61912FCe29fC4C9181b01689FBe5C0fD')\n",
    "txt = resp.json()\n",
    "df = pd.DataFrame(txt['data'])\n",
    "df.head()"
   ]
  },
  {
   "cell_type": "code",
   "execution_count": null,
   "id": "hispanic-publicity",
   "metadata": {},
   "outputs": [],
   "source": [
    "df = pd.json_normalize(df['stations'])"
   ]
  },
  {
   "cell_type": "code",
   "execution_count": null,
   "id": "occupational-shelter",
   "metadata": {},
   "outputs": [],
   "source": [
    "df.sample(5)"
   ]
  },
  {
   "cell_type": "code",
   "execution_count": null,
   "id": "crude-bench",
   "metadata": {},
   "outputs": [],
   "source": [
    "# Datos de Nafta Premiun\n",
    "df.to_csv(path_or_buf='Data/registros-bici-2.csv', sep=',',\n",
    "                   header=True, encoding='utf8', index=False)"
   ]
  },
  {
   "cell_type": "markdown",
   "id": "fresh-kennedy",
   "metadata": {},
   "source": [
    "Lo que se me ocurre es que podemos dropear todos los valores, y nos quedamos solo con groups y capacity para hacer un arbol."
   ]
  },
  {
   "cell_type": "code",
   "execution_count": null,
   "id": "muslim-forum",
   "metadata": {},
   "outputs": [],
   "source": [
    "#Disponibilidad de bicis en el tiempo.\n",
    "#https://apitransporte.buenosaires.gob.ar/ecobici/gbfs/stationStatus?client_id=5121c01c329f42d99af2d40112b37c78&client_secret=61912FCe29fC4C9181b01689FBe5C0fD"
   ]
  },
  {
   "cell_type": "code",
   "execution_count": null,
   "id": "trained-template",
   "metadata": {},
   "outputs": [],
   "source": [
    "resp = requests.get('https://apitransporte.buenosaires.gob.ar/ecobici/gbfs/stationStatus?client_id=5121c01c329f42d99af2d40112b37c78&client_secret=61912FCe29fC4C9181b01689FBe5C0fD')\n",
    "txt = resp.json()\n",
    "df_dis = pd.DataFrame(txt['data'])\n",
    "df_dis.head()"
   ]
  },
  {
   "cell_type": "code",
   "execution_count": null,
   "id": "quantitative-first",
   "metadata": {},
   "outputs": [],
   "source": [
    "df_dis = pd.json_normalize(df_dis['stations'])"
   ]
  },
  {
   "cell_type": "code",
   "execution_count": null,
   "id": "dietary-jewel",
   "metadata": {},
   "outputs": [],
   "source": [
    "df_dis"
   ]
  },
  {
   "cell_type": "code",
   "execution_count": null,
   "id": "victorian-miami",
   "metadata": {},
   "outputs": [],
   "source": [
    "#!pip install schedule"
   ]
  },
  {
   "cell_type": "code",
   "execution_count": 6,
   "id": "patent-printer",
   "metadata": {},
   "outputs": [],
   "source": [
    "def request_info():\n",
    "    url=\"https://apitransporte.buenosaires.gob.ar/ecobici/gbfs/stationStatus?client_id=5121c01c329f42d99af2d40112b37c78&client_secret=61912FCe29fC4C9181b01689FBe5C0fD\"\n",
    "    resp = requests.get(url)\n",
    "    txt = resp.json()\n",
    "    df_req = pd.DataFrame(txt['data'])\n",
    "    df_req = pd.json_normalize(df_req['stations'])\n",
    "    # Chequear si el archivo existe para conservar el header y que sea otro comando.. \n",
    "    # tambien se puede hacer que corra y guarde una fecha para no pisar el log.\n",
    "    df_req.to_csv(path_or_buf='Data/registros-bici-hist.csv', sep=',',\n",
    "                  encoding='utf8', index=False, header=None, mode='a')\n",
    "    return "
   ]
  },
  {
   "cell_type": "code",
   "execution_count": 4,
   "id": "pharmaceutical-comparison",
   "metadata": {},
   "outputs": [
    {
     "data": {
      "text/plain": [
       "Every 30 minutes do request_info() (last run: [never], next run: 2021-03-09 09:48:32)"
      ]
     },
     "execution_count": 4,
     "metadata": {},
     "output_type": "execute_result"
    }
   ],
   "source": [
    "import schedule\n",
    "import time\n",
    "\n",
    "schedule.every(30).minutes.do(request_info)"
   ]
  },
  {
   "cell_type": "code",
   "execution_count": null,
   "id": "circular-society",
   "metadata": {},
   "outputs": [],
   "source": [
    "while True:\n",
    "    schedule.run_pending()\n",
    "    time.sleep(1)\n"
   ]
  },
  {
   "cell_type": "code",
   "execution_count": null,
   "id": "eligible-consolidation",
   "metadata": {},
   "outputs": [],
   "source": []
  }
 ],
 "metadata": {
  "kernelspec": {
   "display_name": "Python 3",
   "language": "python",
   "name": "python3"
  },
  "language_info": {
   "codemirror_mode": {
    "name": "ipython",
    "version": 3
   },
   "file_extension": ".py",
   "mimetype": "text/x-python",
   "name": "python",
   "nbconvert_exporter": "python",
   "pygments_lexer": "ipython3",
   "version": "3.7.7"
  }
 },
 "nbformat": 4,
 "nbformat_minor": 5
}
