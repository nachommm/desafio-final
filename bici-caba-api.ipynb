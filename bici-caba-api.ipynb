{
 "cells": [
  {
   "cell_type": "code",
   "execution_count": 1,
   "id": "stuffed-transformation",
   "metadata": {},
   "outputs": [],
   "source": [
    "from urllib.request import urlopen\n",
    "import json\n",
    "import pandas as pd\n",
    "import requests"
   ]
  },
  {
   "cell_type": "code",
   "execution_count": null,
   "id": "timely-oracle",
   "metadata": {},
   "outputs": [],
   "source": [
    "resp = requests.get('https://apitransporte.buenosaires.gob.ar/ecobici/gbfs/stationInformation?client_id=5121c01c329f42d99af2d40112b37c78&client_secret=61912FCe29fC4C9181b01689FBe5C0fD')\n",
    "txt = resp.json()\n",
    "df = pd.DataFrame(txt['data'])\n",
    "df.head()"
   ]
  },
  {
   "cell_type": "code",
   "execution_count": null,
   "id": "flying-effort",
   "metadata": {},
   "outputs": [],
   "source": [
    "df = pd.json_normalize(df['stations'])"
   ]
  },
  {
   "cell_type": "code",
   "execution_count": null,
   "id": "foster-indication",
   "metadata": {},
   "outputs": [],
   "source": [
    "df.sample(5)"
   ]
  },
  {
   "cell_type": "code",
   "execution_count": null,
   "id": "handmade-monaco",
   "metadata": {},
   "outputs": [],
   "source": [
    "# Datos de Nafta Premiun\n",
    "df.to_csv(path_or_buf='Data/registros-bici-2.csv', sep=',',\n",
    "                   header=True, encoding='utf8', index=False)"
   ]
  },
  {
   "cell_type": "markdown",
   "id": "standing-documentation",
   "metadata": {},
   "source": [
    "Lo que se me ocurre es que podemos dropear todos los valores, y nos quedamos solo con groups y capacity para hacer un arbol."
   ]
  },
  {
   "cell_type": "code",
   "execution_count": null,
   "id": "steady-appreciation",
   "metadata": {},
   "outputs": [],
   "source": [
    "#Disponibilidad de bicis en el tiempo.\n",
    "#https://apitransporte.buenosaires.gob.ar/ecobici/gbfs/stationStatus?client_id=5121c01c329f42d99af2d40112b37c78&client_secret=61912FCe29fC4C9181b01689FBe5C0fD"
   ]
  },
  {
   "cell_type": "code",
   "execution_count": null,
   "id": "conventional-disorder",
   "metadata": {},
   "outputs": [],
   "source": [
    "resp = requests.get('https://apitransporte.buenosaires.gob.ar/ecobici/gbfs/stationStatus?client_id=5121c01c329f42d99af2d40112b37c78&client_secret=61912FCe29fC4C9181b01689FBe5C0fD')\n",
    "txt = resp.json()\n",
    "df_dis = pd.DataFrame(txt['data'])\n",
    "df_dis.head()"
   ]
  },
  {
   "cell_type": "code",
   "execution_count": null,
   "id": "hearing-confidentiality",
   "metadata": {},
   "outputs": [],
   "source": [
    "df_dis = pd.json_normalize(df_dis['stations'])"
   ]
  },
  {
   "cell_type": "code",
   "execution_count": null,
   "id": "structural-vietnam",
   "metadata": {},
   "outputs": [],
   "source": [
    "df_dis"
   ]
  },
  {
   "cell_type": "code",
   "execution_count": null,
   "id": "commercial-appendix",
   "metadata": {},
   "outputs": [],
   "source": [
    "#!pip install schedule"
   ]
  },
  {
   "cell_type": "code",
   "execution_count": 10,
   "id": "representative-grade",
   "metadata": {},
   "outputs": [],
   "source": [
    "def request_info():\n",
    "    url=\"https://apitransporte.buenosaires.gob.ar/ecobici/gbfs/stationStatus?client_id=5121c01c329f42d99af2d40112b37c78&client_secret=61912FCe29fC4C9181b01689FBe5C0fD\"\n",
    "    resp = requests.get(url)\n",
    "    txt = resp.json()\n",
    "    df_req = pd.DataFrame(txt['data'])\n",
    "    df_req = pd.json_normalize(df_req['stations'])\n",
    "    # Chequear si el archivo existe para conservar el header y que sea otro comando.. \n",
    "    # tambien se puede hacer que corra y guarde una fecha para no pisar el log.\n",
    "    df_req.to_csv(path_or_buf='Data/registros-bici-hist-pepe.csv', sep=',',\n",
    "                  encoding='utf8', index=False, mode='a')\n",
    "    return "
   ]
  },
  {
   "cell_type": "code",
   "execution_count": 4,
   "id": "pressing-roman",
   "metadata": {},
   "outputs": [
    {
     "data": {
      "text/plain": [
       "Every 30 minutes do request_info() (last run: [never], next run: 2021-03-09 09:48:32)"
      ]
     },
     "execution_count": 4,
     "metadata": {},
     "output_type": "execute_result"
    }
   ],
   "source": [
    "import schedule\n",
    "import time\n",
    "\n",
    "schedule.every(30).minutes.do(request_info)"
   ]
  },
  {
   "cell_type": "code",
   "execution_count": 9,
   "id": "numerous-present",
   "metadata": {},
   "outputs": [
    {
     "ename": "KeyboardInterrupt",
     "evalue": "",
     "output_type": "error",
     "traceback": [
      "\u001b[0;31m---------------------------------------------------------------------------\u001b[0m",
      "\u001b[0;31mKeyboardInterrupt\u001b[0m                         Traceback (most recent call last)",
      "\u001b[0;32m<ipython-input-9-2d78333a8181>\u001b[0m in \u001b[0;36m<module>\u001b[0;34m\u001b[0m\n\u001b[1;32m      1\u001b[0m \u001b[0;32mwhile\u001b[0m \u001b[0;32mTrue\u001b[0m\u001b[0;34m:\u001b[0m\u001b[0;34m\u001b[0m\u001b[0;34m\u001b[0m\u001b[0m\n\u001b[1;32m      2\u001b[0m     \u001b[0mschedule\u001b[0m\u001b[0;34m.\u001b[0m\u001b[0mrun_pending\u001b[0m\u001b[0;34m(\u001b[0m\u001b[0;34m)\u001b[0m\u001b[0;34m\u001b[0m\u001b[0;34m\u001b[0m\u001b[0m\n\u001b[0;32m----> 3\u001b[0;31m     \u001b[0mtime\u001b[0m\u001b[0;34m.\u001b[0m\u001b[0msleep\u001b[0m\u001b[0;34m(\u001b[0m\u001b[0;36m1\u001b[0m\u001b[0;34m)\u001b[0m\u001b[0;34m\u001b[0m\u001b[0;34m\u001b[0m\u001b[0m\n\u001b[0m",
      "\u001b[0;31mKeyboardInterrupt\u001b[0m: "
     ]
    }
   ],
   "source": [
    "#while True:\n",
    "#    schedule.run_pending()\n",
    "#    time.sleep(1)\n"
   ]
  },
  {
   "cell_type": "code",
   "execution_count": 12,
   "id": "obvious-passion",
   "metadata": {},
   "outputs": [],
   "source": [
    "request_info()"
   ]
  }
 ],
 "metadata": {
  "kernelspec": {
   "display_name": "Python 3",
   "language": "python",
   "name": "python3"
  },
  "language_info": {
   "codemirror_mode": {
    "name": "ipython",
    "version": 3
   },
   "file_extension": ".py",
   "mimetype": "text/x-python",
   "name": "python",
   "nbconvert_exporter": "python",
   "pygments_lexer": "ipython3",
   "version": "3.7.7"
  }
 },
 "nbformat": 4,
 "nbformat_minor": 5
}
