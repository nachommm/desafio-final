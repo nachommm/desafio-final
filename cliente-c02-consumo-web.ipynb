{
 "cells": [
  {
   "cell_type": "markdown",
   "metadata": {},
   "source": [
    "## Cliente ejemplo para analizar el consumo de CO2"
   ]
  },
  {
   "cell_type": "markdown",
   "metadata": {},
   "source": [
    "Importamos las librerías que vamos a utilizar"
   ]
  },
  {
   "cell_type": "code",
   "execution_count": 32,
   "metadata": {},
   "outputs": [],
   "source": [
    "# Algunas de las de siempre\n",
    "import numpy as np\n",
    "import pandas as pd\n",
    "\n",
    "# Las que vamos a necesitar para hacer los llamados y para lidiar con los datos en formato json\n",
    "import requests\n",
    "from flask import  Flask, request, jsonify, render_template\n",
    "import json\n",
    "\n"
   ]
  },
  {
   "cell_type": "markdown",
   "metadata": {},
   "source": [
    "***"
   ]
  },
  {
   "cell_type": "markdown",
   "metadata": {},
   "source": [
    "## **ENDPOINT PARA ENTRENAR:** entrenar el modelo"
   ]
  },
  {
   "cell_type": "code",
   "execution_count": 43,
   "metadata": {},
   "outputs": [],
   "source": [
    "df = pd.read_csv('Data/emision-co2-autos_limpio.csv')\n",
    "df.dropna(inplace=True)"
   ]
  },
  {
   "cell_type": "code",
   "execution_count": 44,
   "metadata": {},
   "outputs": [],
   "source": [
    "# Definimos los datos que vamos a pasar en el request\n",
    "base=df.to_json() #dataframe en formato json\n",
    "lista_predictores=df.drop(columns=['vehiculo_marca', 'vehiculo_modelo', 'vehiculo_tipo',\n",
    "                                   'vehiculo_traccion','vehiculo_potencia','lca_numero', \n",
    "                                   'vehiculo_id_motor','vehiculo_id_motor','fecha_firma',\n",
    "                                   'ensayo_gei_numero','ensayo_gei_laboratorio','id_etiqueta',\n",
    "                                  'vehiculo_tipo_transmision','vehiculo_tipo_combustible', \n",
    "                                   'vehiculo_standard_emision', 'emision_CO2']).columns.values #features para entrenar el modelo\n",
    "variable_target='emision_CO2' \n",
    "directory='/media/ignacio/DH/desafio-final' #dirección donde vamos a guardar el modelo  \n",
    "name='predecir_consumo_Co2' #nombre modelo\n",
    "\n",
    "url = 'http://localhost:5000/entrenar_modelo' #definimos la URL para hacer el llamado local con el endpoint correspondiente"
   ]
  },
  {
   "cell_type": "code",
   "execution_count": null,
   "metadata": {},
   "outputs": [],
   "source": []
  },
  {
   "cell_type": "code",
   "execution_count": 46,
   "metadata": {},
   "outputs": [
    {
     "data": {
      "text/plain": [
       "{'r2_resultado_test': 0.8430373731777071,\n",
       " 'r2_resultado_train': 0.892148002360325}"
      ]
     },
     "metadata": {},
     "output_type": "display_data"
    }
   ],
   "source": [
    "# Hacemos el pedido y vemos los resultados.\n",
    "modelo = requests.post(url,\n",
    "                       json = {'base' : base,\n",
    "                               'lista_predictores':list(lista_predictores),\n",
    "                               'target':variable_target,\n",
    "                               'directory':directory,\n",
    "                               'name':name})\n",
    "display(modelo.json())"
   ]
  },
  {
   "cell_type": "markdown",
   "metadata": {},
   "source": [
    "***"
   ]
  },
  {
   "cell_type": "markdown",
   "metadata": {},
   "source": [
    "## **SEGUNDA FUNCIÓN/ENDOPOINT:** coeficientes del modelo"
   ]
  },
  {
   "cell_type": "code",
   "execution_count": 6,
   "metadata": {},
   "outputs": [],
   "source": [
    "#Definimos los datos que vamos a pasar en el pedido\n",
    "dir_modelo='/media/ignacio/DH/modelos' #dirección donde se encuentra el modelo entrenado\n",
    "nombre_modelo='predictor_jugadores' #nombre del modelo entrenado\n",
    "palette='hot' #paleta de colores para usar en el gráfico de barras\n",
    "size=(25,8) #tamaño de la figura\n",
    "predictores=list(lista_predictores) #lista con los features en el mismo orden en el que fueron pasados en el modelo\n",
    "url = 'http://localhost:5000/plot_coeficientes' #definimos la URL para hacer el llamado local con el endpoint correspondiente"
   ]
  },
  {
   "cell_type": "code",
   "execution_count": 7,
   "metadata": {},
   "outputs": [
    {
     "name": "stdout",
     "output_type": "stream",
     "text": [
      "{\"coeficientes\":{\"potential\":4.0398941403,\"age\":3.4317419111,\"f\\u00edsico\":1.0093486869,\"amagues\":0.8443859787,\"defensa\":0.6407756637,\"ritmo\":0.5069634046,\"disparos\":0.322959432,\"pases\":0.0728771556,\"weight_kg\":0.0310999457,\"height_cm\":0.0164526487}}\n"
     ]
    }
   ],
   "source": [
    "# Hacemos el pedido e imprimimos el output\n",
    "coef = requests.post(url,\n",
    "                     json = {'direccion' : dir_modelo,\n",
    "                             'nombre_modelo':nombre_modelo,\n",
    "                             'paleta_colores':palette,\n",
    "                             'tamano':size,\n",
    "                             'predictores':predictores})\n",
    "print(coef.json())"
   ]
  },
  {
   "cell_type": "markdown",
   "metadata": {},
   "source": [
    "***"
   ]
  },
  {
   "cell_type": "markdown",
   "metadata": {},
   "source": [
    "## **TERCERA FUNCIÓN/ENDOPOINT:** predicciones"
   ]
  },
  {
   "cell_type": "code",
   "execution_count": 8,
   "metadata": {},
   "outputs": [],
   "source": [
    "#Definimos las variables que vamos a utilizar para el pedido\n",
    "direccion_modelo='/media/ignacio/DH/modelos' #dirección donde se encuentra el modelo grabado\n",
    "nombre_modelo='predictor_jugadores' #nombre del modelo grabado\n",
    "nombre_escalador='predictor_jugadores_scaler' #nombre del escalador que entrenamos cuando corrimos el modelo\n",
    "features=df.drop(columns=['ID','full_name','club','puntaje_global']).iloc[3].to_json() #elegimos features de un jugador \n",
    "#cualquiera de la base para chequear que funcione bien el llamado\n",
    "url = 'http://localhost:5000/prediccion' #definimos la URL para hacer el llamado local con el endpoint correspondiente\n"
   ]
  },
  {
   "cell_type": "code",
   "execution_count": 9,
   "metadata": {},
   "outputs": [
    {
     "name": "stdout",
     "output_type": "stream",
     "text": [
      "{'prediccion': 83.63296997609625}\n"
     ]
    }
   ],
   "source": [
    "#Hacemos el llamado\n",
    "pred = requests.get(url, \n",
    "                    params = {'direccion':direccion_modelo,\n",
    "                              'nombre_modelo':nombre_modelo,\n",
    "                              'nombre_scalador':nombre_escalador,\n",
    "                              'features':[features]})\n",
    "print(pred.json())"
   ]
  },
  {
   "cell_type": "markdown",
   "metadata": {},
   "source": [
    "### ¡Ahí tenemos nuestra predicción! ¡Congrats!\n",
    "<img src=\"img/we_did_it.jpg\" alt=\"Drawing\" style=\"width: 300px;\"/>"
   ]
  }
 ],
 "metadata": {
  "kernelspec": {
   "display_name": "Python 3",
   "language": "python",
   "name": "python3"
  },
  "language_info": {
   "codemirror_mode": {
    "name": "ipython",
    "version": 3
   },
   "file_extension": ".py",
   "mimetype": "text/x-python",
   "name": "python",
   "nbconvert_exporter": "python",
   "pygments_lexer": "ipython3",
   "version": "3.7.7"
  }
 },
 "nbformat": 4,
 "nbformat_minor": 4
}
