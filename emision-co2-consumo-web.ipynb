{
 "cells": [
  {
   "cell_type": "code",
   "execution_count": 1,
   "id": "outstanding-coaching",
   "metadata": {},
   "outputs": [],
   "source": [
    "import pandas as pd\n",
    "import numpy as np\n",
    "from datetime import datetime\n",
    "\n",
    "import matplotlib.pyplot as plt\n",
    "import matplotlib as mpl\n",
    "import seaborn as sns\n",
    "%matplotlib inline\n",
    "\n",
    "import statsmodels.api as sm\n",
    "import statsmodels.formula.api as smf\n",
    "import statsmodels.tsa.api as smt\n",
    "\n",
    "from scipy import stats\n",
    "from statistics import mode"
   ]
  },
  {
   "cell_type": "code",
   "execution_count": 2,
   "id": "dense-paintball",
   "metadata": {},
   "outputs": [],
   "source": [
    "df = pd.read_csv('Data/emision-co2-autos_limpio.csv')\n",
    "\n",
    "#link http://datos.ambiente.gob.ar/dataset?tags=CO2&tags=Emisiones"
   ]
  },
  {
   "cell_type": "code",
   "execution_count": 3,
   "id": "polyphonic-collapse",
   "metadata": {},
   "outputs": [
    {
     "data": {
      "text/html": [
       "<div>\n",
       "<style scoped>\n",
       "    .dataframe tbody tr th:only-of-type {\n",
       "        vertical-align: middle;\n",
       "    }\n",
       "\n",
       "    .dataframe tbody tr th {\n",
       "        vertical-align: top;\n",
       "    }\n",
       "\n",
       "    .dataframe thead th {\n",
       "        text-align: right;\n",
       "    }\n",
       "</style>\n",
       "<table border=\"1\" class=\"dataframe\">\n",
       "  <thead>\n",
       "    <tr style=\"text-align: right;\">\n",
       "      <th></th>\n",
       "      <th>vehiculo_marca</th>\n",
       "      <th>vehiculo_modelo</th>\n",
       "      <th>vehiculo_tipo</th>\n",
       "      <th>vehiculo_traccion</th>\n",
       "      <th>vehiculo_id_motor</th>\n",
       "      <th>vehiculo_cilindrada</th>\n",
       "      <th>vehiculo_potencia</th>\n",
       "      <th>vehiculo_tipo_transmision</th>\n",
       "      <th>vehiculo_tipo_combustible</th>\n",
       "      <th>vehiculo_standard_emision</th>\n",
       "      <th>lca_numero</th>\n",
       "      <th>fecha_firma</th>\n",
       "      <th>ensayo_gei_numero</th>\n",
       "      <th>ensayo_gei_laboratorio</th>\n",
       "      <th>emision_CO2</th>\n",
       "      <th>consumo_urbano</th>\n",
       "      <th>consumo_extraurbano</th>\n",
       "      <th>consumo_mixto</th>\n",
       "      <th>id_etiqueta</th>\n",
       "    </tr>\n",
       "  </thead>\n",
       "  <tbody>\n",
       "    <tr>\n",
       "      <th>0</th>\n",
       "      <td>TOYOTA</td>\n",
       "      <td>LAND CRUISER 200</td>\n",
       "      <td>SUV</td>\n",
       "      <td>4x4</td>\n",
       "      <td>TOYOTA 1VD-FTV</td>\n",
       "      <td>4461.0</td>\n",
       "      <td>NaN</td>\n",
       "      <td>AUTOMATICA</td>\n",
       "      <td>GAS OIL</td>\n",
       "      <td>EURO V</td>\n",
       "      <td>NaN</td>\n",
       "      <td>04/10/2017</td>\n",
       "      <td>H1860666086/241</td>\n",
       "      <td>VINÇOTTE nv</td>\n",
       "      <td>260.70</td>\n",
       "      <td>11.56</td>\n",
       "      <td>8.94</td>\n",
       "      <td>9.90</td>\n",
       "      <td>000001A</td>\n",
       "    </tr>\n",
       "    <tr>\n",
       "      <th>1</th>\n",
       "      <td>RENAULT</td>\n",
       "      <td>FLUENCE 2.0 16V</td>\n",
       "      <td>SEDÁN 4 PUERTAS</td>\n",
       "      <td>4x2</td>\n",
       "      <td>RENAULT M4RK7</td>\n",
       "      <td>1997.0</td>\n",
       "      <td>NaN</td>\n",
       "      <td>CVT</td>\n",
       "      <td>NAFTA</td>\n",
       "      <td>EURO V</td>\n",
       "      <td>NaN</td>\n",
       "      <td>22/06/2016</td>\n",
       "      <td>09/09790</td>\n",
       "      <td>UTAC</td>\n",
       "      <td>175.40</td>\n",
       "      <td>10.50</td>\n",
       "      <td>6.10</td>\n",
       "      <td>7.70</td>\n",
       "      <td>000178A</td>\n",
       "    </tr>\n",
       "    <tr>\n",
       "      <th>2</th>\n",
       "      <td>RENAULT</td>\n",
       "      <td>DUSTER 2.0 16v</td>\n",
       "      <td>SEDÁN 5 PUERTAS</td>\n",
       "      <td>4x2</td>\n",
       "      <td>RENAULT F4R E4</td>\n",
       "      <td>1998.0</td>\n",
       "      <td>105</td>\n",
       "      <td>MANUAL</td>\n",
       "      <td>NAFTA</td>\n",
       "      <td>EURO V</td>\n",
       "      <td>NaN</td>\n",
       "      <td>NaN</td>\n",
       "      <td>R1-0210/17</td>\n",
       "      <td>DELPHI</td>\n",
       "      <td>198.86</td>\n",
       "      <td>11.13</td>\n",
       "      <td>6.98</td>\n",
       "      <td>8.52</td>\n",
       "      <td>000650C</td>\n",
       "    </tr>\n",
       "    <tr>\n",
       "      <th>3</th>\n",
       "      <td>RENAULT</td>\n",
       "      <td>DUSTER 2.0 16v 4X4</td>\n",
       "      <td>SEDÁN 5 PUERTAS</td>\n",
       "      <td>4x4</td>\n",
       "      <td>RENAULT F4R E4</td>\n",
       "      <td>1998.0</td>\n",
       "      <td>105</td>\n",
       "      <td>MANUAL</td>\n",
       "      <td>NAFTA</td>\n",
       "      <td>EURO V</td>\n",
       "      <td>NaN</td>\n",
       "      <td>NaN</td>\n",
       "      <td>R1-0209/17</td>\n",
       "      <td>DELPHI</td>\n",
       "      <td>199.74</td>\n",
       "      <td>11.20</td>\n",
       "      <td>7.01</td>\n",
       "      <td>8.55</td>\n",
       "      <td>000659C</td>\n",
       "    </tr>\n",
       "    <tr>\n",
       "      <th>4</th>\n",
       "      <td>CITROËN</td>\n",
       "      <td>DS4</td>\n",
       "      <td>COUPÉ 3 + 2 PUERTAS</td>\n",
       "      <td>4x2</td>\n",
       "      <td>CITROËN EP6CDTM (5FM)</td>\n",
       "      <td>1598.0</td>\n",
       "      <td>NaN</td>\n",
       "      <td>AUTOMATICA</td>\n",
       "      <td>NAFTA</td>\n",
       "      <td>EURO V</td>\n",
       "      <td>NaN</td>\n",
       "      <td>11/10/2011</td>\n",
       "      <td>11/04511</td>\n",
       "      <td>UTAC</td>\n",
       "      <td>177.60</td>\n",
       "      <td>10.60</td>\n",
       "      <td>6.00</td>\n",
       "      <td>7.70</td>\n",
       "      <td>000106A</td>\n",
       "    </tr>\n",
       "  </tbody>\n",
       "</table>\n",
       "</div>"
      ],
      "text/plain": [
       "  vehiculo_marca     vehiculo_modelo        vehiculo_tipo vehiculo_traccion  \\\n",
       "0         TOYOTA    LAND CRUISER 200                  SUV               4x4   \n",
       "1        RENAULT     FLUENCE 2.0 16V      SEDÁN 4 PUERTAS               4x2   \n",
       "2        RENAULT      DUSTER 2.0 16v      SEDÁN 5 PUERTAS               4x2   \n",
       "3        RENAULT  DUSTER 2.0 16v 4X4      SEDÁN 5 PUERTAS               4x4   \n",
       "4        CITROËN                 DS4  COUPÉ 3 + 2 PUERTAS               4x2   \n",
       "\n",
       "       vehiculo_id_motor  vehiculo_cilindrada vehiculo_potencia  \\\n",
       "0         TOYOTA 1VD-FTV               4461.0               NaN   \n",
       "1          RENAULT M4RK7               1997.0               NaN   \n",
       "2         RENAULT F4R E4               1998.0               105   \n",
       "3         RENAULT F4R E4               1998.0               105   \n",
       "4  CITROËN EP6CDTM (5FM)               1598.0               NaN   \n",
       "\n",
       "  vehiculo_tipo_transmision vehiculo_tipo_combustible  \\\n",
       "0                AUTOMATICA                   GAS OIL   \n",
       "1                       CVT                     NAFTA   \n",
       "2                    MANUAL                     NAFTA   \n",
       "3                    MANUAL                     NAFTA   \n",
       "4                AUTOMATICA                     NAFTA   \n",
       "\n",
       "  vehiculo_standard_emision  lca_numero fecha_firma ensayo_gei_numero  \\\n",
       "0                    EURO V         NaN  04/10/2017   H1860666086/241   \n",
       "1                    EURO V         NaN  22/06/2016          09/09790   \n",
       "2                    EURO V         NaN         NaN        R1-0210/17   \n",
       "3                    EURO V         NaN         NaN        R1-0209/17   \n",
       "4                    EURO V         NaN  11/10/2011          11/04511   \n",
       "\n",
       "  ensayo_gei_laboratorio  emision_CO2  consumo_urbano  consumo_extraurbano  \\\n",
       "0            VINÇOTTE nv       260.70           11.56                 8.94   \n",
       "1                   UTAC       175.40           10.50                 6.10   \n",
       "2                 DELPHI       198.86           11.13                 6.98   \n",
       "3                 DELPHI       199.74           11.20                 7.01   \n",
       "4                   UTAC       177.60           10.60                 6.00   \n",
       "\n",
       "   consumo_mixto id_etiqueta  \n",
       "0           9.90     000001A  \n",
       "1           7.70     000178A  \n",
       "2           8.52     000650C  \n",
       "3           8.55     000659C  \n",
       "4           7.70     000106A  "
      ]
     },
     "execution_count": 3,
     "metadata": {},
     "output_type": "execute_result"
    }
   ],
   "source": [
    "df.head()"
   ]
  },
  {
   "cell_type": "code",
   "execution_count": 4,
   "id": "standard-poetry",
   "metadata": {},
   "outputs": [
    {
     "data": {
      "text/plain": [
       "vehiculo_marca                object\n",
       "vehiculo_modelo               object\n",
       "vehiculo_tipo                 object\n",
       "vehiculo_traccion             object\n",
       "vehiculo_id_motor             object\n",
       "vehiculo_cilindrada          float64\n",
       "vehiculo_potencia             object\n",
       "vehiculo_tipo_transmision     object\n",
       "vehiculo_tipo_combustible     object\n",
       "vehiculo_standard_emision     object\n",
       "lca_numero                   float64\n",
       "fecha_firma                   object\n",
       "ensayo_gei_numero             object\n",
       "ensayo_gei_laboratorio        object\n",
       "emision_CO2                  float64\n",
       "consumo_urbano               float64\n",
       "consumo_extraurbano          float64\n",
       "consumo_mixto                float64\n",
       "id_etiqueta                   object\n",
       "dtype: object"
      ]
     },
     "execution_count": 4,
     "metadata": {},
     "output_type": "execute_result"
    }
   ],
   "source": [
    "df.dtypes"
   ]
  },
  {
   "cell_type": "code",
   "execution_count": 5,
   "id": "wicked-knife",
   "metadata": {},
   "outputs": [
    {
     "data": {
      "text/plain": [
       "(432, 19)"
      ]
     },
     "execution_count": 5,
     "metadata": {},
     "output_type": "execute_result"
    }
   ],
   "source": [
    "df.shape"
   ]
  },
  {
   "cell_type": "code",
   "execution_count": 6,
   "id": "instrumental-saturday",
   "metadata": {},
   "outputs": [
    {
     "data": {
      "text/plain": [
       "332"
      ]
     },
     "execution_count": 6,
     "metadata": {},
     "output_type": "execute_result"
    }
   ],
   "source": [
    "# Total de datos faltantes\n",
    "df.isna().any(axis=1).sum()"
   ]
  },
  {
   "cell_type": "code",
   "execution_count": 7,
   "id": "average-auction",
   "metadata": {},
   "outputs": [
    {
     "data": {
      "text/plain": [
       "vehiculo_marca                20\n",
       "vehiculo_modelo               20\n",
       "vehiculo_tipo                 20\n",
       "vehiculo_traccion             20\n",
       "vehiculo_id_motor             20\n",
       "vehiculo_cilindrada           21\n",
       "vehiculo_potencia            307\n",
       "vehiculo_tipo_transmision     15\n",
       "vehiculo_tipo_combustible     14\n",
       "vehiculo_standard_emision     21\n",
       "lca_numero                   139\n",
       "fecha_firma                   28\n",
       "ensayo_gei_numero             20\n",
       "ensayo_gei_laboratorio        20\n",
       "emision_CO2                   20\n",
       "consumo_urbano                22\n",
       "consumo_extraurbano           22\n",
       "consumo_mixto                 20\n",
       "id_etiqueta                   20\n",
       "dtype: int64"
      ]
     },
     "execution_count": 7,
     "metadata": {},
     "output_type": "execute_result"
    }
   ],
   "source": [
    "# Datos faltantes por columna\n",
    "df.isna().sum()"
   ]
  },
  {
   "cell_type": "code",
   "execution_count": 8,
   "id": "insured-garage",
   "metadata": {},
   "outputs": [],
   "source": [
    "# Elimino las columnas con mayor cantidad de datos faltantes y las que considero que no voy a utilizar para el análisis\n",
    "df.drop(['vehiculo_potencia','lca_numero', 'vehiculo_id_motor','vehiculo_id_motor','fecha_firma','ensayo_gei_numero','ensayo_gei_laboratorio','id_etiqueta'], axis=1, inplace=True)"
   ]
  },
  {
   "cell_type": "code",
   "execution_count": 9,
   "id": "wanted-operations",
   "metadata": {},
   "outputs": [
    {
     "data": {
      "text/plain": [
       "(432, 12)"
      ]
     },
     "execution_count": 9,
     "metadata": {},
     "output_type": "execute_result"
    }
   ],
   "source": [
    "df.shape"
   ]
  },
  {
   "cell_type": "code",
   "execution_count": 10,
   "id": "prospective-citizen",
   "metadata": {},
   "outputs": [
    {
     "data": {
      "text/plain": [
       "26"
      ]
     },
     "execution_count": 10,
     "metadata": {},
     "output_type": "execute_result"
    }
   ],
   "source": [
    "df.isna().any(axis=1).sum()"
   ]
  },
  {
   "cell_type": "code",
   "execution_count": 11,
   "id": "classified-subsection",
   "metadata": {},
   "outputs": [],
   "source": [
    "df.dropna(inplace=True)"
   ]
  },
  {
   "cell_type": "code",
   "execution_count": 12,
   "id": "permanent-blogger",
   "metadata": {},
   "outputs": [
    {
     "data": {
      "text/plain": [
       "vehiculo_marca               0\n",
       "vehiculo_modelo              0\n",
       "vehiculo_tipo                0\n",
       "vehiculo_traccion            0\n",
       "vehiculo_cilindrada          0\n",
       "vehiculo_tipo_transmision    0\n",
       "vehiculo_tipo_combustible    0\n",
       "vehiculo_standard_emision    0\n",
       "emision_CO2                  0\n",
       "consumo_urbano               0\n",
       "consumo_extraurbano          0\n",
       "consumo_mixto                0\n",
       "dtype: int64"
      ]
     },
     "execution_count": 12,
     "metadata": {},
     "output_type": "execute_result"
    }
   ],
   "source": [
    "df.isna().sum()"
   ]
  },
  {
   "cell_type": "code",
   "execution_count": 13,
   "id": "painted-definition",
   "metadata": {},
   "outputs": [
    {
     "data": {
      "text/html": [
       "<div>\n",
       "<style scoped>\n",
       "    .dataframe tbody tr th:only-of-type {\n",
       "        vertical-align: middle;\n",
       "    }\n",
       "\n",
       "    .dataframe tbody tr th {\n",
       "        vertical-align: top;\n",
       "    }\n",
       "\n",
       "    .dataframe thead th {\n",
       "        text-align: right;\n",
       "    }\n",
       "</style>\n",
       "<table border=\"1\" class=\"dataframe\">\n",
       "  <thead>\n",
       "    <tr style=\"text-align: right;\">\n",
       "      <th></th>\n",
       "      <th>vehiculo_marca</th>\n",
       "      <th>vehiculo_modelo</th>\n",
       "      <th>vehiculo_tipo</th>\n",
       "      <th>vehiculo_traccion</th>\n",
       "      <th>vehiculo_cilindrada</th>\n",
       "      <th>vehiculo_tipo_transmision</th>\n",
       "      <th>vehiculo_tipo_combustible</th>\n",
       "      <th>vehiculo_standard_emision</th>\n",
       "      <th>emision_CO2</th>\n",
       "      <th>consumo_urbano</th>\n",
       "      <th>consumo_extraurbano</th>\n",
       "      <th>consumo_mixto</th>\n",
       "    </tr>\n",
       "  </thead>\n",
       "  <tbody>\n",
       "    <tr>\n",
       "      <th>0</th>\n",
       "      <td>TOYOTA</td>\n",
       "      <td>LAND CRUISER 200</td>\n",
       "      <td>SUV</td>\n",
       "      <td>4x4</td>\n",
       "      <td>4461.0</td>\n",
       "      <td>AUTOMATICA</td>\n",
       "      <td>GAS OIL</td>\n",
       "      <td>EURO V</td>\n",
       "      <td>260.70</td>\n",
       "      <td>11.56</td>\n",
       "      <td>8.94</td>\n",
       "      <td>9.90</td>\n",
       "    </tr>\n",
       "    <tr>\n",
       "      <th>1</th>\n",
       "      <td>RENAULT</td>\n",
       "      <td>FLUENCE 2.0 16V</td>\n",
       "      <td>SEDÁN 4 PUERTAS</td>\n",
       "      <td>4x2</td>\n",
       "      <td>1997.0</td>\n",
       "      <td>CVT</td>\n",
       "      <td>NAFTA</td>\n",
       "      <td>EURO V</td>\n",
       "      <td>175.40</td>\n",
       "      <td>10.50</td>\n",
       "      <td>6.10</td>\n",
       "      <td>7.70</td>\n",
       "    </tr>\n",
       "    <tr>\n",
       "      <th>2</th>\n",
       "      <td>RENAULT</td>\n",
       "      <td>DUSTER 2.0 16v</td>\n",
       "      <td>SEDÁN 5 PUERTAS</td>\n",
       "      <td>4x2</td>\n",
       "      <td>1998.0</td>\n",
       "      <td>MANUAL</td>\n",
       "      <td>NAFTA</td>\n",
       "      <td>EURO V</td>\n",
       "      <td>198.86</td>\n",
       "      <td>11.13</td>\n",
       "      <td>6.98</td>\n",
       "      <td>8.52</td>\n",
       "    </tr>\n",
       "    <tr>\n",
       "      <th>3</th>\n",
       "      <td>RENAULT</td>\n",
       "      <td>DUSTER 2.0 16v 4X4</td>\n",
       "      <td>SEDÁN 5 PUERTAS</td>\n",
       "      <td>4x4</td>\n",
       "      <td>1998.0</td>\n",
       "      <td>MANUAL</td>\n",
       "      <td>NAFTA</td>\n",
       "      <td>EURO V</td>\n",
       "      <td>199.74</td>\n",
       "      <td>11.20</td>\n",
       "      <td>7.01</td>\n",
       "      <td>8.55</td>\n",
       "    </tr>\n",
       "    <tr>\n",
       "      <th>4</th>\n",
       "      <td>CITROËN</td>\n",
       "      <td>DS4</td>\n",
       "      <td>COUPÉ 3 + 2 PUERTAS</td>\n",
       "      <td>4x2</td>\n",
       "      <td>1598.0</td>\n",
       "      <td>AUTOMATICA</td>\n",
       "      <td>NAFTA</td>\n",
       "      <td>EURO V</td>\n",
       "      <td>177.60</td>\n",
       "      <td>10.60</td>\n",
       "      <td>6.00</td>\n",
       "      <td>7.70</td>\n",
       "    </tr>\n",
       "  </tbody>\n",
       "</table>\n",
       "</div>"
      ],
      "text/plain": [
       "  vehiculo_marca     vehiculo_modelo        vehiculo_tipo vehiculo_traccion  \\\n",
       "0         TOYOTA    LAND CRUISER 200                  SUV               4x4   \n",
       "1        RENAULT     FLUENCE 2.0 16V      SEDÁN 4 PUERTAS               4x2   \n",
       "2        RENAULT      DUSTER 2.0 16v      SEDÁN 5 PUERTAS               4x2   \n",
       "3        RENAULT  DUSTER 2.0 16v 4X4      SEDÁN 5 PUERTAS               4x4   \n",
       "4        CITROËN                 DS4  COUPÉ 3 + 2 PUERTAS               4x2   \n",
       "\n",
       "   vehiculo_cilindrada vehiculo_tipo_transmision vehiculo_tipo_combustible  \\\n",
       "0               4461.0                AUTOMATICA                   GAS OIL   \n",
       "1               1997.0                       CVT                     NAFTA   \n",
       "2               1998.0                    MANUAL                     NAFTA   \n",
       "3               1998.0                    MANUAL                     NAFTA   \n",
       "4               1598.0                AUTOMATICA                     NAFTA   \n",
       "\n",
       "  vehiculo_standard_emision  emision_CO2  consumo_urbano  consumo_extraurbano  \\\n",
       "0                    EURO V       260.70           11.56                 8.94   \n",
       "1                    EURO V       175.40           10.50                 6.10   \n",
       "2                    EURO V       198.86           11.13                 6.98   \n",
       "3                    EURO V       199.74           11.20                 7.01   \n",
       "4                    EURO V       177.60           10.60                 6.00   \n",
       "\n",
       "   consumo_mixto  \n",
       "0           9.90  \n",
       "1           7.70  \n",
       "2           8.52  \n",
       "3           8.55  \n",
       "4           7.70  "
      ]
     },
     "execution_count": 13,
     "metadata": {},
     "output_type": "execute_result"
    }
   ],
   "source": [
    "df.head()"
   ]
  },
  {
   "cell_type": "code",
   "execution_count": 14,
   "id": "narrative-homework",
   "metadata": {},
   "outputs": [
    {
     "data": {
      "text/plain": [
       "MERCEDES-BENZ        31\n",
       "HYUNDAI              31\n",
       "CHEVROLET            25\n",
       "BMW                  23\n",
       "AUDI                 21\n",
       "TOYOTA               20\n",
       "FORD                 18\n",
       "RENAULT              17\n",
       "FIAT                 17\n",
       "MINI                 16\n",
       "VOLKSWAGEN           15\n",
       "HONDA                15\n",
       "PEUGEOT              13\n",
       "NISSAN               12\n",
       "CITROËN              10\n",
       "CHANGAN               9\n",
       "LEXUS                 8\n",
       "LIFAN                 8\n",
       "JEEP                  7\n",
       "SUZUKI                7\n",
       "LAND ROVER            6\n",
       "PEUGEOT / CITROËN     6\n",
       "FAW                   5\n",
       "MASERATI              4\n",
       "BORGWARD              4\n",
       "BAIC                  4\n",
       "ZOTYE                 4\n",
       "DOMY                  4\n",
       "JAC                   4\n",
       "ALFA ROMEO            4\n",
       "KIA                   3\n",
       "HAVAL                 3\n",
       "MITSUBISHI            3\n",
       "DS                    3\n",
       "PORSCHE               3\n",
       "VOLVO                 2\n",
       "FOTON                 2\n",
       "CITROËN / DS          2\n",
       "ZANELLA               2\n",
       "SUBARU                2\n",
       "MERCEDES-AMG          2\n",
       "RAM                   2\n",
       "ISUZU                 2\n",
       "CHERY                 2\n",
       "SHINERAY              1\n",
       "DONGFENG              1\n",
       "KYC                   1\n",
       "GREAT WALL            1\n",
       "FERRARI               1\n",
       "Name: vehiculo_marca, dtype: int64"
      ]
     },
     "execution_count": 14,
     "metadata": {},
     "output_type": "execute_result"
    }
   ],
   "source": [
    "df['vehiculo_marca'].value_counts()"
   ]
  },
  {
   "cell_type": "code",
   "execution_count": 15,
   "id": "native-alabama",
   "metadata": {},
   "outputs": [
    {
     "data": {
      "text/plain": [
       "SEDÁN 4 PUERTAS                                            39\n",
       "SEDÁN 5 PUERTAS                                            38\n",
       "RURAL                                                      29\n",
       "SUV                                                        28\n",
       "BERLINA                                                    21\n",
       "                                                           ..\n",
       "SEDÁN 5 PUERTAS / COUPÉ                                     1\n",
       "CHASIS CON CABINA SIMPLE                                    1\n",
       "MONOVOLÚMEN 4 PUERTAS Y PORTÓN TRASERO (5 / 7 ASIENTOS)     1\n",
       "DE CARGA CABINA DOBLE                                       1\n",
       "PICK UP CABINA SIMPLE DOBLE                                 1\n",
       "Name: vehiculo_tipo, Length: 98, dtype: int64"
      ]
     },
     "execution_count": 15,
     "metadata": {},
     "output_type": "execute_result"
    }
   ],
   "source": [
    "df['vehiculo_tipo'].value_counts()"
   ]
  },
  {
   "cell_type": "code",
   "execution_count": 16,
   "id": "functioning-shopper",
   "metadata": {},
   "outputs": [
    {
     "data": {
      "text/plain": [
       "4x2          286\n",
       "4x4           95\n",
       "4x2 - 4x4     25\n",
       "Name: vehiculo_traccion, dtype: int64"
      ]
     },
     "execution_count": 16,
     "metadata": {},
     "output_type": "execute_result"
    }
   ],
   "source": [
    "df['vehiculo_traccion'].value_counts()"
   ]
  },
  {
   "cell_type": "code",
   "execution_count": 17,
   "id": "aware-wrapping",
   "metadata": {},
   "outputs": [
    {
     "data": {
      "text/plain": [
       "AUTOMATICA                                     223\n",
       "MANUAL                                         147\n",
       "CVT                                             33\n",
       "E-CVT (Hibrida controlada electrónicamente)      1\n",
       "CTT                                              1\n",
       "MANUAL AUTOMATIZADA                              1\n",
       "Name: vehiculo_tipo_transmision, dtype: int64"
      ]
     },
     "execution_count": 17,
     "metadata": {},
     "output_type": "execute_result"
    }
   ],
   "source": [
    "df['vehiculo_tipo_transmision'].value_counts()"
   ]
  },
  {
   "cell_type": "code",
   "execution_count": 18,
   "id": "northern-dylan",
   "metadata": {},
   "outputs": [
    {
     "data": {
      "text/plain": [
       "NAFTA                   316\n",
       "GAS OIL                  61\n",
       "NAFTA / ELECTRICIDAD     25\n",
       "DIESEL                    4\n",
       "Name: vehiculo_tipo_combustible, dtype: int64"
      ]
     },
     "execution_count": 18,
     "metadata": {},
     "output_type": "execute_result"
    }
   ],
   "source": [
    "df['vehiculo_tipo_combustible'].value_counts()"
   ]
  },
  {
   "cell_type": "code",
   "execution_count": 19,
   "id": "metropolitan-circulation",
   "metadata": {},
   "outputs": [
    {
     "data": {
      "text/plain": [
       "EURO V        264\n",
       "EURO VI b      49\n",
       "EURO VI c      39\n",
       "EURO VI        24\n",
       "EURO  V        18\n",
       "EURO VI d       5\n",
       "EURO VI a       5\n",
       "EURO  VI b      1\n",
       "EURUO V         1\n",
       "Name: vehiculo_standard_emision, dtype: int64"
      ]
     },
     "execution_count": 19,
     "metadata": {},
     "output_type": "execute_result"
    }
   ],
   "source": [
    "df['vehiculo_standard_emision'].value_counts()"
   ]
  },
  {
   "cell_type": "code",
   "execution_count": 20,
   "id": "surface-brand",
   "metadata": {},
   "outputs": [
    {
     "data": {
      "text/plain": [
       "Index(['vehiculo_marca', 'vehiculo_modelo', 'vehiculo_tipo',\n",
       "       'vehiculo_traccion', 'vehiculo_cilindrada', 'vehiculo_tipo_transmision',\n",
       "       'vehiculo_tipo_combustible', 'vehiculo_standard_emision', 'emision_CO2',\n",
       "       'consumo_urbano', 'consumo_extraurbano', 'consumo_mixto'],\n",
       "      dtype='object')"
      ]
     },
     "execution_count": 20,
     "metadata": {},
     "output_type": "execute_result"
    }
   ],
   "source": [
    "df.columns\n"
   ]
  },
  {
   "cell_type": "code",
   "execution_count": 21,
   "id": "elect-court",
   "metadata": {},
   "outputs": [],
   "source": [
    "from sklearn.linear_model import LinearRegression\n",
    "from sklearn import metrics\n",
    "from sklearn.model_selection import train_test_split"
   ]
  },
  {
   "cell_type": "code",
   "execution_count": 22,
   "id": "egyptian-conservative",
   "metadata": {},
   "outputs": [],
   "source": [
    "feature_cols = [ 'vehiculo_cilindrada', 'consumo_urbano', 'consumo_extraurbano', 'consumo_mixto']"
   ]
  },
  {
   "cell_type": "code",
   "execution_count": 23,
   "id": "vulnerable-component",
   "metadata": {},
   "outputs": [],
   "source": [
    "X = df[feature_cols]\n",
    "y = df.emision_CO2"
   ]
  },
  {
   "cell_type": "code",
   "execution_count": 24,
   "id": "brief-firewall",
   "metadata": {},
   "outputs": [
    {
     "data": {
      "text/plain": [
       "LinearRegression()"
      ]
     },
     "execution_count": 24,
     "metadata": {},
     "output_type": "execute_result"
    }
   ],
   "source": [
    "# Instanciamos el modelo\n",
    "linreg = LinearRegression()\n",
    "\n",
    "X_train, X_test, y_train, y_test = train_test_split(X, y, shuffle=True, random_state=40)\n",
    "\n",
    "# Entrenamos el modelo \n",
    "linreg.fit(X_train, y_train)"
   ]
  },
  {
   "cell_type": "code",
   "execution_count": 25,
   "id": "covered-continent",
   "metadata": {},
   "outputs": [],
   "source": [
    "y_pred = linreg.predict(X_test)"
   ]
  },
  {
   "cell_type": "code",
   "execution_count": 26,
   "id": "falling-graphics",
   "metadata": {},
   "outputs": [
    {
     "name": "stdout",
     "output_type": "stream",
     "text": [
      "R2: 0.9140232414926369\n"
     ]
    }
   ],
   "source": [
    "print ('R2:', metrics.r2_score(y_test, y_pred))"
   ]
  },
  {
   "cell_type": "code",
   "execution_count": 27,
   "id": "billion-beginning",
   "metadata": {},
   "outputs": [
    {
     "name": "stdout",
     "output_type": "stream",
     "text": [
      "9.375827227885566\n",
      "[7.49369982e-03 8.97130258e-01 2.29124687e+01 5.35363191e-04]\n"
     ]
    }
   ],
   "source": [
    "# Imprimimos coeficientes\n",
    "print (linreg.intercept_)\n",
    "print (linreg.coef_)"
   ]
  },
  {
   "cell_type": "code",
   "execution_count": 28,
   "id": "coastal-guarantee",
   "metadata": {},
   "outputs": [
    {
     "data": {
      "image/png": "[encoded data removed]",
      "text/plain": [
       "<Figure size 432x288 with 2 Axes>"
      ]
     },
     "metadata": {
      "needs_background": "light"
     },
     "output_type": "display_data"
    }
   ],
   "source": [
    "sns.heatmap(df.corr(), vmin=-1, vmax=1, center=0, cmap=\"YlGnBu\");"
   ]
  },
  {
   "cell_type": "code",
   "execution_count": 29,
   "id": "enabling-consequence",
   "metadata": {},
   "outputs": [
    {
     "name": "stdout",
     "output_type": "stream",
     "text": [
      "R2: 0.9140232414926369\n"
     ]
    }
   ],
   "source": [
    "from sklearn import metrics\n",
    "#print ('MAE:', metrics.mean_absolute_error(true, pred))\n",
    "#print ('MSE:', metrics.mean_squared_error(true, pred))\n",
    "#print ('RMSE:', np.sqrt(metrics.mean_squared_error(true, pred)))\n",
    "print ('R2:', metrics.r2_score(y_test, y_pred))"
   ]
  },
  {
   "cell_type": "code",
   "execution_count": 30,
   "id": "utility-diagnosis",
   "metadata": {},
   "outputs": [],
   "source": [
    "from sklearn.model_selection import train_test_split\n",
    "\n",
    "def train_test_rmse(feature_cols):\n",
    "    X = df[feature_cols]\n",
    "    y = df.emision_CO2\n",
    "    # Como estamos trabajando con observaciones ordenadas en el tiempo, ponemos\n",
    "    # shuffle=False para evitar data leakage\n",
    "    X_train, X_test, y_train, y_test = train_test_split(X, y, shuffle=True)\n",
    "    linreg = LinearRegression()\n",
    "    linreg.fit(X_train, y_train)\n",
    "    y_pred = linreg.predict(X_test)\n",
    "    return np.sqrt(metrics.mean_squared_error(y_test, y_pred))"
   ]
  },
  {
   "cell_type": "code",
   "execution_count": 31,
   "id": "sporting-fifth",
   "metadata": {},
   "outputs": [
    {
     "name": "stdout",
     "output_type": "stream",
     "text": [
      "11.324192623695467\n"
     ]
    }
   ],
   "source": [
    "print (train_test_rmse([ 'vehiculo_cilindrada', 'consumo_urbano', 'consumo_extraurbano', 'consumo_mixto']))"
   ]
  },
  {
   "cell_type": "code",
   "execution_count": 32,
   "id": "linear-pulse",
   "metadata": {},
   "outputs": [
    {
     "name": "stdout",
     "output_type": "stream",
     "text": [
      "R2: 0.9140232414926369\n"
     ]
    }
   ],
   "source": [
    "print ('R2:', metrics.r2_score(y_test, y_pred))"
   ]
  },
  {
   "cell_type": "code",
   "execution_count": null,
   "id": "defined-proceeding",
   "metadata": {},
   "outputs": [],
   "source": [
    "import json\n",
    "import pickle\n",
    "from flask import  Flask, request, jsonify, render_template\n"
   ]
  },
  {
   "cell_type": "code",
   "execution_count": null,
   "id": "conventional-pollution",
   "metadata": {},
   "outputs": [],
   "source": []
  },
  {
   "cell_type": "code",
   "execution_count": null,
   "id": "dimensional-buffalo",
   "metadata": {},
   "outputs": [],
   "source": []
  },
  {
   "cell_type": "code",
   "execution_count": null,
   "id": "complicated-upper",
   "metadata": {},
   "outputs": [],
   "source": []
  },
  {
   "cell_type": "code",
   "execution_count": null,
   "id": "nasty-baking",
   "metadata": {},
   "outputs": [],
   "source": []
  }
 ],
 "metadata": {
  "kernelspec": {
   "display_name": "Python 3",
   "language": "python",
   "name": "python3"
  },
  "language_info": {
   "codemirror_mode": {
    "name": "ipython",
    "version": 3
   },
   "file_extension": ".py",
   "mimetype": "text/x-python",
   "name": "python",
   "nbconvert_exporter": "python",
   "pygments_lexer": "ipython3",
   "version": "3.7.7"
  }
 },
 "nbformat": 4,
 "nbformat_minor": 5
}
