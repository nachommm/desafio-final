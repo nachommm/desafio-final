{
 "cells": [
  {
   "cell_type": "code",
   "execution_count": 154,
   "id": "apart-password",
   "metadata": {},
   "outputs": [],
   "source": [
    "import pandas as pd\n",
    "import numpy as np\n",
    "\n",
    "import matplotlib.pyplot as plt\n",
    "import matplotlib as mpl\n",
    "import seaborn as sns\n",
    "%matplotlib inline\n",
    "\n",
    "import statsmodels.api as sm\n",
    "import statsmodels.formula.api as smf\n",
    "import statsmodels.tsa.api as smt\n",
    "\n",
    "from scipy import stats\n",
    "from statistics import mode"
   ]
  },
  {
   "cell_type": "code",
   "execution_count": 155,
   "id": "administrative-merit",
   "metadata": {},
   "outputs": [],
   "source": [
    "df = pd.read_csv('Data/precios-en-surtidor-resolucin-3142016.csv')\n"
   ]
  },
  {
   "cell_type": "code",
   "execution_count": 156,
   "id": "protected-grove",
   "metadata": {},
   "outputs": [
    {
     "data": {
      "text/html": [
       "<div>\n",
       "<style scoped>\n",
       "    .dataframe tbody tr th:only-of-type {\n",
       "        vertical-align: middle;\n",
       "    }\n",
       "\n",
       "    .dataframe tbody tr th {\n",
       "        vertical-align: top;\n",
       "    }\n",
       "\n",
       "    .dataframe thead th {\n",
       "        text-align: right;\n",
       "    }\n",
       "</style>\n",
       "<table border=\"1\" class=\"dataframe\">\n",
       "  <thead>\n",
       "    <tr style=\"text-align: right;\">\n",
       "      <th></th>\n",
       "      <th>indice_tiempo</th>\n",
       "      <th>idempresa</th>\n",
       "      <th>cuit</th>\n",
       "      <th>empresa</th>\n",
       "      <th>direccion</th>\n",
       "      <th>localidad</th>\n",
       "      <th>provincia</th>\n",
       "      <th>region</th>\n",
       "      <th>idproducto</th>\n",
       "      <th>producto</th>\n",
       "      <th>idtipohorario</th>\n",
       "      <th>tipohorario</th>\n",
       "      <th>precio</th>\n",
       "      <th>fecha_vigencia</th>\n",
       "      <th>idempresabandera</th>\n",
       "      <th>empresabandera</th>\n",
       "      <th>latitud</th>\n",
       "      <th>longitud</th>\n",
       "      <th>geojson</th>\n",
       "    </tr>\n",
       "  </thead>\n",
       "  <tbody>\n",
       "    <tr>\n",
       "      <th>0</th>\n",
       "      <td>2017-03</td>\n",
       "      <td>1376</td>\n",
       "      <td>33-64337382-9</td>\n",
       "      <td>10 DE SETIEMBRE S.A.</td>\n",
       "      <td>Av. Mosconi 299</td>\n",
       "      <td>LOMAS DEL MIRADOR</td>\n",
       "      <td>BUENOS AIRES</td>\n",
       "      <td>PAMPEANA</td>\n",
       "      <td>6</td>\n",
       "      <td>GNC</td>\n",
       "      <td>2</td>\n",
       "      <td>Diurno</td>\n",
       "      <td>8.79</td>\n",
       "      <td>2017-03-27 10:38:00</td>\n",
       "      <td>1</td>\n",
       "      <td>BLANCA</td>\n",
       "      <td>-34.658476</td>\n",
       "      <td>-58.529443</td>\n",
       "      <td>{\"type\":\"Point\",\"coordinates\":[-58.529443,-34....</td>\n",
       "    </tr>\n",
       "    <tr>\n",
       "      <th>1</th>\n",
       "      <td>2017-03</td>\n",
       "      <td>1376</td>\n",
       "      <td>33-64337382-9</td>\n",
       "      <td>10 DE SETIEMBRE S.A.</td>\n",
       "      <td>Av. Mosconi 299</td>\n",
       "      <td>LOMAS DEL MIRADOR</td>\n",
       "      <td>BUENOS AIRES</td>\n",
       "      <td>PAMPEANA</td>\n",
       "      <td>6</td>\n",
       "      <td>GNC</td>\n",
       "      <td>3</td>\n",
       "      <td>Nocturno</td>\n",
       "      <td>8.79</td>\n",
       "      <td>2017-03-27 10:38:00</td>\n",
       "      <td>1</td>\n",
       "      <td>BLANCA</td>\n",
       "      <td>-34.658476</td>\n",
       "      <td>-58.529443</td>\n",
       "      <td>{\"type\":\"Point\",\"coordinates\":[-58.529443,-34....</td>\n",
       "    </tr>\n",
       "    <tr>\n",
       "      <th>2</th>\n",
       "      <td>2017-04</td>\n",
       "      <td>8943</td>\n",
       "      <td>30-71251168-7</td>\n",
       "      <td>1913 SRL</td>\n",
       "      <td>Julio A Roca 715</td>\n",
       "      <td>GOBERNADOR COSTA</td>\n",
       "      <td>CHUBUT</td>\n",
       "      <td>PATAGONIA</td>\n",
       "      <td>19</td>\n",
       "      <td>Gas Oil Grado 2</td>\n",
       "      <td>2</td>\n",
       "      <td>Diurno</td>\n",
       "      <td>14.96</td>\n",
       "      <td>2017-04-06 20:51:00</td>\n",
       "      <td>26</td>\n",
       "      <td>AXION</td>\n",
       "      <td>-44.050662</td>\n",
       "      <td>-70.583041</td>\n",
       "      <td>{\"type\":\"Point\",\"coordinates\":[-70.583041,-44....</td>\n",
       "    </tr>\n",
       "    <tr>\n",
       "      <th>3</th>\n",
       "      <td>2017-04</td>\n",
       "      <td>8943</td>\n",
       "      <td>30-71251168-7</td>\n",
       "      <td>1913 SRL</td>\n",
       "      <td>Julio A Roca 715</td>\n",
       "      <td>GOBERNADOR COSTA</td>\n",
       "      <td>CHUBUT</td>\n",
       "      <td>PATAGONIA</td>\n",
       "      <td>19</td>\n",
       "      <td>Gas Oil Grado 2</td>\n",
       "      <td>3</td>\n",
       "      <td>Nocturno</td>\n",
       "      <td>14.96</td>\n",
       "      <td>2017-04-06 20:51:00</td>\n",
       "      <td>26</td>\n",
       "      <td>AXION</td>\n",
       "      <td>-44.050662</td>\n",
       "      <td>-70.583041</td>\n",
       "      <td>{\"type\":\"Point\",\"coordinates\":[-70.583041,-44....</td>\n",
       "    </tr>\n",
       "    <tr>\n",
       "      <th>4</th>\n",
       "      <td>2017-04</td>\n",
       "      <td>8943</td>\n",
       "      <td>30-71251168-7</td>\n",
       "      <td>1913 SRL</td>\n",
       "      <td>Julio A Roca 715</td>\n",
       "      <td>GOBERNADOR COSTA</td>\n",
       "      <td>CHUBUT</td>\n",
       "      <td>PATAGONIA</td>\n",
       "      <td>21</td>\n",
       "      <td>Gas Oil Grado 3</td>\n",
       "      <td>2</td>\n",
       "      <td>Diurno</td>\n",
       "      <td>16.75</td>\n",
       "      <td>2017-04-06 20:52:00</td>\n",
       "      <td>26</td>\n",
       "      <td>AXION</td>\n",
       "      <td>-44.050662</td>\n",
       "      <td>-70.583041</td>\n",
       "      <td>{\"type\":\"Point\",\"coordinates\":[-70.583041,-44....</td>\n",
       "    </tr>\n",
       "  </tbody>\n",
       "</table>\n",
       "</div>"
      ],
      "text/plain": [
       "  indice_tiempo  idempresa           cuit               empresa  \\\n",
       "0       2017-03       1376  33-64337382-9  10 DE SETIEMBRE S.A.   \n",
       "1       2017-03       1376  33-64337382-9  10 DE SETIEMBRE S.A.   \n",
       "2       2017-04       8943  30-71251168-7              1913 SRL   \n",
       "3       2017-04       8943  30-71251168-7              1913 SRL   \n",
       "4       2017-04       8943  30-71251168-7              1913 SRL   \n",
       "\n",
       "          direccion          localidad     provincia     region  idproducto  \\\n",
       "0   Av. Mosconi 299  LOMAS DEL MIRADOR  BUENOS AIRES   PAMPEANA           6   \n",
       "1   Av. Mosconi 299  LOMAS DEL MIRADOR  BUENOS AIRES   PAMPEANA           6   \n",
       "2  Julio A Roca 715   GOBERNADOR COSTA        CHUBUT  PATAGONIA          19   \n",
       "3  Julio A Roca 715   GOBERNADOR COSTA        CHUBUT  PATAGONIA          19   \n",
       "4  Julio A Roca 715   GOBERNADOR COSTA        CHUBUT  PATAGONIA          21   \n",
       "\n",
       "          producto  idtipohorario tipohorario  precio       fecha_vigencia  \\\n",
       "0              GNC              2      Diurno    8.79  2017-03-27 10:38:00   \n",
       "1              GNC              3    Nocturno    8.79  2017-03-27 10:38:00   \n",
       "2  Gas Oil Grado 2              2      Diurno   14.96  2017-04-06 20:51:00   \n",
       "3  Gas Oil Grado 2              3    Nocturno   14.96  2017-04-06 20:51:00   \n",
       "4  Gas Oil Grado 3              2      Diurno   16.75  2017-04-06 20:52:00   \n",
       "\n",
       "   idempresabandera empresabandera    latitud   longitud  \\\n",
       "0                 1         BLANCA -34.658476 -58.529443   \n",
       "1                 1         BLANCA -34.658476 -58.529443   \n",
       "2                26          AXION -44.050662 -70.583041   \n",
       "3                26          AXION -44.050662 -70.583041   \n",
       "4                26          AXION -44.050662 -70.583041   \n",
       "\n",
       "                                             geojson  \n",
       "0  {\"type\":\"Point\",\"coordinates\":[-58.529443,-34....  \n",
       "1  {\"type\":\"Point\",\"coordinates\":[-58.529443,-34....  \n",
       "2  {\"type\":\"Point\",\"coordinates\":[-70.583041,-44....  \n",
       "3  {\"type\":\"Point\",\"coordinates\":[-70.583041,-44....  \n",
       "4  {\"type\":\"Point\",\"coordinates\":[-70.583041,-44....  "
      ]
     },
     "execution_count": 156,
     "metadata": {},
     "output_type": "execute_result"
    }
   ],
   "source": [
    "df.head()"
   ]
  },
  {
   "cell_type": "code",
   "execution_count": 157,
   "id": "about-wright",
   "metadata": {},
   "outputs": [],
   "source": [
    "# Creo el indice con la serie indice_tiempo!!\n",
    "\n",
    "df = pd.read_csv('Data/precios-en-surtidor-resolucin-3142016.csv', parse_dates=['indice_tiempo'], index_col='indice_tiempo')"
   ]
  },
  {
   "cell_type": "code",
   "execution_count": 158,
   "id": "dense-castle",
   "metadata": {},
   "outputs": [
    {
     "data": {
      "text/html": [
       "<div>\n",
       "<style scoped>\n",
       "    .dataframe tbody tr th:only-of-type {\n",
       "        vertical-align: middle;\n",
       "    }\n",
       "\n",
       "    .dataframe tbody tr th {\n",
       "        vertical-align: top;\n",
       "    }\n",
       "\n",
       "    .dataframe thead th {\n",
       "        text-align: right;\n",
       "    }\n",
       "</style>\n",
       "<table border=\"1\" class=\"dataframe\">\n",
       "  <thead>\n",
       "    <tr style=\"text-align: right;\">\n",
       "      <th></th>\n",
       "      <th>idempresa</th>\n",
       "      <th>cuit</th>\n",
       "      <th>empresa</th>\n",
       "      <th>direccion</th>\n",
       "      <th>localidad</th>\n",
       "      <th>provincia</th>\n",
       "      <th>region</th>\n",
       "      <th>idproducto</th>\n",
       "      <th>producto</th>\n",
       "      <th>idtipohorario</th>\n",
       "      <th>tipohorario</th>\n",
       "      <th>precio</th>\n",
       "      <th>fecha_vigencia</th>\n",
       "      <th>idempresabandera</th>\n",
       "      <th>empresabandera</th>\n",
       "      <th>latitud</th>\n",
       "      <th>longitud</th>\n",
       "      <th>geojson</th>\n",
       "    </tr>\n",
       "    <tr>\n",
       "      <th>indice_tiempo</th>\n",
       "      <th></th>\n",
       "      <th></th>\n",
       "      <th></th>\n",
       "      <th></th>\n",
       "      <th></th>\n",
       "      <th></th>\n",
       "      <th></th>\n",
       "      <th></th>\n",
       "      <th></th>\n",
       "      <th></th>\n",
       "      <th></th>\n",
       "      <th></th>\n",
       "      <th></th>\n",
       "      <th></th>\n",
       "      <th></th>\n",
       "      <th></th>\n",
       "      <th></th>\n",
       "      <th></th>\n",
       "    </tr>\n",
       "  </thead>\n",
       "  <tbody>\n",
       "    <tr>\n",
       "      <th>2017-03-01</th>\n",
       "      <td>1376</td>\n",
       "      <td>33-64337382-9</td>\n",
       "      <td>10 DE SETIEMBRE S.A.</td>\n",
       "      <td>Av. Mosconi 299</td>\n",
       "      <td>LOMAS DEL MIRADOR</td>\n",
       "      <td>BUENOS AIRES</td>\n",
       "      <td>PAMPEANA</td>\n",
       "      <td>6</td>\n",
       "      <td>GNC</td>\n",
       "      <td>2</td>\n",
       "      <td>Diurno</td>\n",
       "      <td>8.79</td>\n",
       "      <td>2017-03-27 10:38:00</td>\n",
       "      <td>1</td>\n",
       "      <td>BLANCA</td>\n",
       "      <td>-34.658476</td>\n",
       "      <td>-58.529443</td>\n",
       "      <td>{\"type\":\"Point\",\"coordinates\":[-58.529443,-34....</td>\n",
       "    </tr>\n",
       "    <tr>\n",
       "      <th>2017-03-01</th>\n",
       "      <td>1376</td>\n",
       "      <td>33-64337382-9</td>\n",
       "      <td>10 DE SETIEMBRE S.A.</td>\n",
       "      <td>Av. Mosconi 299</td>\n",
       "      <td>LOMAS DEL MIRADOR</td>\n",
       "      <td>BUENOS AIRES</td>\n",
       "      <td>PAMPEANA</td>\n",
       "      <td>6</td>\n",
       "      <td>GNC</td>\n",
       "      <td>3</td>\n",
       "      <td>Nocturno</td>\n",
       "      <td>8.79</td>\n",
       "      <td>2017-03-27 10:38:00</td>\n",
       "      <td>1</td>\n",
       "      <td>BLANCA</td>\n",
       "      <td>-34.658476</td>\n",
       "      <td>-58.529443</td>\n",
       "      <td>{\"type\":\"Point\",\"coordinates\":[-58.529443,-34....</td>\n",
       "    </tr>\n",
       "    <tr>\n",
       "      <th>2017-04-01</th>\n",
       "      <td>8943</td>\n",
       "      <td>30-71251168-7</td>\n",
       "      <td>1913 SRL</td>\n",
       "      <td>Julio A Roca 715</td>\n",
       "      <td>GOBERNADOR COSTA</td>\n",
       "      <td>CHUBUT</td>\n",
       "      <td>PATAGONIA</td>\n",
       "      <td>19</td>\n",
       "      <td>Gas Oil Grado 2</td>\n",
       "      <td>2</td>\n",
       "      <td>Diurno</td>\n",
       "      <td>14.96</td>\n",
       "      <td>2017-04-06 20:51:00</td>\n",
       "      <td>26</td>\n",
       "      <td>AXION</td>\n",
       "      <td>-44.050662</td>\n",
       "      <td>-70.583041</td>\n",
       "      <td>{\"type\":\"Point\",\"coordinates\":[-70.583041,-44....</td>\n",
       "    </tr>\n",
       "    <tr>\n",
       "      <th>2017-04-01</th>\n",
       "      <td>8943</td>\n",
       "      <td>30-71251168-7</td>\n",
       "      <td>1913 SRL</td>\n",
       "      <td>Julio A Roca 715</td>\n",
       "      <td>GOBERNADOR COSTA</td>\n",
       "      <td>CHUBUT</td>\n",
       "      <td>PATAGONIA</td>\n",
       "      <td>19</td>\n",
       "      <td>Gas Oil Grado 2</td>\n",
       "      <td>3</td>\n",
       "      <td>Nocturno</td>\n",
       "      <td>14.96</td>\n",
       "      <td>2017-04-06 20:51:00</td>\n",
       "      <td>26</td>\n",
       "      <td>AXION</td>\n",
       "      <td>-44.050662</td>\n",
       "      <td>-70.583041</td>\n",
       "      <td>{\"type\":\"Point\",\"coordinates\":[-70.583041,-44....</td>\n",
       "    </tr>\n",
       "    <tr>\n",
       "      <th>2017-04-01</th>\n",
       "      <td>8943</td>\n",
       "      <td>30-71251168-7</td>\n",
       "      <td>1913 SRL</td>\n",
       "      <td>Julio A Roca 715</td>\n",
       "      <td>GOBERNADOR COSTA</td>\n",
       "      <td>CHUBUT</td>\n",
       "      <td>PATAGONIA</td>\n",
       "      <td>21</td>\n",
       "      <td>Gas Oil Grado 3</td>\n",
       "      <td>2</td>\n",
       "      <td>Diurno</td>\n",
       "      <td>16.75</td>\n",
       "      <td>2017-04-06 20:52:00</td>\n",
       "      <td>26</td>\n",
       "      <td>AXION</td>\n",
       "      <td>-44.050662</td>\n",
       "      <td>-70.583041</td>\n",
       "      <td>{\"type\":\"Point\",\"coordinates\":[-70.583041,-44....</td>\n",
       "    </tr>\n",
       "  </tbody>\n",
       "</table>\n",
       "</div>"
      ],
      "text/plain": [
       "               idempresa           cuit               empresa  \\\n",
       "indice_tiempo                                                   \n",
       "2017-03-01          1376  33-64337382-9  10 DE SETIEMBRE S.A.   \n",
       "2017-03-01          1376  33-64337382-9  10 DE SETIEMBRE S.A.   \n",
       "2017-04-01          8943  30-71251168-7              1913 SRL   \n",
       "2017-04-01          8943  30-71251168-7              1913 SRL   \n",
       "2017-04-01          8943  30-71251168-7              1913 SRL   \n",
       "\n",
       "                      direccion          localidad     provincia     region  \\\n",
       "indice_tiempo                                                                 \n",
       "2017-03-01      Av. Mosconi 299  LOMAS DEL MIRADOR  BUENOS AIRES   PAMPEANA   \n",
       "2017-03-01      Av. Mosconi 299  LOMAS DEL MIRADOR  BUENOS AIRES   PAMPEANA   \n",
       "2017-04-01     Julio A Roca 715   GOBERNADOR COSTA        CHUBUT  PATAGONIA   \n",
       "2017-04-01     Julio A Roca 715   GOBERNADOR COSTA        CHUBUT  PATAGONIA   \n",
       "2017-04-01     Julio A Roca 715   GOBERNADOR COSTA        CHUBUT  PATAGONIA   \n",
       "\n",
       "               idproducto         producto  idtipohorario tipohorario  precio  \\\n",
       "indice_tiempo                                                                   \n",
       "2017-03-01              6              GNC              2      Diurno    8.79   \n",
       "2017-03-01              6              GNC              3    Nocturno    8.79   \n",
       "2017-04-01             19  Gas Oil Grado 2              2      Diurno   14.96   \n",
       "2017-04-01             19  Gas Oil Grado 2              3    Nocturno   14.96   \n",
       "2017-04-01             21  Gas Oil Grado 3              2      Diurno   16.75   \n",
       "\n",
       "                    fecha_vigencia  idempresabandera empresabandera  \\\n",
       "indice_tiempo                                                         \n",
       "2017-03-01     2017-03-27 10:38:00                 1         BLANCA   \n",
       "2017-03-01     2017-03-27 10:38:00                 1         BLANCA   \n",
       "2017-04-01     2017-04-06 20:51:00                26          AXION   \n",
       "2017-04-01     2017-04-06 20:51:00                26          AXION   \n",
       "2017-04-01     2017-04-06 20:52:00                26          AXION   \n",
       "\n",
       "                 latitud   longitud  \\\n",
       "indice_tiempo                         \n",
       "2017-03-01    -34.658476 -58.529443   \n",
       "2017-03-01    -34.658476 -58.529443   \n",
       "2017-04-01    -44.050662 -70.583041   \n",
       "2017-04-01    -44.050662 -70.583041   \n",
       "2017-04-01    -44.050662 -70.583041   \n",
       "\n",
       "                                                         geojson  \n",
       "indice_tiempo                                                     \n",
       "2017-03-01     {\"type\":\"Point\",\"coordinates\":[-58.529443,-34....  \n",
       "2017-03-01     {\"type\":\"Point\",\"coordinates\":[-58.529443,-34....  \n",
       "2017-04-01     {\"type\":\"Point\",\"coordinates\":[-70.583041,-44....  \n",
       "2017-04-01     {\"type\":\"Point\",\"coordinates\":[-70.583041,-44....  \n",
       "2017-04-01     {\"type\":\"Point\",\"coordinates\":[-70.583041,-44....  "
      ]
     },
     "execution_count": 158,
     "metadata": {},
     "output_type": "execute_result"
    }
   ],
   "source": [
    "df.head()"
   ]
  },
  {
   "cell_type": "code",
   "execution_count": 159,
   "id": "cutting-newark",
   "metadata": {},
   "outputs": [
    {
     "data": {
      "text/plain": [
       "Gas Oil Grado 2                     8443\n",
       "Nafta (súper) entre 92 y 95 Ron     8425\n",
       "Nafta (premium) de más de 95 Ron    8034\n",
       "Gas Oil Grado 3                     8027\n",
       "GNC                                 3701\n",
       "Name: producto, dtype: int64"
      ]
     },
     "metadata": {},
     "output_type": "display_data"
    },
    {
     "data": {
      "text/plain": [
       "19    8443\n",
       "2     8425\n",
       "3     8034\n",
       "21    8027\n",
       "6     3701\n",
       "Name: idproducto, dtype: int64"
      ]
     },
     "metadata": {},
     "output_type": "display_data"
    }
   ],
   "source": [
    "display(df.producto.value_counts())\n",
    "display(df.idproducto.value_counts())"
   ]
  },
  {
   "cell_type": "code",
   "execution_count": 160,
   "id": "further-image",
   "metadata": {},
   "outputs": [
    {
     "name": "stdout",
     "output_type": "stream",
     "text": [
      "idempresa              0\n",
      "cuit                   0\n",
      "empresa                0\n",
      "direccion             14\n",
      "localidad              0\n",
      "provincia              0\n",
      "region              4031\n",
      "idproducto             0\n",
      "producto               0\n",
      "idtipohorario          0\n",
      "tipohorario            0\n",
      "precio                 0\n",
      "fecha_vigencia         0\n",
      "idempresabandera       0\n",
      "empresabandera         0\n",
      "latitud              186\n",
      "longitud             186\n",
      "geojson              186\n",
      "dtype: int64\n"
     ]
    }
   ],
   "source": [
    "missing_values_check = df.isnull().sum()\n",
    "print(missing_values_check)"
   ]
  },
  {
   "cell_type": "code",
   "execution_count": 161,
   "id": "failing-protocol",
   "metadata": {},
   "outputs": [],
   "source": [
    "#Primero elimino la region que veo que me falta el 50% de los datos, o hay regiones no identificadas.\n",
    "df.drop(columns=['region'], inplace=True)"
   ]
  },
  {
   "cell_type": "code",
   "execution_count": 162,
   "id": "abandoned-france",
   "metadata": {},
   "outputs": [],
   "source": [
    "#Elimino los datos faltantes, que no tienen coordenadas.\n",
    "df.dropna(inplace=True)"
   ]
  },
  {
   "cell_type": "code",
   "execution_count": 163,
   "id": "wooden-design",
   "metadata": {},
   "outputs": [
    {
     "name": "stdout",
     "output_type": "stream",
     "text": [
      "idempresa           0\n",
      "cuit                0\n",
      "empresa             0\n",
      "direccion           0\n",
      "localidad           0\n",
      "provincia           0\n",
      "idproducto          0\n",
      "producto            0\n",
      "idtipohorario       0\n",
      "tipohorario         0\n",
      "precio              0\n",
      "fecha_vigencia      0\n",
      "idempresabandera    0\n",
      "empresabandera      0\n",
      "latitud             0\n",
      "longitud            0\n",
      "geojson             0\n",
      "dtype: int64\n"
     ]
    }
   ],
   "source": [
    "missing_values_check = df.isnull().sum()\n",
    "print(missing_values_check)"
   ]
  },
  {
   "cell_type": "code",
   "execution_count": 164,
   "id": "crazy-newport",
   "metadata": {},
   "outputs": [
    {
     "data": {
      "text/plain": [
       "Index(['idempresa', 'cuit', 'empresa', 'direccion', 'localidad', 'provincia',\n",
       "       'idproducto', 'producto', 'idtipohorario', 'tipohorario', 'precio',\n",
       "       'fecha_vigencia', 'idempresabandera', 'empresabandera', 'latitud',\n",
       "       'longitud', 'geojson'],\n",
       "      dtype='object')"
      ]
     },
     "metadata": {},
     "output_type": "display_data"
    },
    {
     "data": {
      "text/plain": [
       "idempresa             int64\n",
       "cuit                 object\n",
       "empresa              object\n",
       "direccion            object\n",
       "localidad            object\n",
       "provincia            object\n",
       "idproducto            int64\n",
       "producto             object\n",
       "idtipohorario         int64\n",
       "tipohorario          object\n",
       "precio              float64\n",
       "fecha_vigencia       object\n",
       "idempresabandera      int64\n",
       "empresabandera       object\n",
       "latitud             float64\n",
       "longitud            float64\n",
       "geojson              object\n",
       "dtype: object"
      ]
     },
     "metadata": {},
     "output_type": "display_data"
    }
   ],
   "source": [
    "display(df.columns)\n",
    "display(df.dtypes)"
   ]
  },
  {
   "cell_type": "code",
   "execution_count": 165,
   "id": "australian-update",
   "metadata": {},
   "outputs": [
    {
     "data": {
      "text/html": [
       "<div>\n",
       "<style scoped>\n",
       "    .dataframe tbody tr th:only-of-type {\n",
       "        vertical-align: middle;\n",
       "    }\n",
       "\n",
       "    .dataframe tbody tr th {\n",
       "        vertical-align: top;\n",
       "    }\n",
       "\n",
       "    .dataframe thead th {\n",
       "        text-align: right;\n",
       "    }\n",
       "</style>\n",
       "<table border=\"1\" class=\"dataframe\">\n",
       "  <thead>\n",
       "    <tr style=\"text-align: right;\">\n",
       "      <th></th>\n",
       "      <th>idempresa</th>\n",
       "      <th>cuit</th>\n",
       "      <th>empresa</th>\n",
       "      <th>direccion</th>\n",
       "      <th>localidad</th>\n",
       "      <th>provincia</th>\n",
       "      <th>idproducto</th>\n",
       "      <th>producto</th>\n",
       "      <th>idtipohorario</th>\n",
       "      <th>tipohorario</th>\n",
       "      <th>precio</th>\n",
       "      <th>fecha_vigencia</th>\n",
       "      <th>idempresabandera</th>\n",
       "      <th>empresabandera</th>\n",
       "      <th>latitud</th>\n",
       "      <th>longitud</th>\n",
       "      <th>geojson</th>\n",
       "    </tr>\n",
       "    <tr>\n",
       "      <th>indice_tiempo</th>\n",
       "      <th></th>\n",
       "      <th></th>\n",
       "      <th></th>\n",
       "      <th></th>\n",
       "      <th></th>\n",
       "      <th></th>\n",
       "      <th></th>\n",
       "      <th></th>\n",
       "      <th></th>\n",
       "      <th></th>\n",
       "      <th></th>\n",
       "      <th></th>\n",
       "      <th></th>\n",
       "      <th></th>\n",
       "      <th></th>\n",
       "      <th></th>\n",
       "      <th></th>\n",
       "    </tr>\n",
       "  </thead>\n",
       "  <tbody>\n",
       "    <tr>\n",
       "      <th>2017-04-01</th>\n",
       "      <td>8943</td>\n",
       "      <td>30-71251168-7</td>\n",
       "      <td>1913 SRL</td>\n",
       "      <td>Julio A Roca 715</td>\n",
       "      <td>GOBERNADOR COSTA</td>\n",
       "      <td>CHUBUT</td>\n",
       "      <td>3</td>\n",
       "      <td>Nafta (premium) de más de 95 Ron</td>\n",
       "      <td>2</td>\n",
       "      <td>Diurno</td>\n",
       "      <td>17.27</td>\n",
       "      <td>2017-04-06 20:54:00</td>\n",
       "      <td>26</td>\n",
       "      <td>AXION</td>\n",
       "      <td>-44.050662</td>\n",
       "      <td>-70.583041</td>\n",
       "      <td>{\"type\":\"Point\",\"coordinates\":[-70.583041,-44....</td>\n",
       "    </tr>\n",
       "    <tr>\n",
       "      <th>2017-04-01</th>\n",
       "      <td>8943</td>\n",
       "      <td>30-71251168-7</td>\n",
       "      <td>1913 SRL</td>\n",
       "      <td>Julio A Roca 715</td>\n",
       "      <td>GOBERNADOR COSTA</td>\n",
       "      <td>CHUBUT</td>\n",
       "      <td>3</td>\n",
       "      <td>Nafta (premium) de más de 95 Ron</td>\n",
       "      <td>3</td>\n",
       "      <td>Nocturno</td>\n",
       "      <td>17.27</td>\n",
       "      <td>2017-04-06 20:54:00</td>\n",
       "      <td>26</td>\n",
       "      <td>AXION</td>\n",
       "      <td>-44.050662</td>\n",
       "      <td>-70.583041</td>\n",
       "      <td>{\"type\":\"Point\",\"coordinates\":[-70.583041,-44....</td>\n",
       "    </tr>\n",
       "    <tr>\n",
       "      <th>2021-02-01</th>\n",
       "      <td>1284</td>\n",
       "      <td>30-56342987-5</td>\n",
       "      <td>25 DE MAYO SRL (EESS)</td>\n",
       "      <td>25 DE MAYO 675</td>\n",
       "      <td>VILLA MERCEDES</td>\n",
       "      <td>SAN LUIS</td>\n",
       "      <td>3</td>\n",
       "      <td>Nafta (premium) de más de 95 Ron</td>\n",
       "      <td>2</td>\n",
       "      <td>Diurno</td>\n",
       "      <td>95.70</td>\n",
       "      <td>2021-02-15 00:00:00</td>\n",
       "      <td>2</td>\n",
       "      <td>YPF</td>\n",
       "      <td>-33.679540</td>\n",
       "      <td>-65.469880</td>\n",
       "      <td>{\"type\":\"Point\",\"coordinates\":[-65.46988,-33.6...</td>\n",
       "    </tr>\n",
       "  </tbody>\n",
       "</table>\n",
       "</div>"
      ],
      "text/plain": [
       "               idempresa           cuit                empresa  \\\n",
       "indice_tiempo                                                    \n",
       "2017-04-01          8943  30-71251168-7               1913 SRL   \n",
       "2017-04-01          8943  30-71251168-7               1913 SRL   \n",
       "2021-02-01          1284  30-56342987-5  25 DE MAYO SRL (EESS)   \n",
       "\n",
       "                      direccion         localidad provincia  idproducto  \\\n",
       "indice_tiempo                                                             \n",
       "2017-04-01     Julio A Roca 715  GOBERNADOR COSTA    CHUBUT           3   \n",
       "2017-04-01     Julio A Roca 715  GOBERNADOR COSTA    CHUBUT           3   \n",
       "2021-02-01       25 DE MAYO 675    VILLA MERCEDES  SAN LUIS           3   \n",
       "\n",
       "                                       producto  idtipohorario tipohorario  \\\n",
       "indice_tiempo                                                                \n",
       "2017-04-01     Nafta (premium) de más de 95 Ron              2      Diurno   \n",
       "2017-04-01     Nafta (premium) de más de 95 Ron              3    Nocturno   \n",
       "2021-02-01     Nafta (premium) de más de 95 Ron              2      Diurno   \n",
       "\n",
       "               precio       fecha_vigencia  idempresabandera empresabandera  \\\n",
       "indice_tiempo                                                                 \n",
       "2017-04-01      17.27  2017-04-06 20:54:00                26          AXION   \n",
       "2017-04-01      17.27  2017-04-06 20:54:00                26          AXION   \n",
       "2021-02-01      95.70  2021-02-15 00:00:00                 2            YPF   \n",
       "\n",
       "                 latitud   longitud  \\\n",
       "indice_tiempo                         \n",
       "2017-04-01    -44.050662 -70.583041   \n",
       "2017-04-01    -44.050662 -70.583041   \n",
       "2021-02-01    -33.679540 -65.469880   \n",
       "\n",
       "                                                         geojson  \n",
       "indice_tiempo                                                     \n",
       "2017-04-01     {\"type\":\"Point\",\"coordinates\":[-70.583041,-44....  \n",
       "2017-04-01     {\"type\":\"Point\",\"coordinates\":[-70.583041,-44....  \n",
       "2021-02-01     {\"type\":\"Point\",\"coordinates\":[-65.46988,-33.6...  "
      ]
     },
     "execution_count": 165,
     "metadata": {},
     "output_type": "execute_result"
    }
   ],
   "source": [
    "# Creamos una máscara y la aplicamos al dataframe anterior para traer los registros que necesitamos\n",
    "nafta_premium = df.loc[(df.idproducto == 3) & (df.precio < 200), :]\n",
    "\n",
    "# Para Gas Oil\n",
    "gas_oil = df.loc[(df.idproducto == 19) & (df.precio < 200), :]\n",
    "# Para Super\n",
    "nafta_super = df.loc[(df.idproducto == 2) & (df.precio < 200), :]\n",
    "# Para Super\n",
    "gas_oil_premium= df.loc[(df.idproducto == 21) & (df.precio < 200), :]\n",
    "\n",
    "# Chequeamos cómo quedaron los datos\n",
    "nafta_premium.head(3)"
   ]
  },
  {
   "cell_type": "code",
   "execution_count": 166,
   "id": "useful-haven",
   "metadata": {},
   "outputs": [
    {
     "data": {
      "text/plain": [
       "dtype('float64')"
      ]
     },
     "execution_count": 166,
     "metadata": {},
     "output_type": "execute_result"
    }
   ],
   "source": [
    "nafta_premium.precio.dtypes"
   ]
  },
  {
   "cell_type": "code",
   "execution_count": 167,
   "id": "noticed-heating",
   "metadata": {},
   "outputs": [
    {
     "data": {
      "text/plain": [
       "<AxesSubplot:xlabel='precio'>"
      ]
     },
     "execution_count": 167,
     "metadata": {},
     "output_type": "execute_result"
    },
    {
     "data": {
      "image/png": "[encoded data removed]",
      "text/plain": [
       "<Figure size 432x288 with 1 Axes>"
      ]
     },
     "metadata": {
      "needs_background": "light"
     },
     "output_type": "display_data"
    }
   ],
   "source": [
    "sns.boxplot(x=nafta_premium['precio'])"
   ]
  },
  {
   "cell_type": "code",
   "execution_count": 168,
   "id": "monthly-giant",
   "metadata": {},
   "outputs": [
    {
     "data": {
      "text/plain": [
       "<AxesSubplot:xlabel='precio'>"
      ]
     },
     "execution_count": 168,
     "metadata": {},
     "output_type": "execute_result"
    },
    {
     "data": {
      "image/png": "[encoded data removed]",
      "text/plain": [
       "<Figure size 432x288 with 1 Axes>"
      ]
     },
     "metadata": {
      "needs_background": "light"
     },
     "output_type": "display_data"
    }
   ],
   "source": [
    "sns.boxplot(x=nafta_super['precio'])"
   ]
  },
  {
   "cell_type": "code",
   "execution_count": 169,
   "id": "political-winner",
   "metadata": {},
   "outputs": [
    {
     "data": {
      "text/plain": [
       "<AxesSubplot:xlabel='precio'>"
      ]
     },
     "execution_count": 169,
     "metadata": {},
     "output_type": "execute_result"
    },
    {
     "data": {
      "image/png": "[encoded data removed]",
      "text/plain": [
       "<Figure size 432x288 with 1 Axes>"
      ]
     },
     "metadata": {
      "needs_background": "light"
     },
     "output_type": "display_data"
    }
   ],
   "source": [
    "sns.boxplot(x=gas_oil['precio'])"
   ]
  },
  {
   "cell_type": "code",
   "execution_count": 170,
   "id": "confident-worthy",
   "metadata": {},
   "outputs": [
    {
     "data": {
      "text/plain": [
       "<AxesSubplot:xlabel='precio'>"
      ]
     },
     "execution_count": 170,
     "metadata": {},
     "output_type": "execute_result"
    },
    {
     "data": {
      "image/png": "[encoded data removed]",
      "text/plain": [
       "<Figure size 432x288 with 1 Axes>"
      ]
     },
     "metadata": {
      "needs_background": "light"
     },
     "output_type": "display_data"
    }
   ],
   "source": [
    "sns.boxplot(x=gas_oil_premium['precio'])"
   ]
  },
  {
   "cell_type": "code",
   "execution_count": 171,
   "id": "changing-globe",
   "metadata": {},
   "outputs": [
    {
     "data": {
      "image/png": "[encoded data removed]",
      "text/plain": [
       "<Figure size 792x288 with 1 Axes>"
      ]
     },
     "metadata": {},
     "output_type": "display_data"
    }
   ],
   "source": [
    "import matplotlib.pyplot as plt\n",
    "import seaborn as sns\n",
    "\n",
    "sns.set(rc={'figure.figsize':(11, 4)})\n",
    "nafta_premium['precio'].plot(linewidth=0.5);"
   ]
  },
  {
   "cell_type": "code",
   "execution_count": 172,
   "id": "accepted-shanghai",
   "metadata": {},
   "outputs": [
    {
     "data": {
      "image/png": "[encoded data removed]",
      "text/plain": [
       "<Figure size 792x288 with 1 Axes>"
      ]
     },
     "metadata": {},
     "output_type": "display_data"
    }
   ],
   "source": [
    "sns.set(rc={'figure.figsize':(11, 4)})\n",
    "nafta_super['precio'].plot(linewidth=0.5);"
   ]
  },
  {
   "cell_type": "code",
   "execution_count": 173,
   "id": "recovered-intake",
   "metadata": {},
   "outputs": [
    {
     "data": {
      "image/png": "[encoded data removed]",
      "text/plain": [
       "<Figure size 792x288 with 1 Axes>"
      ]
     },
     "metadata": {},
     "output_type": "display_data"
    }
   ],
   "source": [
    "sns.set(rc={'figure.figsize':(11, 4)})\n",
    "gas_oil['precio'].plot(linewidth=0.5);"
   ]
  },
  {
   "cell_type": "code",
   "execution_count": 174,
   "id": "compact-reasoning",
   "metadata": {},
   "outputs": [
    {
     "data": {
      "image/png": "[encoded data removed]",
      "text/plain": [
       "<Figure size 792x288 with 1 Axes>"
      ]
     },
     "metadata": {},
     "output_type": "display_data"
    }
   ],
   "source": [
    "sns.set(rc={'figure.figsize':(11, 4)})\n",
    "gas_oil_premium['precio'].plot(linewidth=0.5);"
   ]
  },
  {
   "cell_type": "code",
   "execution_count": 175,
   "id": "sophisticated-times",
   "metadata": {},
   "outputs": [],
   "source": [
    "# Datos de Nafta Premiun\n",
    "nafta_premium.to_csv(path_or_buf='Data/nafta_premium.csv', sep=',',\n",
    "                   header=True, encoding='utf8', index=False)\n",
    "# Datos de Nafta Super\n",
    "nafta_premium.to_csv(path_or_buf='Data/nafta_super.csv', sep=',',\n",
    "                   header=True, encoding='utf8', index=False)\n",
    "# Datos de Gas Oil\n",
    "nafta_premium.to_csv(path_or_buf='Data/gas_oil.csv', sep=',',\n",
    "                   header=True, encoding='utf8', index=False)\n",
    "# Datos de Gas Oil Premium\n",
    "nafta_premium.to_csv(path_or_buf='Data/gas_oil_premium.csv', sep=',',\n",
    "                   header=True, encoding='utf8', index=False)"
   ]
  },
  {
   "cell_type": "code",
   "execution_count": 176,
   "id": "following-plaza",
   "metadata": {},
   "outputs": [],
   "source": [
    "# Función que plotea la serie:\n",
    "#def plot_df(nafta_premium, x, y, title=\"\", xlabel='Fecha', ylabel='Precio', dpi=100):\n",
    "#    plt.figure(figsize=(16,5), dpi=dpi)\n",
    "#    plt.plot(x, y, color='tab:blue')\n",
    "#    plt.gca().set(title=title, xlabel=xlabel, ylabel=ylabel)\n",
    "#    plt.show()\n",
    "\n",
    "#plot_df(nafta_premium, x=nafta_premium.index, y=nafta_premium.precio,\\\n",
    "#        title='Precio del combustible')"
   ]
  }
 ],
 "metadata": {
  "kernelspec": {
   "display_name": "Python 3",
   "language": "python",
   "name": "python3"
  },
  "language_info": {
   "codemirror_mode": {
    "name": "ipython",
    "version": 3
   },
   "file_extension": ".py",
   "mimetype": "text/x-python",
   "name": "python",
   "nbconvert_exporter": "python",
   "pygments_lexer": "ipython3",
   "version": "3.7.7"
  }
 },
 "nbformat": 4,
 "nbformat_minor": 5
}
